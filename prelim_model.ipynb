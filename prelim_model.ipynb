{
  "nbformat": 4,
  "nbformat_minor": 0,
  "metadata": {
    "colab": {
      "name": "prelim_model.ipynb",
      "provenance": []
    },
    "language_info": {
      "name": "python"
    },
    "kernelspec": {
      "name": "python3",
      "display_name": "Python 3"
    }
  },
  "cells": [
    {
      "cell_type": "code",
      "metadata": {
        "id": "cJlZIYJPmb7S"
      },
      "source": [
        "import numpy as np\n",
        "import pandas as pd\n",
        "import matplotlib\n",
        "import matplotlib.pyplot as plt\n",
        "import sklearn as sk\n",
        "\n",
        "plt.style.use(\"ggplot\")"
      ],
      "execution_count": 1,
      "outputs": []
    },
    {
      "cell_type": "code",
      "metadata": {
        "id": "K_2lVTLFmdxk",
        "outputId": "97a87802-ad14-4199-ba45-ec5824e54bb8",
        "colab": {
          "base_uri": "https://localhost:8080/"
        }
      },
      "source": [
        "from sklearn.datasets import fetch_california_housing\n",
        "from sklearn.model_selection import train_test_split, GridSearchCV\n",
        "from sklearn.feature_selection import SelectKBest, mutual_info_regression, RFE, SelectFromModel\n",
        "from sklearn.linear_model import LinearRegression, LassoCV, Lasso\n",
        "from sklearn.decomposition import PCA\n",
        "from sklearn.metrics import mean_squared_error\n",
        "from sklearn.datasets import load_breast_cancer\n",
        "from sklearn.model_selection import train_test_split\n",
        "from sklearn.manifold import TSNE, SpectralEmbedding\n",
        "from sklearn.discriminant_analysis import LinearDiscriminantAnalysis\n",
        "from sklearn.svm import LinearSVC, LinearSVR\n",
        "from sklearn.metrics import f1_score\n",
        "from sklearn.preprocessing import StandardScaler, MinMaxScaler\n",
        "from imblearn.over_sampling import RandomOverSampler\n",
        "from imblearn.under_sampling import RandomUnderSampler\n",
        "import matplotlib.pyplot as plt"
      ],
      "execution_count": 2,
      "outputs": [
        {
          "output_type": "stream",
          "text": [
            "/usr/local/lib/python3.7/dist-packages/sklearn/externals/six.py:31: FutureWarning: The module is deprecated in version 0.21 and will be removed in version 0.23 since we've dropped support for Python 2.7. Please rely on the official version of six (https://pypi.org/project/six/).\n",
            "  \"(https://pypi.org/project/six/).\", FutureWarning)\n",
            "/usr/local/lib/python3.7/dist-packages/sklearn/utils/deprecation.py:144: FutureWarning: The sklearn.neighbors.base module is  deprecated in version 0.22 and will be removed in version 0.24. The corresponding classes / functions should instead be imported from sklearn.neighbors. Anything that cannot be imported from sklearn.neighbors is now part of the private API.\n",
            "  warnings.warn(message, FutureWarning)\n"
          ],
          "name": "stderr"
        }
      ]
    },
    {
      "cell_type": "code",
      "metadata": {
        "colab": {
          "base_uri": "https://localhost:8080/",
          "height": 334
        },
        "id": "di714bmmnmEg",
        "outputId": "097d8ecd-9c1b-43a8-a9be-e65536ca6f0b"
      },
      "source": [
        "df = pd.read_csv('https://raw.githubusercontent.com/jaxonmcneil/The-NeedleDrop/main/needledrop_data.csv')\n",
        "df.describe()"
      ],
      "execution_count": 3,
      "outputs": [
        {
          "output_type": "execute_result",
          "data": {
            "text/html": [
              "<div>\n",
              "<style scoped>\n",
              "    .dataframe tbody tr th:only-of-type {\n",
              "        vertical-align: middle;\n",
              "    }\n",
              "\n",
              "    .dataframe tbody tr th {\n",
              "        vertical-align: top;\n",
              "    }\n",
              "\n",
              "    .dataframe thead th {\n",
              "        text-align: right;\n",
              "    }\n",
              "</style>\n",
              "<table border=\"1\" class=\"dataframe\">\n",
              "  <thead>\n",
              "    <tr style=\"text-align: right;\">\n",
              "      <th></th>\n",
              "      <th>score</th>\n",
              "      <th>year</th>\n",
              "      <th>track count</th>\n",
              "      <th>duration</th>\n",
              "      <th># artists mean</th>\n",
              "      <th>danceability mean</th>\n",
              "      <th>energy mean</th>\n",
              "      <th>speechiness mean</th>\n",
              "      <th>acousticness mean</th>\n",
              "      <th>instrumentalness mean</th>\n",
              "      <th>liveness mean</th>\n",
              "      <th>valence mean</th>\n",
              "      <th>duration_ms mean</th>\n",
              "      <th>duration mean</th>\n",
              "      <th>end_of_fade_in mean</th>\n",
              "      <th>start_of_fade_out mean</th>\n",
              "      <th>loudness mean</th>\n",
              "      <th>tempo mean</th>\n",
              "      <th>tempo_confidence mean</th>\n",
              "      <th>time_signature mean</th>\n",
              "      <th>time_signature_confidence mean</th>\n",
              "      <th>key mean</th>\n",
              "      <th>key_confidence mean</th>\n",
              "      <th>mode mean</th>\n",
              "      <th>mode_confidence mean</th>\n",
              "      <th># artists std</th>\n",
              "      <th>danceability std</th>\n",
              "      <th>energy std</th>\n",
              "      <th>speechiness std</th>\n",
              "      <th>acousticness std</th>\n",
              "      <th>instrumentalness std</th>\n",
              "      <th>liveness std</th>\n",
              "      <th>valence std</th>\n",
              "      <th>duration_ms std</th>\n",
              "      <th>duration std</th>\n",
              "      <th>end_of_fade_in std</th>\n",
              "      <th>start_of_fade_out std</th>\n",
              "      <th>loudness std</th>\n",
              "      <th>tempo std</th>\n",
              "      <th>tempo_confidence std</th>\n",
              "      <th>time_signature std</th>\n",
              "      <th>time_signature_confidence std</th>\n",
              "      <th>key std</th>\n",
              "      <th>key_confidence std</th>\n",
              "      <th>mode std</th>\n",
              "      <th>mode_confidence std</th>\n",
              "      <th># artists 50%</th>\n",
              "      <th>danceability 50%</th>\n",
              "      <th>energy 50%</th>\n",
              "      <th>speechiness 50%</th>\n",
              "      <th>acousticness 50%</th>\n",
              "      <th>instrumentalness 50%</th>\n",
              "      <th>liveness 50%</th>\n",
              "      <th>valence 50%</th>\n",
              "      <th>duration_ms 50%</th>\n",
              "      <th>duration 50%</th>\n",
              "      <th>end_of_fade_in 50%</th>\n",
              "      <th>start_of_fade_out 50%</th>\n",
              "      <th>loudness 50%</th>\n",
              "      <th>tempo 50%</th>\n",
              "      <th>tempo_confidence 50%</th>\n",
              "      <th>time_signature 50%</th>\n",
              "      <th>time_signature_confidence 50%</th>\n",
              "      <th>key 50%</th>\n",
              "      <th>key_confidence 50%</th>\n",
              "      <th>mode 50%</th>\n",
              "      <th>mode_confidence 50%</th>\n",
              "    </tr>\n",
              "  </thead>\n",
              "  <tbody>\n",
              "    <tr>\n",
              "      <th>count</th>\n",
              "      <td>1752.000000</td>\n",
              "      <td>1752.000000</td>\n",
              "      <td>1752.000000</td>\n",
              "      <td>1752.000000</td>\n",
              "      <td>1752.000000</td>\n",
              "      <td>1752.000000</td>\n",
              "      <td>1752.000000</td>\n",
              "      <td>1752.000000</td>\n",
              "      <td>1752.000000</td>\n",
              "      <td>1752.000000</td>\n",
              "      <td>1752.000000</td>\n",
              "      <td>1752.000000</td>\n",
              "      <td>1.752000e+03</td>\n",
              "      <td>1752.000000</td>\n",
              "      <td>1752.000000</td>\n",
              "      <td>1752.000000</td>\n",
              "      <td>1752.000000</td>\n",
              "      <td>1752.000000</td>\n",
              "      <td>1752.000000</td>\n",
              "      <td>1752.000000</td>\n",
              "      <td>1752.000000</td>\n",
              "      <td>1752.000000</td>\n",
              "      <td>1752.000000</td>\n",
              "      <td>1752.000000</td>\n",
              "      <td>1752.000000</td>\n",
              "      <td>1734.000000</td>\n",
              "      <td>1734.000000</td>\n",
              "      <td>1734.000000</td>\n",
              "      <td>1734.000000</td>\n",
              "      <td>1.734000e+03</td>\n",
              "      <td>1734.000000</td>\n",
              "      <td>1734.000000</td>\n",
              "      <td>1734.000000</td>\n",
              "      <td>1.734000e+03</td>\n",
              "      <td>1734.000000</td>\n",
              "      <td>1734.000000</td>\n",
              "      <td>1734.000000</td>\n",
              "      <td>1734.000000</td>\n",
              "      <td>1734.000000</td>\n",
              "      <td>1734.000000</td>\n",
              "      <td>1734.000000</td>\n",
              "      <td>1734.000000</td>\n",
              "      <td>1734.000000</td>\n",
              "      <td>1734.000000</td>\n",
              "      <td>1734.000000</td>\n",
              "      <td>1734.000000</td>\n",
              "      <td>1752.000000</td>\n",
              "      <td>1752.000000</td>\n",
              "      <td>1752.000000</td>\n",
              "      <td>1752.000000</td>\n",
              "      <td>1752.000000</td>\n",
              "      <td>1752.000000</td>\n",
              "      <td>1752.000000</td>\n",
              "      <td>1752.000000</td>\n",
              "      <td>1.752000e+03</td>\n",
              "      <td>1752.000000</td>\n",
              "      <td>1752.000000</td>\n",
              "      <td>1752.000000</td>\n",
              "      <td>1752.000000</td>\n",
              "      <td>1752.000000</td>\n",
              "      <td>1752.000000</td>\n",
              "      <td>1752.000000</td>\n",
              "      <td>1752.000000</td>\n",
              "      <td>1752.000000</td>\n",
              "      <td>1752.000000</td>\n",
              "      <td>1752.000000</td>\n",
              "      <td>1752.000000</td>\n",
              "    </tr>\n",
              "    <tr>\n",
              "      <th>mean</th>\n",
              "      <td>6.421233</td>\n",
              "      <td>2013.517694</td>\n",
              "      <td>12.048516</td>\n",
              "      <td>2902.494076</td>\n",
              "      <td>1.199533</td>\n",
              "      <td>0.492897</td>\n",
              "      <td>0.656509</td>\n",
              "      <td>0.115328</td>\n",
              "      <td>0.237872</td>\n",
              "      <td>0.255865</td>\n",
              "      <td>0.212202</td>\n",
              "      <td>0.373163</td>\n",
              "      <td>2.575961e+05</td>\n",
              "      <td>257.596065</td>\n",
              "      <td>0.771608</td>\n",
              "      <td>249.190174</td>\n",
              "      <td>-8.077155</td>\n",
              "      <td>120.526380</td>\n",
              "      <td>0.376824</td>\n",
              "      <td>3.881605</td>\n",
              "      <td>0.849154</td>\n",
              "      <td>5.241678</td>\n",
              "      <td>0.457601</td>\n",
              "      <td>0.616485</td>\n",
              "      <td>0.474787</td>\n",
              "      <td>0.182035</td>\n",
              "      <td>0.121543</td>\n",
              "      <td>0.154581</td>\n",
              "      <td>0.065934</td>\n",
              "      <td>1.950254e-01</td>\n",
              "      <td>0.174976</td>\n",
              "      <td>0.137920</td>\n",
              "      <td>0.176650</td>\n",
              "      <td>7.742511e+04</td>\n",
              "      <td>77.425114</td>\n",
              "      <td>1.228463</td>\n",
              "      <td>76.016809</td>\n",
              "      <td>2.277445</td>\n",
              "      <td>28.198820</td>\n",
              "      <td>0.238950</td>\n",
              "      <td>0.346250</td>\n",
              "      <td>0.188080</td>\n",
              "      <td>3.536770</td>\n",
              "      <td>0.238990</td>\n",
              "      <td>0.456366</td>\n",
              "      <td>0.167463</td>\n",
              "      <td>1.148402</td>\n",
              "      <td>0.497342</td>\n",
              "      <td>0.674201</td>\n",
              "      <td>0.101773</td>\n",
              "      <td>0.192427</td>\n",
              "      <td>0.227619</td>\n",
              "      <td>0.171947</td>\n",
              "      <td>0.363489</td>\n",
              "      <td>2.523234e+05</td>\n",
              "      <td>252.323349</td>\n",
              "      <td>0.285836</td>\n",
              "      <td>244.010687</td>\n",
              "      <td>-7.649613</td>\n",
              "      <td>119.016442</td>\n",
              "      <td>0.359525</td>\n",
              "      <td>3.978596</td>\n",
              "      <td>0.916995</td>\n",
              "      <td>5.253139</td>\n",
              "      <td>0.468967</td>\n",
              "      <td>0.729452</td>\n",
              "      <td>0.483130</td>\n",
              "    </tr>\n",
              "    <tr>\n",
              "      <th>std</th>\n",
              "      <td>1.648621</td>\n",
              "      <td>5.610499</td>\n",
              "      <td>4.507680</td>\n",
              "      <td>1118.364351</td>\n",
              "      <td>0.456323</td>\n",
              "      <td>0.157426</td>\n",
              "      <td>0.170257</td>\n",
              "      <td>0.091404</td>\n",
              "      <td>0.209671</td>\n",
              "      <td>0.283237</td>\n",
              "      <td>0.082452</td>\n",
              "      <td>0.158941</td>\n",
              "      <td>1.326431e+05</td>\n",
              "      <td>132.643104</td>\n",
              "      <td>3.456197</td>\n",
              "      <td>129.504795</td>\n",
              "      <td>3.060749</td>\n",
              "      <td>12.557208</td>\n",
              "      <td>0.155295</td>\n",
              "      <td>0.192878</td>\n",
              "      <td>0.123040</td>\n",
              "      <td>1.257565</td>\n",
              "      <td>0.100311</td>\n",
              "      <td>0.198314</td>\n",
              "      <td>0.079872</td>\n",
              "      <td>0.335546</td>\n",
              "      <td>0.040076</td>\n",
              "      <td>0.063530</td>\n",
              "      <td>0.058840</td>\n",
              "      <td>1.115318e-01</td>\n",
              "      <td>0.139434</td>\n",
              "      <td>0.065809</td>\n",
              "      <td>0.061282</td>\n",
              "      <td>6.395488e+04</td>\n",
              "      <td>63.954879</td>\n",
              "      <td>1.740141</td>\n",
              "      <td>63.383351</td>\n",
              "      <td>1.432866</td>\n",
              "      <td>8.282058</td>\n",
              "      <td>0.066045</td>\n",
              "      <td>0.323266</td>\n",
              "      <td>0.095862</td>\n",
              "      <td>0.638700</td>\n",
              "      <td>0.054306</td>\n",
              "      <td>0.107853</td>\n",
              "      <td>0.043990</td>\n",
              "      <td>0.469465</td>\n",
              "      <td>0.166597</td>\n",
              "      <td>0.188497</td>\n",
              "      <td>0.093043</td>\n",
              "      <td>0.241046</td>\n",
              "      <td>0.327795</td>\n",
              "      <td>0.088098</td>\n",
              "      <td>0.177763</td>\n",
              "      <td>1.311761e+05</td>\n",
              "      <td>131.176086</td>\n",
              "      <td>3.386577</td>\n",
              "      <td>128.080081</td>\n",
              "      <td>2.997944</td>\n",
              "      <td>16.456891</td>\n",
              "      <td>0.199418</td>\n",
              "      <td>0.151043</td>\n",
              "      <td>0.130053</td>\n",
              "      <td>2.053953</td>\n",
              "      <td>0.117232</td>\n",
              "      <td>0.422632</td>\n",
              "      <td>0.085926</td>\n",
              "    </tr>\n",
              "    <tr>\n",
              "      <th>min</th>\n",
              "      <td>0.000000</td>\n",
              "      <td>1965.000000</td>\n",
              "      <td>1.000000</td>\n",
              "      <td>34.920270</td>\n",
              "      <td>1.000000</td>\n",
              "      <td>0.099967</td>\n",
              "      <td>0.020050</td>\n",
              "      <td>0.027800</td>\n",
              "      <td>0.000001</td>\n",
              "      <td>0.000000</td>\n",
              "      <td>0.064100</td>\n",
              "      <td>0.031150</td>\n",
              "      <td>3.492000e+04</td>\n",
              "      <td>34.920270</td>\n",
              "      <td>0.000000</td>\n",
              "      <td>34.920270</td>\n",
              "      <td>-28.291250</td>\n",
              "      <td>71.905500</td>\n",
              "      <td>0.009000</td>\n",
              "      <td>1.500000</td>\n",
              "      <td>0.093000</td>\n",
              "      <td>0.000000</td>\n",
              "      <td>0.000000</td>\n",
              "      <td>0.000000</td>\n",
              "      <td>0.120000</td>\n",
              "      <td>0.000000</td>\n",
              "      <td>0.002121</td>\n",
              "      <td>0.001188</td>\n",
              "      <td>0.000377</td>\n",
              "      <td>6.041373e-07</td>\n",
              "      <td>0.000000</td>\n",
              "      <td>0.005033</td>\n",
              "      <td>0.001300</td>\n",
              "      <td>7.071068e+02</td>\n",
              "      <td>0.707107</td>\n",
              "      <td>0.000000</td>\n",
              "      <td>1.469509</td>\n",
              "      <td>0.033234</td>\n",
              "      <td>0.031113</td>\n",
              "      <td>0.007958</td>\n",
              "      <td>0.000000</td>\n",
              "      <td>0.000000</td>\n",
              "      <td>0.000000</td>\n",
              "      <td>0.036520</td>\n",
              "      <td>0.000000</td>\n",
              "      <td>0.024550</td>\n",
              "      <td>1.000000</td>\n",
              "      <td>0.086400</td>\n",
              "      <td>0.019700</td>\n",
              "      <td>0.027100</td>\n",
              "      <td>0.000001</td>\n",
              "      <td>0.000000</td>\n",
              "      <td>0.064100</td>\n",
              "      <td>0.032250</td>\n",
              "      <td>3.492000e+04</td>\n",
              "      <td>34.920270</td>\n",
              "      <td>0.000000</td>\n",
              "      <td>34.920270</td>\n",
              "      <td>-28.022500</td>\n",
              "      <td>71.015500</td>\n",
              "      <td>0.009000</td>\n",
              "      <td>1.000000</td>\n",
              "      <td>0.093000</td>\n",
              "      <td>0.000000</td>\n",
              "      <td>0.000000</td>\n",
              "      <td>0.000000</td>\n",
              "      <td>0.120000</td>\n",
              "    </tr>\n",
              "    <tr>\n",
              "      <th>25%</th>\n",
              "      <td>5.000000</td>\n",
              "      <td>2012.000000</td>\n",
              "      <td>10.000000</td>\n",
              "      <td>2319.306620</td>\n",
              "      <td>1.000000</td>\n",
              "      <td>0.382405</td>\n",
              "      <td>0.550096</td>\n",
              "      <td>0.048453</td>\n",
              "      <td>0.081360</td>\n",
              "      <td>0.010788</td>\n",
              "      <td>0.153986</td>\n",
              "      <td>0.258781</td>\n",
              "      <td>2.006982e+05</td>\n",
              "      <td>200.698324</td>\n",
              "      <td>0.178121</td>\n",
              "      <td>193.996025</td>\n",
              "      <td>-9.489615</td>\n",
              "      <td>112.418487</td>\n",
              "      <td>0.266610</td>\n",
              "      <td>3.800000</td>\n",
              "      <td>0.799788</td>\n",
              "      <td>4.461538</td>\n",
              "      <td>0.395148</td>\n",
              "      <td>0.500000</td>\n",
              "      <td>0.422333</td>\n",
              "      <td>0.000000</td>\n",
              "      <td>0.095637</td>\n",
              "      <td>0.111668</td>\n",
              "      <td>0.018204</td>\n",
              "      <td>1.067227e-01</td>\n",
              "      <td>0.023702</td>\n",
              "      <td>0.089744</td>\n",
              "      <td>0.139767</td>\n",
              "      <td>4.449954e+04</td>\n",
              "      <td>44.499522</td>\n",
              "      <td>0.164760</td>\n",
              "      <td>43.677647</td>\n",
              "      <td>1.306111</td>\n",
              "      <td>23.393649</td>\n",
              "      <td>0.203269</td>\n",
              "      <td>0.000000</td>\n",
              "      <td>0.110573</td>\n",
              "      <td>3.204700</td>\n",
              "      <td>0.202930</td>\n",
              "      <td>0.440959</td>\n",
              "      <td>0.137680</td>\n",
              "      <td>1.000000</td>\n",
              "      <td>0.380750</td>\n",
              "      <td>0.550875</td>\n",
              "      <td>0.041000</td>\n",
              "      <td>0.011075</td>\n",
              "      <td>0.000018</td>\n",
              "      <td>0.114500</td>\n",
              "      <td>0.228500</td>\n",
              "      <td>2.000800e+05</td>\n",
              "      <td>200.080000</td>\n",
              "      <td>0.000000</td>\n",
              "      <td>192.532070</td>\n",
              "      <td>-9.030000</td>\n",
              "      <td>108.454625</td>\n",
              "      <td>0.203000</td>\n",
              "      <td>4.000000</td>\n",
              "      <td>0.893750</td>\n",
              "      <td>4.000000</td>\n",
              "      <td>0.398000</td>\n",
              "      <td>0.500000</td>\n",
              "      <td>0.425875</td>\n",
              "    </tr>\n",
              "    <tr>\n",
              "      <th>50%</th>\n",
              "      <td>7.000000</td>\n",
              "      <td>2014.000000</td>\n",
              "      <td>11.000000</td>\n",
              "      <td>2729.057690</td>\n",
              "      <td>1.000000</td>\n",
              "      <td>0.500955</td>\n",
              "      <td>0.669664</td>\n",
              "      <td>0.075541</td>\n",
              "      <td>0.185181</td>\n",
              "      <td>0.138639</td>\n",
              "      <td>0.195887</td>\n",
              "      <td>0.376950</td>\n",
              "      <td>2.338776e+05</td>\n",
              "      <td>233.877606</td>\n",
              "      <td>0.418465</td>\n",
              "      <td>225.097519</td>\n",
              "      <td>-7.639900</td>\n",
              "      <td>120.130692</td>\n",
              "      <td>0.365519</td>\n",
              "      <td>3.928571</td>\n",
              "      <td>0.882013</td>\n",
              "      <td>5.218254</td>\n",
              "      <td>0.450751</td>\n",
              "      <td>0.625000</td>\n",
              "      <td>0.468267</td>\n",
              "      <td>0.000000</td>\n",
              "      <td>0.119506</td>\n",
              "      <td>0.148905</td>\n",
              "      <td>0.044745</td>\n",
              "      <td>2.098288e-01</td>\n",
              "      <td>0.185116</td>\n",
              "      <td>0.129251</td>\n",
              "      <td>0.178442</td>\n",
              "      <td>6.237477e+04</td>\n",
              "      <td>62.374770</td>\n",
              "      <td>0.928129</td>\n",
              "      <td>60.715552</td>\n",
              "      <td>1.956574</td>\n",
              "      <td>28.412708</td>\n",
              "      <td>0.245740</td>\n",
              "      <td>0.316228</td>\n",
              "      <td>0.190255</td>\n",
              "      <td>3.594090</td>\n",
              "      <td>0.239031</td>\n",
              "      <td>0.495595</td>\n",
              "      <td>0.165257</td>\n",
              "      <td>1.000000</td>\n",
              "      <td>0.509250</td>\n",
              "      <td>0.689000</td>\n",
              "      <td>0.057700</td>\n",
              "      <td>0.093300</td>\n",
              "      <td>0.013050</td>\n",
              "      <td>0.139500</td>\n",
              "      <td>0.363000</td>\n",
              "      <td>2.300565e+05</td>\n",
              "      <td>230.056662</td>\n",
              "      <td>0.093400</td>\n",
              "      <td>221.945010</td>\n",
              "      <td>-7.203000</td>\n",
              "      <td>119.969500</td>\n",
              "      <td>0.327250</td>\n",
              "      <td>4.000000</td>\n",
              "      <td>0.972000</td>\n",
              "      <td>5.000000</td>\n",
              "      <td>0.466750</td>\n",
              "      <td>1.000000</td>\n",
              "      <td>0.479750</td>\n",
              "    </tr>\n",
              "    <tr>\n",
              "      <th>75%</th>\n",
              "      <td>8.000000</td>\n",
              "      <td>2016.000000</td>\n",
              "      <td>14.000000</td>\n",
              "      <td>3346.279997</td>\n",
              "      <td>1.166667</td>\n",
              "      <td>0.608023</td>\n",
              "      <td>0.776268</td>\n",
              "      <td>0.155404</td>\n",
              "      <td>0.343247</td>\n",
              "      <td>0.446547</td>\n",
              "      <td>0.255836</td>\n",
              "      <td>0.486353</td>\n",
              "      <td>2.749027e+05</td>\n",
              "      <td>274.902726</td>\n",
              "      <td>0.883351</td>\n",
              "      <td>265.486777</td>\n",
              "      <td>-5.963340</td>\n",
              "      <td>128.612864</td>\n",
              "      <td>0.477379</td>\n",
              "      <td>4.000000</td>\n",
              "      <td>0.934288</td>\n",
              "      <td>6.000000</td>\n",
              "      <td>0.515050</td>\n",
              "      <td>0.750000</td>\n",
              "      <td>0.520724</td>\n",
              "      <td>0.333333</td>\n",
              "      <td>0.145452</td>\n",
              "      <td>0.197990</td>\n",
              "      <td>0.105920</td>\n",
              "      <td>2.813277e-01</td>\n",
              "      <td>0.300376</td>\n",
              "      <td>0.182590</td>\n",
              "      <td>0.218969</td>\n",
              "      <td>8.994084e+04</td>\n",
              "      <td>89.940876</td>\n",
              "      <td>1.660387</td>\n",
              "      <td>88.390225</td>\n",
              "      <td>2.889782</td>\n",
              "      <td>33.399517</td>\n",
              "      <td>0.283365</td>\n",
              "      <td>0.500000</td>\n",
              "      <td>0.261965</td>\n",
              "      <td>3.951548</td>\n",
              "      <td>0.273265</td>\n",
              "      <td>0.516398</td>\n",
              "      <td>0.194368</td>\n",
              "      <td>1.000000</td>\n",
              "      <td>0.620125</td>\n",
              "      <td>0.817000</td>\n",
              "      <td>0.121000</td>\n",
              "      <td>0.276000</td>\n",
              "      <td>0.470125</td>\n",
              "      <td>0.200000</td>\n",
              "      <td>0.491125</td>\n",
              "      <td>2.683291e+05</td>\n",
              "      <td>268.329296</td>\n",
              "      <td>0.204610</td>\n",
              "      <td>258.869114</td>\n",
              "      <td>-5.621625</td>\n",
              "      <td>129.972000</td>\n",
              "      <td>0.482000</td>\n",
              "      <td>4.000000</td>\n",
              "      <td>0.999000</td>\n",
              "      <td>7.000000</td>\n",
              "      <td>0.536125</td>\n",
              "      <td>1.000000</td>\n",
              "      <td>0.532125</td>\n",
              "    </tr>\n",
              "    <tr>\n",
              "      <th>max</th>\n",
              "      <td>10.000000</td>\n",
              "      <td>2020.000000</td>\n",
              "      <td>50.000000</td>\n",
              "      <td>12023.493360</td>\n",
              "      <td>5.444444</td>\n",
              "      <td>0.899250</td>\n",
              "      <td>0.996625</td>\n",
              "      <td>0.592000</td>\n",
              "      <td>0.978000</td>\n",
              "      <td>0.963700</td>\n",
              "      <td>0.883143</td>\n",
              "      <td>0.863500</td>\n",
              "      <td>2.533027e+06</td>\n",
              "      <td>2533.026600</td>\n",
              "      <td>139.778320</td>\n",
              "      <td>2468.792000</td>\n",
              "      <td>0.942625</td>\n",
              "      <td>178.206000</td>\n",
              "      <td>1.000000</td>\n",
              "      <td>4.500000</td>\n",
              "      <td>1.000000</td>\n",
              "      <td>10.571429</td>\n",
              "      <td>0.923000</td>\n",
              "      <td>1.000000</td>\n",
              "      <td>0.839333</td>\n",
              "      <td>2.723634</td>\n",
              "      <td>0.332150</td>\n",
              "      <td>0.417152</td>\n",
              "      <td>0.420260</td>\n",
              "      <td>5.132613e-01</td>\n",
              "      <td>0.652660</td>\n",
              "      <td>0.443535</td>\n",
              "      <td>0.369338</td>\n",
              "      <td>1.169878e+06</td>\n",
              "      <td>1169.877520</td>\n",
              "      <td>45.228120</td>\n",
              "      <td>1157.930398</td>\n",
              "      <td>15.144492</td>\n",
              "      <td>60.745623</td>\n",
              "      <td>0.443164</td>\n",
              "      <td>1.685426</td>\n",
              "      <td>0.448640</td>\n",
              "      <td>6.363961</td>\n",
              "      <td>0.523966</td>\n",
              "      <td>0.707107</td>\n",
              "      <td>0.464121</td>\n",
              "      <td>7.000000</td>\n",
              "      <td>0.921500</td>\n",
              "      <td>0.997500</td>\n",
              "      <td>0.592000</td>\n",
              "      <td>0.981500</td>\n",
              "      <td>0.980000</td>\n",
              "      <td>0.955000</td>\n",
              "      <td>0.894500</td>\n",
              "      <td>2.533027e+06</td>\n",
              "      <td>2533.026600</td>\n",
              "      <td>139.778320</td>\n",
              "      <td>2468.792000</td>\n",
              "      <td>0.942000</td>\n",
              "      <td>182.860000</td>\n",
              "      <td>1.000000</td>\n",
              "      <td>4.500000</td>\n",
              "      <td>1.000000</td>\n",
              "      <td>11.000000</td>\n",
              "      <td>1.000000</td>\n",
              "      <td>1.000000</td>\n",
              "      <td>1.000000</td>\n",
              "    </tr>\n",
              "  </tbody>\n",
              "</table>\n",
              "</div>"
            ],
            "text/plain": [
              "             score         year  ...     mode 50%  mode_confidence 50%\n",
              "count  1752.000000  1752.000000  ...  1752.000000          1752.000000\n",
              "mean      6.421233  2013.517694  ...     0.729452             0.483130\n",
              "std       1.648621     5.610499  ...     0.422632             0.085926\n",
              "min       0.000000  1965.000000  ...     0.000000             0.120000\n",
              "25%       5.000000  2012.000000  ...     0.500000             0.425875\n",
              "50%       7.000000  2014.000000  ...     1.000000             0.479750\n",
              "75%       8.000000  2016.000000  ...     1.000000             0.532125\n",
              "max      10.000000  2020.000000  ...     1.000000             1.000000\n",
              "\n",
              "[8 rows x 67 columns]"
            ]
          },
          "metadata": {
            "tags": []
          },
          "execution_count": 3
        }
      ]
    },
    {
      "cell_type": "code",
      "metadata": {
        "colab": {
          "base_uri": "https://localhost:8080/"
        },
        "id": "wob-TZv3uwYc",
        "outputId": "b09c52b6-2e80-4013-962a-61d7e474ba56"
      },
      "source": [
        "df.dropna(axis=0, inplace=True)\n",
        "sum(df.isnull().sum())"
      ],
      "execution_count": 4,
      "outputs": [
        {
          "output_type": "execute_result",
          "data": {
            "text/plain": [
              "0"
            ]
          },
          "metadata": {
            "tags": []
          },
          "execution_count": 4
        }
      ]
    },
    {
      "cell_type": "code",
      "metadata": {
        "id": "-jvT_RrnpsTJ"
      },
      "source": [
        "targets = df['score']\n",
        "features = df.drop(['score'], axis=1)"
      ],
      "execution_count": 5,
      "outputs": []
    },
    {
      "cell_type": "markdown",
      "metadata": {
        "id": "RGTLBWDkrI6Q"
      },
      "source": [
        "Next we remove any columns that are clearly unnecessary to our Machine Learning model. "
      ]
    },
    {
      "cell_type": "code",
      "metadata": {
        "colab": {
          "base_uri": "https://localhost:8080/"
        },
        "id": "qu1u1uS_rR5W",
        "outputId": "1ebb52a9-d6ce-4e06-d9d2-17c89df18c66"
      },
      "source": [
        "features.columns"
      ],
      "execution_count": 6,
      "outputs": [
        {
          "output_type": "execute_result",
          "data": {
            "text/plain": [
              "Index(['id', 'album', 'artists', 'year', 'track count', 'duration',\n",
              "       '# artists mean', 'danceability mean', 'energy mean',\n",
              "       'speechiness mean', 'acousticness mean', 'instrumentalness mean',\n",
              "       'liveness mean', 'valence mean', 'duration_ms mean', 'duration mean',\n",
              "       'end_of_fade_in mean', 'start_of_fade_out mean', 'loudness mean',\n",
              "       'tempo mean', 'tempo_confidence mean', 'time_signature mean',\n",
              "       'time_signature_confidence mean', 'key mean', 'key_confidence mean',\n",
              "       'mode mean', 'mode_confidence mean', '# artists std',\n",
              "       'danceability std', 'energy std', 'speechiness std', 'acousticness std',\n",
              "       'instrumentalness std', 'liveness std', 'valence std',\n",
              "       'duration_ms std', 'duration std', 'end_of_fade_in std',\n",
              "       'start_of_fade_out std', 'loudness std', 'tempo std',\n",
              "       'tempo_confidence std', 'time_signature std',\n",
              "       'time_signature_confidence std', 'key std', 'key_confidence std',\n",
              "       'mode std', 'mode_confidence std', '# artists 50%', 'danceability 50%',\n",
              "       'energy 50%', 'speechiness 50%', 'acousticness 50%',\n",
              "       'instrumentalness 50%', 'liveness 50%', 'valence 50%',\n",
              "       'duration_ms 50%', 'duration 50%', 'end_of_fade_in 50%',\n",
              "       'start_of_fade_out 50%', 'loudness 50%', 'tempo 50%',\n",
              "       'tempo_confidence 50%', 'time_signature 50%',\n",
              "       'time_signature_confidence 50%', 'key 50%', 'key_confidence 50%',\n",
              "       'mode 50%', 'mode_confidence 50%'],\n",
              "      dtype='object')"
            ]
          },
          "metadata": {
            "tags": []
          },
          "execution_count": 6
        }
      ]
    },
    {
      "cell_type": "code",
      "metadata": {
        "id": "sxH8hrmcqOLf"
      },
      "source": [
        "remove = ['id', 'album', 'artists','# artists mean', 'duration_ms mean', 'duration mean',\n",
        "       'end_of_fade_in mean', 'start_of_fade_out mean', 'tempo_confidence mean',\n",
        "       'time_signature_confidence mean', 'key_confidence mean',\n",
        "       'mode_confidence mean', '# artists std',\n",
        "       'duration_ms std', 'duration std', 'end_of_fade_in std',\n",
        "       'start_of_fade_out std',\n",
        "       'tempo_confidence std',\n",
        "       'time_signature_confidence std', 'key_confidence std',\n",
        "       'mode_confidence std', '# artists 50%', 'danceability 50%',\n",
        "       'energy 50%', 'speechiness 50%', 'acousticness 50%',\n",
        "       'instrumentalness 50%', 'liveness 50%', 'valence 50%',\n",
        "       'duration_ms 50%', 'duration 50%', 'end_of_fade_in 50%',\n",
        "       'start_of_fade_out 50%', 'loudness 50%', 'tempo 50%',\n",
        "       'tempo_confidence 50%', 'time_signature 50%',\n",
        "       'time_signature_confidence 50%', 'key 50%', 'key_confidence 50%',\n",
        "       'mode 50%', 'mode_confidence 50%']"
      ],
      "execution_count": 7,
      "outputs": []
    },
    {
      "cell_type": "code",
      "metadata": {
        "colab": {
          "base_uri": "https://localhost:8080/",
          "height": 334
        },
        "id": "3YsNAS8NtNfz",
        "outputId": "85c6b848-b3fa-44d7-b18f-cbc47ccc2fe4"
      },
      "source": [
        "features.drop(labels=remove, axis=1, inplace=True)\n",
        "features.describe()"
      ],
      "execution_count": 8,
      "outputs": [
        {
          "output_type": "execute_result",
          "data": {
            "text/html": [
              "<div>\n",
              "<style scoped>\n",
              "    .dataframe tbody tr th:only-of-type {\n",
              "        vertical-align: middle;\n",
              "    }\n",
              "\n",
              "    .dataframe tbody tr th {\n",
              "        vertical-align: top;\n",
              "    }\n",
              "\n",
              "    .dataframe thead th {\n",
              "        text-align: right;\n",
              "    }\n",
              "</style>\n",
              "<table border=\"1\" class=\"dataframe\">\n",
              "  <thead>\n",
              "    <tr style=\"text-align: right;\">\n",
              "      <th></th>\n",
              "      <th>year</th>\n",
              "      <th>track count</th>\n",
              "      <th>duration</th>\n",
              "      <th>danceability mean</th>\n",
              "      <th>energy mean</th>\n",
              "      <th>speechiness mean</th>\n",
              "      <th>acousticness mean</th>\n",
              "      <th>instrumentalness mean</th>\n",
              "      <th>liveness mean</th>\n",
              "      <th>valence mean</th>\n",
              "      <th>loudness mean</th>\n",
              "      <th>tempo mean</th>\n",
              "      <th>time_signature mean</th>\n",
              "      <th>key mean</th>\n",
              "      <th>mode mean</th>\n",
              "      <th>danceability std</th>\n",
              "      <th>energy std</th>\n",
              "      <th>speechiness std</th>\n",
              "      <th>acousticness std</th>\n",
              "      <th>instrumentalness std</th>\n",
              "      <th>liveness std</th>\n",
              "      <th>valence std</th>\n",
              "      <th>loudness std</th>\n",
              "      <th>tempo std</th>\n",
              "      <th>time_signature std</th>\n",
              "      <th>key std</th>\n",
              "      <th>mode std</th>\n",
              "    </tr>\n",
              "  </thead>\n",
              "  <tbody>\n",
              "    <tr>\n",
              "      <th>count</th>\n",
              "      <td>1734.000000</td>\n",
              "      <td>1734.000000</td>\n",
              "      <td>1734.000000</td>\n",
              "      <td>1734.000000</td>\n",
              "      <td>1734.000000</td>\n",
              "      <td>1734.000000</td>\n",
              "      <td>1734.000000</td>\n",
              "      <td>1734.000000</td>\n",
              "      <td>1734.000000</td>\n",
              "      <td>1734.000000</td>\n",
              "      <td>1734.000000</td>\n",
              "      <td>1734.000000</td>\n",
              "      <td>1734.000000</td>\n",
              "      <td>1734.000000</td>\n",
              "      <td>1734.000000</td>\n",
              "      <td>1734.000000</td>\n",
              "      <td>1734.000000</td>\n",
              "      <td>1734.000000</td>\n",
              "      <td>1.734000e+03</td>\n",
              "      <td>1734.000000</td>\n",
              "      <td>1734.000000</td>\n",
              "      <td>1734.000000</td>\n",
              "      <td>1734.000000</td>\n",
              "      <td>1734.000000</td>\n",
              "      <td>1734.000000</td>\n",
              "      <td>1734.000000</td>\n",
              "      <td>1734.000000</td>\n",
              "    </tr>\n",
              "    <tr>\n",
              "      <th>mean</th>\n",
              "      <td>2013.476932</td>\n",
              "      <td>12.163206</td>\n",
              "      <td>2926.966776</td>\n",
              "      <td>0.491651</td>\n",
              "      <td>0.656593</td>\n",
              "      <td>0.114855</td>\n",
              "      <td>0.238309</td>\n",
              "      <td>0.255436</td>\n",
              "      <td>0.212918</td>\n",
              "      <td>0.372368</td>\n",
              "      <td>-8.078828</td>\n",
              "      <td>120.571229</td>\n",
              "      <td>3.882106</td>\n",
              "      <td>5.258028</td>\n",
              "      <td>0.615387</td>\n",
              "      <td>0.121543</td>\n",
              "      <td>0.154581</td>\n",
              "      <td>0.065934</td>\n",
              "      <td>1.950254e-01</td>\n",
              "      <td>0.174976</td>\n",
              "      <td>0.137920</td>\n",
              "      <td>0.176650</td>\n",
              "      <td>2.277445</td>\n",
              "      <td>28.198820</td>\n",
              "      <td>0.346250</td>\n",
              "      <td>3.536770</td>\n",
              "      <td>0.456366</td>\n",
              "    </tr>\n",
              "    <tr>\n",
              "      <th>std</th>\n",
              "      <td>5.616447</td>\n",
              "      <td>4.387388</td>\n",
              "      <td>1095.085087</td>\n",
              "      <td>0.156313</td>\n",
              "      <td>0.169922</td>\n",
              "      <td>0.090419</td>\n",
              "      <td>0.209439</td>\n",
              "      <td>0.282156</td>\n",
              "      <td>0.082156</td>\n",
              "      <td>0.157854</td>\n",
              "      <td>3.063509</td>\n",
              "      <td>12.244409</td>\n",
              "      <td>0.190056</td>\n",
              "      <td>1.209225</td>\n",
              "      <td>0.193742</td>\n",
              "      <td>0.040076</td>\n",
              "      <td>0.063530</td>\n",
              "      <td>0.058840</td>\n",
              "      <td>1.115318e-01</td>\n",
              "      <td>0.139434</td>\n",
              "      <td>0.065809</td>\n",
              "      <td>0.061282</td>\n",
              "      <td>1.432866</td>\n",
              "      <td>8.282058</td>\n",
              "      <td>0.323266</td>\n",
              "      <td>0.638700</td>\n",
              "      <td>0.107853</td>\n",
              "    </tr>\n",
              "    <tr>\n",
              "      <th>min</th>\n",
              "      <td>1965.000000</td>\n",
              "      <td>2.000000</td>\n",
              "      <td>289.249960</td>\n",
              "      <td>0.099967</td>\n",
              "      <td>0.020050</td>\n",
              "      <td>0.027800</td>\n",
              "      <td>0.000001</td>\n",
              "      <td>0.000000</td>\n",
              "      <td>0.070900</td>\n",
              "      <td>0.031150</td>\n",
              "      <td>-28.291250</td>\n",
              "      <td>71.905500</td>\n",
              "      <td>1.500000</td>\n",
              "      <td>1.000000</td>\n",
              "      <td>0.000000</td>\n",
              "      <td>0.002121</td>\n",
              "      <td>0.001188</td>\n",
              "      <td>0.000377</td>\n",
              "      <td>6.041373e-07</td>\n",
              "      <td>0.000000</td>\n",
              "      <td>0.005033</td>\n",
              "      <td>0.001300</td>\n",
              "      <td>0.033234</td>\n",
              "      <td>0.031113</td>\n",
              "      <td>0.000000</td>\n",
              "      <td>0.000000</td>\n",
              "      <td>0.000000</td>\n",
              "    </tr>\n",
              "    <tr>\n",
              "      <th>25%</th>\n",
              "      <td>2012.000000</td>\n",
              "      <td>10.000000</td>\n",
              "      <td>2340.875945</td>\n",
              "      <td>0.381930</td>\n",
              "      <td>0.550106</td>\n",
              "      <td>0.048465</td>\n",
              "      <td>0.081895</td>\n",
              "      <td>0.011121</td>\n",
              "      <td>0.155253</td>\n",
              "      <td>0.258442</td>\n",
              "      <td>-9.489955</td>\n",
              "      <td>112.487920</td>\n",
              "      <td>3.800000</td>\n",
              "      <td>4.466667</td>\n",
              "      <td>0.500000</td>\n",
              "      <td>0.095637</td>\n",
              "      <td>0.111668</td>\n",
              "      <td>0.018204</td>\n",
              "      <td>1.067227e-01</td>\n",
              "      <td>0.023702</td>\n",
              "      <td>0.089744</td>\n",
              "      <td>0.139767</td>\n",
              "      <td>1.306111</td>\n",
              "      <td>23.393649</td>\n",
              "      <td>0.000000</td>\n",
              "      <td>3.204700</td>\n",
              "      <td>0.440959</td>\n",
              "    </tr>\n",
              "    <tr>\n",
              "      <th>50%</th>\n",
              "      <td>2014.000000</td>\n",
              "      <td>11.000000</td>\n",
              "      <td>2745.606465</td>\n",
              "      <td>0.500065</td>\n",
              "      <td>0.669463</td>\n",
              "      <td>0.075486</td>\n",
              "      <td>0.185453</td>\n",
              "      <td>0.138965</td>\n",
              "      <td>0.196421</td>\n",
              "      <td>0.376724</td>\n",
              "      <td>-7.638000</td>\n",
              "      <td>120.196613</td>\n",
              "      <td>3.928571</td>\n",
              "      <td>5.224747</td>\n",
              "      <td>0.625000</td>\n",
              "      <td>0.119506</td>\n",
              "      <td>0.148905</td>\n",
              "      <td>0.044745</td>\n",
              "      <td>2.098288e-01</td>\n",
              "      <td>0.185116</td>\n",
              "      <td>0.129251</td>\n",
              "      <td>0.178442</td>\n",
              "      <td>1.956574</td>\n",
              "      <td>28.412708</td>\n",
              "      <td>0.316228</td>\n",
              "      <td>3.594090</td>\n",
              "      <td>0.495595</td>\n",
              "    </tr>\n",
              "    <tr>\n",
              "      <th>75%</th>\n",
              "      <td>2016.000000</td>\n",
              "      <td>14.000000</td>\n",
              "      <td>3351.673867</td>\n",
              "      <td>0.607068</td>\n",
              "      <td>0.776211</td>\n",
              "      <td>0.154938</td>\n",
              "      <td>0.342662</td>\n",
              "      <td>0.446337</td>\n",
              "      <td>0.255924</td>\n",
              "      <td>0.484865</td>\n",
              "      <td>-5.970065</td>\n",
              "      <td>128.614193</td>\n",
              "      <td>4.000000</td>\n",
              "      <td>6.000000</td>\n",
              "      <td>0.750000</td>\n",
              "      <td>0.145452</td>\n",
              "      <td>0.197990</td>\n",
              "      <td>0.105920</td>\n",
              "      <td>2.813277e-01</td>\n",
              "      <td>0.300376</td>\n",
              "      <td>0.182590</td>\n",
              "      <td>0.218969</td>\n",
              "      <td>2.889782</td>\n",
              "      <td>33.399517</td>\n",
              "      <td>0.500000</td>\n",
              "      <td>3.951548</td>\n",
              "      <td>0.516398</td>\n",
              "    </tr>\n",
              "    <tr>\n",
              "      <th>max</th>\n",
              "      <td>2020.000000</td>\n",
              "      <td>50.000000</td>\n",
              "      <td>12023.493360</td>\n",
              "      <td>0.899250</td>\n",
              "      <td>0.996625</td>\n",
              "      <td>0.524000</td>\n",
              "      <td>0.978000</td>\n",
              "      <td>0.963700</td>\n",
              "      <td>0.883143</td>\n",
              "      <td>0.863500</td>\n",
              "      <td>0.942625</td>\n",
              "      <td>174.759400</td>\n",
              "      <td>4.500000</td>\n",
              "      <td>10.571429</td>\n",
              "      <td>1.000000</td>\n",
              "      <td>0.332150</td>\n",
              "      <td>0.417152</td>\n",
              "      <td>0.420260</td>\n",
              "      <td>5.132613e-01</td>\n",
              "      <td>0.652660</td>\n",
              "      <td>0.443535</td>\n",
              "      <td>0.369338</td>\n",
              "      <td>15.144492</td>\n",
              "      <td>60.745623</td>\n",
              "      <td>1.685426</td>\n",
              "      <td>6.363961</td>\n",
              "      <td>0.707107</td>\n",
              "    </tr>\n",
              "  </tbody>\n",
              "</table>\n",
              "</div>"
            ],
            "text/plain": [
              "              year  track count  ...      key std     mode std\n",
              "count  1734.000000  1734.000000  ...  1734.000000  1734.000000\n",
              "mean   2013.476932    12.163206  ...     3.536770     0.456366\n",
              "std       5.616447     4.387388  ...     0.638700     0.107853\n",
              "min    1965.000000     2.000000  ...     0.000000     0.000000\n",
              "25%    2012.000000    10.000000  ...     3.204700     0.440959\n",
              "50%    2014.000000    11.000000  ...     3.594090     0.495595\n",
              "75%    2016.000000    14.000000  ...     3.951548     0.516398\n",
              "max    2020.000000    50.000000  ...     6.363961     0.707107\n",
              "\n",
              "[8 rows x 27 columns]"
            ]
          },
          "metadata": {
            "tags": []
          },
          "execution_count": 8
        }
      ]
    },
    {
      "cell_type": "code",
      "metadata": {
        "id": "c9pD_rcVrn8e"
      },
      "source": [
        "#new\n",
        "\n",
        "for column in features.columns:\n",
        "    feature = np.array(features[column]).reshape(-1,1)\n",
        "    scaler = MinMaxScaler()\n",
        "    scaler.fit(feature)\n",
        "    feature_scaled = scaler.transform(feature)\n",
        "    features[column] = feature_scaled.reshape(1,-1)[0]"
      ],
      "execution_count": 9,
      "outputs": []
    },
    {
      "cell_type": "code",
      "metadata": {
        "colab": {
          "base_uri": "https://localhost:8080/"
        },
        "id": "2VDh4tOAuJYK",
        "outputId": "7ab35aa9-0a80-4622-da69-5a88ae4b9717"
      },
      "source": [
        "X_train, X_test, y_train, y_test = train_test_split(features, targets, test_size=0.2, random_state=0)\n",
        "print(X_train.shape)"
      ],
      "execution_count": 10,
      "outputs": [
        {
          "output_type": "stream",
          "text": [
            "(1387, 27)\n"
          ],
          "name": "stdout"
        }
      ]
    },
    {
      "cell_type": "code",
      "metadata": {
        "id": "qYVqA-aL7x2v",
        "colab": {
          "base_uri": "https://localhost:8080/"
        },
        "outputId": "d90c18d5-08d0-414c-8a82-a9fad46f7751"
      },
      "source": [
        "#new\n",
        "\n",
        "y_train.value_counts()"
      ],
      "execution_count": 11,
      "outputs": [
        {
          "output_type": "execute_result",
          "data": {
            "text/plain": [
              "7     350\n",
              "8     299\n",
              "6     281\n",
              "5     197\n",
              "4     104\n",
              "3      52\n",
              "10     43\n",
              "9      42\n",
              "2      15\n",
              "1       3\n",
              "0       1\n",
              "Name: score, dtype: int64"
            ]
          },
          "metadata": {
            "tags": []
          },
          "execution_count": 11
        }
      ]
    },
    {
      "cell_type": "code",
      "metadata": {
        "id": "zVaTg3JRsISx",
        "colab": {
          "base_uri": "https://localhost:8080/"
        },
        "outputId": "c08310b0-d49b-40c9-d167-aaae7daf0f7e"
      },
      "source": [
        "over_sampler = RandomOverSampler(random_state=17)\n",
        "X_bal_over, y_bal_over = over_sampler.fit_resample(X_train, y_train)\n",
        "\n",
        "under_sampler = RandomUnderSampler(random_state=42)\n",
        "X_bal_under, y_bal_under = under_sampler.fit_resample(X_train, y_train)\n",
        "\n",
        "y_bal_over = pd.Series(y_bal_over)\n",
        "y_bal_under = pd.Series(y_bal_under)"
      ],
      "execution_count": 12,
      "outputs": [
        {
          "output_type": "stream",
          "text": [
            "/usr/local/lib/python3.7/dist-packages/sklearn/utils/deprecation.py:87: FutureWarning: Function safe_indexing is deprecated; safe_indexing is deprecated in version 0.22 and will be removed in version 0.24.\n",
            "  warnings.warn(msg, category=FutureWarning)\n",
            "/usr/local/lib/python3.7/dist-packages/sklearn/utils/deprecation.py:87: FutureWarning: Function safe_indexing is deprecated; safe_indexing is deprecated in version 0.22 and will be removed in version 0.24.\n",
            "  warnings.warn(msg, category=FutureWarning)\n"
          ],
          "name": "stderr"
        }
      ]
    },
    {
      "cell_type": "code",
      "metadata": {
        "id": "cwnM4YBb1aB6",
        "colab": {
          "base_uri": "https://localhost:8080/"
        },
        "outputId": "465d65cc-cf8e-407c-9d1f-d914b9307730"
      },
      "source": [
        "grid = GridSearchCV(LinearSVC(), param_grid= {'C': np.arange(0.01, 1.0, 0.01)}, scoring=\"r2\", cv=5)\n",
        "grid.fit(X_train, y_train)\n",
        "\n",
        "print('Best Parameters : ',grid.best_params_)\n",
        "print('Best Score    :', grid.best_score_)"
      ],
      "execution_count": 13,
      "outputs": [
        {
          "output_type": "stream",
          "text": [
            "/usr/local/lib/python3.7/dist-packages/sklearn/model_selection/_split.py:667: UserWarning: The least populated class in y has only 1 members, which is less than n_splits=5.\n",
            "  % (min_groups, self.n_splits)), UserWarning)\n"
          ],
          "name": "stderr"
        },
        {
          "output_type": "stream",
          "text": [
            "Best Parameters :  {'C': 0.22}\n",
            "Best Score    : -0.12103230897692993\n"
          ],
          "name": "stdout"
        }
      ]
    },
    {
      "cell_type": "code",
      "metadata": {
        "id": "97lOhGYh2l_q",
        "colab": {
          "base_uri": "https://localhost:8080/"
        },
        "outputId": "eb320de5-420a-4902-afc2-bc37e67e4b99"
      },
      "source": [
        "lsvc = LinearSVC(C=0.22, penalty=\"l1\", dual=False, max_iter=100000).fit(X_train, y_train)\n",
        "model = SelectFromModel(lsvc, prefit=True)\n",
        "X_train_l1 = model.transform(X_train)\n",
        "X_test_l1 = model.transform(X_test)\n",
        "lsvc = LinearSVC().fit(X_train_l1, y_train)\n",
        "mse_lsvc = (np.square(y_test - lsvc.predict(X_test_l1))).mean()\n",
        "mse_lsvc"
      ],
      "execution_count": 14,
      "outputs": [
        {
          "output_type": "execute_result",
          "data": {
            "text/plain": [
              "3.1037463976945245"
            ]
          },
          "metadata": {
            "tags": []
          },
          "execution_count": 14
        }
      ]
    },
    {
      "cell_type": "code",
      "metadata": {
        "id": "0CIyVbiY02JF",
        "colab": {
          "base_uri": "https://localhost:8080/"
        },
        "outputId": "19af4b80-2e78-4833-fe61-f193dafd18b8"
      },
      "source": [
        "grid = GridSearchCV(LassoCV(), param_grid= {'cv': range(2,15)}, scoring=\"r2\", cv=5)\n",
        "grid.fit(X_train, y_train)\n",
        "\n",
        "print('Best Parameters : ',grid.best_params_)\n",
        "print('Best Score    :', grid.best_score_)"
      ],
      "execution_count": 15,
      "outputs": [
        {
          "output_type": "stream",
          "text": [
            "Best Parameters :  {'cv': 12}\n",
            "Best Score    : 0.11090872970012326\n"
          ],
          "name": "stdout"
        }
      ]
    },
    {
      "cell_type": "code",
      "metadata": {
        "colab": {
          "base_uri": "https://localhost:8080/"
        },
        "id": "iXrpribluSOF",
        "outputId": "412afa95-4f1d-44f4-a7a8-7e848325de7e"
      },
      "source": [
        "lasso = LassoCV(cv=12).fit(X_train, y_train)\n",
        "mse_lasso = (np.square(y_test - lasso.predict(X_test))).mean()\n",
        "mse_lasso"
      ],
      "execution_count": 16,
      "outputs": [
        {
          "output_type": "execute_result",
          "data": {
            "text/plain": [
              "2.5268446532207474"
            ]
          },
          "metadata": {
            "tags": []
          },
          "execution_count": 16
        }
      ]
    },
    {
      "cell_type": "code",
      "metadata": {
        "colab": {
          "base_uri": "https://localhost:8080/"
        },
        "id": "ifnss97PwxOv",
        "outputId": "1fc57cc2-535a-48a6-f64c-67a0ee09e982"
      },
      "source": [
        "grid = GridSearchCV(LinearSVR(), param_grid= {'C': np.arange(0.01, 1.0, 0.01)}, scoring=\"r2\", cv=5)\n",
        "grid.fit(X_train, y_train)\n",
        "\n",
        "print('Best Parameters : ',grid.best_params_)\n",
        "print('Best Score    :', grid.best_score_)"
      ],
      "execution_count": 17,
      "outputs": [
        {
          "output_type": "stream",
          "text": [
            "Best Parameters :  {'C': 0.97}\n",
            "Best Score    : 0.07374875716018377\n"
          ],
          "name": "stdout"
        }
      ]
    },
    {
      "cell_type": "code",
      "metadata": {
        "id": "iaY-VQ7xu0qE",
        "colab": {
          "base_uri": "https://localhost:8080/"
        },
        "outputId": "2c2c4c3c-70e4-44c5-c66e-93ecdb4c7051"
      },
      "source": [
        "lsvr = LinearSVR(C=0.97).fit(X_train,y_train)\n",
        "mse_lsvr = (np.square(y_test - lsvr.predict(X_test))).mean()\n",
        "mse_lsvr"
      ],
      "execution_count": 18,
      "outputs": [
        {
          "output_type": "execute_result",
          "data": {
            "text/plain": [
              "2.604486450854178"
            ]
          },
          "metadata": {
            "tags": []
          },
          "execution_count": 18
        }
      ]
    },
    {
      "cell_type": "code",
      "metadata": {
        "id": "VGXNi0fF2WGp",
        "colab": {
          "base_uri": "https://localhost:8080/"
        },
        "outputId": "73228a87-2fad-42e4-ef0e-a6878f517a9f"
      },
      "source": [
        "#since lasso got the lowest score, we'll try training it with the over/under sampled datasets to see if we can get improved performance\n",
        "\n",
        "lasso_over = LassoCV(cv=12).fit(X_bal_over, y_bal_over)\n",
        "mse_lasso_over = (np.square(y_test - lasso_over.predict(X_test))).mean()\n",
        "print(mse_lasso_over)\n",
        "\n",
        "lasso_under = LassoCV(cv=11).fit(X_bal_under, y_bal_under)\n",
        "mse_lasso_under = (np.square(y_test - lasso_under.predict(X_test))).mean()\n",
        "print(mse_lasso_under)"
      ],
      "execution_count": 19,
      "outputs": [
        {
          "output_type": "stream",
          "text": [
            "5.25358258751881\n",
            "4.548893306703745\n"
          ],
          "name": "stdout"
        }
      ]
    },
    {
      "cell_type": "code",
      "metadata": {
        "id": "BZEua5xU48Rl",
        "outputId": "b3a8bd85-e63c-42fc-8d0d-cac444ea1194",
        "colab": {
          "base_uri": "https://localhost:8080/",
          "height": 1000
        }
      },
      "source": [
        "#Model visualizations\n",
        "plt.plot(lasso.coef_)\n",
        "plt.xlabel('alpha')\n",
        "plt.ylabel('weights')\n",
        "plt.title('Lasso coefficients as a function of the regularization')\n",
        "plt.axis('tight')\n",
        "plt.show()\n",
        "\n",
        "plt.plot(lasso_over.coef_)\n",
        "plt.show()\n",
        "\n",
        "plt.plot(lasso_under.coef_)\n",
        "plt.show()\n",
        "\n",
        "plt.plot(lasso.coef_, label = \"Regularly sampled\")\n",
        "plt.plot(lasso_over.coef_, label = \"Over sampled\")\n",
        "plt.plot(lasso_under.coef_, label = \"Under sampled\")\n",
        "plt.legend()\n",
        "plt.show()\n",
        "\n",
        "plt.plot(lsvc.coef_[0], label = \"LinearSVC\")\n",
        "plt.plot(lsvr.coef_, label = \"LinearSVR\")\n",
        "plt.plot(lasso.coef_, label = \"Lasso\")\n",
        "plt.legend()\n",
        "plt.show()"
      ],
      "execution_count": 57,
      "outputs": [
        {
          "output_type": "display_data",
          "data": {
            "image/png": "[encoded data removed]",
            "text/plain": [
              "<Figure size 432x288 with 1 Axes>"
            ]
          },
          "metadata": {
            "tags": [],
            "needs_background": "light"
          }
        },
        {
          "output_type": "display_data",
          "data": {
            "image/png": "[encoded data removed]",
            "text/plain": [
              "<Figure size 432x288 with 1 Axes>"
            ]
          },
          "metadata": {
            "tags": [],
            "needs_background": "light"
          }
        },
        {
          "output_type": "display_data",
          "data": {
            "image/png": "[encoded data removed]",
            "text/plain": [
              "<Figure size 432x288 with 1 Axes>"
            ]
          },
          "metadata": {
            "tags": [],
            "needs_background": "light"
          }
        },
        {
          "output_type": "display_data",
          "data": {
            "image/png": "[encoded data removed]",
            "text/plain": [
              "<Figure size 432x288 with 1 Axes>"
            ]
          },
          "metadata": {
            "tags": [],
            "needs_background": "light"
          }
        },
        {
          "output_type": "display_data",
          "data": {
            "image/png": "[encoded data removed]",
            "text/plain": [
              "<Figure size 432x288 with 1 Axes>"
            ]
          },
          "metadata": {
            "tags": [],
            "needs_background": "light"
          }
        }
      ]
    }
  ]
}