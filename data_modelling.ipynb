{
 "cells": [
  {
   "cell_type": "markdown",
   "metadata": {},
   "source": [
    "# DATA CLASSIFICATION AND MODELING\n",
    "Here, we will attmept to model the data in order to predict (classify) album scores"
   ]
  },
  {
   "cell_type": "code",
   "execution_count": 2,
   "metadata": {},
   "outputs": [],
   "source": [
    "#obligatory set up code\n",
    "import matplotlib.pyplot as plt\n",
    "import numpy as np\n",
    "import pandas as pd\n",
    "import sklearn as sk\n",
    "\n",
    "from scipy.stats import norm\n",
    "from pandas import Series, DataFrame\n",
    "from sklearn.model_selection import train_test_split\n",
    "from sklearn.model_selection import cross_val_score\n",
    "from sklearn import neighbors\n",
    "from matplotlib.colors import ListedColormap\n",
    "from sklearn.svm import SVC\n",
    "\n",
    "plt.style.use('ggplot')\n",
    "\n",
    "%matplotlib inline"
   ]
  },
  {
   "cell_type": "code",
   "execution_count": 18,
   "metadata": {},
   "outputs": [],
   "source": [
    "#bring data from data_acquisition to this notebook\n",
    "nd_data = pd.read_csv('needledrop_data.csv')\n",
    "scores = nd_data.iloc[:,2]\n",
    "basics = nd_data[['year','track count','duration']]\n",
    "\n",
    "means = [m for m in list(nd_data.columns.values) if 'mean' in m]\n",
    "means = nd_data[means]\n",
    "means = pd.concat([basics,means], axis=1)\n",
    "                  \n",
    "stds = [s for s in list(nd_data.columns.values) if 'std' in s]\n",
    "stds = nd_data[stds]\n",
    "stds = pd.concat([basics,stds], axis=1)\n",
    "                 \n",
    "medians = [m for m in list(nd_data.columns.values) if '50%' in m]\n",
    "medians = nd_data[medians]\n",
    "medians = pd.concat([basics,medians], axis=1)\n",
    "\n",
    "#split data sets into training and testing data\n",
    "scores_train, scores_test = train_test_split(scores, test_size=0.25)\n",
    "means_train, means_test = train_test_split(means, test_size=0.25)\n",
    "stds_train, stds_test = train_test_split(stds, test_size=0.25)\n",
    "medians_train, medians_test = train_test_split(medians, test_size=0.25)"
   ]
  },
  {
   "cell_type": "code",
   "execution_count": 19,
   "metadata": {},
   "outputs": [
    {
     "data": {
      "text/plain": [
       "1314"
      ]
     },
     "execution_count": 19,
     "metadata": {},
     "output_type": "execute_result"
    }
   ],
   "source": [
    "len(means_train)"
   ]
  },
  {
   "cell_type": "code",
   "execution_count": 21,
   "metadata": {},
   "outputs": [
    {
     "data": {
      "image/png": "[encoded data removed]",
      "text/plain": [
       "<Figure size 432x288 with 1 Axes>"
      ]
     },
     "metadata": {
      "needs_background": "light"
     },
     "output_type": "display_data"
    }
   ],
   "source": [
    "kvals = range(1,25,2)\n",
    "train_score = []\n",
    "test_score = []\n",
    "\n",
    "for k in kvals:\n",
    "    model = neighbors.KNeighborsClassifier(k)\n",
    "    model.fit(means_train,scores_train)\n",
    "    train_score.append(model.score(means_train, scores_train))\n",
    "    test_score.append(model.score(means_test, scores_test))\n",
    "#TODO: the model can be created with a weight functionion. \n",
    "# Use this in conjunction with the confidence columns to weight the corresponding columns\n",
    "plt.plot(kvals, train_score, 'r-s', label='Train')\n",
    "plt.plot(kvals, test_score, 'b-o', label='Test')\n",
    "plt.legend()\n",
    "plt.show()"
   ]
  },
  {
   "cell_type": "code",
   "execution_count": null,
   "metadata": {},
   "outputs": [],
   "source": [
    "\n",
    "for k in kvals:\n",
    "    model = neighbors.KNeighborsClassifier(k)\n",
    "    model.fit(train[['x','y']], train['class'])\n",
    "    train_score.append(model.score(train[['x','y']], train['class']))\n",
    "    test_score.append(model.score(test[['x','y']], test['class']))\n",
    "    \n",
    "plt.plot(kvals, train_score, 'r-s', label='Train')\n",
    "plt.plot(kvals, test_score, 'b-o', label='Test')\n",
    "plt.legend()\n",
    "plt.show()"
   ]
  }
 ],
 "metadata": {
  "kernelspec": {
   "display_name": "Python 3",
   "language": "python",
   "name": "python3"
  },
  "language_info": {
   "codemirror_mode": {
    "name": "ipython",
    "version": 3
   },
   "file_extension": ".py",
   "mimetype": "text/x-python",
   "name": "python",
   "nbconvert_exporter": "python",
   "pygments_lexer": "ipython3",
   "version": "3.8.3"
  }
 },
 "nbformat": 4,
 "nbformat_minor": 4
}
