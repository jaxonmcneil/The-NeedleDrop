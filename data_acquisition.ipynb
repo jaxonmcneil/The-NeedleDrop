{
 "cells": [
  {
   "cell_type": "markdown",
   "metadata": {},
   "source": [
    "# DATA ACQUISITION AND MANIPULATION\n",
    "Retrieval and shaping of data from the NeedleDrop dataset and Spotify API"
   ]
  },
  {
   "cell_type": "markdown",
   "metadata": {},
   "source": [
    "### Step 1: Get NeedleDrop Data"
   ]
  },
  {
   "cell_type": "code",
   "execution_count": 1,
   "metadata": {},
   "outputs": [],
   "source": [
    "#import data science tools\n",
    "import matplotlib.pyplot as plt\n",
    "import numpy as np\n",
    "import pandas as pd\n",
    "\n",
    "plt.style.use('seaborn-darkgrid')"
   ]
  },
  {
   "cell_type": "code",
   "execution_count": 2,
   "metadata": {},
   "outputs": [
    {
     "data": {
      "text/html": [
       "<div>\n",
       "<style scoped>\n",
       "    .dataframe tbody tr th:only-of-type {\n",
       "        vertical-align: middle;\n",
       "    }\n",
       "\n",
       "    .dataframe tbody tr th {\n",
       "        vertical-align: top;\n",
       "    }\n",
       "\n",
       "    .dataframe thead th {\n",
       "        text-align: right;\n",
       "    }\n",
       "</style>\n",
       "<table border=\"1\" class=\"dataframe\">\n",
       "  <thead>\n",
       "    <tr style=\"text-align: right;\">\n",
       "      <th></th>\n",
       "      <th>artist</th>\n",
       "      <th>album</th>\n",
       "      <th>score</th>\n",
       "    </tr>\n",
       "  </thead>\n",
       "  <tbody>\n",
       "    <tr>\n",
       "      <th>2</th>\n",
       "      <td>System of a Down</td>\n",
       "      <td>Toxicity</td>\n",
       "      <td>10</td>\n",
       "    </tr>\n",
       "    <tr>\n",
       "      <th>3</th>\n",
       "      <td>Burial</td>\n",
       "      <td>Untrue</td>\n",
       "      <td>10</td>\n",
       "    </tr>\n",
       "    <tr>\n",
       "      <th>4</th>\n",
       "      <td>Cannibal Ox</td>\n",
       "      <td>The Cold Vein</td>\n",
       "      <td>10</td>\n",
       "    </tr>\n",
       "    <tr>\n",
       "      <th>5</th>\n",
       "      <td>Sleater-Kinney</td>\n",
       "      <td>The Woods</td>\n",
       "      <td>10</td>\n",
       "    </tr>\n",
       "    <tr>\n",
       "      <th>6</th>\n",
       "      <td>The Postal Service</td>\n",
       "      <td>Give Up</td>\n",
       "      <td>10</td>\n",
       "    </tr>\n",
       "    <tr>\n",
       "      <th>...</th>\n",
       "      <td>...</td>\n",
       "      <td>...</td>\n",
       "      <td>...</td>\n",
       "    </tr>\n",
       "    <tr>\n",
       "      <th>1991</th>\n",
       "      <td>Broken Bells</td>\n",
       "      <td>Broken Bells</td>\n",
       "      <td>5</td>\n",
       "    </tr>\n",
       "    <tr>\n",
       "      <th>1992</th>\n",
       "      <td>Liars</td>\n",
       "      <td>Sisterworld</td>\n",
       "      <td>6</td>\n",
       "    </tr>\n",
       "    <tr>\n",
       "      <th>1993</th>\n",
       "      <td>High On Fire</td>\n",
       "      <td>Snakes for the Divine</td>\n",
       "      <td>8</td>\n",
       "    </tr>\n",
       "    <tr>\n",
       "      <th>1994</th>\n",
       "      <td>The Knife</td>\n",
       "      <td>Tomorrow In a Year</td>\n",
       "      <td>3</td>\n",
       "    </tr>\n",
       "    <tr>\n",
       "      <th>1995</th>\n",
       "      <td>Gorillaz</td>\n",
       "      <td>Plastic Beach</td>\n",
       "      <td>7</td>\n",
       "    </tr>\n",
       "  </tbody>\n",
       "</table>\n",
       "<p>1858 rows × 3 columns</p>\n",
       "</div>"
      ],
      "text/plain": [
       "                  artist                   album  score\n",
       "2       System of a Down                Toxicity     10\n",
       "3                 Burial                  Untrue     10\n",
       "4            Cannibal Ox           The Cold Vein     10\n",
       "5        Sleater-Kinney                The Woods     10\n",
       "6     The Postal Service                 Give Up     10\n",
       "...                  ...                     ...    ...\n",
       "1991        Broken Bells           Broken Bells       5\n",
       "1992               Liars            Sisterworld       6\n",
       "1993        High On Fire  Snakes for the Divine       8\n",
       "1994           The Knife      Tomorrow In a Year      3\n",
       "1995            Gorillaz           Plastic Beach      7\n",
       "\n",
       "[1858 rows x 3 columns]"
      ]
     },
     "execution_count": 2,
     "metadata": {},
     "output_type": "execute_result"
    }
   ],
   "source": [
    "#Get the NeedleDrop ratings in a pandas DataFrame and manipulate it to bettwe suit our needs\n",
    "nd = pd.read_csv('./all_needledrop_ratings.csv')\n",
    "\n",
    "#Set column names\n",
    "nd.columns = ['artist','album','score','review year']\n",
    "\n",
    "#drop review year column. This column contains very incomplete data and we can get better data from the spotify API\n",
    "nd.drop(labels='review year', axis='columns',inplace=True)\n",
    "\n",
    "#drop first 2 rows\n",
    "nd.drop(labels=[0,1],axis='index',inplace=True)\n",
    "\n",
    "#set rating of all albums with rating \"classic\" or \"CLASSIC\" to 10\n",
    "nd.replace(to_replace=['CLASSIC','classic'],value='10', inplace=True)\n",
    "\n",
    "#remove all rows with weird ratings. For example, we can't assign \"meh\" a numerical value without guessing and potentially skewing the data\n",
    "nd = nd[nd['score'].apply(lambda x: x.isdigit())]\n",
    "\n",
    "#replace scores with numerical data\n",
    "dic = {'10':10,'9':9,'8':8,'7':7,'6':6,'5':5,'4':4,'3':3,'2':2,'1':1,'0':0}\n",
    "nd.replace(dic, inplace=True)\n",
    "nd"
   ]
  },
  {
   "cell_type": "markdown",
   "metadata": {},
   "source": [
    "---\n",
    "The NeedleDrop data is now suitable for analysis, but there isn't much to be learned from this data alone. Here is some basic data exploration that can be done with the NeedleDrop dataset. Beyond this, we need to combine this data with other data."
   ]
  },
  {
   "cell_type": "code",
   "execution_count": 3,
   "metadata": {},
   "outputs": [
    {
     "data": {
      "text/html": [
       "<div>\n",
       "<style scoped>\n",
       "    .dataframe tbody tr th:only-of-type {\n",
       "        vertical-align: middle;\n",
       "    }\n",
       "\n",
       "    .dataframe tbody tr th {\n",
       "        vertical-align: top;\n",
       "    }\n",
       "\n",
       "    .dataframe thead th {\n",
       "        text-align: right;\n",
       "    }\n",
       "</style>\n",
       "<table border=\"1\" class=\"dataframe\">\n",
       "  <thead>\n",
       "    <tr style=\"text-align: right;\">\n",
       "      <th></th>\n",
       "      <th>score</th>\n",
       "    </tr>\n",
       "  </thead>\n",
       "  <tbody>\n",
       "    <tr>\n",
       "      <th>count</th>\n",
       "      <td>1858.000000</td>\n",
       "    </tr>\n",
       "    <tr>\n",
       "      <th>mean</th>\n",
       "      <td>6.431109</td>\n",
       "    </tr>\n",
       "    <tr>\n",
       "      <th>std</th>\n",
       "      <td>1.646079</td>\n",
       "    </tr>\n",
       "    <tr>\n",
       "      <th>min</th>\n",
       "      <td>0.000000</td>\n",
       "    </tr>\n",
       "    <tr>\n",
       "      <th>25%</th>\n",
       "      <td>5.000000</td>\n",
       "    </tr>\n",
       "    <tr>\n",
       "      <th>50%</th>\n",
       "      <td>7.000000</td>\n",
       "    </tr>\n",
       "    <tr>\n",
       "      <th>75%</th>\n",
       "      <td>8.000000</td>\n",
       "    </tr>\n",
       "    <tr>\n",
       "      <th>max</th>\n",
       "      <td>10.000000</td>\n",
       "    </tr>\n",
       "  </tbody>\n",
       "</table>\n",
       "</div>"
      ],
      "text/plain": [
       "             score\n",
       "count  1858.000000\n",
       "mean      6.431109\n",
       "std       1.646079\n",
       "min       0.000000\n",
       "25%       5.000000\n",
       "50%       7.000000\n",
       "75%       8.000000\n",
       "max      10.000000"
      ]
     },
     "execution_count": 3,
     "metadata": {},
     "output_type": "execute_result"
    }
   ],
   "source": [
    "nd.describe()"
   ]
  },
  {
   "cell_type": "code",
   "execution_count": 4,
   "metadata": {},
   "outputs": [
    {
     "data": {
      "image/png": "[encoded data removed]",
      "text/plain": [
       "<Figure size 432x288 with 1 Axes>"
      ]
     },
     "metadata": {},
     "output_type": "display_data"
    }
   ],
   "source": [
    "#histogram of scores\n",
    "plt.hist(nd['score'],bins=10)\n",
    "plt.xlabel(\"Score\")\n",
    "plt.ylabel(\"Frequency\")\n",
    "plt.title(\"Score vs Frequency\")\n",
    "plt.show()"
   ]
  },
  {
   "cell_type": "code",
   "execution_count": 5,
   "metadata": {},
   "outputs": [
    {
     "data": {
      "text/plain": [
       "Death Grips        8\n",
       "Various Artists    7\n",
       "Big K.R.I.T.       7\n",
       "The Weeknd         6\n",
       "Logic              6\n",
       "Vince Staples      5\n",
       "Mac Miller         5\n",
       "Open Mike Eagle    5\n",
       "Young Fathers      5\n",
       "Mount Eerie        5\n",
       "Name: artist, dtype: int64"
      ]
     },
     "execution_count": 5,
     "metadata": {},
     "output_type": "execute_result"
    }
   ],
   "source": [
    "#The NeedleDrop top 10 artists by most frequent appearances\n",
    "n = 10\n",
    "top = nd['artist'].value_counts()[:n].index.tolist()\n",
    "top_artists = pd.DataFrame(columns=['artist','album','score'])\n",
    "for a in top:\n",
    "    top_artists = pd.concat([top_artists, nd[nd['artist'] == a]])\n",
    "top_artists['artist'].value_counts()"
   ]
  },
  {
   "cell_type": "markdown",
   "metadata": {},
   "source": [
    "### Step 2. Get Spotify Data"
   ]
  },
  {
   "cell_type": "code",
   "execution_count": 6,
   "metadata": {},
   "outputs": [],
   "source": [
    "#import spotify api client\n",
    "import csv\n",
    "from spotify_client import Spotify_client\n",
    "from album import Album\n",
    "from db_client import DB_Client\n",
    "from ipypb import track as pb\n",
    "from os.path import getsize"
   ]
  },
  {
   "cell_type": "code",
   "execution_count": 7,
   "metadata": {},
   "outputs": [
    {
     "name": "stdout",
     "output_type": "stream",
     "text": [
      "Gathering raw album data\n"
     ]
    },
    {
     "data": {
      "text/html": [
       "<div><span class=\"Text-label\" style=\"display:inline-block; overflow:hidden; white-space:nowrap; text-overflow:ellipsis; min-width:0; max-width:15ex; vertical-align:middle; text-align:right\"></span>\n",
       "<progress style=\"width:60ex\" max=\"1858\" value=\"1858\" class=\"Progress-main\"/></progress>\n",
       "<span class=\"Progress-label\"><strong>100%</strong></span>\n",
       "<span class=\"Iteration-label\">1854/1858</span>\n",
       "<span class=\"Time-label\">[03:24<00:00, 0.11s/it]</span></div>"
      ],
      "text/plain": [
       "\u001b[A\u001b[2K\r",
       " [████████████████████████████████████████████████████████████] 1858/1858 [03:24<00:00, 0.11s/it]"
      ]
     },
     "metadata": {},
     "output_type": "display_data"
    },
    {
     "name": "stdout",
     "output_type": "stream",
     "text": [
      "1821  raw albums collected\n"
     ]
    }
   ],
   "source": [
    "# create client\n",
    "client = Spotify_client()\n",
    "\n",
    "#gather raw Spotify album data of albums from list of album names included in NeedleDrop data\n",
    "raw_albums = []\n",
    "flagged_albums = []\n",
    "missed_albums = [] #to look for commonalities in missed searches (maybe we can recover some of this data)\n",
    "print('Gathering raw album data')\n",
    "#for album, artists in zip(pb(nd['album'].tolist()),nd['artist'].tolist()):\n",
    "for index, row in pb(nd.iterrows(),len(nd.index)):\n",
    "    album = row['album']\n",
    "    artists = row['artist']\n",
    "    score = row['score']\n",
    "    \n",
    "    album = str(album).strip()\n",
    "    artists = artists.split(\", \")\n",
    "    a_temp = []\n",
    "    for a in artists:\n",
    "        a_temp.append(str(a).strip())\n",
    "    artists = a_temp\n",
    "    try:\n",
    "        flag, search = client.search_for_album(album,artists)\n",
    "        #successful search\n",
    "        if flag == 0:\n",
    "            search['score'] = score\n",
    "            raw_albums.append(search)\n",
    "        #flagged search (returned album might be incorrect)\n",
    "        elif flag == -1:\n",
    "            search['score'] = score\n",
    "            flagged_albums.append(((album,artists),search))\n",
    "        #failed search (no album returned matching search query)\n",
    "        elif flag == -2:\n",
    "            missed_albums.append((album,artists))\n",
    "    except Exception as e:\n",
    "        print('\\t',\"exception occured during search for\", album, \"by\", artists, \":\", str(e))\n",
    "raw_albums = [a for a in raw_albums if a] \n",
    "print(len(raw_albums) + len(flagged_albums) ,\" raw albums collected\")"
   ]
  },
  {
   "cell_type": "code",
   "execution_count": 8,
   "metadata": {},
   "outputs": [
    {
     "name": "stdout",
     "output_type": "stream",
     "text": [
      "37\n"
     ]
    }
   ],
   "source": [
    "#at this stage, the missed albums either weren't on spotify or had spelling errors\n",
    "#all spelling errors were corrected\n",
    "print(len(missed_albums))"
   ]
  },
  {
   "cell_type": "code",
   "execution_count": 10,
   "metadata": {
    "collapsed": true,
    "jupyter": {
     "outputs_hidden": true
    }
   },
   "outputs": [
    {
     "name": "stdout",
     "output_type": "stream",
     "text": [
      "input -> search result\n",
      "Magnus by ['Thou'] -> My Love Is Gone (MAGNUS Remix) by Jonas Aden >> "
     ]
    },
    {
     "name": "stdin",
     "output_type": "stream",
     "text": [
      "correct? [y/N]:  N\n"
     ]
    },
    {
     "name": "stdout",
     "output_type": "stream",
     "text": [
      "Tierra Whack by ['Tierra Whack'] -> So Sick So Sad (Tierra Whack \"Fuck Off\" Bootleg Rmx) by Lil 'Merica >> "
     ]
    },
    {
     "name": "stdin",
     "output_type": "stream",
     "text": [
      "correct? [y/N]:  N\n"
     ]
    },
    {
     "name": "stdout",
     "output_type": "stream",
     "text": [
      "Endless by ['Frank Ocean'] -> Our Endless Numbered Days by Iron & Wine >> "
     ]
    },
    {
     "name": "stdin",
     "output_type": "stream",
     "text": [
      "correct? [y/N]:  N\n"
     ]
    },
    {
     "name": "stdout",
     "output_type": "stream",
     "text": [
      "Godfather II by ['Wiley'] -> The Godfather I, II & III (Piano Version) by Ilary Barnes >> "
     ]
    },
    {
     "name": "stdin",
     "output_type": "stream",
     "text": [
      "correct? [y/N]:  N\n"
     ]
    },
    {
     "name": "stdout",
     "output_type": "stream",
     "text": [
      "8 by ['Hop Along'] -> 8 Letters by Why Don't We >> "
     ]
    },
    {
     "name": "stdin",
     "output_type": "stream",
     "text": [
      "correct? [y/N]:  N\n"
     ]
    },
    {
     "name": "stdout",
     "output_type": "stream",
     "text": [
      "? by ['XXXTENTACION'] -> The Album by Teyana Taylor >> "
     ]
    },
    {
     "name": "stdin",
     "output_type": "stream",
     "text": [
      "correct? [y/N]:  N\n"
     ]
    },
    {
     "name": "stdout",
     "output_type": "stream",
     "text": [
      "Black Panther The Album by ['Various Artists'] -> Black Panther The Album Music From And Inspired By by Kendrick Lamar >> "
     ]
    },
    {
     "name": "stdin",
     "output_type": "stream",
     "text": [
      "correct? [y/N]:  y\n"
     ]
    },
    {
     "name": "stdout",
     "output_type": "stream",
     "text": [
      "Flames Within Flames by ['Neurosis'] -> Flames Within (Radio Edit) by AcroniX >> "
     ]
    },
    {
     "name": "stdin",
     "output_type": "stream",
     "text": [
      "correct? [y/N]:  N\n"
     ]
    },
    {
     "name": "stdout",
     "output_type": "stream",
     "text": [
      "Rain Temple by ['2 8 1 4'] -> December 2019: Rain Recordings For Ultimate Relaxation by White Noise Relaxation >> "
     ]
    },
    {
     "name": "stdin",
     "output_type": "stream",
     "text": [
      "correct? [y/N]:  N\n"
     ]
    },
    {
     "name": "stdout",
     "output_type": "stream",
     "text": [
      "99.90% by ['Kaytranada'] -> First Take Fridays, Vol. 9 (Episodes 90-99) by Jonathan Brader >> "
     ]
    },
    {
     "name": "stdin",
     "output_type": "stream",
     "text": [
      "correct? [y/N]:  N\n"
     ]
    },
    {
     "name": "stdout",
     "output_type": "stream",
     "text": [
      "The Colour In Everything by ['James Blake'] -> The Believer by Everything In Colour >> "
     ]
    },
    {
     "name": "stdin",
     "output_type": "stream",
     "text": [
      "correct? [y/N]:  N\n"
     ]
    },
    {
     "name": "stdout",
     "output_type": "stream",
     "text": [
      "Space Heads by ['VARIOUS ARTISTS'] -> Tuning the Space Remixes by Groove Genies >> "
     ]
    },
    {
     "name": "stdin",
     "output_type": "stream",
     "text": [
      "correct? [y/N]:  N\n"
     ]
    },
    {
     "name": "stdout",
     "output_type": "stream",
     "text": [
      "Product by ['Sophie'] -> The Essential Boogie Down Productions / KRS-One by Boogie Down Productions >> "
     ]
    },
    {
     "name": "stdin",
     "output_type": "stream",
     "text": [
      "correct? [y/N]:  N\n"
     ]
    },
    {
     "name": "stdout",
     "output_type": "stream",
     "text": [
      "Divers by ['Joanna Newsom'] -> Divers by CNC >> "
     ]
    },
    {
     "name": "stdin",
     "output_type": "stream",
     "text": [
      "correct? [y/N]:  N\n"
     ]
    },
    {
     "name": "stdout",
     "output_type": "stream",
     "text": [
      "It's Better This Way by ['Big K.R.I.T.'] -> It's Better This Way by Remote Viewing >> "
     ]
    },
    {
     "name": "stdin",
     "output_type": "stream",
     "text": [
      "correct? [y/N]:  N\n"
     ]
    },
    {
     "name": "stdout",
     "output_type": "stream",
     "text": [
      "The New CALassic by ['Cal Chuchesta'] -> The New Harlem Funk - Gotta Take Your Love (2 Original Classic Albums) by Flowchart >> "
     ]
    },
    {
     "name": "stdin",
     "output_type": "stream",
     "text": [
      "correct? [y/N]:  N\n"
     ]
    },
    {
     "name": "stdout",
     "output_type": "stream",
     "text": [
      "Wave[s] by ['Mick Jenkins'] -> Waves of the Sea, Ocean and Lakes by Ocean Waves For Sleep >> "
     ]
    },
    {
     "name": "stdin",
     "output_type": "stream",
     "text": [
      "correct? [y/N]:  N\n"
     ]
    },
    {
     "name": "stdout",
     "output_type": "stream",
     "text": [
      "Simple Songs by [\"Jim O'Rourke\"] -> Simple Songs Of Freedom: The Tim Hardin Collection by Tim Hardin >> "
     ]
    },
    {
     "name": "stdin",
     "output_type": "stream",
     "text": [
      "correct? [y/N]:  N\n"
     ]
    },
    {
     "name": "stdout",
     "output_type": "stream",
     "text": [
      "TĂU by ['Negură Bunget'] -> God Taught Me by Zauntee >> "
     ]
    },
    {
     "name": "stdin",
     "output_type": "stream",
     "text": [
      "correct? [y/N]:  N\n"
     ]
    },
    {
     "name": "stdout",
     "output_type": "stream",
     "text": [
      "A Special Episode Of by ['Open Mike Eagle'] -> ASOT 984 - A State Of Trance Episode 984 (Who's Afraid Of 138?! Special) by Armin van Buuren >> "
     ]
    },
    {
     "name": "stdin",
     "output_type": "stream",
     "text": [
      "correct? [y/N]:  N\n"
     ]
    },
    {
     "name": "stdout",
     "output_type": "stream",
     "text": [
      "Viet Cong by ['Viet Cong'] -> Viet-Nam : Théâtre populaire du nord (Hat Cheo) by Hung Dang Cong >> "
     ]
    },
    {
     "name": "stdin",
     "output_type": "stream",
     "text": [
      "correct? [y/N]:  N\n"
     ]
    },
    {
     "name": "stdout",
     "output_type": "stream",
     "text": [
      "The Church by ['Mr. Oizo'] -> Let The Church Say Amen (Radio Edit) by Andrae Crouch >> "
     ]
    },
    {
     "name": "stdin",
     "output_type": "stream",
     "text": [
      "correct? [y/N]:  N\n"
     ]
    },
    {
     "name": "stdout",
     "output_type": "stream",
     "text": [
      "Seeds by ['TVOTR'] -> Seeds by TV On The Radio >> "
     ]
    },
    {
     "name": "stdin",
     "output_type": "stream",
     "text": [
      "correct? [y/N]:  N\n"
     ]
    },
    {
     "name": "stdout",
     "output_type": "stream",
     "text": [
      "Rhythm by ['Wildbirds & Peacedrums'] -> People's Instinctive Travels and the Paths of Rhythm (25th Anniversary Edition) by A Tribe Called Quest >> "
     ]
    },
    {
     "name": "stdin",
     "output_type": "stream",
     "text": [
      "correct? [y/N]:  N\n"
     ]
    },
    {
     "name": "stdout",
     "output_type": "stream",
     "text": [
      "INSA by ['Mellowhype'] -> Alphabet Insanity 2 by Mac Lethal >> "
     ]
    },
    {
     "name": "stdin",
     "output_type": "stream",
     "text": [
      "correct? [y/N]:  N\n"
     ]
    },
    {
     "name": "stdout",
     "output_type": "stream",
     "text": [
      "No More by ['Shlohmo & Jeremih'] -> Nothing More by Nothing More >> "
     ]
    },
    {
     "name": "stdin",
     "output_type": "stream",
     "text": [
      "correct? [y/N]:  N\n"
     ]
    },
    {
     "name": "stdout",
     "output_type": "stream",
     "text": [
      "Faces by ['Mac Miller'] -> The Best of Faces: Good Boys When They're Asleep by Faces >> "
     ]
    },
    {
     "name": "stdin",
     "output_type": "stream",
     "text": [
      "correct? [y/N]:  N\n"
     ]
    },
    {
     "name": "stdout",
     "output_type": "stream",
     "text": [
      "Christmas Island by ['Andrew Jackson Jihad'] -> Christmas Island by Leon Redbone >> "
     ]
    },
    {
     "name": "stdin",
     "output_type": "stream",
     "text": [
      "correct? [y/N]:  N\n"
     ]
    },
    {
     "name": "stdout",
     "output_type": "stream",
     "text": [
      "P.T.S.D. by ['Pharoahe Monch'] -> Sleeping Music: Calm Music to Help You Sleep, Natural Sleep Aid and Relaxing Piano for Sleep Music by Deep Sleep Music Collective >> "
     ]
    },
    {
     "name": "stdin",
     "output_type": "stream",
     "text": [
      "correct? [y/N]:  N\n"
     ]
    },
    {
     "name": "stdout",
     "output_type": "stream",
     "text": [
      "Blue Chips 2 by ['Action Bronson & Party Supplies'] -> Blue and White - 2013 by The Buffalo Chips >> "
     ]
    },
    {
     "name": "stdin",
     "output_type": "stream",
     "text": [
      "correct? [y/N]:  N\n"
     ]
    },
    {
     "name": "stdout",
     "output_type": "stream",
     "text": [
      "BetterOffDEAD by ['Flatbush Zombies'] -> Betteroffdead. by sushimusor >> "
     ]
    },
    {
     "name": "stdin",
     "output_type": "stream",
     "text": [
      "correct? [y/N]:  N\n"
     ]
    },
    {
     "name": "stdout",
     "output_type": "stream",
     "text": [
      "GNK by ['YC The Cynic'] -> DoD (GnkMix) by GB Lotto >> "
     ]
    },
    {
     "name": "stdin",
     "output_type": "stream",
     "text": [
      "correct? [y/N]:  N\n"
     ]
    },
    {
     "name": "stdout",
     "output_type": "stream",
     "text": [
      "Endless Night by ['TOAD'] -> Endless Night by Kent Loon >> "
     ]
    },
    {
     "name": "stdin",
     "output_type": "stream",
     "text": [
      "correct? [y/N]:  N\n"
     ]
    },
    {
     "name": "stdout",
     "output_type": "stream",
     "text": [
      "Kismet by [\"Mr. Muthafuckin' eXquire\"] -> Kismet by Buddha Trixie >> "
     ]
    },
    {
     "name": "stdin",
     "output_type": "stream",
     "text": [
      "correct? [y/N]:  N\n"
     ]
    },
    {
     "name": "stdout",
     "output_type": "stream",
     "text": [
      "Howl by ['This Routine Is Hell'] -> Howlin' Wolf by Howlin' Wolf >> "
     ]
    },
    {
     "name": "stdin",
     "output_type": "stream",
     "text": [
      "correct? [y/N]:  N\n"
     ]
    },
    {
     "name": "stdout",
     "output_type": "stream",
     "text": [
      "The Eulogy by ['Cakes Da Killa'] -> The Eulogy by Dj Magicmike-Spud >> "
     ]
    },
    {
     "name": "stdin",
     "output_type": "stream",
     "text": [
      "correct? [y/N]:  N\n"
     ]
    },
    {
     "name": "stdout",
     "output_type": "stream",
     "text": [
      "Floral Shoppe by ['Macintosh Plus'] -> Floral Shoppe 2 by THE DARKEST FUTURE >> "
     ]
    },
    {
     "name": "stdin",
     "output_type": "stream",
     "text": [
      "correct? [y/N]:  N\n"
     ]
    },
    {
     "name": "stdout",
     "output_type": "stream",
     "text": [
      "Duality by ['Captain Murphy'] -> DUALITY by WE ARE FURY >> "
     ]
    },
    {
     "name": "stdin",
     "output_type": "stream",
     "text": [
      "correct? [y/N]:  N\n"
     ]
    },
    {
     "name": "stdout",
     "output_type": "stream",
     "text": [
      "(III) by ['Crystal Castles'] -> Revenge Of The Dreamers III by Dreamville >> "
     ]
    },
    {
     "name": "stdin",
     "output_type": "stream",
     "text": [
      "correct? [y/N]:  N\n"
     ]
    },
    {
     "name": "stdout",
     "output_type": "stream",
     "text": [
      "3rd by ['Hoax'] -> EX'ACT - The 3rd Album by EXO >> "
     ]
    },
    {
     "name": "stdin",
     "output_type": "stream",
     "text": [
      "correct? [y/N]:  N\n"
     ]
    },
    {
     "name": "stdout",
     "output_type": "stream",
     "text": [
      "Lord$ Never Worry by ['A$AP Mob'] -> Lords Never Worry by Pageant Queen >> "
     ]
    },
    {
     "name": "stdin",
     "output_type": "stream",
     "text": [
      "correct? [y/N]:  N\n"
     ]
    },
    {
     "name": "stdout",
     "output_type": "stream",
     "text": [
      "Instinct by ['Niki and the Dove'] -> Ultra Instinct Mastered by Friedrich Habetler >> "
     ]
    },
    {
     "name": "stdin",
     "output_type": "stream",
     "text": [
      "correct? [y/N]:  N\n"
     ]
    },
    {
     "name": "stdout",
     "output_type": "stream",
     "text": [
      "No Idols by ['Domo Genesis'] -> No False Idols, Chapter 1 by Neo Fresco >> "
     ]
    },
    {
     "name": "stdin",
     "output_type": "stream",
     "text": [
      "correct? [y/N]:  N\n"
     ]
    },
    {
     "name": "stdout",
     "output_type": "stream",
     "text": [
      "Hair by ['Ty Segall & White Fence'] -> Bad Hair Day by \"Weird Al\" Yankovic >> "
     ]
    },
    {
     "name": "stdin",
     "output_type": "stream",
     "text": [
      "correct? [y/N]:  N\n"
     ]
    },
    {
     "name": "stdout",
     "output_type": "stream",
     "text": [
      "Americana by ['Neil Young & Crazy Horse'] -> Americana by Gregoire Maret >> "
     ]
    },
    {
     "name": "stdin",
     "output_type": "stream",
     "text": [
      "correct? [y/N]:  N\n"
     ]
    },
    {
     "name": "stdout",
     "output_type": "stream",
     "text": [
      "Cancer for Cure by ['El-P'] -> Cure For Cancer by Meezzy Trappo >> "
     ]
    },
    {
     "name": "stdin",
     "output_type": "stream",
     "text": [
      "correct? [y/N]:  N\n"
     ]
    },
    {
     "name": "stdout",
     "output_type": "stream",
     "text": [
      "R.A.P. Music by ['Killer Mike'] -> Sleeping Music: Calm Music to Help You Sleep, Natural Sleep Aid and Relaxing Piano for Sleep Music by Deep Sleep Music Collective >> "
     ]
    },
    {
     "name": "stdin",
     "output_type": "stream",
     "text": [
      "correct? [y/N]:  N\n"
     ]
    },
    {
     "name": "stdout",
     "output_type": "stream",
     "text": [
      "OFF! by ['OFF!'] -> Better off Dead by Josh A >> "
     ]
    },
    {
     "name": "stdin",
     "output_type": "stream",
     "text": [
      "correct? [y/N]:  N\n"
     ]
    },
    {
     "name": "stdout",
     "output_type": "stream",
     "text": [
      "Dweller On the Threshold by ['Dweller On the Threshold'] -> The Dweller on the Threshold by Starbirthed >> "
     ]
    },
    {
     "name": "stdin",
     "output_type": "stream",
     "text": [
      "correct? [y/N]:  N\n"
     ]
    },
    {
     "name": "stdout",
     "output_type": "stream",
     "text": [
      "Narrow by ['Soap&Skin'] -> Chutes Too Narrow by The Shins >> "
     ]
    },
    {
     "name": "stdin",
     "output_type": "stream",
     "text": [
      "correct? [y/N]:  N\n"
     ]
    },
    {
     "name": "stdout",
     "output_type": "stream",
     "text": [
      "Kings and Them by ['Evian Christ'] -> Humperdinck - Sleeping Beauty - Excerpts From 'Kings Children' - Fantasy On A Theme From 'Hansel And Gretel' by Engelbert Humperdinck >> "
     ]
    },
    {
     "name": "stdin",
     "output_type": "stream",
     "text": [
      "correct? [y/N]:  N\n"
     ]
    },
    {
     "name": "stdout",
     "output_type": "stream",
     "text": [
      "When You're Gone by ['Lapalux'] -> When You're Gone by Jalal Aliniya >> "
     ]
    },
    {
     "name": "stdin",
     "output_type": "stream",
     "text": [
      "correct? [y/N]:  N\n"
     ]
    },
    {
     "name": "stdout",
     "output_type": "stream",
     "text": [
      "I.V. by ['Loma Prieta'] -> Luv Is Rage 2 by Lil Uzi Vert >> "
     ]
    },
    {
     "name": "stdin",
     "output_type": "stream",
     "text": [
      "correct? [y/N]:  N\n"
     ]
    },
    {
     "name": "stdout",
     "output_type": "stream",
     "text": [
      "The Horror by ['Pop. 1280'] -> Getting There From Here (with Todd Edwards) (Miami Horror & Lazywax Remix) by Poolside >> "
     ]
    },
    {
     "name": "stdin",
     "output_type": "stream",
     "text": [
      "correct? [y/N]:  N\n"
     ]
    },
    {
     "name": "stdout",
     "output_type": "stream",
     "text": [
      "Echoes of Silence by ['The Weeknd'] -> Echoes Of Silence by Thierry Lang >> "
     ]
    },
    {
     "name": "stdin",
     "output_type": "stream",
     "text": [
      "correct? [y/N]:  N\n"
     ]
    },
    {
     "name": "stdout",
     "output_type": "stream",
     "text": [
      "Live. Love. A$AP by ['ASAP Rocky'] -> Wondrous Love (Live) by BYU Women's Chorus >> "
     ]
    },
    {
     "name": "stdin",
     "output_type": "stream",
     "text": [
      "correct? [y/N]:  N\n"
     ]
    },
    {
     "name": "stdout",
     "output_type": "stream",
     "text": [
      "Knife Man by ['Andrew Jackson Jihad'] -> Knife by Manos Fikapa >> "
     ]
    },
    {
     "name": "stdin",
     "output_type": "stream",
     "text": [
      "correct? [y/N]:  N\n"
     ]
    },
    {
     "name": "stdout",
     "output_type": "stream",
     "text": [
      "Room(s) by ['Machinedrum'] -> Room For Squares by John Mayer >> "
     ]
    },
    {
     "name": "stdin",
     "output_type": "stream",
     "text": [
      "correct? [y/N]:  N\n"
     ]
    },
    {
     "name": "stdout",
     "output_type": "stream",
     "text": [
      "Lover's Holiday by ['Theophilus London'] -> Lover's Holiday by Stephanie Cooke >> "
     ]
    },
    {
     "name": "stdin",
     "output_type": "stream",
     "text": [
      "correct? [y/N]:  N\n"
     ]
    },
    {
     "name": "stdout",
     "output_type": "stream",
     "text": [
      "R.E.K.S. by ['Reks'] -> Mozart's Eine Kleine Nachtmusik 4th M. (Rondo) by Wolfgang Amadeus Mozart >> "
     ]
    },
    {
     "name": "stdin",
     "output_type": "stream",
     "text": [
      "correct? [y/N]:  N\n"
     ]
    },
    {
     "name": "stdout",
     "output_type": "stream",
     "text": [
      "Unlearn by ['Fergus & Geronimo'] -> Learning How to Unlearn by Dogtooth & Nail >> "
     ]
    },
    {
     "name": "stdin",
     "output_type": "stream",
     "text": [
      "correct? [y/N]:  N\n"
     ]
    },
    {
     "name": "stdout",
     "output_type": "stream",
     "text": [
      "Kills by ['jj'] -> Addiction Kills by Jelly Roll >> "
     ]
    },
    {
     "name": "stdin",
     "output_type": "stream",
     "text": [
      "correct? [y/N]:  N\n"
     ]
    },
    {
     "name": "stdout",
     "output_type": "stream",
     "text": [
      "Bastard by ['Tyler', 'The Creator'] -> \"God, Forgive These Bastards\" Songs From The Forgotten Life of Henry Turner by The Taxpayers >> "
     ]
    },
    {
     "name": "stdin",
     "output_type": "stream",
     "text": [
      "correct? [y/N]:  N\n"
     ]
    },
    {
     "name": "stdout",
     "output_type": "stream",
     "text": [
      "First Four by ['Off!'] -> First Family 4 Life by M.O.P. >> "
     ]
    },
    {
     "name": "stdin",
     "output_type": "stream",
     "text": [
      "correct? [y/N]:  N\n"
     ]
    },
    {
     "name": "stdout",
     "output_type": "stream",
     "text": [
      "All Day by ['Girl Talk'] -> Father of All... by Green Day >> "
     ]
    },
    {
     "name": "stdin",
     "output_type": "stream",
     "text": [
      "correct? [y/N]:  N\n"
     ]
    },
    {
     "name": "stdout",
     "output_type": "stream",
     "text": [
      "Maya (/\\/\\ /\\ Y /\\) by ['MIA'] -> Migz & Maya by Migz & Maya >> "
     ]
    },
    {
     "name": "stdin",
     "output_type": "stream",
     "text": [
      "correct? [y/N]:  N\n"
     ]
    },
    {
     "name": "stdout",
     "output_type": "stream",
     "text": [
      "Pomegranates by ['Various Artists'] -> Winter Pomegranates by Patrice Ruane >> "
     ]
    },
    {
     "name": "stdin",
     "output_type": "stream",
     "text": [
      "correct? [y/N]:  N\n"
     ]
    },
    {
     "name": "stdout",
     "output_type": "stream",
     "text": [
      "Go by ['Jonsi'] -> It Was Good Until It Wasn't by Kehlani >> "
     ]
    },
    {
     "name": "stdin",
     "output_type": "stream",
     "text": [
      "correct? [y/N]:  N\n"
     ]
    }
   ],
   "source": [
    "#There are still some flagged albums after the search algorithm resolves\n",
    "#This is an optional checker that allows for manual verification of flagged albums\n",
    "print(\"input -> search result\")\n",
    "for album in flagged_albums:\n",
    "    print(album[0][0], \"by\", album [0][1], \"->\", album[1]['name'], \"by\", album[1]['artists'][0]['name'], end=\" >> \")\n",
    "    ans = input (\"correct? [y/N]: \")\n",
    "    while ans != \"y\" and ans != \"N\":\n",
    "        ans = input(\"invalid input, enter [y/N]: \")\n",
    "    if ans == \"y\":\n",
    "        raw_albums.append(album[1])\n",
    "        flagged_albums.remove(album)\n",
    "    else:\n",
    "        missed_albums.append(album[1])"
   ]
  },
  {
   "cell_type": "code",
   "execution_count": 8,
   "metadata": {
    "jupyter": {
     "source_hidden": true
    }
   },
   "outputs": [],
   "source": [
    "#prepare CSV to hold album information\n",
    "ndcsv = 'needledrop_data.csv'\n",
    "csvids = set()\n",
    "cols = []\n",
    "ndd = open(ndcsv, \"a\")\n",
    "if getsize(ndcsv) == 0:\n",
    "    alb = Album(raw_albums[0],client)\n",
    "    alb.dataframe()\n",
    "    df = alb.df.describe()\n",
    "    df.drop(labels=['count','min','max','25%','75%'], axis='index', inplace=True)\n",
    "    cols = ['id','album','score','artists','year','track count','duration']\n",
    "    #get column names\n",
    "    for row in df.index.values.tolist():\n",
    "        for col in df.columns:\n",
    "            cols.append(col + \" \" + row)\n",
    "            \n",
    "    wr = csv.writer(ndd, dialect='excel')\n",
    "    wr.writerow(cols)\n",
    "    ndd.close()\n",
    "        \n",
    "    \n",
    "else:\n",
    "    ndd.close()\n",
    "    #get set of unique id's already loaded into csv\n",
    "    with open(ndcsv, \"r\", encoding = \"utf-8\") as ndd:\n",
    "        reader = csv.reader(ndd)\n",
    "        for line in reader:\n",
    "            if line and line[0] != 'id':\n",
    "                csvids.add(line[0])"
   ]
  },
  {
   "cell_type": "code",
   "execution_count": 9,
   "metadata": {},
   "outputs": [],
   "source": [
    "#this is a substitute cell for the cell above meant to keep track of \n",
    "#which albums have been placed in the database. For regular usage run the cell above instead of this one\n",
    "ndcsv = 'database_ids.csv'\n",
    "csvids = set()\n",
    "cols = ['id']\n",
    "ndd = open(ndcsv, \"a\")\n",
    "if getsize(ndcsv) == 0:\n",
    "    wr = csv.writer(ndd, dialect='excel')\n",
    "    wr.writerow(cols)\n",
    "    ndd.close()\n",
    "else:\n",
    "    ndd.close()\n",
    "    with open(ndcsv, \"r\", encoding = \"utf-8\") as ndd:\n",
    "        reader = csv.reader(ndd)\n",
    "        for line in reader:\n",
    "            if line and line[0] != 'id':\n",
    "                csvids.add(line[0])"
   ]
  },
  {
   "cell_type": "code",
   "execution_count": 10,
   "metadata": {},
   "outputs": [
    {
     "name": "stdin",
     "output_type": "stream",
     "text": [
      "Username:  jaxonmcneil\n"
     ]
    },
    {
     "name": "stdout",
     "output_type": "stream",
     "text": [
      "Password: "
     ]
    },
    {
     "name": "stdin",
     "output_type": "stream",
     "text": [
      " ················\n"
     ]
    }
   ],
   "source": [
    "#prepare database to hold song/artist/album data\n",
    "#login\n",
    "db = DB_Client()\n"
   ]
  },
  {
   "cell_type": "code",
   "execution_count": 11,
   "metadata": {},
   "outputs": [
    {
     "name": "stdout",
     "output_type": "stream",
     "text": [
      "WARNING, RUNNING THIS WILL DELETE THE SCHEMA\n"
     ]
    },
    {
     "name": "stdin",
     "output_type": "stream",
     "text": [
      "CONFIRM? (y/n):  n\n"
     ]
    }
   ],
   "source": [
    "#run this block to rebuild the schema\n",
    "print(\"WARNING, RUNNING THIS WILL DELETE THE SCHEMA\")\n",
    "answer = input(\"CONFIRM? (y/n): \")\n",
    "if answer == 'y':\n",
    "        db.refresh_tables()\n",
    "        print(\"schema restarted!\")"
   ]
  },
  {
   "cell_type": "code",
   "execution_count": null,
   "metadata": {},
   "outputs": [
    {
     "name": "stdout",
     "output_type": "stream",
     "text": [
      "initializing albums and tracks\n"
     ]
    },
    {
     "data": {
      "text/html": [
       "<div><span class=\"Text-label\" style=\"display:inline-block; overflow:hidden; white-space:nowrap; text-overflow:ellipsis; min-width:0; max-width:15ex; vertical-align:middle; text-align:right\"></span>\n",
       "<progress style=\"width:60ex\" max=\"1748\" value=\"680\" class=\"Progress-main\"/></progress>\n",
       "<span class=\"Progress-label\"><strong>39%</strong></span>\n",
       "<span class=\"Iteration-label\">680/1748</span>\n",
       "<span class=\"Time-label\">[37:07<00:10, 3.28s/it]</span></div>"
      ],
      "text/plain": [
       "\u001b[A\u001b[A\u001b[2K\r",
       " [███████████████████████#####################################] 680/1748 [37:07<00:10, 3.28s/it]"
      ]
     },
     "metadata": {},
     "output_type": "display_data"
    },
    {
     "data": {
      "text/html": [
       "<div><span class=\"Text-label\" style=\"display:inline-block; overflow:hidden; white-space:nowrap; text-overflow:ellipsis; min-width:15ex; max-width:15ex; vertical-align:middle; text-align:right\">More Life by Drake</span>\n",
       "<progress style=\"width:45ex\" max=\"22\" value=\"22\" class=\"Progress-main\"/></progress>\n",
       "<span class=\"Progress-label\"><strong>100%</strong></span>\n",
       "<span class=\"Iteration-label\">22/22</span>\n",
       "<span class=\"Time-label\">[00:14<00:00, 0.62s/it]</span></div>"
      ],
      "text/plain": [
       "\u001b[A\u001b[2K\r",
       "More Life by Dr [█████████████████████████████████████████████] 22/22 [00:14<00:00, 0.62s/it]"
      ]
     },
     "metadata": {},
     "output_type": "display_data"
    },
    {
     "data": {
      "text/html": [
       "<div><span class=\"Text-label\" style=\"display:inline-block; overflow:hidden; white-space:nowrap; text-overflow:ellipsis; min-width:15ex; max-width:15ex; vertical-align:middle; text-align:right\">Rather You Than Me by Rick Ross</span>\n",
       "<progress style=\"width:45ex\" max=\"14\" value=\"14\" class=\"Progress-main\"/></progress>\n",
       "<span class=\"Progress-label\"><strong>100%</strong></span>\n",
       "<span class=\"Iteration-label\">14/14</span>\n",
       "<span class=\"Time-label\">[00:10<00:02, 0.71s/it]</span></div>"
      ],
      "text/plain": [
       "\u001b[A\u001b[2K\r",
       "Rather You Than [█████████████████████████████████████████████] 14/14 [00:10<00:02, 0.71s/it]"
      ]
     },
     "metadata": {},
     "output_type": "display_data"
    },
    {
     "data": {
      "text/html": [
       "<div><span class=\"Text-label\" style=\"display:inline-block; overflow:hidden; white-space:nowrap; text-overflow:ellipsis; min-width:15ex; max-width:15ex; vertical-align:middle; text-align:right\">PACKS by Your Old Droog</span>\n",
       "<progress style=\"width:45ex\" max=\"14\" value=\"14\" class=\"Progress-main\"/></progress>\n",
       "<span class=\"Progress-label\"><strong>100%</strong></span>\n",
       "<span class=\"Iteration-label\">14/14</span>\n",
       "<span class=\"Time-label\">[00:10<00:01, 0.75s/it]</span></div>"
      ],
      "text/plain": [
       "\u001b[A\u001b[2K\r",
       "PACKS by Your O [█████████████████████████████████████████████] 14/14 [00:10<00:01, 0.75s/it]"
      ]
     },
     "metadata": {},
     "output_type": "display_data"
    },
    {
     "data": {
      "text/html": [
       "<div><span class=\"Text-label\" style=\"display:inline-block; overflow:hidden; white-space:nowrap; text-overflow:ellipsis; min-width:15ex; max-width:15ex; vertical-align:middle; text-align:right\">Semper Femina by Laura Marling</span>\n",
       "<progress style=\"width:45ex\" max=\"9\" value=\"9\" class=\"Progress-main\"/></progress>\n",
       "<span class=\"Progress-label\"><strong>100%</strong></span>\n",
       "<span class=\"Iteration-label\">9/9</span>\n",
       "<span class=\"Time-label\">[00:07<00:01, 0.76s/it]</span></div>"
      ],
      "text/plain": [
       "\u001b[A\u001b[2K\r",
       "Semper Femina b [█████████████████████████████████████████████] 9/9 [00:07<00:01, 0.76s/it]"
      ]
     },
     "metadata": {},
     "output_type": "display_data"
    },
    {
     "data": {
      "text/html": [
       "<div><span class=\"Text-label\" style=\"display:inline-block; overflow:hidden; white-space:nowrap; text-overflow:ellipsis; min-width:15ex; max-width:15ex; vertical-align:middle; text-align:right\">Brutalism by IDLES</span>\n",
       "<progress style=\"width:45ex\" max=\"13\" value=\"13\" class=\"Progress-main\"/></progress>\n",
       "<span class=\"Progress-label\"><strong>100%</strong></span>\n",
       "<span class=\"Iteration-label\">13/13</span>\n",
       "<span class=\"Time-label\">[00:07<00:00, 0.54s/it]</span></div>"
      ],
      "text/plain": [
       "\u001b[A\u001b[2K\r",
       "Brutalism by ID [█████████████████████████████████████████████] 13/13 [00:07<00:00, 0.54s/it]"
      ]
     },
     "metadata": {},
     "output_type": "display_data"
    },
    {
     "data": {
      "text/html": [
       "<div><span class=\"Text-label\" style=\"display:inline-block; overflow:hidden; white-space:nowrap; text-overflow:ellipsis; min-width:15ex; max-width:15ex; vertical-align:middle; text-align:right\">World Eater by Blanck Mass</span>\n",
       "<progress style=\"width:45ex\" max=\"7\" value=\"7\" class=\"Progress-main\"/></progress>\n",
       "<span class=\"Progress-label\"><strong>100%</strong></span>\n",
       "<span class=\"Iteration-label\">7/7</span>\n",
       "<span class=\"Time-label\">[00:05<00:01, 0.78s/it]</span></div>"
      ],
      "text/plain": [
       "\u001b[A\u001b[2K\r",
       "World Eater by  [█████████████████████████████████████████████] 7/7 [00:05<00:01, 0.78s/it]"
      ]
     },
     "metadata": {},
     "output_type": "display_data"
    },
    {
     "data": {
      "text/html": [
       "<div><span class=\"Text-label\" style=\"display:inline-block; overflow:hidden; white-space:nowrap; text-overflow:ellipsis; min-width:15ex; max-width:15ex; vertical-align:middle; text-align:right\">Number 1 Angel by Charli XCX</span>\n",
       "<progress style=\"width:45ex\" max=\"10\" value=\"10\" class=\"Progress-main\"/></progress>\n",
       "<span class=\"Progress-label\"><strong>100%</strong></span>\n",
       "<span class=\"Iteration-label\">10/10</span>\n",
       "<span class=\"Time-label\">[00:06<00:00, 0.60s/it]</span></div>"
      ],
      "text/plain": [
       "\u001b[A\u001b[2K\r",
       "Number 1 Angel  [█████████████████████████████████████████████] 10/10 [00:06<00:00, 0.60s/it]"
      ]
     },
     "metadata": {},
     "output_type": "display_data"
    },
    {
     "data": {
      "text/html": [
       "<div><span class=\"Text-label\" style=\"display:inline-block; overflow:hidden; white-space:nowrap; text-overflow:ellipsis; min-width:15ex; max-width:15ex; vertical-align:middle; text-align:right\">÷ (Deluxe) by Ed Sheeran</span>\n",
       "<progress style=\"width:45ex\" max=\"16\" value=\"16\" class=\"Progress-main\"/></progress>\n",
       "<span class=\"Progress-label\"><strong>100%</strong></span>\n",
       "<span class=\"Iteration-label\">16/16</span>\n",
       "<span class=\"Time-label\">[00:11<00:01, 0.70s/it]</span></div>"
      ],
      "text/plain": [
       "\u001b[A\u001b[2K\r",
       "÷ (Deluxe) by E [█████████████████████████████████████████████] 16/16 [00:11<00:01, 0.70s/it]"
      ]
     },
     "metadata": {},
     "output_type": "display_data"
    },
    {
     "data": {
      "text/html": [
       "<div><span class=\"Text-label\" style=\"display:inline-block; overflow:hidden; white-space:nowrap; text-overflow:ellipsis; min-width:15ex; max-width:15ex; vertical-align:middle; text-align:right\">English Tapas by Sleaford Mods</span>\n",
       "<progress style=\"width:45ex\" max=\"12\" value=\"12\" class=\"Progress-main\"/></progress>\n",
       "<span class=\"Progress-label\"><strong>100%</strong></span>\n",
       "<span class=\"Iteration-label\">12/12</span>\n",
       "<span class=\"Time-label\">[00:07<00:00, 0.62s/it]</span></div>"
      ],
      "text/plain": [
       "\u001b[A\u001b[2K\r",
       "English Tapas b [█████████████████████████████████████████████] 12/12 [00:07<00:00, 0.62s/it]"
      ]
     },
     "metadata": {},
     "output_type": "display_data"
    },
    {
     "data": {
      "text/html": [
       "<div><span class=\"Text-label\" style=\"display:inline-block; overflow:hidden; white-space:nowrap; text-overflow:ellipsis; min-width:15ex; max-width:15ex; vertical-align:middle; text-align:right\">FORGET by Xiu Xiu</span>\n",
       "<progress style=\"width:45ex\" max=\"10\" value=\"10\" class=\"Progress-main\"/></progress>\n",
       "<span class=\"Progress-label\"><strong>100%</strong></span>\n",
       "<span class=\"Iteration-label\">10/10</span>\n",
       "<span class=\"Time-label\">[00:05<00:01, 0.52s/it]</span></div>"
      ],
      "text/plain": [
       "\u001b[A\u001b[2K\r",
       "FORGET by Xiu X [█████████████████████████████████████████████] 10/10 [00:05<00:01, 0.52s/it]"
      ]
     },
     "metadata": {},
     "output_type": "display_data"
    },
    {
     "data": {
      "text/html": [
       "<div><span class=\"Text-label\" style=\"display:inline-block; overflow:hidden; white-space:nowrap; text-overflow:ellipsis; min-width:15ex; max-width:15ex; vertical-align:middle; text-align:right\">Flying Microtonal Banana by King Gizzard & The Lizard Wizard</span>\n",
       "<progress style=\"width:45ex\" max=\"9\" value=\"9\" class=\"Progress-main\"/></progress>\n",
       "<span class=\"Progress-label\"><strong>100%</strong></span>\n",
       "<span class=\"Iteration-label\">9/9</span>\n",
       "<span class=\"Time-label\">[00:05<00:00, 0.55s/it]</span></div>"
      ],
      "text/plain": [
       "\u001b[A\u001b[2K\r",
       "Flying Microton [█████████████████████████████████████████████] 9/9 [00:05<00:00, 0.55s/it]"
      ]
     },
     "metadata": {},
     "output_type": "display_data"
    },
    {
     "data": {
      "text/html": [
       "<div><span class=\"Text-label\" style=\"display:inline-block; overflow:hidden; white-space:nowrap; text-overflow:ellipsis; min-width:15ex; max-width:15ex; vertical-align:middle; text-align:right\">Dirty Projectors by Dirty Projectors</span>\n",
       "<progress style=\"width:45ex\" max=\"9\" value=\"9\" class=\"Progress-main\"/></progress>\n",
       "<span class=\"Progress-label\"><strong>100%</strong></span>\n",
       "<span class=\"Iteration-label\">9/9</span>\n",
       "<span class=\"Time-label\">[00:05<00:01, 0.61s/it]</span></div>"
      ],
      "text/plain": [
       "\u001b[A\u001b[2K\r",
       "Dirty Projector [█████████████████████████████████████████████] 9/9 [00:05<00:01, 0.61s/it]"
      ]
     },
     "metadata": {},
     "output_type": "display_data"
    },
    {
     "data": {
      "text/html": [
       "<div><span class=\"Text-label\" style=\"display:inline-block; overflow:hidden; white-space:nowrap; text-overflow:ellipsis; min-width:15ex; max-width:15ex; vertical-align:middle; text-align:right\">Nightmare Logic by Power Trip</span>\n",
       "<progress style=\"width:45ex\" max=\"8\" value=\"8\" class=\"Progress-main\"/></progress>\n",
       "<span class=\"Progress-label\"><strong>100%</strong></span>\n",
       "<span class=\"Iteration-label\">8/8</span>\n",
       "<span class=\"Time-label\">[00:04<00:01, 0.52s/it]</span></div>"
      ],
      "text/plain": [
       "\u001b[A\u001b[2K\r",
       "Nightmare Logic [█████████████████████████████████████████████] 8/8 [00:04<00:01, 0.52s/it]"
      ]
     },
     "metadata": {},
     "output_type": "display_data"
    },
    {
     "data": {
      "text/html": [
       "<div><span class=\"Text-label\" style=\"display:inline-block; overflow:hidden; white-space:nowrap; text-overflow:ellipsis; min-width:15ex; max-width:15ex; vertical-align:middle; text-align:right\">Drunk by Thundercat</span>\n",
       "<progress style=\"width:45ex\" max=\"23\" value=\"23\" class=\"Progress-main\"/></progress>\n",
       "<span class=\"Progress-label\"><strong>100%</strong></span>\n",
       "<span class=\"Iteration-label\">23/23</span>\n",
       "<span class=\"Time-label\">[00:16<00:01, 0.69s/it]</span></div>"
      ],
      "text/plain": [
       "\u001b[A\u001b[2K\r",
       "Drunk by Thunde [█████████████████████████████████████████████] 23/23 [00:16<00:01, 0.69s/it]"
      ]
     },
     "metadata": {},
     "output_type": "display_data"
    },
    {
     "data": {
      "text/html": [
       "<div><span class=\"Text-label\" style=\"display:inline-block; overflow:hidden; white-space:nowrap; text-overflow:ellipsis; min-width:15ex; max-width:15ex; vertical-align:middle; text-align:right\">Life Will See You Now by Jens Lekman</span>\n",
       "<progress style=\"width:45ex\" max=\"10\" value=\"10\" class=\"Progress-main\"/></progress>\n",
       "<span class=\"Progress-label\"><strong>100%</strong></span>\n",
       "<span class=\"Iteration-label\">10/10</span>\n",
       "<span class=\"Time-label\">[00:07<00:01, 0.70s/it]</span></div>"
      ],
      "text/plain": [
       "\u001b[A\u001b[2K\r",
       "Life Will See Y [█████████████████████████████████████████████] 10/10 [00:07<00:01, 0.70s/it]"
      ]
     },
     "metadata": {},
     "output_type": "display_data"
    },
    {
     "data": {
      "text/html": [
       "<div><span class=\"Text-label\" style=\"display:inline-block; overflow:hidden; white-space:nowrap; text-overflow:ellipsis; min-width:15ex; max-width:15ex; vertical-align:middle; text-align:right\">Rap Album Two by Jonwayne</span>\n",
       "<progress style=\"width:45ex\" max=\"12\" value=\"12\" class=\"Progress-main\"/></progress>\n",
       "<span class=\"Progress-label\"><strong>100%</strong></span>\n",
       "<span class=\"Iteration-label\">12/12</span>\n",
       "<span class=\"Time-label\">[00:07<00:00, 0.55s/it]</span></div>"
      ],
      "text/plain": [
       "\u001b[A\u001b[2K\r",
       "Rap Album Two b [█████████████████████████████████████████████] 12/12 [00:07<00:00, 0.55s/it]"
      ]
     },
     "metadata": {},
     "output_type": "display_data"
    },
    {
     "data": {
      "text/html": [
       "<div><span class=\"Text-label\" style=\"display:inline-block; overflow:hidden; white-space:nowrap; text-overflow:ellipsis; min-width:15ex; max-width:15ex; vertical-align:middle; text-align:right\">Common as Light and Love Are Red Valleys of Blood by Sun Kil Moon</span>\n",
       "<progress style=\"width:45ex\" max=\"16\" value=\"16\" class=\"Progress-main\"/></progress>\n",
       "<span class=\"Progress-label\"><strong>100%</strong></span>\n",
       "<span class=\"Iteration-label\">16/16</span>\n",
       "<span class=\"Time-label\">[00:13<00:01, 0.84s/it]</span></div>"
      ],
      "text/plain": [
       "\u001b[A\u001b[2K\r",
       "Common as Light [█████████████████████████████████████████████] 16/16 [00:13<00:01, 0.84s/it]"
      ]
     },
     "metadata": {},
     "output_type": "display_data"
    },
    {
     "data": {
      "text/html": [
       "<div><span class=\"Text-label\" style=\"display:inline-block; overflow:hidden; white-space:nowrap; text-overflow:ellipsis; min-width:15ex; max-width:15ex; vertical-align:middle; text-align:right\">Being You Is Great, I Wish I Could Be You More Often by Quelle Chris</span>\n",
       "<progress style=\"width:45ex\" max=\"17\" value=\"17\" class=\"Progress-main\"/></progress>\n",
       "<span class=\"Progress-label\"><strong>100%</strong></span>\n",
       "<span class=\"Iteration-label\">17/17</span>\n",
       "<span class=\"Time-label\">[00:11<00:00, 0.62s/it]</span></div>"
      ],
      "text/plain": [
       "\u001b[A\u001b[2K\r",
       "Being You Is Gr [█████████████████████████████████████████████] 17/17 [00:11<00:00, 0.62s/it]"
      ]
     },
     "metadata": {},
     "output_type": "display_data"
    },
    {
     "data": {
      "text/html": [
       "<div><span class=\"Text-label\" style=\"display:inline-block; overflow:hidden; white-space:nowrap; text-overflow:ellipsis; min-width:15ex; max-width:15ex; vertical-align:middle; text-align:right\">Memories Are Now by Jesca Hoop</span>\n",
       "<progress style=\"width:45ex\" max=\"9\" value=\"9\" class=\"Progress-main\"/></progress>\n",
       "<span class=\"Progress-label\"><strong>100%</strong></span>\n",
       "<span class=\"Iteration-label\">9/9</span>\n",
       "<span class=\"Time-label\">[00:05<00:00, 0.54s/it]</span></div>"
      ],
      "text/plain": [
       "\u001b[A\u001b[2K\r",
       "Memories Are No [█████████████████████████████████████████████] 9/9 [00:05<00:00, 0.54s/it]"
      ]
     },
     "metadata": {},
     "output_type": "display_data"
    },
    {
     "data": {
      "text/html": [
       "<div><span class=\"Text-label\" style=\"display:inline-block; overflow:hidden; white-space:nowrap; text-overflow:ellipsis; min-width:15ex; max-width:15ex; vertical-align:middle; text-align:right\">DROGAS Light by Lupe Fiasco</span>\n",
       "<progress style=\"width:45ex\" max=\"14\" value=\"14\" class=\"Progress-main\"/></progress>\n",
       "<span class=\"Progress-label\"><strong>100%</strong></span>\n",
       "<span class=\"Iteration-label\">14/14</span>\n",
       "<span class=\"Time-label\">[00:08<00:01, 0.61s/it]</span></div>"
      ],
      "text/plain": [
       "\u001b[A\u001b[2K\r",
       "DROGAS Light by [█████████████████████████████████████████████] 14/14 [00:08<00:01, 0.61s/it]"
      ]
     },
     "metadata": {},
     "output_type": "display_data"
    },
    {
     "data": {
      "text/html": [
       "<div><span class=\"Text-label\" style=\"display:inline-block; overflow:hidden; white-space:nowrap; text-overflow:ellipsis; min-width:15ex; max-width:15ex; vertical-align:middle; text-align:right\">Process by Sampha</span>\n",
       "<progress style=\"width:45ex\" max=\"10\" value=\"10\" class=\"Progress-main\"/></progress>\n",
       "<span class=\"Progress-label\"><strong>100%</strong></span>\n",
       "<span class=\"Iteration-label\">10/10</span>\n",
       "<span class=\"Time-label\">[00:05<00:00, 0.53s/it]</span></div>"
      ],
      "text/plain": [
       "\u001b[A\u001b[2K\r",
       "Process by Samp [█████████████████████████████████████████████] 10/10 [00:05<00:00, 0.53s/it]"
      ]
     },
     "metadata": {},
     "output_type": "display_data"
    },
    {
     "data": {
      "text/html": [
       "<div><span class=\"Text-label\" style=\"display:inline-block; overflow:hidden; white-space:nowrap; text-overflow:ellipsis; min-width:15ex; max-width:15ex; vertical-align:middle; text-align:right\">Crossover Ministry by Iron Reagan</span>\n",
       "<progress style=\"width:45ex\" max=\"18\" value=\"18\" class=\"Progress-main\"/></progress>\n",
       "<span class=\"Progress-label\"><strong>100%</strong></span>\n",
       "<span class=\"Iteration-label\">18/18</span>\n",
       "<span class=\"Time-label\">[00:08<00:01, 0.45s/it]</span></div>"
      ],
      "text/plain": [
       "\u001b[A\u001b[2K\r",
       "Crossover Minis [█████████████████████████████████████████████] 18/18 [00:08<00:01, 0.45s/it]"
      ]
     },
     "metadata": {},
     "output_type": "display_data"
    },
    {
     "data": {
      "text/html": [
       "<div><span class=\"Text-label\" style=\"display:inline-block; overflow:hidden; white-space:nowrap; text-overflow:ellipsis; min-width:15ex; max-width:15ex; vertical-align:middle; text-align:right\">I Decided. by Big Sean</span>\n",
       "<progress style=\"width:45ex\" max=\"14\" value=\"14\" class=\"Progress-main\"/></progress>\n",
       "<span class=\"Progress-label\"><strong>100%</strong></span>\n",
       "<span class=\"Iteration-label\">14/14</span>\n",
       "<span class=\"Time-label\">[00:07<00:01, 0.47s/it]</span></div>"
      ],
      "text/plain": [
       "\u001b[A\u001b[2K\r",
       "I Decided. by B [█████████████████████████████████████████████] 14/14 [00:07<00:01, 0.47s/it]"
      ]
     },
     "metadata": {},
     "output_type": "display_data"
    },
    {
     "data": {
      "text/html": [
       "<div><span class=\"Text-label\" style=\"display:inline-block; overflow:hidden; white-space:nowrap; text-overflow:ellipsis; min-width:15ex; max-width:15ex; vertical-align:middle; text-align:right\">Vol. 1: Flick Your Tongue Against Your Teeth and Describe the Present by Bedwetter</span>\n",
       "<progress style=\"width:45ex\" max=\"9\" value=\"9\" class=\"Progress-main\"/></progress>\n",
       "<span class=\"Progress-label\"><strong>100%</strong></span>\n",
       "<span class=\"Iteration-label\">9/9</span>\n",
       "<span class=\"Time-label\">[00:05<00:00, 0.51s/it]</span></div>"
      ],
      "text/plain": [
       "\u001b[A\u001b[2K\r",
       "Vol. 1: Flick Y [█████████████████████████████████████████████] 9/9 [00:05<00:00, 0.51s/it]"
      ]
     },
     "metadata": {},
     "output_type": "display_data"
    },
    {
     "data": {
      "text/html": [
       "<div><span class=\"Text-label\" style=\"display:inline-block; overflow:hidden; white-space:nowrap; text-overflow:ellipsis; min-width:15ex; max-width:15ex; vertical-align:middle; text-align:right\">Ty Segall by Ty Segall</span>\n",
       "<progress style=\"width:45ex\" max=\"10\" value=\"10\" class=\"Progress-main\"/></progress>\n",
       "<span class=\"Progress-label\"><strong>100%</strong></span>\n",
       "<span class=\"Iteration-label\">10/10</span>\n",
       "<span class=\"Time-label\">[00:04<00:00, 0.45s/it]</span></div>"
      ],
      "text/plain": [
       "\u001b[A\u001b[2K\r",
       "Ty Segall by Ty [█████████████████████████████████████████████] 10/10 [00:04<00:00, 0.45s/it]"
      ]
     },
     "metadata": {},
     "output_type": "display_data"
    },
    {
     "data": {
      "text/html": [
       "<div><span class=\"Text-label\" style=\"display:inline-block; overflow:hidden; white-space:nowrap; text-overflow:ellipsis; min-width:15ex; max-width:15ex; vertical-align:middle; text-align:right\">A Shadow in Time by William Basinski</span>\n",
       "<progress style=\"width:45ex\" max=\"2\" value=\"2\" class=\"Progress-main\"/></progress>\n",
       "<span class=\"Progress-label\"><strong>100%</strong></span>\n",
       "<span class=\"Iteration-label\">2/2</span>\n",
       "<span class=\"Time-label\">[00:02<00:01, 1.24s/it]</span></div>"
      ],
      "text/plain": [
       "\u001b[A\u001b[2K\r",
       "A Shadow in Tim [█████████████████████████████████████████████] 2/2 [00:02<00:01, 1.24s/it]"
      ]
     },
     "metadata": {},
     "output_type": "display_data"
    },
    {
     "data": {
      "text/html": [
       "<div><span class=\"Text-label\" style=\"display:inline-block; overflow:hidden; white-space:nowrap; text-overflow:ellipsis; min-width:15ex; max-width:15ex; vertical-align:middle; text-align:right\">Hang by Foxygen</span>\n",
       "<progress style=\"width:45ex\" max=\"8\" value=\"8\" class=\"Progress-main\"/></progress>\n",
       "<span class=\"Progress-label\"><strong>100%</strong></span>\n",
       "<span class=\"Iteration-label\">8/8</span>\n",
       "<span class=\"Time-label\">[00:05<00:00, 0.68s/it]</span></div>"
      ],
      "text/plain": [
       "\u001b[A\u001b[2K\r",
       "Hang by Foxygen [█████████████████████████████████████████████] 8/8 [00:05<00:00, 0.68s/it]"
      ]
     },
     "metadata": {},
     "output_type": "display_data"
    },
    {
     "data": {
      "text/html": [
       "<div><span class=\"Text-label\" style=\"display:inline-block; overflow:hidden; white-space:nowrap; text-overflow:ellipsis; min-width:15ex; max-width:15ex; vertical-align:middle; text-align:right\">The Godfather 3 by Wiley</span>\n",
       "<progress style=\"width:45ex\" max=\"22\" value=\"22\" class=\"Progress-main\"/></progress>\n",
       "<span class=\"Progress-label\"><strong>100%</strong></span>\n",
       "<span class=\"Iteration-label\">22/22</span>\n",
       "<span class=\"Time-label\">[00:13<00:01, 0.58s/it]</span></div>"
      ],
      "text/plain": [
       "\u001b[A\u001b[2K\r",
       "The Godfather 3 [█████████████████████████████████████████████] 22/22 [00:13<00:01, 0.58s/it]"
      ]
     },
     "metadata": {},
     "output_type": "display_data"
    },
    {
     "data": {
      "text/html": [
       "<div><span class=\"Text-label\" style=\"display:inline-block; overflow:hidden; white-space:nowrap; text-overflow:ellipsis; min-width:15ex; max-width:15ex; vertical-align:middle; text-align:right\">Duster's Lament by Yucky Duster</span>\n",
       "<progress style=\"width:45ex\" max=\"5\" value=\"5\" class=\"Progress-main\"/></progress>\n",
       "<span class=\"Progress-label\"><strong>100%</strong></span>\n",
       "<span class=\"Iteration-label\">5/5</span>\n",
       "<span class=\"Time-label\">[00:02<00:01, 0.43s/it]</span></div>"
      ],
      "text/plain": [
       "\u001b[A\u001b[2K\r",
       "Duster's Lament [█████████████████████████████████████████████] 5/5 [00:02<00:01, 0.43s/it]"
      ]
     },
     "metadata": {},
     "output_type": "display_data"
    },
    {
     "data": {
      "text/html": [
       "<div><span class=\"Text-label\" style=\"display:inline-block; overflow:hidden; white-space:nowrap; text-overflow:ellipsis; min-width:15ex; max-width:15ex; vertical-align:middle; text-align:right\">Forever by Code Orange</span>\n",
       "<progress style=\"width:45ex\" max=\"11\" value=\"11\" class=\"Progress-main\"/></progress>\n",
       "<span class=\"Progress-label\"><strong>100%</strong></span>\n",
       "<span class=\"Iteration-label\">11/11</span>\n",
       "<span class=\"Time-label\">[00:05<00:00, 0.49s/it]</span></div>"
      ],
      "text/plain": [
       "\u001b[A\u001b[2K\r",
       "Forever by Code [█████████████████████████████████████████████] 11/11 [00:05<00:00, 0.49s/it]"
      ]
     },
     "metadata": {},
     "output_type": "display_data"
    },
    {
     "data": {
      "text/html": [
       "<div><span class=\"Text-label\" style=\"display:inline-block; overflow:hidden; white-space:nowrap; text-overflow:ellipsis; min-width:15ex; max-width:15ex; vertical-align:middle; text-align:right\">Oczy Mlody by The Flaming Lips</span>\n",
       "<progress style=\"width:45ex\" max=\"12\" value=\"12\" class=\"Progress-main\"/></progress>\n",
       "<span class=\"Progress-label\"><strong>100%</strong></span>\n",
       "<span class=\"Iteration-label\">12/12</span>\n",
       "<span class=\"Time-label\">[00:06<00:01, 0.52s/it]</span></div>"
      ],
      "text/plain": [
       "\u001b[A\u001b[2K\r",
       "Oczy Mlody by T [█████████████████████████████████████████████] 12/12 [00:06<00:01, 0.52s/it]"
      ]
     },
     "metadata": {},
     "output_type": "display_data"
    },
    {
     "data": {
      "text/html": [
       "<div><span class=\"Text-label\" style=\"display:inline-block; overflow:hidden; white-space:nowrap; text-overflow:ellipsis; min-width:15ex; max-width:15ex; vertical-align:middle; text-align:right\">I See You by The xx</span>\n",
       "<progress style=\"width:45ex\" max=\"10\" value=\"10\" class=\"Progress-main\"/></progress>\n",
       "<span class=\"Progress-label\"><strong>100%</strong></span>\n",
       "<span class=\"Iteration-label\">10/10</span>\n",
       "<span class=\"Time-label\">[00:05<00:00, 0.48s/it]</span></div>"
      ],
      "text/plain": [
       "\u001b[A\u001b[2K\r",
       "I See You by Th [█████████████████████████████████████████████] 10/10 [00:05<00:00, 0.48s/it]"
      ]
     },
     "metadata": {},
     "output_type": "display_data"
    },
    {
     "data": {
      "text/html": [
       "<div><span class=\"Text-label\" style=\"display:inline-block; overflow:hidden; white-space:nowrap; text-overflow:ellipsis; min-width:15ex; max-width:15ex; vertical-align:middle; text-align:right\">Stillness In Wonderland (Deluxe Edition) by Little Simz</span>\n",
       "<progress style=\"width:45ex\" max=\"23\" value=\"23\" class=\"Progress-main\"/></progress>\n",
       "<span class=\"Progress-label\"><strong>100%</strong></span>\n",
       "<span class=\"Iteration-label\">23/23</span>\n",
       "<span class=\"Time-label\">[00:18<00:00, 0.79s/it]</span></div>"
      ],
      "text/plain": [
       "\u001b[A\u001b[2K\r",
       "Stillness In Wo [█████████████████████████████████████████████] 23/23 [00:18<00:00, 0.79s/it]"
      ]
     },
     "metadata": {},
     "output_type": "display_data"
    },
    {
     "data": {
      "text/html": [
       "<div><span class=\"Text-label\" style=\"display:inline-block; overflow:hidden; white-space:nowrap; text-overflow:ellipsis; min-width:15ex; max-width:15ex; vertical-align:middle; text-align:right\">Not The Actual Events by Nine Inch Nails</span>\n",
       "<progress style=\"width:45ex\" max=\"5\" value=\"5\" class=\"Progress-main\"/></progress>\n",
       "<span class=\"Progress-label\"><strong>100%</strong></span>\n",
       "<span class=\"Iteration-label\">5/5</span>\n",
       "<span class=\"Time-label\">[00:03<00:01, 0.62s/it]</span></div>"
      ],
      "text/plain": [
       "\u001b[A\u001b[2K\r",
       "Not The Actual  [█████████████████████████████████████████████] 5/5 [00:03<00:01, 0.62s/it]"
      ]
     },
     "metadata": {},
     "output_type": "display_data"
    },
    {
     "data": {
      "text/html": [
       "<div><span class=\"Text-label\" style=\"display:inline-block; overflow:hidden; white-space:nowrap; text-overflow:ellipsis; min-width:15ex; max-width:15ex; vertical-align:middle; text-align:right\">In The Nightside Eclipse by Emperor</span>\n",
       "<progress style=\"width:45ex\" max=\"10\" value=\"10\" class=\"Progress-main\"/></progress>\n",
       "<span class=\"Progress-label\"><strong>100%</strong></span>\n",
       "<span class=\"Iteration-label\">10/10</span>\n",
       "<span class=\"Time-label\">[00:07<00:00, 0.71s/it]</span></div>"
      ],
      "text/plain": [
       "\u001b[A\u001b[2K\r",
       "In The Nightsid [█████████████████████████████████████████████] 10/10 [00:07<00:00, 0.71s/it]"
      ]
     },
     "metadata": {},
     "output_type": "display_data"
    },
    {
     "data": {
      "text/html": [
       "<div><span class=\"Text-label\" style=\"display:inline-block; overflow:hidden; white-space:nowrap; text-overflow:ellipsis; min-width:15ex; max-width:15ex; vertical-align:middle; text-align:right\">Rain Dogs by Tom Waits</span>\n",
       "<progress style=\"width:45ex\" max=\"19\" value=\"19\" class=\"Progress-main\"/></progress>\n",
       "<span class=\"Progress-label\"><strong>100%</strong></span>\n",
       "<span class=\"Iteration-label\">19/19</span>\n",
       "<span class=\"Time-label\">[00:11<00:00, 0.57s/it]</span></div>"
      ],
      "text/plain": [
       "\u001b[A\u001b[2K\r",
       "Rain Dogs by To [█████████████████████████████████████████████] 19/19 [00:11<00:00, 0.57s/it]"
      ]
     },
     "metadata": {},
     "output_type": "display_data"
    },
    {
     "data": {
      "text/html": [
       "<div><span class=\"Text-label\" style=\"display:inline-block; overflow:hidden; white-space:nowrap; text-overflow:ellipsis; min-width:15ex; max-width:15ex; vertical-align:middle; text-align:right\">Remain in Light (Deluxe Version) by Talking Heads</span>\n",
       "<progress style=\"width:45ex\" max=\"12\" value=\"12\" class=\"Progress-main\"/></progress>\n",
       "<span class=\"Progress-label\"><strong>100%</strong></span>\n",
       "<span class=\"Iteration-label\">12/12</span>\n",
       "<span class=\"Time-label\">[00:11<00:01, 0.90s/it]</span></div>"
      ],
      "text/plain": [
       "\u001b[A\u001b[2K\r",
       "Remain in Light [█████████████████████████████████████████████] 12/12 [00:11<00:01, 0.90s/it]"
      ]
     },
     "metadata": {},
     "output_type": "display_data"
    },
    {
     "data": {
      "text/html": [
       "<div><span class=\"Text-label\" style=\"display:inline-block; overflow:hidden; white-space:nowrap; text-overflow:ellipsis; min-width:15ex; max-width:15ex; vertical-align:middle; text-align:right\">ATLiens by OutKast</span>\n",
       "<progress style=\"width:45ex\" max=\"15\" value=\"15\" class=\"Progress-main\"/></progress>\n",
       "<span class=\"Progress-label\"><strong>100%</strong></span>\n",
       "<span class=\"Iteration-label\">15/15</span>\n",
       "<span class=\"Time-label\">[00:09<00:00, 0.62s/it]</span></div>"
      ],
      "text/plain": [
       "\u001b[A\u001b[2K\r",
       "ATLiens by OutK [█████████████████████████████████████████████] 15/15 [00:09<00:00, 0.62s/it]"
      ]
     },
     "metadata": {},
     "output_type": "display_data"
    },
    {
     "data": {
      "text/html": [
       "<div><span class=\"Text-label\" style=\"display:inline-block; overflow:hidden; white-space:nowrap; text-overflow:ellipsis; min-width:15ex; max-width:15ex; vertical-align:middle; text-align:right\">Trout Mask Replica Replica by 10faced</span>\n",
       "<progress style=\"width:45ex\" max=\"1\" value=\"1\" class=\"Progress-main\"/></progress>\n",
       "<span class=\"Progress-label\"><strong>100%</strong></span>\n",
       "<span class=\"Iteration-label\">1/1</span>\n",
       "<span class=\"Time-label\">[00:01<00:01, 0.57s/it]</span></div>"
      ],
      "text/plain": [
       "\u001b[A\u001b[2K\r",
       "Trout Mask Repl [█████████████████████████████████████████████] 1/1 [00:01<00:01, 0.57s/it]"
      ]
     },
     "metadata": {},
     "output_type": "display_data"
    },
    {
     "data": {
      "text/html": [
       "<div><span class=\"Text-label\" style=\"display:inline-block; overflow:hidden; white-space:nowrap; text-overflow:ellipsis; min-width:15ex; max-width:15ex; vertical-align:middle; text-align:right\">Passion, Pain & Demon Slayin' by Kid Cudi</span>\n",
       "<progress style=\"width:45ex\" max=\"19\" value=\"19\" class=\"Progress-main\"/></progress>\n",
       "<span class=\"Progress-label\"><strong>100%</strong></span>\n",
       "<span class=\"Iteration-label\">19/19</span>\n",
       "<span class=\"Time-label\">[00:12<00:01, 0.63s/it]</span></div>"
      ],
      "text/plain": [
       "\u001b[A\u001b[2K\r",
       "Passion, Pain & [█████████████████████████████████████████████] 19/19 [00:12<00:01, 0.63s/it]"
      ]
     },
     "metadata": {},
     "output_type": "display_data"
    },
    {
     "data": {
      "text/html": [
       "<div><span class=\"Text-label\" style=\"display:inline-block; overflow:hidden; white-space:nowrap; text-overflow:ellipsis; min-width:15ex; max-width:15ex; vertical-align:middle; text-align:right\">Floss by Injury Reserve</span>\n",
       "<progress style=\"width:45ex\" max=\"12\" value=\"12\" class=\"Progress-main\"/></progress>\n",
       "<span class=\"Progress-label\"><strong>100%</strong></span>\n",
       "<span class=\"Iteration-label\">12/12</span>\n",
       "<span class=\"Time-label\">[00:07<00:01, 0.62s/it]</span></div>"
      ],
      "text/plain": [
       "\u001b[A\u001b[2K\r",
       "Floss by Injury [█████████████████████████████████████████████] 12/12 [00:07<00:01, 0.62s/it]"
      ]
     },
     "metadata": {},
     "output_type": "display_data"
    },
    {
     "data": {
      "text/html": [
       "<div><span class=\"Text-label\" style=\"display:inline-block; overflow:hidden; white-space:nowrap; text-overflow:ellipsis; min-width:15ex; max-width:15ex; vertical-align:middle; text-align:right\">Do What Thou Wilt. by Ab-Soul</span>\n",
       "<progress style=\"width:45ex\" max=\"16\" value=\"16\" class=\"Progress-main\"/></progress>\n",
       "<span class=\"Progress-label\"><strong>100%</strong></span>\n",
       "<span class=\"Iteration-label\">16/16</span>\n",
       "<span class=\"Time-label\">[00:11<00:01, 0.69s/it]</span></div>"
      ],
      "text/plain": [
       "\u001b[A\u001b[2K\r",
       "Do What Thou Wi [█████████████████████████████████████████████] 16/16 [00:11<00:01, 0.69s/it]"
      ]
     },
     "metadata": {},
     "output_type": "display_data"
    },
    {
     "data": {
      "text/html": [
       "<div><span class=\"Text-label\" style=\"display:inline-block; overflow:hidden; white-space:nowrap; text-overflow:ellipsis; min-width:15ex; max-width:15ex; vertical-align:middle; text-align:right\">4 Your Eyez Only by J. Cole</span>\n",
       "<progress style=\"width:45ex\" max=\"10\" value=\"10\" class=\"Progress-main\"/></progress>\n",
       "<span class=\"Progress-label\"><strong>100%</strong></span>\n",
       "<span class=\"Iteration-label\">10/10</span>\n",
       "<span class=\"Time-label\">[00:06<00:01, 0.59s/it]</span></div>"
      ],
      "text/plain": [
       "\u001b[A\u001b[2K\r",
       "4 Your Eyez Onl [█████████████████████████████████████████████] 10/10 [00:06<00:01, 0.59s/it]"
      ]
     },
     "metadata": {},
     "output_type": "display_data"
    },
    {
     "data": {
      "text/html": [
       "<div><span class=\"Text-label\" style=\"display:inline-block; overflow:hidden; white-space:nowrap; text-overflow:ellipsis; min-width:15ex; max-width:15ex; vertical-align:middle; text-align:right\">Black America Again by Common</span>\n",
       "<progress style=\"width:45ex\" max=\"15\" value=\"15\" class=\"Progress-main\"/></progress>\n",
       "<span class=\"Progress-label\"><strong>100%</strong></span>\n",
       "<span class=\"Iteration-label\">15/15</span>\n",
       "<span class=\"Time-label\">[00:09<00:00, 0.59s/it]</span></div>"
      ],
      "text/plain": [
       "\u001b[A\u001b[2K\r",
       "Black America A [█████████████████████████████████████████████] 15/15 [00:09<00:00, 0.59s/it]"
      ]
     },
     "metadata": {},
     "output_type": "display_data"
    },
    {
     "data": {
      "text/html": [
       "<div><span class=\"Text-label\" style=\"display:inline-block; overflow:hidden; white-space:nowrap; text-overflow:ellipsis; min-width:15ex; max-width:15ex; vertical-align:middle; text-align:right\">\"Awaken, My Love!\" by Childish Gambino</span>\n",
       "<progress style=\"width:45ex\" max=\"11\" value=\"11\" class=\"Progress-main\"/></progress>\n",
       "<span class=\"Progress-label\"><strong>100%</strong></span>\n",
       "<span class=\"Iteration-label\">11/11</span>\n",
       "<span class=\"Time-label\">[00:08<00:01, 0.77s/it]</span></div>"
      ],
      "text/plain": [
       "\u001b[A\u001b[2K\r",
       "\"Awaken, My Lov [█████████████████████████████████████████████] 11/11 [00:08<00:01, 0.77s/it]"
      ]
     },
     "metadata": {},
     "output_type": "display_data"
    },
    {
     "data": {
      "text/html": [
       "<div><span class=\"Text-label\" style=\"display:inline-block; overflow:hidden; white-space:nowrap; text-overflow:ellipsis; min-width:15ex; max-width:15ex; vertical-align:middle; text-align:right\">All Your Happy Life by The Wytches</span>\n",
       "<progress style=\"width:45ex\" max=\"11\" value=\"11\" class=\"Progress-main\"/></progress>\n",
       "<span class=\"Progress-label\"><strong>100%</strong></span>\n",
       "<span class=\"Iteration-label\">11/11</span>\n",
       "<span class=\"Time-label\">[00:05<00:00, 0.42s/it]</span></div>"
      ],
      "text/plain": [
       "\u001b[A\u001b[2K\r",
       "All Your Happy  [█████████████████████████████████████████████] 11/11 [00:05<00:00, 0.42s/it]"
      ]
     },
     "metadata": {},
     "output_type": "display_data"
    },
    {
     "data": {
      "text/html": [
       "<div><span class=\"Text-label\" style=\"display:inline-block; overflow:hidden; white-space:nowrap; text-overflow:ellipsis; min-width:15ex; max-width:15ex; vertical-align:middle; text-align:right\">Jessica Rabbit by Sleigh Bells</span>\n",
       "<progress style=\"width:45ex\" max=\"14\" value=\"14\" class=\"Progress-main\"/></progress>\n",
       "<span class=\"Progress-label\"><strong>100%</strong></span>\n",
       "<span class=\"Iteration-label\">14/14</span>\n",
       "<span class=\"Time-label\">[00:09<00:02, 0.66s/it]</span></div>"
      ],
      "text/plain": [
       "\u001b[A\u001b[2K\r",
       "Jessica Rabbit  [█████████████████████████████████████████████] 14/14 [00:09<00:02, 0.66s/it]"
      ]
     },
     "metadata": {},
     "output_type": "display_data"
    },
    {
     "data": {
      "text/html": [
       "<div><span class=\"Text-label\" style=\"display:inline-block; overflow:hidden; white-space:nowrap; text-overflow:ellipsis; min-width:15ex; max-width:15ex; vertical-align:middle; text-align:right\">A Fistful of Peril by CZARFACE</span>\n",
       "<progress style=\"width:45ex\" max=\"13\" value=\"13\" class=\"Progress-main\"/></progress>\n",
       "<span class=\"Progress-label\"><strong>100%</strong></span>\n",
       "<span class=\"Iteration-label\">13/13</span>\n",
       "<span class=\"Time-label\">[00:07<00:00, 0.57s/it]</span></div>"
      ],
      "text/plain": [
       "\u001b[A\u001b[2K\r",
       "A Fistful of Pe [█████████████████████████████████████████████] 13/13 [00:07<00:00, 0.57s/it]"
      ]
     },
     "metadata": {},
     "output_type": "display_data"
    },
    {
     "data": {
      "text/html": [
       "<div><span class=\"Text-label\" style=\"display:inline-block; overflow:hidden; white-space:nowrap; text-overflow:ellipsis; min-width:15ex; max-width:15ex; vertical-align:middle; text-align:right\">Starboy by The Weeknd</span>\n",
       "<progress style=\"width:45ex\" max=\"18\" value=\"18\" class=\"Progress-main\"/></progress>\n",
       "<span class=\"Progress-label\"><strong>100%</strong></span>\n",
       "<span class=\"Iteration-label\">18/18</span>\n",
       "<span class=\"Time-label\">[00:09<00:00, 0.50s/it]</span></div>"
      ],
      "text/plain": [
       "\u001b[A\u001b[2K\r",
       "Starboy by The  [█████████████████████████████████████████████] 18/18 [00:09<00:00, 0.50s/it]"
      ]
     },
     "metadata": {},
     "output_type": "display_data"
    },
    {
     "data": {
      "text/html": [
       "<div><span class=\"Text-label\" style=\"display:inline-block; overflow:hidden; white-space:nowrap; text-overflow:ellipsis; min-width:15ex; max-width:15ex; vertical-align:middle; text-align:right\">Hardwired…To Self-Destruct by Metallica</span>\n",
       "<progress style=\"width:45ex\" max=\"12\" value=\"12\" class=\"Progress-main\"/></progress>\n",
       "<span class=\"Progress-label\"><strong>100%</strong></span>\n",
       "<span class=\"Iteration-label\">12/12</span>\n",
       "<span class=\"Time-label\">[00:11<00:01, 0.88s/it]</span></div>"
      ],
      "text/plain": [
       "\u001b[A\u001b[2K\r",
       "Hardwired…To Se [█████████████████████████████████████████████] 12/12 [00:11<00:01, 0.88s/it]"
      ]
     },
     "metadata": {},
     "output_type": "display_data"
    },
    {
     "data": {
      "text/html": [
       "<div><span class=\"Text-label\" style=\"display:inline-block; overflow:hidden; white-space:nowrap; text-overflow:ellipsis; min-width:15ex; max-width:15ex; vertical-align:middle; text-align:right\">24K Magic by Bruno Mars</span>\n",
       "<progress style=\"width:45ex\" max=\"9\" value=\"9\" class=\"Progress-main\"/></progress>\n",
       "<span class=\"Progress-label\"><strong>100%</strong></span>\n",
       "<span class=\"Iteration-label\">9/9</span>\n",
       "<span class=\"Time-label\">[00:09<00:01, 1.03s/it]</span></div>"
      ],
      "text/plain": [
       "\u001b[A\u001b[2K\r",
       "24K Magic by Br [█████████████████████████████████████████████] 9/9 [00:09<00:01, 1.03s/it]"
      ]
     },
     "metadata": {},
     "output_type": "display_data"
    },
    {
     "data": {
      "text/html": [
       "<div><span class=\"Text-label\" style=\"display:inline-block; overflow:hidden; white-space:nowrap; text-overflow:ellipsis; min-width:15ex; max-width:15ex; vertical-align:middle; text-align:right\">We got it from Here... Thank You 4 Your service by A Tribe Called Quest</span>\n",
       "<progress style=\"width:45ex\" max=\"16\" value=\"16\" class=\"Progress-main\"/></progress>\n",
       "<span class=\"Progress-label\"><strong>100%</strong></span>\n",
       "<span class=\"Iteration-label\">16/16</span>\n",
       "<span class=\"Time-label\">[00:09<00:01, 0.56s/it]</span></div>"
      ],
      "text/plain": [
       "\u001b[A\u001b[2K\r",
       "We got it from  [█████████████████████████████████████████████] 16/16 [00:09<00:01, 0.56s/it]"
      ]
     },
     "metadata": {},
     "output_type": "display_data"
    },
    {
     "data": {
      "text/html": [
       "<div><span class=\"Text-label\" style=\"display:inline-block; overflow:hidden; white-space:nowrap; text-overflow:ellipsis; min-width:15ex; max-width:15ex; vertical-align:middle; text-align:right\">Telling It Like It Is by Marching Church</span>\n",
       "<progress style=\"width:45ex\" max=\"10\" value=\"10\" class=\"Progress-main\"/></progress>\n",
       "<span class=\"Progress-label\"><strong>100%</strong></span>\n",
       "<span class=\"Iteration-label\">10/10</span>\n",
       "<span class=\"Time-label\">[00:06<00:01, 0.59s/it]</span></div>"
      ],
      "text/plain": [
       "\u001b[A\u001b[2K\r",
       "Telling It Like [█████████████████████████████████████████████] 10/10 [00:06<00:01, 0.59s/it]"
      ]
     },
     "metadata": {},
     "output_type": "display_data"
    },
    {
     "data": {
      "text/html": [
       "<div><span class=\"Text-label\" style=\"display:inline-block; overflow:hidden; white-space:nowrap; text-overflow:ellipsis; min-width:15ex; max-width:15ex; vertical-align:middle; text-align:right\">Bonito Generation by Kero Kero Bonito</span>\n",
       "<progress style=\"width:45ex\" max=\"12\" value=\"12\" class=\"Progress-main\"/></progress>\n",
       "<span class=\"Progress-label\"><strong>100%</strong></span>\n",
       "<span class=\"Iteration-label\">12/12</span>\n",
       "<span class=\"Time-label\">[00:07<00:00, 0.59s/it]</span></div>"
      ],
      "text/plain": [
       "\u001b[A\u001b[2K\r",
       "Bonito Generati [█████████████████████████████████████████████] 12/12 [00:07<00:00, 0.59s/it]"
      ]
     },
     "metadata": {},
     "output_type": "display_data"
    },
    {
     "data": {
      "text/html": [
       "<div><span class=\"Text-label\" style=\"display:inline-block; overflow:hidden; white-space:nowrap; text-overflow:ellipsis; min-width:15ex; max-width:15ex; vertical-align:middle; text-align:right\">The Long Dark Blue by Swain</span>\n",
       "<progress style=\"width:45ex\" max=\"13\" value=\"13\" class=\"Progress-main\"/></progress>\n",
       "<span class=\"Progress-label\"><strong>100%</strong></span>\n",
       "<span class=\"Iteration-label\">13/13</span>\n",
       "<span class=\"Time-label\">[00:07<00:01, 0.50s/it]</span></div>"
      ],
      "text/plain": [
       "\u001b[A\u001b[2K\r",
       "The Long Dark B [█████████████████████████████████████████████] 13/13 [00:07<00:01, 0.50s/it]"
      ]
     },
     "metadata": {},
     "output_type": "display_data"
    },
    {
     "data": {
      "text/html": [
       "<div><span class=\"Text-label\" style=\"display:inline-block; overflow:hidden; white-space:nowrap; text-overflow:ellipsis; min-width:15ex; max-width:15ex; vertical-align:middle; text-align:right\">Voices by Wormrot</span>\n",
       "<progress style=\"width:45ex\" max=\"20\" value=\"20\" class=\"Progress-main\"/></progress>\n",
       "<span class=\"Progress-label\"><strong>100%</strong></span>\n",
       "<span class=\"Iteration-label\">20/20</span>\n",
       "<span class=\"Time-label\">[00:10<00:00, 0.50s/it]</span></div>"
      ],
      "text/plain": [
       "\u001b[A\u001b[2K\r",
       "Voices by Wormr [█████████████████████████████████████████████] 20/20 [00:10<00:00, 0.50s/it]"
      ]
     },
     "metadata": {},
     "output_type": "display_data"
    },
    {
     "data": {
      "text/html": [
       "<div><span class=\"Text-label\" style=\"display:inline-block; overflow:hidden; white-space:nowrap; text-overflow:ellipsis; min-width:15ex; max-width:15ex; vertical-align:middle; text-align:right\">Cozy Tapes: Vol. 1 Friends - by A$AP Mob</span>\n",
       "<progress style=\"width:45ex\" max=\"12\" value=\"12\" class=\"Progress-main\"/></progress>\n",
       "<span class=\"Progress-label\"><strong>100%</strong></span>\n",
       "<span class=\"Iteration-label\">12/12</span>\n",
       "<span class=\"Time-label\">[00:08<00:01, 0.63s/it]</span></div>"
      ],
      "text/plain": [
       "\u001b[A\u001b[2K\r",
       "Cozy Tapes: Vol [█████████████████████████████████████████████] 12/12 [00:08<00:01, 0.63s/it]"
      ]
     },
     "metadata": {},
     "output_type": "display_data"
    },
    {
     "data": {
      "text/html": [
       "<div><span class=\"Text-label\" style=\"display:inline-block; overflow:hidden; white-space:nowrap; text-overflow:ellipsis; min-width:15ex; max-width:15ex; vertical-align:middle; text-align:right\">The Serenity of Suffering by Korn</span>\n",
       "<progress style=\"width:45ex\" max=\"11\" value=\"11\" class=\"Progress-main\"/></progress>\n",
       "<span class=\"Progress-label\"><strong>100%</strong></span>\n",
       "<span class=\"Iteration-label\">11/11</span>\n",
       "<span class=\"Time-label\">[00:05<00:00, 0.50s/it]</span></div>"
      ],
      "text/plain": [
       "\u001b[A\u001b[2K\r",
       "The Serenity of [█████████████████████████████████████████████] 11/11 [00:05<00:00, 0.50s/it]"
      ]
     },
     "metadata": {},
     "output_type": "display_data"
    },
    {
     "data": {
      "text/html": [
       "<div><span class=\"Text-label\" style=\"display:inline-block; overflow:hidden; white-space:nowrap; text-overflow:ellipsis; min-width:15ex; max-width:15ex; vertical-align:middle; text-align:right\">Big Baby DRAM by Shelley FKA DRAM</span>\n",
       "<progress style=\"width:45ex\" max=\"14\" value=\"14\" class=\"Progress-main\"/></progress>\n",
       "<span class=\"Progress-label\"><strong>100%</strong></span>\n",
       "<span class=\"Iteration-label\">14/14</span>\n",
       "<span class=\"Time-label\">[00:08<00:01, 0.59s/it]</span></div>"
      ],
      "text/plain": [
       "\u001b[A\u001b[2K\r",
       "Big Baby DRAM b [█████████████████████████████████████████████] 14/14 [00:08<00:01, 0.59s/it]"
      ]
     },
     "metadata": {},
     "output_type": "display_data"
    },
    {
     "data": {
      "text/html": [
       "<div><span class=\"Text-label\" style=\"display:inline-block; overflow:hidden; white-space:nowrap; text-overflow:ellipsis; min-width:15ex; max-width:15ex; vertical-align:middle; text-align:right\">Ruminations by Conor Oberst</span>\n",
       "<progress style=\"width:45ex\" max=\"10\" value=\"10\" class=\"Progress-main\"/></progress>\n",
       "<span class=\"Progress-label\"><strong>100%</strong></span>\n",
       "<span class=\"Iteration-label\">10/10</span>\n",
       "<span class=\"Time-label\">[00:06<00:00, 0.58s/it]</span></div>"
      ],
      "text/plain": [
       "\u001b[A\u001b[2K\r",
       "Ruminations by  [█████████████████████████████████████████████] 10/10 [00:06<00:00, 0.58s/it]"
      ]
     },
     "metadata": {},
     "output_type": "display_data"
    },
    {
     "data": {
      "text/html": [
       "<div><span class=\"Text-label\" style=\"display:inline-block; overflow:hidden; white-space:nowrap; text-overflow:ellipsis; min-width:15ex; max-width:15ex; vertical-align:middle; text-align:right\">Joanne (Deluxe) by Lady Gaga</span>\n",
       "<progress style=\"width:45ex\" max=\"14\" value=\"14\" class=\"Progress-main\"/></progress>\n",
       "<span class=\"Progress-label\"><strong>100%</strong></span>\n",
       "<span class=\"Iteration-label\">14/14</span>\n",
       "<span class=\"Time-label\">[00:06<00:00, 0.45s/it]</span></div>"
      ],
      "text/plain": [
       "\u001b[A\u001b[2K\r",
       "Joanne (Deluxe) [█████████████████████████████████████████████] 14/14 [00:06<00:00, 0.45s/it]"
      ]
     },
     "metadata": {},
     "output_type": "display_data"
    },
    {
     "data": {
      "text/html": [
       "<div><span class=\"Text-label\" style=\"display:inline-block; overflow:hidden; white-space:nowrap; text-overflow:ellipsis; min-width:15ex; max-width:15ex; vertical-align:middle; text-align:right\">1992 by The Game</span>\n",
       "<progress style=\"width:45ex\" max=\"13\" value=\"13\" class=\"Progress-main\"/></progress>\n",
       "<span class=\"Progress-label\"><strong>100%</strong></span>\n",
       "<span class=\"Iteration-label\">13/13</span>\n",
       "<span class=\"Time-label\">[00:07<00:00, 0.50s/it]</span></div>"
      ],
      "text/plain": [
       "\u001b[A\u001b[2K\r",
       "1992 by The Gam [█████████████████████████████████████████████] 13/13 [00:07<00:00, 0.50s/it]"
      ]
     },
     "metadata": {},
     "output_type": "display_data"
    },
    {
     "data": {
      "text/html": [
       "<div><span class=\"Text-label\" style=\"display:inline-block; overflow:hidden; white-space:nowrap; text-overflow:ellipsis; min-width:15ex; max-width:15ex; vertical-align:middle; text-align:right\">Dissociation by The Dillinger Escape Plan</span>\n",
       "<progress style=\"width:45ex\" max=\"11\" value=\"11\" class=\"Progress-main\"/></progress>\n",
       "<span class=\"Progress-label\"><strong>100%</strong></span>\n",
       "<span class=\"Iteration-label\">11/11</span>\n",
       "<span class=\"Time-label\">[00:06<00:01, 0.50s/it]</span></div>"
      ],
      "text/plain": [
       "\u001b[A\u001b[2K\r",
       "Dissociation by [█████████████████████████████████████████████] 11/11 [00:06<00:01, 0.50s/it]"
      ]
     },
     "metadata": {},
     "output_type": "display_data"
    },
    {
     "data": {
      "text/html": [
       "<div><span class=\"Text-label\" style=\"display:inline-block; overflow:hidden; white-space:nowrap; text-overflow:ellipsis; min-width:15ex; max-width:15ex; vertical-align:middle; text-align:right\">Beyond the Fleeting Gales by Crying</span>\n",
       "<progress style=\"width:45ex\" max=\"10\" value=\"10\" class=\"Progress-main\"/></progress>\n",
       "<span class=\"Progress-label\"><strong>100%</strong></span>\n",
       "<span class=\"Iteration-label\">10/10</span>\n",
       "<span class=\"Time-label\">[00:06<00:01, 0.55s/it]</span></div>"
      ],
      "text/plain": [
       "\u001b[A\u001b[2K\r",
       "Beyond the Flee [█████████████████████████████████████████████] 10/10 [00:06<00:01, 0.55s/it]"
      ]
     },
     "metadata": {},
     "output_type": "display_data"
    },
    {
     "data": {
      "text/html": [
       "<div><span class=\"Text-label\" style=\"display:inline-block; overflow:hidden; white-space:nowrap; text-overflow:ellipsis; min-width:15ex; max-width:15ex; vertical-align:middle; text-align:right\">WORRY. by Jeff Rosenstock</span>\n",
       "<progress style=\"width:45ex\" max=\"17\" value=\"17\" class=\"Progress-main\"/></progress>\n",
       "<span class=\"Progress-label\"><strong>100%</strong></span>\n",
       "<span class=\"Iteration-label\">17/17</span>\n",
       "<span class=\"Time-label\">[00:08<00:00, 0.46s/it]</span></div>"
      ],
      "text/plain": [
       "\u001b[A\u001b[2K\r",
       "WORRY. by Jeff  [█████████████████████████████████████████████] 17/17 [00:08<00:00, 0.46s/it]"
      ]
     },
     "metadata": {},
     "output_type": "display_data"
    },
    {
     "data": {
      "text/html": [
       "<div><span class=\"Text-label\" style=\"display:inline-block; overflow:hidden; white-space:nowrap; text-overflow:ellipsis; min-width:15ex; max-width:15ex; vertical-align:middle; text-align:right\">American Football by American Football</span>\n",
       "<progress style=\"width:45ex\" max=\"9\" value=\"9\" class=\"Progress-main\"/></progress>\n",
       "<span class=\"Progress-label\"><strong>100%</strong></span>\n",
       "<span class=\"Iteration-label\">9/9</span>\n",
       "<span class=\"Time-label\">[00:06<00:00, 0.63s/it]</span></div>"
      ],
      "text/plain": [
       "\u001b[A\u001b[2K\r",
       "American Footba [█████████████████████████████████████████████] 9/9 [00:06<00:00, 0.63s/it]"
      ]
     },
     "metadata": {},
     "output_type": "display_data"
    },
    {
     "data": {
      "text/html": [
       "<div><span class=\"Text-label\" style=\"display:inline-block; overflow:hidden; white-space:nowrap; text-overflow:ellipsis; min-width:15ex; max-width:15ex; vertical-align:middle; text-align:right\">Yes Lawd! by NxWorries</span>\n",
       "<progress style=\"width:45ex\" max=\"19\" value=\"19\" class=\"Progress-main\"/></progress>\n",
       "<span class=\"Progress-label\"><strong>100%</strong></span>\n",
       "<span class=\"Iteration-label\">19/19</span>\n",
       "<span class=\"Time-label\">[00:09<00:00, 0.49s/it]</span></div>"
      ],
      "text/plain": [
       "\u001b[A\u001b[2K\r",
       "Yes Lawd! by Nx [█████████████████████████████████████████████] 19/19 [00:09<00:00, 0.49s/it]"
      ]
     },
     "metadata": {},
     "output_type": "display_data"
    },
    {
     "data": {
      "text/html": [
       "<div><span class=\"Text-label\" style=\"display:inline-block; overflow:hidden; white-space:nowrap; text-overflow:ellipsis; min-width:15ex; max-width:15ex; vertical-align:middle; text-align:right\">Revolution Radio by Green Day</span>\n",
       "<progress style=\"width:45ex\" max=\"12\" value=\"12\" class=\"Progress-main\"/></progress>\n",
       "<span class=\"Progress-label\"><strong>100%</strong></span>\n",
       "<span class=\"Iteration-label\">12/12</span>\n",
       "<span class=\"Time-label\">[00:06<00:00, 0.51s/it]</span></div>"
      ],
      "text/plain": [
       "\u001b[A\u001b[2K\r",
       "Revolution Radi [█████████████████████████████████████████████] 12/12 [00:06<00:00, 0.51s/it]"
      ]
     },
     "metadata": {},
     "output_type": "display_data"
    },
    {
     "data": {
      "text/html": [
       "<div><span class=\"Text-label\" style=\"display:inline-block; overflow:hidden; white-space:nowrap; text-overflow:ellipsis; min-width:15ex; max-width:15ex; vertical-align:middle; text-align:right\">Rheia by Oathbreaker</span>\n",
       "<progress style=\"width:45ex\" max=\"10\" value=\"10\" class=\"Progress-main\"/></progress>\n",
       "<span class=\"Progress-label\"><strong>100%</strong></span>\n",
       "<span class=\"Iteration-label\">10/10</span>\n",
       "<span class=\"Time-label\">[00:07<00:03, 0.70s/it]</span></div>"
      ],
      "text/plain": [
       "\u001b[A\u001b[2K\r",
       "Rheia by Oathbr [█████████████████████████████████████████████] 10/10 [00:07<00:03, 0.70s/it]"
      ]
     },
     "metadata": {},
     "output_type": "display_data"
    },
    {
     "data": {
      "text/html": [
       "<div><span class=\"Text-label\" style=\"display:inline-block; overflow:hidden; white-space:nowrap; text-overflow:ellipsis; min-width:15ex; max-width:15ex; vertical-align:middle; text-align:right\">A Seat at the Table by Solange</span>\n",
       "<progress style=\"width:45ex\" max=\"21\" value=\"21\" class=\"Progress-main\"/></progress>\n",
       "<span class=\"Progress-label\"><strong>100%</strong></span>\n",
       "<span class=\"Iteration-label\">21/21</span>\n",
       "<span class=\"Time-label\">[00:13<00:00, 0.60s/it]</span></div>"
      ],
      "text/plain": [
       "\u001b[A\u001b[2K\r",
       "A Seat at the T [█████████████████████████████████████████████] 21/21 [00:13<00:00, 0.60s/it]"
      ]
     },
     "metadata": {},
     "output_type": "display_data"
    },
    {
     "data": {
      "text/html": [
       "<div><span class=\"Text-label\" style=\"display:inline-block; overflow:hidden; white-space:nowrap; text-overflow:ellipsis; min-width:15ex; max-width:15ex; vertical-align:middle; text-align:right\">The Altar by BANKS</span>\n",
       "<progress style=\"width:45ex\" max=\"13\" value=\"13\" class=\"Progress-main\"/></progress>\n",
       "<span class=\"Progress-label\"><strong>100%</strong></span>\n",
       "<span class=\"Iteration-label\">13/13</span>\n",
       "<span class=\"Time-label\">[00:07<00:01, 0.51s/it]</span></div>"
      ],
      "text/plain": [
       "\u001b[A\u001b[2K\r",
       "The Altar by BA [█████████████████████████████████████████████] 13/13 [00:07<00:01, 0.51s/it]"
      ]
     },
     "metadata": {},
     "output_type": "display_data"
    },
    {
     "data": {
      "text/html": [
       "<div><span class=\"Text-label\" style=\"display:inline-block; overflow:hidden; white-space:nowrap; text-overflow:ellipsis; min-width:15ex; max-width:15ex; vertical-align:middle; text-align:right\">Remember Us to Life by Regina Spektor</span>\n",
       "<progress style=\"width:45ex\" max=\"11\" value=\"11\" class=\"Progress-main\"/></progress>\n",
       "<span class=\"Progress-label\"><strong>100%</strong></span>\n",
       "<span class=\"Iteration-label\">11/11</span>\n",
       "<span class=\"Time-label\">[00:06<00:01, 0.56s/it]</span></div>"
      ],
      "text/plain": [
       "\u001b[A\u001b[2K\r",
       "Remember Us to  [█████████████████████████████████████████████] 11/11 [00:06<00:01, 0.56s/it]"
      ]
     },
     "metadata": {},
     "output_type": "display_data"
    },
    {
     "data": {
      "text/html": [
       "<div><span class=\"Text-label\" style=\"display:inline-block; overflow:hidden; white-space:nowrap; text-overflow:ellipsis; min-width:15ex; max-width:15ex; vertical-align:middle; text-align:right\">Sirens by Nicolas Jaar</span>\n",
       "<progress style=\"width:45ex\" max=\"6\" value=\"6\" class=\"Progress-main\"/></progress>\n",
       "<span class=\"Progress-label\"><strong>100%</strong></span>\n",
       "<span class=\"Iteration-label\">6/6</span>\n",
       "<span class=\"Time-label\">[00:04<00:00, 0.70s/it]</span></div>"
      ],
      "text/plain": [
       "\u001b[A\u001b[2K\r",
       "Sirens by Nicol [█████████████████████████████████████████████] 6/6 [00:04<00:00, 0.70s/it]"
      ]
     },
     "metadata": {},
     "output_type": "display_data"
    },
    {
     "data": {
      "text/html": [
       "<div><span class=\"Text-label\" style=\"display:inline-block; overflow:hidden; white-space:nowrap; text-overflow:ellipsis; min-width:15ex; max-width:15ex; vertical-align:middle; text-align:right\">22, A Million by Bon Iver</span>\n",
       "<progress style=\"width:45ex\" max=\"10\" value=\"10\" class=\"Progress-main\"/></progress>\n",
       "<span class=\"Progress-label\"><strong>100%</strong></span>\n",
       "<span class=\"Iteration-label\">10/10</span>\n",
       "<span class=\"Time-label\">[00:05<00:00, 0.48s/it]</span></div>"
      ],
      "text/plain": [
       "\u001b[A\u001b[2K\r",
       "22, A Million b [█████████████████████████████████████████████] 10/10 [00:05<00:00, 0.48s/it]"
      ]
     },
     "metadata": {},
     "output_type": "display_data"
    },
    {
     "data": {
      "text/html": [
       "<div><span class=\"Text-label\" style=\"display:inline-block; overflow:hidden; white-space:nowrap; text-overflow:ellipsis; min-width:15ex; max-width:15ex; vertical-align:middle; text-align:right\">Atrocity Exhibition by Danny Brown</span>\n",
       "<progress style=\"width:45ex\" max=\"15\" value=\"15\" class=\"Progress-main\"/></progress>\n",
       "<span class=\"Progress-label\"><strong>100%</strong></span>\n",
       "<span class=\"Iteration-label\">15/15</span>\n",
       "<span class=\"Time-label\">[00:08<00:01, 0.51s/it]</span></div>"
      ],
      "text/plain": [
       "\u001b[A\u001b[2K\r",
       "Atrocity Exhibi [█████████████████████████████████████████████] 15/15 [00:08<00:01, 0.51s/it]"
      ]
     },
     "metadata": {},
     "output_type": "display_data"
    },
    {
     "data": {
      "text/html": [
       "<div><span class=\"Text-label\" style=\"display:inline-block; overflow:hidden; white-space:nowrap; text-overflow:ellipsis; min-width:15ex; max-width:15ex; vertical-align:middle; text-align:right\">The Healing Component by Mick Jenkins</span>\n",
       "<progress style=\"width:45ex\" max=\"15\" value=\"15\" class=\"Progress-main\"/></progress>\n",
       "<span class=\"Progress-label\"><strong>100%</strong></span>\n",
       "<span class=\"Iteration-label\">15/15</span>\n",
       "<span class=\"Time-label\">[00:09<00:01, 0.59s/it]</span></div>"
      ],
      "text/plain": [
       "\u001b[A\u001b[2K\r",
       "The Healing Com [█████████████████████████████████████████████] 15/15 [00:09<00:01, 0.59s/it]"
      ]
     },
     "metadata": {},
     "output_type": "display_data"
    },
    {
     "data": {
      "text/html": [
       "<div><span class=\"Text-label\" style=\"display:inline-block; overflow:hidden; white-space:nowrap; text-overflow:ellipsis; min-width:15ex; max-width:15ex; vertical-align:middle; text-align:right\">Schmilco by Wilco</span>\n",
       "<progress style=\"width:45ex\" max=\"12\" value=\"12\" class=\"Progress-main\"/></progress>\n",
       "<span class=\"Progress-label\"><strong>100%</strong></span>\n",
       "<span class=\"Iteration-label\">12/12</span>\n",
       "<span class=\"Time-label\">[00:06<00:00, 0.49s/it]</span></div>"
      ],
      "text/plain": [
       "\u001b[A\u001b[2K\r",
       "Schmilco by Wil [█████████████████████████████████████████████] 12/12 [00:06<00:00, 0.49s/it]"
      ]
     },
     "metadata": {},
     "output_type": "display_data"
    },
    {
     "data": {
      "text/html": [
       "<div><span class=\"Text-label\" style=\"display:inline-block; overflow:hidden; white-space:nowrap; text-overflow:ellipsis; min-width:15ex; max-width:15ex; vertical-align:middle; text-align:right\">Preoccupations by Preoccupations</span>\n",
       "<progress style=\"width:45ex\" max=\"9\" value=\"9\" class=\"Progress-main\"/></progress>\n",
       "<span class=\"Progress-label\"><strong>100%</strong></span>\n",
       "<span class=\"Iteration-label\">9/9</span>\n",
       "<span class=\"Time-label\">[00:04<00:01, 0.49s/it]</span></div>"
      ],
      "text/plain": [
       "\u001b[A\u001b[2K\r",
       "Preoccupations  [█████████████████████████████████████████████] 9/9 [00:04<00:01, 0.49s/it]"
      ]
     },
     "metadata": {},
     "output_type": "display_data"
    },
    {
     "data": {
      "text/html": [
       "<div><span class=\"Text-label\" style=\"display:inline-block; overflow:hidden; white-space:nowrap; text-overflow:ellipsis; min-width:15ex; max-width:15ex; vertical-align:middle; text-align:right\">Stage Four (Deluxe Edition) by Touché Amoré</span>\n",
       "<progress style=\"width:45ex\" max=\"12\" value=\"12\" class=\"Progress-main\"/></progress>\n",
       "<span class=\"Progress-label\"><strong>100%</strong></span>\n",
       "<span class=\"Iteration-label\">12/12</span>\n",
       "<span class=\"Time-label\">[00:06<00:00, 0.46s/it]</span></div>"
      ],
      "text/plain": [
       "\u001b[A\u001b[2K\r",
       "Stage Four (Del [█████████████████████████████████████████████] 12/12 [00:06<00:00, 0.46s/it]"
      ]
     },
     "metadata": {},
     "output_type": "display_data"
    },
    {
     "data": {
      "text/html": [
       "<div><span class=\"Text-label\" style=\"display:inline-block; overflow:hidden; white-space:nowrap; text-overflow:ellipsis; min-width:15ex; max-width:15ex; vertical-align:middle; text-align:right\">End Position by Street Sects</span>\n",
       "<progress style=\"width:45ex\" max=\"10\" value=\"10\" class=\"Progress-main\"/></progress>\n",
       "<span class=\"Progress-label\"><strong>100%</strong></span>\n",
       "<span class=\"Iteration-label\">10/10</span>\n",
       "<span class=\"Time-label\">[00:07<00:00, 0.69s/it]</span></div>"
      ],
      "text/plain": [
       "\u001b[A\u001b[2K\r",
       "End Position by [█████████████████████████████████████████████] 10/10 [00:07<00:00, 0.69s/it]"
      ]
     },
     "metadata": {},
     "output_type": "display_data"
    },
    {
     "data": {
      "text/html": [
       "<div><span class=\"Text-label\" style=\"display:inline-block; overflow:hidden; white-space:nowrap; text-overflow:ellipsis; min-width:15ex; max-width:15ex; vertical-align:middle; text-align:right\">The Divine Feminine by Mac Miller</span>\n",
       "<progress style=\"width:45ex\" max=\"10\" value=\"10\" class=\"Progress-main\"/></progress>\n",
       "<span class=\"Progress-label\"><strong>100%</strong></span>\n",
       "<span class=\"Iteration-label\">10/10</span>\n",
       "<span class=\"Time-label\">[00:06<00:01, 0.59s/it]</span></div>"
      ],
      "text/plain": [
       "\u001b[A\u001b[2K\r",
       "The Divine Femi [█████████████████████████████████████████████] 10/10 [00:06<00:01, 0.59s/it]"
      ]
     },
     "metadata": {},
     "output_type": "display_data"
    },
    {
     "data": {
      "text/html": [
       "<div><span class=\"Text-label\" style=\"display:inline-block; overflow:hidden; white-space:nowrap; text-overflow:ellipsis; min-width:15ex; max-width:15ex; vertical-align:middle; text-align:right\">Skeleton Tree by Nick Cave & The Bad Seeds</span>\n",
       "<progress style=\"width:45ex\" max=\"8\" value=\"8\" class=\"Progress-main\"/></progress>\n",
       "<span class=\"Progress-label\"><strong>100%</strong></span>\n",
       "<span class=\"Iteration-label\">8/8</span>\n",
       "<span class=\"Time-label\">[00:04<00:00, 0.53s/it]</span></div>"
      ],
      "text/plain": [
       "\u001b[A\u001b[2K\r",
       "Skeleton Tree b [█████████████████████████████████████████████] 8/8 [00:04<00:00, 0.53s/it]"
      ]
     },
     "metadata": {},
     "output_type": "display_data"
    },
    {
     "data": {
      "text/html": [
       "<div><span class=\"Text-label\" style=\"display:inline-block; overflow:hidden; white-space:nowrap; text-overflow:ellipsis; min-width:15ex; max-width:15ex; vertical-align:middle; text-align:right\">AIM (Deluxe) by M.I.A.</span>\n",
       "<progress style=\"width:45ex\" max=\"17\" value=\"17\" class=\"Progress-main\"/></progress>\n",
       "<span class=\"Progress-label\"><strong>100%</strong></span>\n",
       "<span class=\"Iteration-label\">17/17</span>\n",
       "<span class=\"Time-label\">[00:09<00:00, 0.54s/it]</span></div>"
      ],
      "text/plain": [
       "\u001b[A\u001b[2K\r",
       "AIM (Deluxe) by [█████████████████████████████████████████████] 17/17 [00:09<00:00, 0.54s/it]"
      ]
     },
     "metadata": {},
     "output_type": "display_data"
    },
    {
     "data": {
      "text/html": [
       "<div><span class=\"Text-label\" style=\"display:inline-block; overflow:hidden; white-space:nowrap; text-overflow:ellipsis; min-width:15ex; max-width:15ex; vertical-align:middle; text-align:right\">Splendor & Misery by clipping.</span>\n",
       "<progress style=\"width:45ex\" max=\"15\" value=\"15\" class=\"Progress-main\"/></progress>\n",
       "<span class=\"Progress-label\"><strong>100%</strong></span>\n",
       "<span class=\"Iteration-label\">15/15</span>\n",
       "<span class=\"Time-label\">[00:06<00:01, 0.41s/it]</span></div>"
      ],
      "text/plain": [
       "\u001b[A\u001b[2K\r",
       "Splendor & Mise [█████████████████████████████████████████████] 15/15 [00:06<00:01, 0.41s/it]"
      ]
     },
     "metadata": {},
     "output_type": "display_data"
    },
    {
     "data": {
      "text/html": [
       "<div><span class=\"Text-label\" style=\"display:inline-block; overflow:hidden; white-space:nowrap; text-overflow:ellipsis; min-width:15ex; max-width:15ex; vertical-align:middle; text-align:right\">How To Be A Human Being by Glass Animals</span>\n",
       "<progress style=\"width:45ex\" max=\"11\" value=\"11\" class=\"Progress-main\"/></progress>\n",
       "<span class=\"Progress-label\"><strong>100%</strong></span>\n",
       "<span class=\"Iteration-label\">11/11</span>\n",
       "<span class=\"Time-label\">[00:08<00:00, 0.68s/it]</span></div>"
      ],
      "text/plain": [
       "\u001b[A\u001b[2K\r",
       "How To Be A Hum [█████████████████████████████████████████████] 11/11 [00:08<00:00, 0.68s/it]"
      ]
     },
     "metadata": {},
     "output_type": "display_data"
    },
    {
     "data": {
      "text/html": [
       "<div><span class=\"Text-label\" style=\"display:inline-block; overflow:hidden; white-space:nowrap; text-overflow:ellipsis; min-width:15ex; max-width:15ex; vertical-align:middle; text-align:right\">The Sun's Tirade by Isaiah Rashad</span>\n",
       "<progress style=\"width:45ex\" max=\"17\" value=\"17\" class=\"Progress-main\"/></progress>\n",
       "<span class=\"Progress-label\"><strong>100%</strong></span>\n",
       "<span class=\"Iteration-label\">17/17</span>\n",
       "<span class=\"Time-label\">[00:11<00:00, 0.66s/it]</span></div>"
      ],
      "text/plain": [
       "\u001b[A\u001b[2K\r",
       "The Sun's Tirad [█████████████████████████████████████████████] 17/17 [00:11<00:00, 0.66s/it]"
      ]
     },
     "metadata": {},
     "output_type": "display_data"
    },
    {
     "data": {
      "text/html": [
       "<div><span class=\"Text-label\" style=\"display:inline-block; overflow:hidden; white-space:nowrap; text-overflow:ellipsis; min-width:15ex; max-width:15ex; vertical-align:middle; text-align:right\">Innocence Reaches by of Montreal</span>\n",
       "<progress style=\"width:45ex\" max=\"12\" value=\"12\" class=\"Progress-main\"/></progress>\n",
       "<span class=\"Progress-label\"><strong>100%</strong></span>\n",
       "<span class=\"Iteration-label\">12/12</span>\n",
       "<span class=\"Time-label\">[00:07<00:00, 0.58s/it]</span></div>"
      ],
      "text/plain": [
       "\u001b[A\u001b[2K\r",
       "Innocence Reach [█████████████████████████████████████████████] 12/12 [00:07<00:00, 0.58s/it]"
      ]
     },
     "metadata": {},
     "output_type": "display_data"
    },
    {
     "data": {
      "text/html": [
       "<div><span class=\"Text-label\" style=\"display:inline-block; overflow:hidden; white-space:nowrap; text-overflow:ellipsis; min-width:15ex; max-width:15ex; vertical-align:middle; text-align:right\">MY WOMAN by Angel Olsen</span>\n",
       "<progress style=\"width:45ex\" max=\"10\" value=\"10\" class=\"Progress-main\"/></progress>\n",
       "<span class=\"Progress-label\"><strong>100%</strong></span>\n",
       "<span class=\"Iteration-label\">10/10</span>\n",
       "<span class=\"Time-label\">[00:06<00:00, 0.57s/it]</span></div>"
      ],
      "text/plain": [
       "\u001b[A\u001b[2K\r",
       "MY WOMAN by Ang [█████████████████████████████████████████████] 10/10 [00:06<00:00, 0.57s/it]"
      ]
     },
     "metadata": {},
     "output_type": "display_data"
    },
    {
     "data": {
      "text/html": [
       "<div><span class=\"Text-label\" style=\"display:inline-block; overflow:hidden; white-space:nowrap; text-overflow:ellipsis; min-width:15ex; max-width:15ex; vertical-align:middle; text-align:right\">Birds In The Trap Sing McKnight by Travis Scott</span>\n",
       "<progress style=\"width:45ex\" max=\"14\" value=\"14\" class=\"Progress-main\"/></progress>\n",
       "<span class=\"Progress-label\"><strong>100%</strong></span>\n",
       "<span class=\"Iteration-label\">14/14</span>\n",
       "<span class=\"Time-label\">[00:07<00:00, 0.51s/it]</span></div>"
      ],
      "text/plain": [
       "\u001b[A\u001b[2K\r",
       "Birds In The Tr [█████████████████████████████████████████████] 14/14 [00:07<00:00, 0.51s/it]"
      ]
     },
     "metadata": {},
     "output_type": "display_data"
    },
    {
     "data": {
      "text/html": [
       "<div><span class=\"Text-label\" style=\"display:inline-block; overflow:hidden; white-space:nowrap; text-overflow:ellipsis; min-width:15ex; max-width:15ex; vertical-align:middle; text-align:right\">Prima Donna by Vince Staples</span>\n",
       "<progress style=\"width:45ex\" max=\"7\" value=\"7\" class=\"Progress-main\"/></progress>\n",
       "<span class=\"Progress-label\"><strong>100%</strong></span>\n",
       "<span class=\"Iteration-label\">7/7</span>\n",
       "<span class=\"Time-label\">[00:03<00:00, 0.46s/it]</span></div>"
      ],
      "text/plain": [
       "\u001b[A\u001b[2K\r",
       "Prima Donna by  [█████████████████████████████████████████████] 7/7 [00:03<00:00, 0.46s/it]"
      ]
     },
     "metadata": {},
     "output_type": "display_data"
    },
    {
     "data": {
      "text/html": [
       "<div><span class=\"Text-label\" style=\"display:inline-block; overflow:hidden; white-space:nowrap; text-overflow:ellipsis; min-width:15ex; max-width:15ex; vertical-align:middle; text-align:right\">JEFFERY by Young Thug</span>\n",
       "<progress style=\"width:45ex\" max=\"10\" value=\"10\" class=\"Progress-main\"/></progress>\n",
       "<span class=\"Progress-label\"><strong>100%</strong></span>\n",
       "<span class=\"Iteration-label\">10/10</span>\n",
       "<span class=\"Time-label\">[00:05<00:00, 0.50s/it]</span></div>"
      ],
      "text/plain": [
       "\u001b[A\u001b[2K\r",
       "JEFFERY by Youn [█████████████████████████████████████████████] 10/10 [00:05<00:00, 0.50s/it]"
      ]
     },
     "metadata": {},
     "output_type": "display_data"
    },
    {
     "data": {
      "text/html": [
       "<div><span class=\"Text-label\" style=\"display:inline-block; overflow:hidden; white-space:nowrap; text-overflow:ellipsis; min-width:15ex; max-width:15ex; vertical-align:middle; text-align:right\">EMOTION SIDE B by Carly Rae Jepsen</span>\n",
       "<progress style=\"width:45ex\" max=\"8\" value=\"8\" class=\"Progress-main\"/></progress>\n",
       "<span class=\"Progress-label\"><strong>100%</strong></span>\n",
       "<span class=\"Iteration-label\">8/8</span>\n",
       "<span class=\"Time-label\">[00:04<00:01, 0.56s/it]</span></div>"
      ],
      "text/plain": [
       "\u001b[A\u001b[2K\r",
       "EMOTION SIDE B  [█████████████████████████████████████████████] 8/8 [00:04<00:01, 0.56s/it]"
      ]
     },
     "metadata": {},
     "output_type": "display_data"
    },
    {
     "data": {
      "text/html": [
       "<div><span class=\"Text-label\" style=\"display:inline-block; overflow:hidden; white-space:nowrap; text-overflow:ellipsis; min-width:15ex; max-width:15ex; vertical-align:middle; text-align:right\">Honor Killed the Samurai by Ka</span>\n",
       "<progress style=\"width:45ex\" max=\"10\" value=\"10\" class=\"Progress-main\"/></progress>\n",
       "<span class=\"Progress-label\"><strong>100%</strong></span>\n",
       "<span class=\"Iteration-label\">10/10</span>\n",
       "<span class=\"Time-label\">[00:05<00:00, 0.48s/it]</span></div>"
      ],
      "text/plain": [
       "\u001b[A\u001b[2K\r",
       "Honor Killed th [█████████████████████████████████████████████] 10/10 [00:05<00:00, 0.48s/it]"
      ]
     },
     "metadata": {},
     "output_type": "display_data"
    },
    {
     "data": {
      "text/html": [
       "<div><span class=\"Text-label\" style=\"display:inline-block; overflow:hidden; white-space:nowrap; text-overflow:ellipsis; min-width:15ex; max-width:15ex; vertical-align:middle; text-align:right\">The Bible 2 by AJJ</span>\n",
       "<progress style=\"width:45ex\" max=\"11\" value=\"11\" class=\"Progress-main\"/></progress>\n",
       "<span class=\"Progress-label\"><strong>100%</strong></span>\n",
       "<span class=\"Iteration-label\">11/11</span>\n",
       "<span class=\"Time-label\">[00:04<00:00, 0.41s/it]</span></div>"
      ],
      "text/plain": [
       "\u001b[A\u001b[2K\r",
       "The Bible 2 by  [█████████████████████████████████████████████] 11/11 [00:04<00:00, 0.41s/it]"
      ]
     },
     "metadata": {},
     "output_type": "display_data"
    },
    {
     "data": {
      "text/html": [
       "<div><span class=\"Text-label\" style=\"display:inline-block; overflow:hidden; white-space:nowrap; text-overflow:ellipsis; min-width:15ex; max-width:15ex; vertical-align:middle; text-align:right\">Amnesty (I) by Crystal Castles</span>\n",
       "<progress style=\"width:45ex\" max=\"11\" value=\"11\" class=\"Progress-main\"/></progress>\n",
       "<span class=\"Progress-label\"><strong>100%</strong></span>\n",
       "<span class=\"Iteration-label\">11/11</span>\n",
       "<span class=\"Time-label\">[00:06<00:00, 0.54s/it]</span></div>"
      ],
      "text/plain": [
       "\u001b[A\u001b[2K\r",
       "Amnesty (I) by  [█████████████████████████████████████████████] 11/11 [00:06<00:00, 0.54s/it]"
      ]
     },
     "metadata": {},
     "output_type": "display_data"
    },
    {
     "data": {
      "text/html": [
       "<div><span class=\"Text-label\" style=\"display:inline-block; overflow:hidden; white-space:nowrap; text-overflow:ellipsis; min-width:15ex; max-width:15ex; vertical-align:middle; text-align:right\">Blonde by Frank Ocean</span>\n",
       "<progress style=\"width:45ex\" max=\"17\" value=\"17\" class=\"Progress-main\"/></progress>\n",
       "<span class=\"Progress-label\"><strong>100%</strong></span>\n",
       "<span class=\"Iteration-label\">17/17</span>\n",
       "<span class=\"Time-label\">[00:06<00:01, 0.36s/it]</span></div>"
      ],
      "text/plain": [
       "\u001b[A\u001b[2K\r",
       "Blonde by Frank [█████████████████████████████████████████████] 17/17 [00:06<00:01, 0.36s/it]"
      ]
     },
     "metadata": {},
     "output_type": "display_data"
    },
    {
     "data": {
      "text/html": [
       "<div><span class=\"Text-label\" style=\"display:inline-block; overflow:hidden; white-space:nowrap; text-overflow:ellipsis; min-width:15ex; max-width:15ex; vertical-align:middle; text-align:right\">A Weird Exits by Thee Oh Sees</span>\n",
       "<progress style=\"width:45ex\" max=\"8\" value=\"8\" class=\"Progress-main\"/></progress>\n",
       "<span class=\"Progress-label\"><strong>100%</strong></span>\n",
       "<span class=\"Iteration-label\">8/8</span>\n",
       "<span class=\"Time-label\">[00:04<00:01, 0.51s/it]</span></div>"
      ],
      "text/plain": [
       "\u001b[A\u001b[2K\r",
       "A Weird Exits b [█████████████████████████████████████████████] 8/8 [00:04<00:01, 0.51s/it]"
      ]
     },
     "metadata": {},
     "output_type": "display_data"
    },
    {
     "data": {
      "text/html": [
       "<div><span class=\"Text-label\" style=\"display:inline-block; overflow:hidden; white-space:nowrap; text-overflow:ellipsis; min-width:15ex; max-width:15ex; vertical-align:middle; text-align:right\">SremmLife 2 (Deluxe) by Rae Sremmurd</span>\n",
       "<progress style=\"width:45ex\" max=\"14\" value=\"14\" class=\"Progress-main\"/></progress>\n",
       "<span class=\"Progress-label\"><strong>100%</strong></span>\n",
       "<span class=\"Iteration-label\">14/14</span>\n",
       "<span class=\"Time-label\">[00:07<00:00, 0.49s/it]</span></div>"
      ],
      "text/plain": [
       "\u001b[A\u001b[2K\r",
       "SremmLife 2 (De [█████████████████████████████████████████████] 14/14 [00:07<00:00, 0.49s/it]"
      ]
     },
     "metadata": {},
     "output_type": "display_data"
    },
    {
     "data": {
      "text/html": [
       "<div><span class=\"Text-label\" style=\"display:inline-block; overflow:hidden; white-space:nowrap; text-overflow:ellipsis; min-width:15ex; max-width:15ex; vertical-align:middle; text-align:right\">PARTYNEXTDOOR 3 (P3) by PARTYNEXTDOOR</span>\n",
       "<progress style=\"width:45ex\" max=\"16\" value=\"16\" class=\"Progress-main\"/></progress>\n",
       "<span class=\"Progress-label\"><strong>100%</strong></span>\n",
       "<span class=\"Iteration-label\">16/16</span>\n",
       "<span class=\"Time-label\">[00:08<00:00, 0.52s/it]</span></div>"
      ],
      "text/plain": [
       "\u001b[A\u001b[2K\r",
       "PARTYNEXTDOOR 3 [█████████████████████████████████████████████] 16/16 [00:08<00:00, 0.52s/it]"
      ]
     },
     "metadata": {},
     "output_type": "display_data"
    },
    {
     "data": {
      "text/html": [
       "<div><span class=\"Text-label\" style=\"display:inline-block; overflow:hidden; white-space:nowrap; text-overflow:ellipsis; min-width:15ex; max-width:15ex; vertical-align:middle; text-align:right\">The Perfect LUV Tape by Lil Uzi Vert</span>\n",
       "<progress style=\"width:45ex\" max=\"10\" value=\"10\" class=\"Progress-main\"/></progress>\n",
       "<span class=\"Progress-label\"><strong>100%</strong></span>\n",
       "<span class=\"Iteration-label\">10/10</span>\n",
       "<span class=\"Time-label\">[00:04<00:00, 0.37s/it]</span></div>"
      ],
      "text/plain": [
       "\u001b[A\u001b[2K\r",
       "The Perfect LUV [█████████████████████████████████████████████] 10/10 [00:04<00:00, 0.37s/it]"
      ]
     },
     "metadata": {},
     "output_type": "display_data"
    },
    {
     "data": {
      "text/html": [
       "<div><span class=\"Text-label\" style=\"display:inline-block; overflow:hidden; white-space:nowrap; text-overflow:ellipsis; min-width:15ex; max-width:15ex; vertical-align:middle; text-align:right\">Telefone by Noname</span>\n",
       "<progress style=\"width:45ex\" max=\"10\" value=\"10\" class=\"Progress-main\"/></progress>\n",
       "<span class=\"Progress-label\"><strong>100%</strong></span>\n",
       "<span class=\"Iteration-label\">10/10</span>\n",
       "<span class=\"Time-label\">[00:05<00:00, 0.47s/it]</span></div>"
      ],
      "text/plain": [
       "\u001b[A\u001b[2K\r",
       "Telefone by Non [█████████████████████████████████████████████] 10/10 [00:05<00:00, 0.47s/it]"
      ]
     },
     "metadata": {},
     "output_type": "display_data"
    },
    {
     "data": {
      "text/html": [
       "<div><span class=\"Text-label\" style=\"display:inline-block; overflow:hidden; white-space:nowrap; text-overflow:ellipsis; min-width:15ex; max-width:15ex; vertical-align:middle; text-align:right\">Dungeon Bastards by Ghoul</span>\n",
       "<progress style=\"width:45ex\" max=\"10\" value=\"10\" class=\"Progress-main\"/></progress>\n",
       "<span class=\"Progress-label\"><strong>100%</strong></span>\n",
       "<span class=\"Iteration-label\">10/10</span>\n",
       "<span class=\"Time-label\">[00:05<00:00, 0.53s/it]</span></div>"
      ],
      "text/plain": [
       "\u001b[A\u001b[2K\r",
       "Dungeon Bastard [█████████████████████████████████████████████] 10/10 [00:05<00:00, 0.53s/it]"
      ]
     },
     "metadata": {},
     "output_type": "display_data"
    },
    {
     "data": {
      "text/html": [
       "<div><span class=\"Text-label\" style=\"display:inline-block; overflow:hidden; white-space:nowrap; text-overflow:ellipsis; min-width:15ex; max-width:15ex; vertical-align:middle; text-align:right\">Hypercaffium Spazzinate (Deluxe Edition) by Descendents</span>\n",
       "<progress style=\"width:45ex\" max=\"21\" value=\"21\" class=\"Progress-main\"/></progress>\n",
       "<span class=\"Progress-label\"><strong>100%</strong></span>\n",
       "<span class=\"Iteration-label\">21/21</span>\n",
       "<span class=\"Time-label\">[00:09<00:00, 0.43s/it]</span></div>"
      ],
      "text/plain": [
       "\u001b[A\u001b[2K\r",
       "Hypercaffium Sp [█████████████████████████████████████████████] 21/21 [00:09<00:00, 0.43s/it]"
      ]
     },
     "metadata": {},
     "output_type": "display_data"
    },
    {
     "data": {
      "text/html": [
       "<div><span class=\"Text-label\" style=\"display:inline-block; overflow:hidden; white-space:nowrap; text-overflow:ellipsis; min-width:15ex; max-width:15ex; vertical-align:middle; text-align:right\">Body War by Show Me the Body</span>\n",
       "<progress style=\"width:45ex\" max=\"10\" value=\"10\" class=\"Progress-main\"/></progress>\n",
       "<span class=\"Progress-label\"><strong>100%</strong></span>\n",
       "<span class=\"Iteration-label\">10/10</span>\n",
       "<span class=\"Time-label\">[00:06<00:01, 0.55s/it]</span></div>"
      ],
      "text/plain": [
       "\u001b[A\u001b[2K\r",
       "Body War by Sho [█████████████████████████████████████████████] 10/10 [00:06<00:01, 0.55s/it]"
      ]
     },
     "metadata": {},
     "output_type": "display_data"
    },
    {
     "data": {
      "text/html": [
       "<div><span class=\"Text-label\" style=\"display:inline-block; overflow:hidden; white-space:nowrap; text-overflow:ellipsis; min-width:15ex; max-width:15ex; vertical-align:middle; text-align:right\">paidprogramming2 by BONES</span>\n",
       "<progress style=\"width:45ex\" max=\"25\" value=\"25\" class=\"Progress-main\"/></progress>\n",
       "<span class=\"Progress-label\"><strong>100%</strong></span>\n",
       "<span class=\"Iteration-label\">25/25</span>\n",
       "<span class=\"Time-label\">[00:14<00:03, 0.58s/it]</span></div>"
      ],
      "text/plain": [
       "\u001b[A\u001b[2K\r",
       "paidprogramming [█████████████████████████████████████████████] 25/25 [00:14<00:03, 0.58s/it]"
      ]
     },
     "metadata": {},
     "output_type": "display_data"
    },
    {
     "data": {
      "text/html": [
       "<div><span class=\"Text-label\" style=\"display:inline-block; overflow:hidden; white-space:nowrap; text-overflow:ellipsis; min-width:15ex; max-width:15ex; vertical-align:middle; text-align:right\">Major Key by DJ Khaled</span>\n",
       "<progress style=\"width:45ex\" max=\"14\" value=\"14\" class=\"Progress-main\"/></progress>\n",
       "<span class=\"Progress-label\"><strong>100%</strong></span>\n",
       "<span class=\"Iteration-label\">14/14</span>\n",
       "<span class=\"Time-label\">[00:08<00:01, 0.57s/it]</span></div>"
      ],
      "text/plain": [
       "\u001b[A\u001b[2K\r",
       "Major Key by DJ [█████████████████████████████████████████████] 14/14 [00:08<00:01, 0.57s/it]"
      ]
     },
     "metadata": {},
     "output_type": "display_data"
    },
    {
     "data": {
      "text/html": [
       "<div><span class=\"Text-label\" style=\"display:inline-block; overflow:hidden; white-space:nowrap; text-overflow:ellipsis; min-width:15ex; max-width:15ex; vertical-align:middle; text-align:right\">Negus by Kemba</span>\n",
       "<progress style=\"width:45ex\" max=\"12\" value=\"12\" class=\"Progress-main\"/></progress>\n",
       "<span class=\"Progress-label\"><strong>100%</strong></span>\n",
       "<span class=\"Iteration-label\">12/12</span>\n",
       "<span class=\"Time-label\">[00:06<00:00, 0.53s/it]</span></div>"
      ],
      "text/plain": [
       "\u001b[A\u001b[2K\r",
       " Negus by Kemba [█████████████████████████████████████████████] 12/12 [00:06<00:00, 0.53s/it]"
      ]
     },
     "metadata": {},
     "output_type": "display_data"
    },
    {
     "data": {
      "text/html": [
       "<div><span class=\"Text-label\" style=\"display:inline-block; overflow:hidden; white-space:nowrap; text-overflow:ellipsis; min-width:15ex; max-width:15ex; vertical-align:middle; text-align:right\">Everybody Looking by Gucci Mane</span>\n",
       "<progress style=\"width:45ex\" max=\"15\" value=\"15\" class=\"Progress-main\"/></progress>\n",
       "<span class=\"Progress-label\"><strong>100%</strong></span>\n",
       "<span class=\"Iteration-label\">15/15</span>\n",
       "<span class=\"Time-label\">[00:07<00:01, 0.46s/it]</span></div>"
      ],
      "text/plain": [
       "\u001b[A\u001b[2K\r",
       "Everybody Looki [█████████████████████████████████████████████] 15/15 [00:07<00:01, 0.46s/it]"
      ]
     },
     "metadata": {},
     "output_type": "display_data"
    },
    {
     "data": {
      "text/html": [
       "<div><span class=\"Text-label\" style=\"display:inline-block; overflow:hidden; white-space:nowrap; text-overflow:ellipsis; min-width:15ex; max-width:15ex; vertical-align:middle; text-align:right\">Summer Songs 2 by Lil Yachty</span>\n",
       "<progress style=\"width:45ex\" max=\"14\" value=\"14\" class=\"Progress-main\"/></progress>\n",
       "<span class=\"Progress-label\"><strong>100%</strong></span>\n",
       "<span class=\"Iteration-label\">14/14</span>\n",
       "<span class=\"Time-label\">[00:08<00:01, 0.54s/it]</span></div>"
      ],
      "text/plain": [
       "\u001b[A\u001b[2K\r",
       "Summer Songs 2  [█████████████████████████████████████████████] 14/14 [00:08<00:01, 0.54s/it]"
      ]
     },
     "metadata": {},
     "output_type": "display_data"
    },
    {
     "data": {
      "text/html": [
       "<div><span class=\"Text-label\" style=\"display:inline-block; overflow:hidden; white-space:nowrap; text-overflow:ellipsis; min-width:15ex; max-width:15ex; vertical-align:middle; text-align:right\">The Bride by Bat For Lashes</span>\n",
       "<progress style=\"width:45ex\" max=\"13\" value=\"13\" class=\"Progress-main\"/></progress>\n",
       "<span class=\"Progress-label\"><strong>100%</strong></span>\n",
       "<span class=\"Iteration-label\">13/13</span>\n",
       "<span class=\"Time-label\">[00:06<00:00, 0.50s/it]</span></div>"
      ],
      "text/plain": [
       "\u001b[A\u001b[2K\r",
       "The Bride by Ba [█████████████████████████████████████████████] 13/13 [00:06<00:00, 0.50s/it]"
      ]
     },
     "metadata": {},
     "output_type": "display_data"
    },
    {
     "data": {
      "text/html": [
       "<div><span class=\"Text-label\" style=\"display:inline-block; overflow:hidden; white-space:nowrap; text-overflow:ellipsis; min-width:15ex; max-width:15ex; vertical-align:middle; text-align:right\">Scum With Boundaries by The I.L.Y's</span>\n",
       "<progress style=\"width:45ex\" max=\"11\" value=\"11\" class=\"Progress-main\"/></progress>\n",
       "<span class=\"Progress-label\"><strong>100%</strong></span>\n",
       "<span class=\"Iteration-label\">11/11</span>\n",
       "<span class=\"Time-label\">[00:05<00:01, 0.44s/it]</span></div>"
      ],
      "text/plain": [
       "\u001b[A\u001b[2K\r",
       "Scum With Bound [█████████████████████████████████████████████] 11/11 [00:05<00:01, 0.44s/it]"
      ]
     },
     "metadata": {},
     "output_type": "display_data"
    },
    {
     "data": {
      "text/html": [
       "<div><span class=\"Text-label\" style=\"display:inline-block; overflow:hidden; white-space:nowrap; text-overflow:ellipsis; min-width:15ex; max-width:15ex; vertical-align:middle; text-align:right\">Handshakes with Snakes by Apathy</span>\n",
       "<progress style=\"width:45ex\" max=\"13\" value=\"13\" class=\"Progress-main\"/></progress>\n",
       "<span class=\"Progress-label\"><strong>100%</strong></span>\n",
       "<span class=\"Iteration-label\">13/13</span>\n",
       "<span class=\"Time-label\">[00:08<00:01, 0.60s/it]</span></div>"
      ],
      "text/plain": [
       "\u001b[A\u001b[2K\r",
       "Handshakes with [█████████████████████████████████████████████] 13/13 [00:08<00:01, 0.60s/it]"
      ]
     },
     "metadata": {},
     "output_type": "display_data"
    },
    {
     "data": {
      "text/html": [
       "<div><span class=\"Text-label\" style=\"display:inline-block; overflow:hidden; white-space:nowrap; text-overflow:ellipsis; min-width:15ex; max-width:15ex; vertical-align:middle; text-align:right\">32 Levels (Deluxe) by Clams Casino</span>\n",
       "<progress style=\"width:45ex\" max=\"24\" value=\"24\" class=\"Progress-main\"/></progress>\n",
       "<span class=\"Progress-label\"><strong>100%</strong></span>\n",
       "<span class=\"Iteration-label\">24/24</span>\n",
       "<span class=\"Time-label\">[00:11<00:00, 0.44s/it]</span></div>"
      ],
      "text/plain": [
       "\u001b[A\u001b[2K\r",
       "32 Levels (Delu [█████████████████████████████████████████████] 24/24 [00:11<00:00, 0.44s/it]"
      ]
     },
     "metadata": {},
     "output_type": "display_data"
    },
    {
     "data": {
      "text/html": [
       "<div><span class=\"Text-label\" style=\"display:inline-block; overflow:hidden; white-space:nowrap; text-overflow:ellipsis; min-width:15ex; max-width:15ex; vertical-align:middle; text-align:right\">Blank Face LP by ScHoolboy Q</span>\n",
       "<progress style=\"width:45ex\" max=\"17\" value=\"17\" class=\"Progress-main\"/></progress>\n",
       "<span class=\"Progress-label\"><strong>100%</strong></span>\n",
       "<span class=\"Iteration-label\">17/17</span>\n",
       "<span class=\"Time-label\">[00:13<00:00, 0.76s/it]</span></div>"
      ],
      "text/plain": [
       "\u001b[A\u001b[2K\r",
       "Blank Face LP b [█████████████████████████████████████████████] 17/17 [00:13<00:00, 0.76s/it]"
      ]
     },
     "metadata": {},
     "output_type": "display_data"
    },
    {
     "data": {
      "text/html": [
       "<div><span class=\"Text-label\" style=\"display:inline-block; overflow:hidden; white-space:nowrap; text-overflow:ellipsis; min-width:15ex; max-width:15ex; vertical-align:middle; text-align:right\">IV by BADBADNOTGOOD</span>\n",
       "<progress style=\"width:45ex\" max=\"11\" value=\"11\" class=\"Progress-main\"/></progress>\n",
       "<span class=\"Progress-label\"><strong>100%</strong></span>\n",
       "<span class=\"Iteration-label\">11/11</span>\n",
       "<span class=\"Time-label\">[00:06<00:01, 0.51s/it]</span></div>"
      ],
      "text/plain": [
       "\u001b[A\u001b[2K\r",
       "IV by BADBADNOT [█████████████████████████████████████████████] 11/11 [00:06<00:01, 0.51s/it]"
      ]
     },
     "metadata": {},
     "output_type": "display_data"
    },
    {
     "data": {
      "text/html": [
       "<div><span class=\"Text-label\" style=\"display:inline-block; overflow:hidden; white-space:nowrap; text-overflow:ellipsis; min-width:15ex; max-width:15ex; vertical-align:middle; text-align:right\">City Sun Eater in the River of Light by Woods</span>\n",
       "<progress style=\"width:45ex\" max=\"10\" value=\"10\" class=\"Progress-main\"/></progress>\n",
       "<span class=\"Progress-label\"><strong>100%</strong></span>\n",
       "<span class=\"Iteration-label\">10/10</span>\n",
       "<span class=\"Time-label\">[00:06<00:00, 0.57s/it]</span></div>"
      ],
      "text/plain": [
       "\u001b[A\u001b[2K\r",
       "City Sun Eater  [█████████████████████████████████████████████] 10/10 [00:06<00:00, 0.57s/it]"
      ]
     },
     "metadata": {},
     "output_type": "display_data"
    },
    {
     "data": {
      "text/html": [
       "<div><span class=\"Text-label\" style=\"display:inline-block; overflow:hidden; white-space:nowrap; text-overflow:ellipsis; min-width:15ex; max-width:15ex; vertical-align:middle; text-align:right\">The Magic by Deerhoof</span>\n",
       "<progress style=\"width:45ex\" max=\"15\" value=\"15\" class=\"Progress-main\"/></progress>\n",
       "<span class=\"Progress-label\"><strong>100%</strong></span>\n",
       "<span class=\"Iteration-label\">15/15</span>\n",
       "<span class=\"Time-label\">[00:08<00:01, 0.51s/it]</span></div>"
      ],
      "text/plain": [
       "\u001b[A\u001b[2K\r",
       "The Magic by De [█████████████████████████████████████████████] 15/15 [00:08<00:01, 0.51s/it]"
      ]
     },
     "metadata": {},
     "output_type": "display_data"
    },
    {
     "data": {
      "text/html": [
       "<div><span class=\"Text-label\" style=\"display:inline-block; overflow:hidden; white-space:nowrap; text-overflow:ellipsis; min-width:15ex; max-width:15ex; vertical-align:middle; text-align:right\">Wildflower by The Avalanches</span>\n",
       "<progress style=\"width:45ex\" max=\"22\" value=\"22\" class=\"Progress-main\"/></progress>\n",
       "<span class=\"Progress-label\"><strong>100%</strong></span>\n",
       "<span class=\"Iteration-label\">22/22</span>\n",
       "<span class=\"Time-label\">[00:13<00:01, 0.58s/it]</span></div>"
      ],
      "text/plain": [
       "\u001b[A\u001b[2K\r",
       "Wildflower by T [█████████████████████████████████████████████] 22/22 [00:13<00:01, 0.58s/it]"
      ]
     },
     "metadata": {},
     "output_type": "display_data"
    },
    {
     "data": {
      "text/html": [
       "<div><span class=\"Text-label\" style=\"display:inline-block; overflow:hidden; white-space:nowrap; text-overflow:ellipsis; min-width:15ex; max-width:15ex; vertical-align:middle; text-align:right\">Freetown Sound by Blood Orange</span>\n",
       "<progress style=\"width:45ex\" max=\"17\" value=\"17\" class=\"Progress-main\"/></progress>\n",
       "<span class=\"Progress-label\"><strong>100%</strong></span>\n",
       "<span class=\"Iteration-label\">17/17</span>\n",
       "<span class=\"Time-label\">[00:09<00:00, 0.50s/it]</span></div>"
      ],
      "text/plain": [
       "\u001b[A\u001b[2K\r",
       "Freetown Sound  [█████████████████████████████████████████████] 17/17 [00:09<00:00, 0.50s/it]"
      ]
     },
     "metadata": {},
     "output_type": "display_data"
    },
    {
     "data": {
      "text/html": [
       "<div><span class=\"Text-label\" style=\"display:inline-block; overflow:hidden; white-space:nowrap; text-overflow:ellipsis; min-width:15ex; max-width:15ex; vertical-align:middle; text-align:right\">case/lang/veirs by case/lang/veirs</span>\n",
       "<progress style=\"width:45ex\" max=\"14\" value=\"14\" class=\"Progress-main\"/></progress>\n",
       "<span class=\"Progress-label\"><strong>100%</strong></span>\n",
       "<span class=\"Iteration-label\">14/14</span>\n",
       "<span class=\"Time-label\">[00:09<00:01, 0.64s/it]</span></div>"
      ],
      "text/plain": [
       "\u001b[A\u001b[2K\r",
       "case/lang/veirs [█████████████████████████████████████████████] 14/14 [00:09<00:01, 0.64s/it]"
      ]
     },
     "metadata": {},
     "output_type": "display_data"
    },
    {
     "data": {
      "text/html": [
       "<div><span class=\"Text-label\" style=\"display:inline-block; overflow:hidden; white-space:nowrap; text-overflow:ellipsis; min-width:15ex; max-width:15ex; vertical-align:middle; text-align:right\">Peach Panther by Riff Raff</span>\n",
       "<progress style=\"width:45ex\" max=\"12\" value=\"12\" class=\"Progress-main\"/></progress>\n",
       "<span class=\"Progress-label\"><strong>100%</strong></span>\n",
       "<span class=\"Iteration-label\">12/12</span>\n",
       "<span class=\"Time-label\">[00:06<00:00, 0.51s/it]</span></div>"
      ],
      "text/plain": [
       "\u001b[A\u001b[2K\r",
       "Peach Panther b [█████████████████████████████████████████████] 12/12 [00:06<00:00, 0.51s/it]"
      ]
     },
     "metadata": {},
     "output_type": "display_data"
    },
    {
     "data": {
      "text/html": [
       "<div><span class=\"Text-label\" style=\"display:inline-block; overflow:hidden; white-space:nowrap; text-overflow:ellipsis; min-width:15ex; max-width:15ex; vertical-align:middle; text-align:right\">The Getaway by Red Hot Chili Peppers</span>\n",
       "<progress style=\"width:45ex\" max=\"13\" value=\"13\" class=\"Progress-main\"/></progress>\n",
       "<span class=\"Progress-label\"><strong>100%</strong></span>\n",
       "<span class=\"Iteration-label\">13/13</span>\n",
       "<span class=\"Time-label\">[00:08<00:00, 0.62s/it]</span></div>"
      ],
      "text/plain": [
       "\u001b[A\u001b[2K\r",
       "The Getaway by  [█████████████████████████████████████████████] 13/13 [00:08<00:00, 0.62s/it]"
      ]
     },
     "metadata": {},
     "output_type": "display_data"
    },
    {
     "data": {
      "text/html": [
       "<div><span class=\"Text-label\" style=\"display:inline-block; overflow:hidden; white-space:nowrap; text-overflow:ellipsis; min-width:15ex; max-width:15ex; vertical-align:middle; text-align:right\">Lil Big Pac by Kodak Black</span>\n",
       "<progress style=\"width:45ex\" max=\"12\" value=\"12\" class=\"Progress-main\"/></progress>\n",
       "<span class=\"Progress-label\"><strong>100%</strong></span>\n",
       "<span class=\"Iteration-label\">12/12</span>\n",
       "<span class=\"Time-label\">[00:08<00:00, 0.66s/it]</span></div>"
      ],
      "text/plain": [
       "\u001b[A\u001b[2K\r",
       "Lil Big Pac by  [█████████████████████████████████████████████] 12/12 [00:08<00:00, 0.66s/it]"
      ]
     },
     "metadata": {},
     "output_type": "display_data"
    },
    {
     "data": {
      "text/html": [
       "<div><span class=\"Text-label\" style=\"display:inline-block; overflow:hidden; white-space:nowrap; text-overflow:ellipsis; min-width:15ex; max-width:15ex; vertical-align:middle; text-align:right\">The Glowing Man by Swans</span>\n",
       "<progress style=\"width:45ex\" max=\"8\" value=\"8\" class=\"Progress-main\"/></progress>\n",
       "<span class=\"Progress-label\"><strong>100%</strong></span>\n",
       "<span class=\"Iteration-label\">8/8</span>\n",
       "<span class=\"Time-label\">[00:08<00:01, 0.98s/it]</span></div>"
      ],
      "text/plain": [
       "\u001b[A\u001b[2K\r",
       "The Glowing Man [█████████████████████████████████████████████] 8/8 [00:08<00:01, 0.98s/it]"
      ]
     },
     "metadata": {},
     "output_type": "display_data"
    },
    {
     "data": {
      "text/html": [
       "<div><span class=\"Text-label\" style=\"display:inline-block; overflow:hidden; white-space:nowrap; text-overflow:ellipsis; min-width:15ex; max-width:15ex; vertical-align:middle; text-align:right\">Wriggle by clipping.</span>\n",
       "<progress style=\"width:45ex\" max=\"6\" value=\"6\" class=\"Progress-main\"/></progress>\n",
       "<span class=\"Progress-label\"><strong>100%</strong></span>\n",
       "<span class=\"Iteration-label\">6/6</span>\n",
       "<span class=\"Time-label\">[00:04<00:00, 0.75s/it]</span></div>"
      ],
      "text/plain": [
       "\u001b[A\u001b[2K\r",
       "Wriggle by clip [█████████████████████████████████████████████] 6/6 [00:04<00:00, 0.75s/it]"
      ]
     },
     "metadata": {},
     "output_type": "display_data"
    },
    {
     "data": {
      "text/html": [
       "<div><span class=\"Text-label\" style=\"display:inline-block; overflow:hidden; white-space:nowrap; text-overflow:ellipsis; min-width:15ex; max-width:15ex; vertical-align:middle; text-align:right\">The Human Condition by Jon Bellion</span>\n",
       "<progress style=\"width:45ex\" max=\"14\" value=\"14\" class=\"Progress-main\"/></progress>\n",
       "<span class=\"Progress-label\"><strong>100%</strong></span>\n",
       "<span class=\"Iteration-label\">14/14</span>\n",
       "<span class=\"Time-label\">[00:09<00:01, 0.66s/it]</span></div>"
      ],
      "text/plain": [
       "\u001b[A\u001b[2K\r",
       "The Human Condi [█████████████████████████████████████████████] 14/14 [00:09<00:01, 0.66s/it]"
      ]
     },
     "metadata": {},
     "output_type": "display_data"
    },
    {
     "data": {
      "text/html": [
       "<div><span class=\"Text-label\" style=\"display:inline-block; overflow:hidden; white-space:nowrap; text-overflow:ellipsis; min-width:15ex; max-width:15ex; vertical-align:middle; text-align:right\">You Will Never Be One of Us by Nails</span>\n",
       "<progress style=\"width:45ex\" max=\"10\" value=\"10\" class=\"Progress-main\"/></progress>\n",
       "<span class=\"Progress-label\"><strong>100%</strong></span>\n",
       "<span class=\"Iteration-label\">10/10</span>\n",
       "<span class=\"Time-label\">[00:04<00:00, 0.44s/it]</span></div>"
      ],
      "text/plain": [
       "\u001b[A\u001b[2K\r",
       "You Will Never  [█████████████████████████████████████████████] 10/10 [00:04<00:00, 0.44s/it]"
      ]
     },
     "metadata": {},
     "output_type": "display_data"
    },
    {
     "data": {
      "text/html": [
       "<div><span class=\"Text-label\" style=\"display:inline-block; overflow:hidden; white-space:nowrap; text-overflow:ellipsis; min-width:15ex; max-width:15ex; vertical-align:middle; text-align:right\">Still Brazy (Deluxe) by YG</span>\n",
       "<progress style=\"width:45ex\" max=\"17\" value=\"17\" class=\"Progress-main\"/></progress>\n",
       "<span class=\"Progress-label\"><strong>100%</strong></span>\n",
       "<span class=\"Iteration-label\">17/17</span>\n",
       "<span class=\"Time-label\">[00:09<00:00, 0.54s/it]</span></div>"
      ],
      "text/plain": [
       "\u001b[A\u001b[2K\r",
       "Still Brazy (De [█████████████████████████████████████████████] 17/17 [00:09<00:00, 0.54s/it]"
      ]
     },
     "metadata": {},
     "output_type": "display_data"
    },
    {
     "data": {
      "text/html": [
       "<div><span class=\"Text-label\" style=\"display:inline-block; overflow:hidden; white-space:nowrap; text-overflow:ellipsis; min-width:15ex; max-width:15ex; vertical-align:middle; text-align:right\">The Rise and Fall of Ziggy Stardust and the Spiders from Mars (2012 Remaster) by David Bowie</span>\n",
       "<progress style=\"width:45ex\" max=\"11\" value=\"11\" class=\"Progress-main\"/></progress>\n",
       "<span class=\"Progress-label\"><strong>100%</strong></span>\n",
       "<span class=\"Iteration-label\">11/11</span>\n",
       "<span class=\"Time-label\">[00:07<00:00, 0.65s/it]</span></div>"
      ],
      "text/plain": [
       "\u001b[A\u001b[2K\r",
       "The Rise and Fa [█████████████████████████████████████████████] 11/11 [00:07<00:00, 0.65s/it]"
      ]
     },
     "metadata": {},
     "output_type": "display_data"
    },
    {
     "data": {
      "text/html": [
       "<div><span class=\"Text-label\" style=\"display:inline-block; overflow:hidden; white-space:nowrap; text-overflow:ellipsis; min-width:15ex; max-width:15ex; vertical-align:middle; text-align:right\">The Glow, Pt. 2 by The Microphones</span>\n",
       "<progress style=\"width:45ex\" max=\"20\" value=\"20\" class=\"Progress-main\"/></progress>\n",
       "<span class=\"Progress-label\"><strong>100%</strong></span>\n",
       "<span class=\"Iteration-label\">20/20</span>\n",
       "<span class=\"Time-label\">[00:11<00:01, 0.57s/it]</span></div>"
      ],
      "text/plain": [
       "\u001b[A\u001b[2K\r",
       "The Glow, Pt. 2 [█████████████████████████████████████████████] 20/20 [00:11<00:01, 0.57s/it]"
      ]
     },
     "metadata": {},
     "output_type": "display_data"
    },
    {
     "data": {
      "text/html": [
       "<div><span class=\"Text-label\" style=\"display:inline-block; overflow:hidden; white-space:nowrap; text-overflow:ellipsis; min-width:15ex; max-width:15ex; vertical-align:middle; text-align:right\">Close to the Edge (Deluxe Edition) by Yes</span>\n",
       "<progress style=\"width:45ex\" max=\"7\" value=\"7\" class=\"Progress-main\"/></progress>\n",
       "<span class=\"Progress-label\"><strong>100%</strong></span>\n",
       "<span class=\"Iteration-label\">7/7</span>\n",
       "<span class=\"Time-label\">[00:06<00:01, 0.92s/it]</span></div>"
      ],
      "text/plain": [
       "\u001b[A\u001b[2K\r",
       "Close to the Ed [█████████████████████████████████████████████] 7/7 [00:06<00:01, 0.92s/it]"
      ]
     },
     "metadata": {},
     "output_type": "display_data"
    },
    {
     "data": {
      "text/html": [
       "<div><span class=\"Text-label\" style=\"display:inline-block; overflow:hidden; white-space:nowrap; text-overflow:ellipsis; min-width:15ex; max-width:15ex; vertical-align:middle; text-align:right\">In Utero - 20th Anniversary - Deluxe Edition by Nirvana</span>\n",
       "<progress style=\"width:45ex\" max=\"43\" value=\"43\" class=\"Progress-main\"/></progress>\n",
       "<span class=\"Progress-label\"><strong>100%</strong></span>\n",
       "<span class=\"Iteration-label\">43/43</span>\n",
       "<span class=\"Time-label\">[00:38<00:01, 0.88s/it]</span></div>"
      ],
      "text/plain": [
       "\u001b[A\u001b[2K\r",
       "In Utero - 20th [█████████████████████████████████████████████] 43/43 [00:38<00:01, 0.88s/it]"
      ]
     },
     "metadata": {},
     "output_type": "display_data"
    },
    {
     "data": {
      "text/html": [
       "<div><span class=\"Text-label\" style=\"display:inline-block; overflow:hidden; white-space:nowrap; text-overflow:ellipsis; min-width:15ex; max-width:15ex; vertical-align:middle; text-align:right\">Illmatic by Nas</span>\n",
       "<progress style=\"width:45ex\" max=\"10\" value=\"10\" class=\"Progress-main\"/></progress>\n",
       "<span class=\"Progress-label\"><strong>100%</strong></span>\n",
       "<span class=\"Iteration-label\">10/10</span>\n",
       "<span class=\"Time-label\">[00:07<00:01, 0.69s/it]</span></div>"
      ],
      "text/plain": [
       "\u001b[A\u001b[2K\r",
       "Illmatic by Nas [█████████████████████████████████████████████] 10/10 [00:07<00:01, 0.69s/it]"
      ]
     },
     "metadata": {},
     "output_type": "display_data"
    },
    {
     "data": {
      "text/html": [
       "<div><span class=\"Text-label\" style=\"display:inline-block; overflow:hidden; white-space:nowrap; text-overflow:ellipsis; min-width:15ex; max-width:15ex; vertical-align:middle; text-align:right\">Horses (Legacy Edition) by Patti Smith</span>\n",
       "<progress style=\"width:45ex\" max=\"18\" value=\"18\" class=\"Progress-main\"/></progress>\n",
       "<span class=\"Progress-label\"><strong>100%</strong></span>\n",
       "<span class=\"Iteration-label\">18/18</span>\n",
       "<span class=\"Time-label\">[00:13<00:01, 0.74s/it]</span></div>"
      ],
      "text/plain": [
       "\u001b[A\u001b[2K\r",
       "Horses (Legacy  [█████████████████████████████████████████████] 18/18 [00:13<00:01, 0.74s/it]"
      ]
     },
     "metadata": {},
     "output_type": "display_data"
    },
    {
     "data": {
      "text/html": [
       "<div><span class=\"Text-label\" style=\"display:inline-block; overflow:hidden; white-space:nowrap; text-overflow:ellipsis; min-width:15ex; max-width:15ex; vertical-align:middle; text-align:right\">Black Terry Cat by Xenia Rubinos</span>\n",
       "<progress style=\"width:45ex\" max=\"14\" value=\"14\" class=\"Progress-main\"/></progress>\n",
       "<span class=\"Progress-label\"><strong>100%</strong></span>\n",
       "<span class=\"Iteration-label\">14/14</span>\n",
       "<span class=\"Time-label\">[00:08<00:00, 0.60s/it]</span></div>"
      ],
      "text/plain": [
       "\u001b[A\u001b[2K\r",
       "Black Terry Cat [█████████████████████████████████████████████] 14/14 [00:08<00:00, 0.60s/it]"
      ]
     },
     "metadata": {},
     "output_type": "display_data"
    },
    {
     "data": {
      "text/html": [
       "<div><span class=\"Text-label\" style=\"display:inline-block; overflow:hidden; white-space:nowrap; text-overflow:ellipsis; min-width:15ex; max-width:15ex; vertical-align:middle; text-align:right\">iiiDrops by Joey Purp</span>\n",
       "<progress style=\"width:45ex\" max=\"11\" value=\"11\" class=\"Progress-main\"/></progress>\n",
       "<span class=\"Progress-label\"><strong>100%</strong></span>\n",
       "<span class=\"Iteration-label\">11/11</span>\n",
       "<span class=\"Time-label\">[00:06<00:00, 0.51s/it]</span></div>"
      ],
      "text/plain": [
       "\u001b[A\u001b[2K\r",
       "iiiDrops by Joe [█████████████████████████████████████████████] 11/11 [00:06<00:00, 0.51s/it]"
      ]
     },
     "metadata": {},
     "output_type": "display_data"
    },
    {
     "data": {
      "text/html": [
       "<div><span class=\"Text-label\" style=\"display:inline-block; overflow:hidden; white-space:nowrap; text-overflow:ellipsis; min-width:15ex; max-width:15ex; vertical-align:middle; text-align:right\">Tempo by Olga Bell</span>\n",
       "<progress style=\"width:45ex\" max=\"10\" value=\"10\" class=\"Progress-main\"/></progress>\n",
       "<span class=\"Progress-label\"><strong>100%</strong></span>\n",
       "<span class=\"Iteration-label\">10/10</span>\n",
       "<span class=\"Time-label\">[00:06<00:01, 0.65s/it]</span></div>"
      ],
      "text/plain": [
       "\u001b[A\u001b[2K\r",
       "Tempo by Olga B [█████████████████████████████████████████████] 10/10 [00:06<00:01, 0.65s/it]"
      ]
     },
     "metadata": {},
     "output_type": "display_data"
    },
    {
     "data": {
      "text/html": [
       "<div><span class=\"Text-label\" style=\"display:inline-block; overflow:hidden; white-space:nowrap; text-overflow:ellipsis; min-width:15ex; max-width:15ex; vertical-align:middle; text-align:right\">There's Alot Going On by VIC MENSA</span>\n",
       "<progress style=\"width:45ex\" max=\"7\" value=\"7\" class=\"Progress-main\"/></progress>\n",
       "<span class=\"Progress-label\"><strong>100%</strong></span>\n",
       "<span class=\"Iteration-label\">7/7</span>\n",
       "<span class=\"Time-label\">[00:04<00:00, 0.52s/it]</span></div>"
      ],
      "text/plain": [
       "\u001b[A\u001b[2K\r",
       "There's Alot Go [█████████████████████████████████████████████] 7/7 [00:04<00:00, 0.52s/it]"
      ]
     },
     "metadata": {},
     "output_type": "display_data"
    },
    {
     "data": {
      "text/html": [
       "<div><span class=\"Text-label\" style=\"display:inline-block; overflow:hidden; white-space:nowrap; text-overflow:ellipsis; min-width:15ex; max-width:15ex; vertical-align:middle; text-align:right\">Future Present Past by The Strokes</span>\n",
       "<progress style=\"width:45ex\" max=\"4\" value=\"4\" class=\"Progress-main\"/></progress>\n",
       "<span class=\"Progress-label\"><strong>100%</strong></span>\n",
       "<span class=\"Iteration-label\">4/4</span>\n",
       "<span class=\"Time-label\">[00:03<00:01, 0.83s/it]</span></div>"
      ],
      "text/plain": [
       "\u001b[A\u001b[2K\r",
       "Future Present  [█████████████████████████████████████████████] 4/4 [00:03<00:01, 0.83s/it]"
      ]
     },
     "metadata": {},
     "output_type": "display_data"
    },
    {
     "data": {
      "text/html": [
       "<div><span class=\"Text-label\" style=\"display:inline-block; overflow:hidden; white-space:nowrap; text-overflow:ellipsis; min-width:15ex; max-width:15ex; vertical-align:middle; text-align:right\">Skin by Flume</span>\n",
       "<progress style=\"width:45ex\" max=\"16\" value=\"16\" class=\"Progress-main\"/></progress>\n",
       "<span class=\"Progress-label\"><strong>100%</strong></span>\n",
       "<span class=\"Iteration-label\">16/16</span>\n",
       "<span class=\"Time-label\">[00:09<00:00, 0.56s/it]</span></div>"
      ],
      "text/plain": [
       "\u001b[A\u001b[2K\r",
       "  Skin by Flume [█████████████████████████████████████████████] 16/16 [00:09<00:00, 0.56s/it]"
      ]
     },
     "metadata": {},
     "output_type": "display_data"
    },
    {
     "data": {
      "text/html": [
       "<div><span class=\"Text-label\" style=\"display:inline-block; overflow:hidden; white-space:nowrap; text-overflow:ellipsis; min-width:15ex; max-width:15ex; vertical-align:middle; text-align:right\">The Dream Is Over by PUP</span>\n",
       "<progress style=\"width:45ex\" max=\"10\" value=\"10\" class=\"Progress-main\"/></progress>\n",
       "<span class=\"Progress-label\"><strong>100%</strong></span>\n",
       "<span class=\"Iteration-label\">10/10</span>\n",
       "<span class=\"Time-label\">[00:04<00:01, 0.44s/it]</span></div>"
      ],
      "text/plain": [
       "\u001b[A\u001b[2K\r",
       "The Dream Is Ov [█████████████████████████████████████████████] 10/10 [00:04<00:01, 0.44s/it]"
      ]
     },
     "metadata": {},
     "output_type": "display_data"
    },
    {
     "data": {
      "text/html": [
       "<div><span class=\"Text-label\" style=\"display:inline-block; overflow:hidden; white-space:nowrap; text-overflow:ellipsis; min-width:15ex; max-width:15ex; vertical-align:middle; text-align:right\">Jumalten Aika by Moonsorrow</span>\n",
       "<progress style=\"width:45ex\" max=\"5\" value=\"5\" class=\"Progress-main\"/></progress>\n",
       "<span class=\"Progress-label\"><strong>100%</strong></span>\n",
       "<span class=\"Iteration-label\">5/5</span>\n",
       "<span class=\"Time-label\">[00:04<00:01, 0.79s/it]</span></div>"
      ],
      "text/plain": [
       "\u001b[A\u001b[2K\r",
       "Jumalten Aika b [█████████████████████████████████████████████] 5/5 [00:04<00:01, 0.79s/it]"
      ]
     },
     "metadata": {},
     "output_type": "display_data"
    },
    {
     "data": {
      "text/html": [
       "<div><span class=\"Text-label\" style=\"display:inline-block; overflow:hidden; white-space:nowrap; text-overflow:ellipsis; min-width:15ex; max-width:15ex; vertical-align:middle; text-align:right\">Strangers by Marissa Nadler</span>\n",
       "<progress style=\"width:45ex\" max=\"12\" value=\"12\" class=\"Progress-main\"/></progress>\n",
       "<span class=\"Progress-label\"><strong>100%</strong></span>\n",
       "<span class=\"Iteration-label\">12/12</span>\n",
       "<span class=\"Time-label\">[00:09<00:01, 0.72s/it]</span></div>"
      ],
      "text/plain": [
       "\u001b[A\u001b[2K\r",
       "Strangers by Ma [█████████████████████████████████████████████] 12/12 [00:09<00:01, 0.72s/it]"
      ]
     },
     "metadata": {},
     "output_type": "display_data"
    },
    {
     "data": {
      "text/html": [
       "<div><span class=\"Text-label\" style=\"display:inline-block; overflow:hidden; white-space:nowrap; text-overflow:ellipsis; min-width:15ex; max-width:15ex; vertical-align:middle; text-align:right\">Teens Of Denial by Car Seat Headrest</span>\n",
       "<progress style=\"width:45ex\" max=\"12\" value=\"12\" class=\"Progress-main\"/></progress>\n",
       "<span class=\"Progress-label\"><strong>100%</strong></span>\n",
       "<span class=\"Iteration-label\">12/12</span>\n",
       "<span class=\"Time-label\">[00:09<00:00, 0.74s/it]</span></div>"
      ],
      "text/plain": [
       "\u001b[A\u001b[2K\r",
       "Teens Of Denial [█████████████████████████████████████████████] 12/12 [00:09<00:00, 0.74s/it]"
      ]
     },
     "metadata": {},
     "output_type": "display_data"
    },
    {
     "data": {
      "text/html": [
       "<div><span class=\"Text-label\" style=\"display:inline-block; overflow:hidden; white-space:nowrap; text-overflow:ellipsis; min-width:15ex; max-width:15ex; vertical-align:middle; text-align:right\">Holy Ghost by Modern Baseball</span>\n",
       "<progress style=\"width:45ex\" max=\"11\" value=\"11\" class=\"Progress-main\"/></progress>\n",
       "<span class=\"Progress-label\"><strong>100%</strong></span>\n",
       "<span class=\"Iteration-label\">11/11</span>\n",
       "<span class=\"Time-label\">[00:05<00:00, 0.43s/it]</span></div>"
      ],
      "text/plain": [
       "\u001b[A\u001b[2K\r",
       "Holy Ghost by M [█████████████████████████████████████████████] 11/11 [00:05<00:00, 0.43s/it]"
      ]
     },
     "metadata": {},
     "output_type": "display_data"
    },
    {
     "data": {
      "text/html": [
       "<div><span class=\"Text-label\" style=\"display:inline-block; overflow:hidden; white-space:nowrap; text-overflow:ellipsis; min-width:15ex; max-width:15ex; vertical-align:middle; text-align:right\">Nattesferd by Kvelertak</span>\n",
       "<progress style=\"width:45ex\" max=\"9\" value=\"9\" class=\"Progress-main\"/></progress>\n",
       "<span class=\"Progress-label\"><strong>100%</strong></span>\n",
       "<span class=\"Iteration-label\">9/9</span>\n",
       "<span class=\"Time-label\">[00:05<00:00, 0.60s/it]</span></div>"
      ],
      "text/plain": [
       "\u001b[A\u001b[2K\r",
       "Nattesferd by K [█████████████████████████████████████████████] 9/9 [00:05<00:00, 0.60s/it]"
      ]
     },
     "metadata": {},
     "output_type": "display_data"
    },
    {
     "data": {
      "text/html": [
       "<div><span class=\"Text-label\" style=\"display:inline-block; overflow:hidden; white-space:nowrap; text-overflow:ellipsis; min-width:15ex; max-width:15ex; vertical-align:middle; text-align:right\">Coloring Book by Chance the Rapper</span>\n",
       "<progress style=\"width:45ex\" max=\"14\" value=\"14\" class=\"Progress-main\"/></progress>\n",
       "<span class=\"Progress-label\"><strong>100%</strong></span>\n",
       "<span class=\"Iteration-label\">14/14</span>\n",
       "<span class=\"Time-label\">[00:09<00:01, 0.62s/it]</span></div>"
      ],
      "text/plain": [
       "\u001b[A\u001b[2K\r",
       "Coloring Book b [█████████████████████████████████████████████] 14/14 [00:09<00:01, 0.62s/it]"
      ]
     },
     "metadata": {},
     "output_type": "display_data"
    },
    {
     "data": {
      "text/html": [
       "<div><span class=\"Text-label\" style=\"display:inline-block; overflow:hidden; white-space:nowrap; text-overflow:ellipsis; min-width:15ex; max-width:15ex; vertical-align:middle; text-align:right\">HOPELESSNESS by ANOHNI</span>\n",
       "<progress style=\"width:45ex\" max=\"11\" value=\"11\" class=\"Progress-main\"/></progress>\n",
       "<span class=\"Progress-label\"><strong>100%</strong></span>\n",
       "<span class=\"Iteration-label\">11/11</span>\n",
       "<span class=\"Time-label\">[00:06<00:00, 0.52s/it]</span></div>"
      ],
      "text/plain": [
       "\u001b[A\u001b[2K\r",
       "HOPELESSNESS by [█████████████████████████████████████████████] 11/11 [00:06<00:00, 0.52s/it]"
      ]
     },
     "metadata": {},
     "output_type": "display_data"
    },
    {
     "data": {
      "text/html": [
       "<div><span class=\"Text-label\" style=\"display:inline-block; overflow:hidden; white-space:nowrap; text-overflow:ellipsis; min-width:15ex; max-width:15ex; vertical-align:middle; text-align:right\">Pleiades' Dust by Gorguts</span>\n",
       "<progress style=\"width:45ex\" max=\"1\" value=\"1\" class=\"Progress-main\"/></progress>\n",
       "<span class=\"Progress-label\"><strong>100%</strong></span>\n",
       "<span class=\"Iteration-label\">1/1</span>\n",
       "<span class=\"Time-label\">[00:02<00:02, 1.78s/it]</span></div>"
      ],
      "text/plain": [
       "\u001b[A\u001b[2K\r",
       "Pleiades' Dust  [█████████████████████████████████████████████] 1/1 [00:02<00:02, 1.78s/it]"
      ]
     },
     "metadata": {},
     "output_type": "display_data"
    },
    {
     "data": {
      "text/html": [
       "<div><span class=\"Text-label\" style=\"display:inline-block; overflow:hidden; white-space:nowrap; text-overflow:ellipsis; min-width:15ex; max-width:15ex; vertical-align:middle; text-align:right\">Konnichiwa by Skepta</span>\n",
       "<progress style=\"width:45ex\" max=\"12\" value=\"12\" class=\"Progress-main\"/></progress>\n",
       "<span class=\"Progress-label\"><strong>100%</strong></span>\n",
       "<span class=\"Iteration-label\">12/12</span>\n",
       "<span class=\"Time-label\">[00:07<00:01, 0.57s/it]</span></div>"
      ],
      "text/plain": [
       "\u001b[A\u001b[2K\r",
       "Konnichiwa by S [█████████████████████████████████████████████] 12/12 [00:07<00:01, 0.57s/it]"
      ]
     },
     "metadata": {},
     "output_type": "display_data"
    },
    {
     "data": {
      "text/html": [
       "<div><span class=\"Text-label\" style=\"display:inline-block; overflow:hidden; white-space:nowrap; text-overflow:ellipsis; min-width:15ex; max-width:15ex; vertical-align:middle; text-align:right\">Terminal Redux by Vektor</span>\n",
       "<progress style=\"width:45ex\" max=\"10\" value=\"10\" class=\"Progress-main\"/></progress>\n",
       "<span class=\"Progress-label\"><strong>100%</strong></span>\n",
       "<span class=\"Iteration-label\">10/10</span>\n",
       "<span class=\"Time-label\">[00:07<00:01, 0.68s/it]</span></div>"
      ],
      "text/plain": [
       "\u001b[A\u001b[2K\r",
       "Terminal Redux  [█████████████████████████████████████████████] 10/10 [00:07<00:01, 0.68s/it]"
      ]
     },
     "metadata": {},
     "output_type": "display_data"
    },
    {
     "data": {
      "text/html": [
       "<div><span class=\"Text-label\" style=\"display:inline-block; overflow:hidden; white-space:nowrap; text-overflow:ellipsis; min-width:15ex; max-width:15ex; vertical-align:middle; text-align:right\">A Moon Shaped Pool by Radiohead</span>\n",
       "<progress style=\"width:45ex\" max=\"11\" value=\"11\" class=\"Progress-main\"/></progress>\n",
       "<span class=\"Progress-label\"><strong>100%</strong></span>\n",
       "<span class=\"Iteration-label\">11/11</span>\n",
       "<span class=\"Time-label\">[00:06<00:00, 0.59s/it]</span></div>"
      ],
      "text/plain": [
       "\u001b[A\u001b[2K\r",
       "A Moon Shaped P [█████████████████████████████████████████████] 11/11 [00:06<00:00, 0.59s/it]"
      ]
     },
     "metadata": {},
     "output_type": "display_data"
    },
    {
     "data": {
      "text/html": [
       "<div><span class=\"Text-label\" style=\"display:inline-block; overflow:hidden; white-space:nowrap; text-overflow:ellipsis; min-width:15ex; max-width:15ex; vertical-align:middle; text-align:right\">Lil Uzi Vert vs. The World by Lil Uzi Vert</span>\n",
       "<progress style=\"width:45ex\" max=\"9\" value=\"9\" class=\"Progress-main\"/></progress>\n",
       "<span class=\"Progress-label\"><strong>100%</strong></span>\n",
       "<span class=\"Iteration-label\">9/9</span>\n",
       "<span class=\"Time-label\">[00:05<00:01, 0.54s/it]</span></div>"
      ],
      "text/plain": [
       "\u001b[A\u001b[2K\r",
       "Lil Uzi Vert vs [█████████████████████████████████████████████] 9/9 [00:05<00:01, 0.54s/it]"
      ]
     },
     "metadata": {},
     "output_type": "display_data"
    },
    {
     "data": {
      "text/html": [
       "<div><span class=\"Text-label\" style=\"display:inline-block; overflow:hidden; white-space:nowrap; text-overflow:ellipsis; min-width:15ex; max-width:15ex; vertical-align:middle; text-align:right\">Bottomless Pit by Death Grips</span>\n",
       "<progress style=\"width:45ex\" max=\"13\" value=\"13\" class=\"Progress-main\"/></progress>\n",
       "<span class=\"Progress-label\"><strong>100%</strong></span>\n",
       "<span class=\"Iteration-label\">13/13</span>\n",
       "<span class=\"Time-label\">[00:06<00:00, 0.44s/it]</span></div>"
      ],
      "text/plain": [
       "\u001b[A\u001b[2K\r",
       "Bottomless Pit  [█████████████████████████████████████████████] 13/13 [00:06<00:00, 0.44s/it]"
      ]
     },
     "metadata": {},
     "output_type": "display_data"
    },
    {
     "data": {
      "text/html": [
       "<div><span class=\"Text-label\" style=\"display:inline-block; overflow:hidden; white-space:nowrap; text-overflow:ellipsis; min-width:15ex; max-width:15ex; vertical-align:middle; text-align:right\">The Impossible Kid by Aesop Rock</span>\n",
       "<progress style=\"width:45ex\" max=\"15\" value=\"15\" class=\"Progress-main\"/></progress>\n",
       "<span class=\"Progress-label\"><strong>100%</strong></span>\n",
       "<span class=\"Iteration-label\">15/15</span>\n",
       "<span class=\"Time-label\">[00:08<00:00, 0.55s/it]</span></div>"
      ],
      "text/plain": [
       "\u001b[A\u001b[2K\r",
       "The Impossible  [█████████████████████████████████████████████] 15/15 [00:08<00:00, 0.55s/it]"
      ]
     },
     "metadata": {},
     "output_type": "display_data"
    },
    {
     "data": {
      "text/html": [
       "<div><span class=\"Text-label\" style=\"display:inline-block; overflow:hidden; white-space:nowrap; text-overflow:ellipsis; min-width:15ex; max-width:15ex; vertical-align:middle; text-align:right\">Nonagon Infinity by King Gizzard & The Lizard Wizard</span>\n",
       "<progress style=\"width:45ex\" max=\"9\" value=\"9\" class=\"Progress-main\"/></progress>\n",
       "<span class=\"Progress-label\"><strong>100%</strong></span>\n",
       "<span class=\"Iteration-label\">9/9</span>\n",
       "<span class=\"Time-label\">[00:06<00:01, 0.63s/it]</span></div>"
      ],
      "text/plain": [
       "\u001b[A\u001b[2K\r",
       "Nonagon Infinit [█████████████████████████████████████████████] 9/9 [00:06<00:01, 0.63s/it]"
      ]
     },
     "metadata": {},
     "output_type": "display_data"
    },
    {
     "data": {
      "text/html": [
       "<div><span class=\"Text-label\" style=\"display:inline-block; overflow:hidden; white-space:nowrap; text-overflow:ellipsis; min-width:15ex; max-width:15ex; vertical-align:middle; text-align:right\">Views by Drake</span>\n",
       "<progress style=\"width:45ex\" max=\"20\" value=\"20\" class=\"Progress-main\"/></progress>\n",
       "<span class=\"Progress-label\"><strong>100%</strong></span>\n",
       "<span class=\"Iteration-label\">20/20</span>\n",
       "<span class=\"Time-label\">[00:13<00:00, 0.67s/it]</span></div>"
      ],
      "text/plain": [
       "\u001b[A\u001b[2K\r",
       " Views by Drake [█████████████████████████████████████████████] 20/20 [00:13<00:00, 0.67s/it]"
      ]
     },
     "metadata": {},
     "output_type": "display_data"
    },
    {
     "data": {
      "text/html": [
       "<div><span class=\"Text-label\" style=\"display:inline-block; overflow:hidden; white-space:nowrap; text-overflow:ellipsis; min-width:15ex; max-width:15ex; vertical-align:middle; text-align:right\">Plays the Music of Twin Peaks by Xiu Xiu</span>\n",
       "<progress style=\"width:45ex\" max=\"12\" value=\"12\" class=\"Progress-main\"/></progress>\n",
       "<span class=\"Progress-label\"><strong>100%</strong></span>\n",
       "<span class=\"Iteration-label\">12/12</span>\n",
       "<span class=\"Time-label\">[00:07<00:01, 0.57s/it]</span></div>"
      ],
      "text/plain": [
       "\u001b[A\u001b[2K\r",
       "Plays the Music [█████████████████████████████████████████████] 12/12 [00:07<00:01, 0.57s/it]"
      ]
     },
     "metadata": {},
     "output_type": "display_data"
    },
    {
     "data": {
      "text/html": [
       "<div><span class=\"Text-label\" style=\"display:inline-block; overflow:hidden; white-space:nowrap; text-overflow:ellipsis; min-width:15ex; max-width:15ex; vertical-align:middle; text-align:right\">Lemonade by Beyoncé</span>\n",
       "<progress style=\"width:45ex\" max=\"13\" value=\"13\" class=\"Progress-main\"/></progress>\n",
       "<span class=\"Progress-label\"><strong>100%</strong></span>\n",
       "<span class=\"Iteration-label\">13/13</span>\n",
       "<span class=\"Time-label\">[00:10<00:00, 0.78s/it]</span></div>"
      ],
      "text/plain": [
       "\u001b[A\u001b[2K\r",
       "Lemonade by Bey [█████████████████████████████████████████████] 13/13 [00:10<00:00, 0.78s/it]"
      ]
     },
     "metadata": {},
     "output_type": "display_data"
    },
    {
     "data": {
      "text/html": [
       "<div><span class=\"Text-label\" style=\"display:inline-block; overflow:hidden; white-space:nowrap; text-overflow:ellipsis; min-width:15ex; max-width:15ex; vertical-align:middle; text-align:right\">ALWAYS STRIVE AND PROSPER by A$AP Ferg</span>\n",
       "<progress style=\"width:45ex\" max=\"19\" value=\"19\" class=\"Progress-main\"/></progress>\n",
       "<span class=\"Progress-label\"><strong>100%</strong></span>\n",
       "<span class=\"Iteration-label\">19/19</span>\n",
       "<span class=\"Time-label\">[00:08<00:00, 0.44s/it]</span></div>"
      ],
      "text/plain": [
       "\u001b[A\u001b[2K\r",
       "ALWAYS STRIVE A [█████████████████████████████████████████████] 19/19 [00:08<00:00, 0.44s/it]"
      ]
     },
     "metadata": {},
     "output_type": "display_data"
    },
    {
     "data": {
      "text/html": [
       "<div><span class=\"Text-label\" style=\"display:inline-block; overflow:hidden; white-space:nowrap; text-overflow:ellipsis; min-width:15ex; max-width:15ex; vertical-align:middle; text-align:right\">A Sailor's Guide to Earth by Sturgill Simpson</span>\n",
       "<progress style=\"width:45ex\" max=\"9\" value=\"9\" class=\"Progress-main\"/></progress>\n",
       "<span class=\"Progress-label\"><strong>100%</strong></span>\n",
       "<span class=\"Iteration-label\">9/9</span>\n",
       "<span class=\"Time-label\">[00:06<00:01, 0.66s/it]</span></div>"
      ],
      "text/plain": [
       "\u001b[A\u001b[2K\r",
       "A Sailor's Guid [█████████████████████████████████████████████] 9/9 [00:06<00:01, 0.66s/it]"
      ]
     },
     "metadata": {},
     "output_type": "display_data"
    },
    {
     "data": {
      "text/html": [
       "<div><span class=\"Text-label\" style=\"display:inline-block; overflow:hidden; white-space:nowrap; text-overflow:ellipsis; min-width:15ex; max-width:15ex; vertical-align:middle; text-align:right\">Sleep Cycle by Deakin</span>\n",
       "<progress style=\"width:45ex\" max=\"6\" value=\"6\" class=\"Progress-main\"/></progress>\n",
       "<span class=\"Progress-label\"><strong>100%</strong></span>\n",
       "<span class=\"Iteration-label\">6/6</span>\n",
       "<span class=\"Time-label\">[00:04<00:01, 0.59s/it]</span></div>"
      ],
      "text/plain": [
       "\u001b[A\u001b[2K\r",
       "Sleep Cycle by  [█████████████████████████████████████████████] 6/6 [00:04<00:01, 0.59s/it]"
      ]
     },
     "metadata": {},
     "output_type": "display_data"
    },
    {
     "data": {
      "text/html": [
       "<div><span class=\"Text-label\" style=\"display:inline-block; overflow:hidden; white-space:nowrap; text-overflow:ellipsis; min-width:15ex; max-width:15ex; vertical-align:middle; text-align:right\">The Hope Six Demolition Project by PJ Harvey</span>\n",
       "<progress style=\"width:45ex\" max=\"11\" value=\"11\" class=\"Progress-main\"/></progress>\n",
       "<span class=\"Progress-label\"><strong>100%</strong></span>\n",
       "<span class=\"Iteration-label\">11/11</span>\n",
       "<span class=\"Time-label\">[00:06<00:01, 0.55s/it]</span></div>"
      ],
      "text/plain": [
       "\u001b[A\u001b[2K\r",
       "The Hope Six De [█████████████████████████████████████████████] 11/11 [00:06<00:01, 0.55s/it]"
      ]
     },
     "metadata": {},
     "output_type": "display_data"
    },
    {
     "data": {
      "text/html": [
       "<div><span class=\"Text-label\" style=\"display:inline-block; overflow:hidden; white-space:nowrap; text-overflow:ellipsis; min-width:15ex; max-width:15ex; vertical-align:middle; text-align:right\">Junk by M83</span>\n",
       "<progress style=\"width:45ex\" max=\"15\" value=\"15\" class=\"Progress-main\"/></progress>\n",
       "<span class=\"Progress-label\"><strong>100%</strong></span>\n",
       "<span class=\"Iteration-label\">15/15</span>\n",
       "<span class=\"Time-label\">[00:09<00:00, 0.57s/it]</span></div>"
      ],
      "text/plain": [
       "\u001b[A\u001b[2K\r",
       "    Junk by M83 [█████████████████████████████████████████████] 15/15 [00:09<00:00, 0.57s/it]"
      ]
     },
     "metadata": {},
     "output_type": "display_data"
    },
    {
     "data": {
      "text/html": [
       "<div><span class=\"Text-label\" style=\"display:inline-block; overflow:hidden; white-space:nowrap; text-overflow:ellipsis; min-width:15ex; max-width:15ex; vertical-align:middle; text-align:right\">Human Performance by Parquet Courts</span>\n",
       "<progress style=\"width:45ex\" max=\"14\" value=\"14\" class=\"Progress-main\"/></progress>\n",
       "<span class=\"Progress-label\"><strong>100%</strong></span>\n",
       "<span class=\"Iteration-label\">14/14</span>\n",
       "<span class=\"Time-label\">[00:08<00:01, 0.57s/it]</span></div>"
      ],
      "text/plain": [
       "\u001b[A\u001b[2K\r",
       "Human Performan [█████████████████████████████████████████████] 14/14 [00:08<00:01, 0.57s/it]"
      ]
     },
     "metadata": {},
     "output_type": "display_data"
    },
    {
     "data": {
      "text/html": [
       "<div><span class=\"Text-label\" style=\"display:inline-block; overflow:hidden; white-space:nowrap; text-overflow:ellipsis; min-width:15ex; max-width:15ex; vertical-align:middle; text-align:right\">Gore by Deftones</span>\n",
       "<progress style=\"width:45ex\" max=\"11\" value=\"11\" class=\"Progress-main\"/></progress>\n",
       "<span class=\"Progress-label\"><strong>100%</strong></span>\n",
       "<span class=\"Iteration-label\">11/11</span>\n",
       "<span class=\"Time-label\">[00:05<00:00, 0.41s/it]</span></div>"
      ],
      "text/plain": [
       "\u001b[A\u001b[2K\r",
       "Gore by Deftone [█████████████████████████████████████████████] 11/11 [00:05<00:00, 0.41s/it]"
      ]
     },
     "metadata": {},
     "output_type": "display_data"
    },
    {
     "data": {
      "text/html": [
       "<div><span class=\"Text-label\" style=\"display:inline-block; overflow:hidden; white-space:nowrap; text-overflow:ellipsis; min-width:15ex; max-width:15ex; vertical-align:middle; text-align:right\">Love Streams by Tim Hecker</span>\n",
       "<progress style=\"width:45ex\" max=\"11\" value=\"11\" class=\"Progress-main\"/></progress>\n",
       "<span class=\"Progress-label\"><strong>100%</strong></span>\n",
       "<span class=\"Iteration-label\">11/11</span>\n",
       "<span class=\"Time-label\">[00:06<00:01, 0.51s/it]</span></div>"
      ],
      "text/plain": [
       "\u001b[A\u001b[2K\r",
       "Love Streams by [█████████████████████████████████████████████] 11/11 [00:06<00:01, 0.51s/it]"
      ]
     },
     "metadata": {},
     "output_type": "display_data"
    },
    {
     "data": {
      "text/html": [
       "<div><span class=\"Text-label\" style=\"display:inline-block; overflow:hidden; white-space:nowrap; text-overflow:ellipsis; min-width:15ex; max-width:15ex; vertical-align:middle; text-align:right\">METAL RESISTANCE by BABYMETAL</span>\n",
       "<progress style=\"width:45ex\" max=\"12\" value=\"12\" class=\"Progress-main\"/></progress>\n",
       "<span class=\"Progress-label\"><strong>100%</strong></span>\n",
       "<span class=\"Iteration-label\">12/12</span>\n",
       "<span class=\"Time-label\">[00:06<00:01, 0.51s/it]</span></div>"
      ],
      "text/plain": [
       "\u001b[A\u001b[2K\r",
       "METAL RESISTANC [█████████████████████████████████████████████] 12/12 [00:06<00:01, 0.51s/it]"
      ]
     },
     "metadata": {},
     "output_type": "display_data"
    },
    {
     "data": {
      "text/html": [
       "<div><span class=\"Text-label\" style=\"display:inline-block; overflow:hidden; white-space:nowrap; text-overflow:ellipsis; min-width:15ex; max-width:15ex; vertical-align:middle; text-align:right\">\"BBF\" Hosted By DJ Escrow by Babyfather</span>\n",
       "<progress style=\"width:45ex\" max=\"23\" value=\"23\" class=\"Progress-main\"/></progress>\n",
       "<span class=\"Progress-label\"><strong>100%</strong></span>\n",
       "<span class=\"Iteration-label\">23/23</span>\n",
       "<span class=\"Time-label\">[00:12<00:00, 0.54s/it]</span></div>"
      ],
      "text/plain": [
       "\u001b[A\u001b[2K\r",
       "\"BBF\" Hosted By [█████████████████████████████████████████████] 23/23 [00:12<00:00, 0.54s/it]"
      ]
     },
     "metadata": {},
     "output_type": "display_data"
    },
    {
     "data": {
      "text/html": [
       "<div><span class=\"Text-label\" style=\"display:inline-block; overflow:hidden; white-space:nowrap; text-overflow:ellipsis; min-width:15ex; max-width:15ex; vertical-align:middle; text-align:right\">Hella Personal Film Festival by Open Mike Eagle</span>\n",
       "<progress style=\"width:45ex\" max=\"14\" value=\"14\" class=\"Progress-main\"/></progress>\n",
       "<span class=\"Progress-label\"><strong>100%</strong></span>\n",
       "<span class=\"Iteration-label\">14/14</span>\n",
       "<span class=\"Time-label\">[00:08<00:01, 0.55s/it]</span></div>"
      ],
      "text/plain": [
       "\u001b[A\u001b[2K\r",
       "Hella Personal  [█████████████████████████████████████████████] 14/14 [00:08<00:01, 0.55s/it]"
      ]
     },
     "metadata": {},
     "output_type": "display_data"
    },
    {
     "data": {
      "text/html": [
       "<div><span class=\"Text-label\" style=\"display:inline-block; overflow:hidden; white-space:nowrap; text-overflow:ellipsis; min-width:15ex; max-width:15ex; vertical-align:middle; text-align:right\">The Wilderness by Explosions In The Sky</span>\n",
       "<progress style=\"width:45ex\" max=\"9\" value=\"9\" class=\"Progress-main\"/></progress>\n",
       "<span class=\"Progress-label\"><strong>100%</strong></span>\n",
       "<span class=\"Iteration-label\">9/9</span>\n",
       "<span class=\"Time-label\">[00:05<00:01, 0.57s/it]</span></div>"
      ],
      "text/plain": [
       "\u001b[A\u001b[2K\r",
       "The Wilderness  [█████████████████████████████████████████████] 9/9 [00:05<00:01, 0.57s/it]"
      ]
     },
     "metadata": {},
     "output_type": "display_data"
    },
    {
     "data": {
      "text/html": [
       "<div><span class=\"Text-label\" style=\"display:inline-block; overflow:hidden; white-space:nowrap; text-overflow:ellipsis; min-width:15ex; max-width:15ex; vertical-align:middle; text-align:right\">I AKA I by Ash Koosha</span>\n",
       "<progress style=\"width:45ex\" max=\"15\" value=\"15\" class=\"Progress-main\"/></progress>\n",
       "<span class=\"Progress-label\"><strong>100%</strong></span>\n",
       "<span class=\"Iteration-label\">15/15</span>\n",
       "<span class=\"Time-label\">[00:08<00:01, 0.51s/it]</span></div>"
      ],
      "text/plain": [
       "\u001b[A\u001b[2K\r",
       "I AKA I by Ash  [█████████████████████████████████████████████] 15/15 [00:08<00:01, 0.51s/it]"
      ]
     },
     "metadata": {},
     "output_type": "display_data"
    },
    {
     "data": {
      "text/html": [
       "<div><span class=\"Text-label\" style=\"display:inline-block; overflow:hidden; white-space:nowrap; text-overflow:ellipsis; min-width:15ex; max-width:15ex; vertical-align:middle; text-align:right\">Weezer (White Album) by Weezer</span>\n",
       "<progress style=\"width:45ex\" max=\"10\" value=\"10\" class=\"Progress-main\"/></progress>\n",
       "<span class=\"Progress-label\"><strong>100%</strong></span>\n",
       "<span class=\"Iteration-label\">10/10</span>\n",
       "<span class=\"Time-label\">[00:06<00:01, 0.55s/it]</span></div>"
      ],
      "text/plain": [
       "\u001b[A\u001b[2K\r",
       "Weezer (White A [█████████████████████████████████████████████] 10/10 [00:06<00:01, 0.55s/it]"
      ]
     },
     "metadata": {},
     "output_type": "display_data"
    },
    {
     "data": {
      "text/html": [
       "<div><span class=\"Text-label\" style=\"display:inline-block; overflow:hidden; white-space:nowrap; text-overflow:ellipsis; min-width:15ex; max-width:15ex; vertical-align:middle; text-align:right\">Genesis by Genesis</span>\n",
       "<progress style=\"width:45ex\" max=\"9\" value=\"9\" class=\"Progress-main\"/></progress>\n",
       "<span class=\"Progress-label\"><strong>100%</strong></span>\n",
       "<span class=\"Iteration-label\">9/9</span>\n",
       "<span class=\"Time-label\">[00:06<00:00, 0.69s/it]</span></div>"
      ],
      "text/plain": [
       "\u001b[A\u001b[2K\r",
       "Genesis by Gene [█████████████████████████████████████████████] 9/9 [00:06<00:00, 0.69s/it]"
      ]
     },
     "metadata": {},
     "output_type": "display_data"
    },
    {
     "data": {
      "text/html": [
       "<div><span class=\"Text-label\" style=\"display:inline-block; overflow:hidden; white-space:nowrap; text-overflow:ellipsis; min-width:15ex; max-width:15ex; vertical-align:middle; text-align:right\">Southern Family by Various Artists</span>\n",
       "<progress style=\"width:45ex\" max=\"12\" value=\"12\" class=\"Progress-main\"/></progress>\n",
       "<span class=\"Progress-label\"><strong>100%</strong></span>\n",
       "<span class=\"Iteration-label\">12/12</span>\n",
       "<span class=\"Time-label\">[00:07<00:01, 0.56s/it]</span></div>"
      ],
      "text/plain": [
       "\u001b[A\u001b[2K\r",
       "Southern Family [█████████████████████████████████████████████] 12/12 [00:07<00:01, 0.56s/it]"
      ]
     },
     "metadata": {},
     "output_type": "display_data"
    },
    {
     "data": {
      "text/html": [
       "<div><span class=\"Text-label\" style=\"display:inline-block; overflow:hidden; white-space:nowrap; text-overflow:ellipsis; min-width:15ex; max-width:15ex; vertical-align:middle; text-align:right\">IV by Black Mountain</span>\n",
       "<progress style=\"width:45ex\" max=\"10\" value=\"10\" class=\"Progress-main\"/></progress>\n",
       "<span class=\"Progress-label\"><strong>100%</strong></span>\n",
       "<span class=\"Iteration-label\">10/10</span>\n",
       "<span class=\"Time-label\">[00:07<00:02, 0.65s/it]</span></div>"
      ],
      "text/plain": [
       "\u001b[A\u001b[2K\r",
       "IV by Black Mou [█████████████████████████████████████████████] 10/10 [00:07<00:02, 0.65s/it]"
      ]
     },
     "metadata": {},
     "output_type": "display_data"
    },
    {
     "data": {
      "text/html": [
       "<div><span class=\"Text-label\" style=\"display:inline-block; overflow:hidden; white-space:nowrap; text-overflow:ellipsis; min-width:15ex; max-width:15ex; vertical-align:middle; text-align:right\">Mind Of Mine (Deluxe Edition) by ZAYN</span>\n",
       "<progress style=\"width:45ex\" max=\"18\" value=\"18\" class=\"Progress-main\"/></progress>\n",
       "<span class=\"Progress-label\"><strong>100%</strong></span>\n",
       "<span class=\"Iteration-label\">18/18</span>\n",
       "<span class=\"Time-label\">[00:09<00:01, 0.50s/it]</span></div>"
      ],
      "text/plain": [
       "\u001b[A\u001b[2K\r",
       "Mind Of Mine (D [█████████████████████████████████████████████] 18/18 [00:09<00:01, 0.50s/it]"
      ]
     },
     "metadata": {},
     "output_type": "display_data"
    },
    {
     "data": {
      "text/html": [
       "<div><span class=\"Text-label\" style=\"display:inline-block; overflow:hidden; white-space:nowrap; text-overflow:ellipsis; min-width:15ex; max-width:15ex; vertical-align:middle; text-align:right\">Slime Season 3 by Young Thug</span>\n",
       "<progress style=\"width:45ex\" max=\"8\" value=\"8\" class=\"Progress-main\"/></progress>\n",
       "<span class=\"Progress-label\"><strong>100%</strong></span>\n",
       "<span class=\"Iteration-label\">8/8</span>\n",
       "<span class=\"Time-label\">[00:04<00:01, 0.51s/it]</span></div>"
      ],
      "text/plain": [
       "\u001b[A\u001b[2K\r",
       "Slime Season 3  [█████████████████████████████████████████████] 8/8 [00:04<00:01, 0.51s/it]"
      ]
     },
     "metadata": {},
     "output_type": "display_data"
    },
    {
     "data": {
      "text/html": [
       "<div><span class=\"Text-label\" style=\"display:inline-block; overflow:hidden; white-space:nowrap; text-overflow:ellipsis; min-width:15ex; max-width:15ex; vertical-align:middle; text-align:right\">Made in the Manor by Kano</span>\n",
       "<progress style=\"width:45ex\" max=\"15\" value=\"15\" class=\"Progress-main\"/></progress>\n",
       "<span class=\"Progress-label\"><strong>100%</strong></span>\n",
       "<span class=\"Iteration-label\">15/15</span>\n",
       "<span class=\"Time-label\">[00:09<00:01, 0.60s/it]</span></div>"
      ],
      "text/plain": [
       "\u001b[A\u001b[2K\r",
       "Made in the Man [█████████████████████████████████████████████] 15/15 [00:09<00:01, 0.60s/it]"
      ]
     },
     "metadata": {},
     "output_type": "display_data"
    },
    {
     "data": {
      "text/html": [
       "<div><span class=\"Text-label\" style=\"display:inline-block; overflow:hidden; white-space:nowrap; text-overflow:ellipsis; min-width:15ex; max-width:15ex; vertical-align:middle; text-align:right\">One Day You Will Ache Like I Ache by The Body</span>\n",
       "<progress style=\"width:45ex\" max=\"10\" value=\"10\" class=\"Progress-main\"/></progress>\n",
       "<span class=\"Progress-label\"><strong>100%</strong></span>\n",
       "<span class=\"Iteration-label\">10/10</span>\n",
       "<span class=\"Time-label\">[00:05<00:00, 0.46s/it]</span></div>"
      ],
      "text/plain": [
       "\u001b[A\u001b[2K\r",
       "One Day You Wil [█████████████████████████████████████████████] 10/10 [00:05<00:00, 0.46s/it]"
      ]
     },
     "metadata": {},
     "output_type": "display_data"
    },
    {
     "data": {
      "text/html": [
       "<div><span class=\"Text-label\" style=\"display:inline-block; overflow:hidden; white-space:nowrap; text-overflow:ellipsis; min-width:15ex; max-width:15ex; vertical-align:middle; text-align:right\">Aa by Baauer</span>\n",
       "<progress style=\"width:45ex\" max=\"13\" value=\"13\" class=\"Progress-main\"/></progress>\n",
       "<span class=\"Progress-label\"><strong>100%</strong></span>\n",
       "<span class=\"Iteration-label\">13/13</span>\n",
       "<span class=\"Time-label\">[00:07<00:00, 0.52s/it]</span></div>"
      ],
      "text/plain": [
       "\u001b[A\u001b[2K\r",
       "   Aa by Baauer [█████████████████████████████████████████████] 13/13 [00:07<00:00, 0.52s/it]"
      ]
     },
     "metadata": {},
     "output_type": "display_data"
    },
    {
     "data": {
      "text/html": [
       "<div><span class=\"Text-label\" style=\"display:inline-block; overflow:hidden; white-space:nowrap; text-overflow:ellipsis; min-width:15ex; max-width:15ex; vertical-align:middle; text-align:right\">Lil Boat 3.5 by Lil Yachty</span>\n",
       "<progress style=\"width:45ex\" max=\"27\" value=\"27\" class=\"Progress-main\"/></progress>\n",
       "<span class=\"Progress-label\"><strong>100%</strong></span>\n",
       "<span class=\"Iteration-label\">27/27</span>\n",
       "<span class=\"Time-label\">[00:13<00:01, 0.48s/it]</span></div>"
      ],
      "text/plain": [
       "\u001b[A\u001b[2K\r",
       "Lil Boat 3.5 by [█████████████████████████████████████████████] 27/27 [00:13<00:01, 0.48s/it]"
      ]
     },
     "metadata": {},
     "output_type": "display_data"
    },
    {
     "data": {
      "text/html": [
       "<div><span class=\"Text-label\" style=\"display:inline-block; overflow:hidden; white-space:nowrap; text-overflow:ellipsis; min-width:15ex; max-width:15ex; vertical-align:middle; text-align:right\">Feelin Kinda Free by The Drones</span>\n",
       "<progress style=\"width:45ex\" max=\"8\" value=\"8\" class=\"Progress-main\"/></progress>\n",
       "<span class=\"Progress-label\"><strong>100%</strong></span>\n",
       "<span class=\"Iteration-label\">8/8</span>\n",
       "<span class=\"Time-label\">[00:05<00:00, 0.58s/it]</span></div>"
      ],
      "text/plain": [
       "\u001b[A\u001b[2K\r",
       "Feelin Kinda Fr [█████████████████████████████████████████████] 8/8 [00:05<00:00, 0.58s/it]"
      ]
     },
     "metadata": {},
     "output_type": "display_data"
    },
    {
     "data": {
      "text/html": [
       "<div><span class=\"Text-label\" style=\"display:inline-block; overflow:hidden; white-space:nowrap; text-overflow:ellipsis; min-width:15ex; max-width:15ex; vertical-align:middle; text-align:right\">Post Pop Depression by Iggy Pop</span>\n",
       "<progress style=\"width:45ex\" max=\"9\" value=\"9\" class=\"Progress-main\"/></progress>\n",
       "<span class=\"Progress-label\"><strong>100%</strong></span>\n",
       "<span class=\"Iteration-label\">9/9</span>\n",
       "<span class=\"Time-label\">[00:05<00:01, 0.56s/it]</span></div>"
      ],
      "text/plain": [
       "\u001b[A\u001b[2K\r",
       "Post Pop Depres [█████████████████████████████████████████████] 9/9 [00:05<00:01, 0.56s/it]"
      ]
     },
     "metadata": {},
     "output_type": "display_data"
    },
    {
     "data": {
      "text/html": [
       "<div><span class=\"Text-label\" style=\"display:inline-block; overflow:hidden; white-space:nowrap; text-overflow:ellipsis; min-width:15ex; max-width:15ex; vertical-align:middle; text-align:right\">Imperial by Denzel Curry</span>\n",
       "<progress style=\"width:45ex\" max=\"10\" value=\"10\" class=\"Progress-main\"/></progress>\n",
       "<span class=\"Progress-label\"><strong>100%</strong></span>\n",
       "<span class=\"Iteration-label\">10/10</span>\n",
       "<span class=\"Time-label\">[00:06<00:01, 0.58s/it]</span></div>"
      ],
      "text/plain": [
       "\u001b[A\u001b[2K\r",
       "Imperial by Den [█████████████████████████████████████████████] 10/10 [00:06<00:01, 0.58s/it]"
      ]
     },
     "metadata": {},
     "output_type": "display_data"
    },
    {
     "data": {
      "text/html": [
       "<div><span class=\"Text-label\" style=\"display:inline-block; overflow:hidden; white-space:nowrap; text-overflow:ellipsis; min-width:15ex; max-width:15ex; vertical-align:middle; text-align:right\">3001: A Laced Odyssey by Flatbush Zombies</span>\n",
       "<progress style=\"width:45ex\" max=\"12\" value=\"12\" class=\"Progress-main\"/></progress>\n",
       "<span class=\"Progress-label\"><strong>100%</strong></span>\n",
       "<span class=\"Iteration-label\">12/12</span>\n",
       "<span class=\"Time-label\">[00:08<00:01, 0.66s/it]</span></div>"
      ],
      "text/plain": [
       "\u001b[A\u001b[2K\r",
       "3001: A Laced O [█████████████████████████████████████████████] 12/12 [00:08<00:01, 0.66s/it]"
      ]
     },
     "metadata": {},
     "output_type": "display_data"
    },
    {
     "data": {
      "text/html": [
       "<div><span class=\"Text-label\" style=\"display:inline-block; overflow:hidden; white-space:nowrap; text-overflow:ellipsis; min-width:15ex; max-width:15ex; vertical-align:middle; text-align:right\">Värähtelijä by Oranssi Pazuzu</span>\n",
       "<progress style=\"width:45ex\" max=\"7\" value=\"7\" class=\"Progress-main\"/></progress>\n",
       "<span class=\"Progress-label\"><strong>100%</strong></span>\n",
       "<span class=\"Iteration-label\">7/7</span>\n",
       "<span class=\"Time-label\">[00:04<00:01, 0.64s/it]</span></div>"
      ],
      "text/plain": [
       "\u001b[A\u001b[2K\r",
       "Värähtelijä by  [█████████████████████████████████████████████] 7/7 [00:04<00:01, 0.64s/it]"
      ]
     },
     "metadata": {},
     "output_type": "display_data"
    },
    {
     "data": {
      "text/html": [
       "<div><span class=\"Text-label\" style=\"display:inline-block; overflow:hidden; white-space:nowrap; text-overflow:ellipsis; min-width:15ex; max-width:15ex; vertical-align:middle; text-align:right\">Too High To Riot by Bas</span>\n",
       "<progress style=\"width:45ex\" max=\"12\" value=\"12\" class=\"Progress-main\"/></progress>\n",
       "<span class=\"Progress-label\"><strong>100%</strong></span>\n",
       "<span class=\"Iteration-label\">12/12</span>\n",
       "<span class=\"Time-label\">[00:06<00:00, 0.50s/it]</span></div>"
      ],
      "text/plain": [
       "\u001b[A\u001b[2K\r",
       "Too High To Rio [█████████████████████████████████████████████] 12/12 [00:06<00:00, 0.50s/it]"
      ]
     },
     "metadata": {},
     "output_type": "display_data"
    },
    {
     "data": {
      "text/html": [
       "<div><span class=\"Text-label\" style=\"display:inline-block; overflow:hidden; white-space:nowrap; text-overflow:ellipsis; min-width:15ex; max-width:15ex; vertical-align:middle; text-align:right\">Spirit Phone by Lemon Demon</span>\n",
       "<progress style=\"width:45ex\" max=\"27\" value=\"27\" class=\"Progress-main\"/></progress>\n",
       "<span class=\"Progress-label\"><strong>100%</strong></span>\n",
       "<span class=\"Iteration-label\">27/27</span>\n",
       "<span class=\"Time-label\">[00:17<00:00, 0.63s/it]</span></div>"
      ],
      "text/plain": [
       "\u001b[A\u001b[2K\r",
       "Spirit Phone by [█████████████████████████████████████████████] 27/27 [00:17<00:00, 0.63s/it]"
      ]
     },
     "metadata": {},
     "output_type": "display_data"
    },
    {
     "data": {
      "text/html": [
       "<div><span class=\"Text-label\" style=\"display:inline-block; overflow:hidden; white-space:nowrap; text-overflow:ellipsis; min-width:15ex; max-width:15ex; vertical-align:middle; text-align:right\">I like it when you sleep, for you are so beautiful yet so unaware of it by The 1975</span>\n",
       "<progress style=\"width:45ex\" max=\"17\" value=\"17\" class=\"Progress-main\"/></progress>\n",
       "<span class=\"Progress-label\"><strong>100%</strong></span>\n",
       "<span class=\"Iteration-label\">17/17</span>\n",
       "<span class=\"Time-label\">[00:12<00:00, 0.71s/it]</span></div>"
      ],
      "text/plain": [
       "\u001b[A\u001b[2K\r",
       "I like it when  [█████████████████████████████████████████████] 17/17 [00:12<00:00, 0.71s/it]"
      ]
     },
     "metadata": {},
     "output_type": "display_data"
    },
    {
     "data": {
      "text/html": [
       "<div><span class=\"Text-label\" style=\"display:inline-block; overflow:hidden; white-space:nowrap; text-overflow:ellipsis; min-width:15ex; max-width:15ex; vertical-align:middle; text-align:right\">The Terrible Tales Of Scurvy Jones by Mr. Yote</span>\n",
       "<progress style=\"width:45ex\" max=\"7\" value=\"7\" class=\"Progress-main\"/></progress>\n",
       "<span class=\"Progress-label\"><strong>100%</strong></span>\n",
       "<span class=\"Iteration-label\">7/7</span>\n",
       "<span class=\"Time-label\">[00:03<00:01, 0.46s/it]</span></div>"
      ],
      "text/plain": [
       "\u001b[A\u001b[2K\r",
       "The Terrible Ta [█████████████████████████████████████████████] 7/7 [00:03<00:01, 0.46s/it]"
      ]
     },
     "metadata": {},
     "output_type": "display_data"
    },
    {
     "data": {
      "text/html": [
       "<div><span class=\"Text-label\" style=\"display:inline-block; overflow:hidden; white-space:nowrap; text-overflow:ellipsis; min-width:15ex; max-width:15ex; vertical-align:middle; text-align:right\">untitled unmastered. by Kendrick Lamar</span>\n",
       "<progress style=\"width:45ex\" max=\"8\" value=\"8\" class=\"Progress-main\"/></progress>\n",
       "<span class=\"Progress-label\"><strong>100%</strong></span>\n",
       "<span class=\"Iteration-label\">8/8</span>\n",
       "<span class=\"Time-label\">[00:05<00:01, 0.59s/it]</span></div>"
      ],
      "text/plain": [
       "\u001b[A\u001b[2K\r",
       "untitled unmast [█████████████████████████████████████████████] 8/8 [00:05<00:01, 0.59s/it]"
      ]
     },
     "metadata": {},
     "output_type": "display_data"
    },
    {
     "data": {
      "text/html": [
       "<div><span class=\"Text-label\" style=\"display:inline-block; overflow:hidden; white-space:nowrap; text-overflow:ellipsis; min-width:15ex; max-width:15ex; vertical-align:middle; text-align:right\">Before a Million Universes by Big Ups</span>\n",
       "<progress style=\"width:45ex\" max=\"13\" value=\"13\" class=\"Progress-main\"/></progress>\n",
       "<span class=\"Progress-label\"><strong>100%</strong></span>\n",
       "<span class=\"Iteration-label\">13/13</span>\n",
       "<span class=\"Time-label\">[00:06<00:00, 0.45s/it]</span></div>"
      ],
      "text/plain": [
       "\u001b[A\u001b[2K\r",
       "Before a Millio [█████████████████████████████████████████████] 13/13 [00:06<00:00, 0.45s/it]"
      ]
     },
     "metadata": {},
     "output_type": "display_data"
    },
    {
     "data": {
      "text/html": [
       "<div><span class=\"Text-label\" style=\"display:inline-block; overflow:hidden; white-space:nowrap; text-overflow:ellipsis; min-width:15ex; max-width:15ex; vertical-align:middle; text-align:right\">Life of Pause by Wild Nothing</span>\n",
       "<progress style=\"width:45ex\" max=\"11\" value=\"11\" class=\"Progress-main\"/></progress>\n",
       "<span class=\"Progress-label\"><strong>100%</strong></span>\n",
       "<span class=\"Iteration-label\">11/11</span>\n",
       "<span class=\"Time-label\">[00:06<00:01, 0.56s/it]</span></div>"
      ],
      "text/plain": [
       "\u001b[A\u001b[2K\r",
       "Life of Pause b [█████████████████████████████████████████████] 11/11 [00:06<00:01, 0.56s/it]"
      ]
     },
     "metadata": {},
     "output_type": "display_data"
    },
    {
     "data": {
      "text/html": [
       "<div><span class=\"Text-label\" style=\"display:inline-block; overflow:hidden; white-space:nowrap; text-overflow:ellipsis; min-width:15ex; max-width:15ex; vertical-align:middle; text-align:right\">Vroom Vroom EP by Charli XCX</span>\n",
       "<progress style=\"width:45ex\" max=\"4\" value=\"4\" class=\"Progress-main\"/></progress>\n",
       "<span class=\"Progress-label\"><strong>100%</strong></span>\n",
       "<span class=\"Iteration-label\">4/4</span>\n",
       "<span class=\"Time-label\">[00:02<00:00, 0.45s/it]</span></div>"
      ],
      "text/plain": [
       "\u001b[A\u001b[2K\r",
       "Vroom Vroom EP  [█████████████████████████████████████████████] 4/4 [00:02<00:00, 0.45s/it]"
      ]
     },
     "metadata": {},
     "output_type": "display_data"
    },
    {
     "data": {
      "text/html": [
       "<div><span class=\"Text-label\" style=\"display:inline-block; overflow:hidden; white-space:nowrap; text-overflow:ellipsis; min-width:15ex; max-width:15ex; vertical-align:middle; text-align:right\">This Unruly Mess I've Made by Macklemore</span>\n",
       "<progress style=\"width:45ex\" max=\"13\" value=\"13\" class=\"Progress-main\"/></progress>\n",
       "<span class=\"Progress-label\"><strong>100%</strong></span>\n",
       "<span class=\"Iteration-label\">13/13</span>\n",
       "<span class=\"Time-label\">[00:07<00:01, 0.52s/it]</span></div>"
      ],
      "text/plain": [
       "\u001b[A\u001b[2K\r",
       "This Unruly Mes [█████████████████████████████████████████████] 13/13 [00:07<00:01, 0.52s/it]"
      ]
     },
     "metadata": {},
     "output_type": "display_data"
    },
    {
     "data": {
      "text/html": [
       "<div><span class=\"Text-label\" style=\"display:inline-block; overflow:hidden; white-space:nowrap; text-overflow:ellipsis; min-width:15ex; max-width:15ex; vertical-align:middle; text-align:right\">Warlord (Deluxe) by Yung Lean</span>\n",
       "<progress style=\"width:45ex\" max=\"19\" value=\"19\" class=\"Progress-main\"/></progress>\n",
       "<span class=\"Progress-label\"><strong>100%</strong></span>\n",
       "<span class=\"Iteration-label\">19/19</span>\n",
       "<span class=\"Time-label\">[00:10<00:01, 0.52s/it]</span></div>"
      ],
      "text/plain": [
       "\u001b[A\u001b[2K\r",
       "Warlord (Deluxe [█████████████████████████████████████████████] 19/19 [00:10<00:01, 0.52s/it]"
      ]
     },
     "metadata": {},
     "output_type": "display_data"
    },
    {
     "data": {
      "text/html": [
       "<div><span class=\"Text-label\" style=\"display:inline-block; overflow:hidden; white-space:nowrap; text-overflow:ellipsis; min-width:15ex; max-width:15ex; vertical-align:middle; text-align:right\">Ultimate Care II by Matmos</span>\n",
       "<progress style=\"width:45ex\" max=\"9\" value=\"9\" class=\"Progress-main\"/></progress>\n",
       "<span class=\"Progress-label\"><strong>100%</strong></span>\n",
       "<span class=\"Iteration-label\">9/9</span>\n",
       "<span class=\"Time-label\">[00:05<00:00, 0.55s/it]</span></div>"
      ],
      "text/plain": [
       "\u001b[A\u001b[2K\r",
       "Ultimate Care I [█████████████████████████████████████████████] 9/9 [00:05<00:00, 0.55s/it]"
      ]
     },
     "metadata": {},
     "output_type": "display_data"
    },
    {
     "data": {
      "text/html": [
       "<div><span class=\"Text-label\" style=\"display:inline-block; overflow:hidden; white-space:nowrap; text-overflow:ellipsis; min-width:15ex; max-width:15ex; vertical-align:middle; text-align:right\">99 Cents by Santigold</span>\n",
       "<progress style=\"width:45ex\" max=\"12\" value=\"12\" class=\"Progress-main\"/></progress>\n",
       "<span class=\"Progress-label\"><strong>100%</strong></span>\n",
       "<span class=\"Iteration-label\">12/12</span>\n",
       "<span class=\"Time-label\">[00:06<00:01, 0.49s/it]</span></div>"
      ],
      "text/plain": [
       "\u001b[A\u001b[2K\r",
       "99 Cents by San [█████████████████████████████████████████████] 12/12 [00:06<00:01, 0.49s/it]"
      ]
     },
     "metadata": {},
     "output_type": "display_data"
    },
    {
     "data": {
      "text/html": [
       "<div><span class=\"Text-label\" style=\"display:inline-block; overflow:hidden; white-space:nowrap; text-overflow:ellipsis; min-width:15ex; max-width:15ex; vertical-align:middle; text-align:right\">Painting With by Animal Collective</span>\n",
       "<progress style=\"width:45ex\" max=\"12\" value=\"12\" class=\"Progress-main\"/></progress>\n",
       "<span class=\"Progress-label\"><strong>100%</strong></span>\n",
       "<span class=\"Iteration-label\">12/12</span>\n",
       "<span class=\"Time-label\">[00:05<00:00, 0.45s/it]</span></div>"
      ],
      "text/plain": [
       "\u001b[A\u001b[2K\r",
       "Painting With b [█████████████████████████████████████████████] 12/12 [00:05<00:00, 0.45s/it]"
      ]
     },
     "metadata": {},
     "output_type": "display_data"
    },
    {
     "data": {
      "text/html": [
       "<div><span class=\"Text-label\" style=\"display:inline-block; overflow:hidden; white-space:nowrap; text-overflow:ellipsis; min-width:15ex; max-width:15ex; vertical-align:middle; text-align:right\">Pool by Porches</span>\n",
       "<progress style=\"width:45ex\" max=\"12\" value=\"12\" class=\"Progress-main\"/></progress>\n",
       "<span class=\"Progress-label\"><strong>100%</strong></span>\n",
       "<span class=\"Iteration-label\">12/12</span>\n",
       "<span class=\"Time-label\">[00:06<00:01, 0.48s/it]</span></div>"
      ],
      "text/plain": [
       "\u001b[A\u001b[2K\r",
       "Pool by Porches [█████████████████████████████████████████████] 12/12 [00:06<00:01, 0.48s/it]"
      ]
     },
     "metadata": {},
     "output_type": "display_data"
    },
    {
     "data": {
      "text/html": [
       "<div><span class=\"Text-label\" style=\"display:inline-block; overflow:hidden; white-space:nowrap; text-overflow:ellipsis; min-width:15ex; max-width:15ex; vertical-align:middle; text-align:right\">The Life Of Pablo by Kanye West</span>\n",
       "<progress style=\"width:45ex\" max=\"20\" value=\"20\" class=\"Progress-main\"/></progress>\n",
       "<span class=\"Progress-label\"><strong>100%</strong></span>\n",
       "<span class=\"Iteration-label\">20/20</span>\n",
       "<span class=\"Time-label\">[00:09<00:01, 0.47s/it]</span></div>"
      ],
      "text/plain": [
       "\u001b[A\u001b[2K\r",
       "The Life Of Pab [█████████████████████████████████████████████] 20/20 [00:09<00:01, 0.47s/it]"
      ]
     },
     "metadata": {},
     "output_type": "display_data"
    },
    {
     "data": {
      "text/html": [
       "<div><span class=\"Text-label\" style=\"display:inline-block; overflow:hidden; white-space:nowrap; text-overflow:ellipsis; min-width:15ex; max-width:15ex; vertical-align:middle; text-align:right\">The Ghosts of Highway 20 by Lucinda Williams</span>\n",
       "<progress style=\"width:45ex\" max=\"14\" value=\"14\" class=\"Progress-main\"/></progress>\n",
       "<span class=\"Progress-label\"><strong>100%</strong></span>\n",
       "<span class=\"Iteration-label\">14/14</span>\n",
       "<span class=\"Time-label\">[00:09<00:01, 0.67s/it]</span></div>"
      ],
      "text/plain": [
       "\u001b[A\u001b[2K\r",
       "The Ghosts of H [█████████████████████████████████████████████] 14/14 [00:09<00:01, 0.67s/it]"
      ]
     },
     "metadata": {},
     "output_type": "display_data"
    },
    {
     "data": {
      "text/html": [
       "<div><span class=\"Text-label\" style=\"display:inline-block; overflow:hidden; white-space:nowrap; text-overflow:ellipsis; min-width:15ex; max-width:15ex; vertical-align:middle; text-align:right\">Useless by BONES</span>\n",
       "<progress style=\"width:45ex\" max=\"9\" value=\"9\" class=\"Progress-main\"/></progress>\n",
       "<span class=\"Progress-label\"><strong>100%</strong></span>\n",
       "<span class=\"Iteration-label\">9/9</span>\n",
       "<span class=\"Time-label\">[00:04<00:00, 0.44s/it]</span></div>"
      ],
      "text/plain": [
       "\u001b[A\u001b[2K\r",
       "Useless by BONE [█████████████████████████████████████████████] 9/9 [00:04<00:00, 0.44s/it]"
      ]
     },
     "metadata": {},
     "output_type": "display_data"
    },
    {
     "data": {
      "text/html": [
       "<div><span class=\"Text-label\" style=\"display:inline-block; overflow:hidden; white-space:nowrap; text-overflow:ellipsis; min-width:15ex; max-width:15ex; vertical-align:middle; text-align:right\">Majid Jordan by Majid Jordan</span>\n",
       "<progress style=\"width:45ex\" max=\"12\" value=\"12\" class=\"Progress-main\"/></progress>\n",
       "<span class=\"Progress-label\"><strong>100%</strong></span>\n",
       "<span class=\"Iteration-label\">12/12</span>\n",
       "<span class=\"Time-label\">[00:06<00:00, 0.51s/it]</span></div>"
      ],
      "text/plain": [
       "\u001b[A\u001b[2K\r",
       "Majid Jordan by [█████████████████████████████████████████████] 12/12 [00:06<00:00, 0.51s/it]"
      ]
     },
     "metadata": {},
     "output_type": "display_data"
    },
    {
     "data": {
      "text/html": [
       "<div><span class=\"Text-label\" style=\"display:inline-block; overflow:hidden; white-space:nowrap; text-overflow:ellipsis; min-width:15ex; max-width:15ex; vertical-align:middle; text-align:right\">EVOL by Future</span>\n",
       "<progress style=\"width:45ex\" max=\"12\" value=\"12\" class=\"Progress-main\"/></progress>\n",
       "<span class=\"Progress-label\"><strong>100%</strong></span>\n",
       "<span class=\"Iteration-label\">12/12</span>\n",
       "<span class=\"Time-label\">[00:06<00:00, 0.48s/it]</span></div>"
      ],
      "text/plain": [
       "\u001b[A\u001b[2K\r",
       " EVOL by Future [█████████████████████████████████████████████] 12/12 [00:06<00:00, 0.48s/it]"
      ]
     },
     "metadata": {},
     "output_type": "display_data"
    },
    {
     "data": {
      "text/html": [
       "<div><span class=\"Text-label\" style=\"display:inline-block; overflow:hidden; white-space:nowrap; text-overflow:ellipsis; min-width:15ex; max-width:15ex; vertical-align:middle; text-align:right\">I'm Up by Young Thug</span>\n",
       "<progress style=\"width:45ex\" max=\"9\" value=\"9\" class=\"Progress-main\"/></progress>\n",
       "<span class=\"Progress-label\"><strong>100%</strong></span>\n",
       "<span class=\"Iteration-label\">9/9</span>\n",
       "<span class=\"Time-label\">[00:04<00:01, 0.48s/it]</span></div>"
      ],
      "text/plain": [
       "\u001b[A\u001b[2K\r",
       "I'm Up by Young [█████████████████████████████████████████████] 9/9 [00:04<00:01, 0.48s/it]"
      ]
     },
     "metadata": {},
     "output_type": "display_data"
    },
    {
     "data": {
      "text/html": [
       "<div><span class=\"Text-label\" style=\"display:inline-block; overflow:hidden; white-space:nowrap; text-overflow:ellipsis; min-width:15ex; max-width:15ex; vertical-align:middle; text-align:right\">Is the Is Are by DIIV</span>\n",
       "<progress style=\"width:45ex\" max=\"17\" value=\"17\" class=\"Progress-main\"/></progress>\n",
       "<span class=\"Progress-label\"><strong>100%</strong></span>\n",
       "<span class=\"Iteration-label\">17/17</span>\n",
       "<span class=\"Time-label\">[00:10<00:01, 0.60s/it]</span></div>"
      ],
      "text/plain": [
       "\u001b[A\u001b[2K\r",
       "Is the Is Are b [█████████████████████████████████████████████] 17/17 [00:10<00:01, 0.60s/it]"
      ]
     },
     "metadata": {},
     "output_type": "display_data"
    },
    {
     "data": {
      "text/html": [
       "<div><span class=\"Text-label\" style=\"display:inline-block; overflow:hidden; white-space:nowrap; text-overflow:ellipsis; min-width:15ex; max-width:15ex; vertical-align:middle; text-align:right\">Hymns by Bloc Party</span>\n",
       "<progress style=\"width:45ex\" max=\"11\" value=\"11\" class=\"Progress-main\"/></progress>\n",
       "<span class=\"Progress-label\"><strong>100%</strong></span>\n",
       "<span class=\"Iteration-label\">11/11</span>\n",
       "<span class=\"Time-label\">[00:06<00:00, 0.55s/it]</span></div>"
      ],
      "text/plain": [
       "\u001b[A\u001b[2K\r",
       "Hymns by Bloc P [█████████████████████████████████████████████] 11/11 [00:06<00:00, 0.55s/it]"
      ]
     },
     "metadata": {},
     "output_type": "display_data"
    },
    {
     "data": {
      "text/html": [
       "<div><span class=\"Text-label\" style=\"display:inline-block; overflow:hidden; white-space:nowrap; text-overflow:ellipsis; min-width:15ex; max-width:15ex; vertical-align:middle; text-align:right\">ANTI (Deluxe) by Rihanna</span>\n",
       "<progress style=\"width:45ex\" max=\"16\" value=\"16\" class=\"Progress-main\"/></progress>\n",
       "<span class=\"Progress-label\"><strong>100%</strong></span>\n",
       "<span class=\"Iteration-label\">16/16</span>\n",
       "<span class=\"Time-label\">[00:08<00:00, 0.51s/it]</span></div>"
      ],
      "text/plain": [
       "\u001b[A\u001b[2K\r",
       "ANTI (Deluxe) b [█████████████████████████████████████████████] 16/16 [00:08<00:00, 0.51s/it]"
      ]
     },
     "metadata": {},
     "output_type": "display_data"
    },
    {
     "data": {
      "text/html": [
       "<div><span class=\"Text-label\" style=\"display:inline-block; overflow:hidden; white-space:nowrap; text-overflow:ellipsis; min-width:15ex; max-width:15ex; vertical-align:middle; text-align:right\">Ritual Spirit by Massive Attack</span>\n",
       "<progress style=\"width:45ex\" max=\"4\" value=\"4\" class=\"Progress-main\"/></progress>\n",
       "<span class=\"Progress-label\"><strong>100%</strong></span>\n",
       "<span class=\"Iteration-label\">4/4</span>\n",
       "<span class=\"Time-label\">[00:03<00:01, 0.75s/it]</span></div>"
      ],
      "text/plain": [
       "\u001b[A\u001b[2K\r",
       "Ritual Spirit b [█████████████████████████████████████████████] 4/4 [00:03<00:01, 0.75s/it]"
      ]
     },
     "metadata": {},
     "output_type": "display_data"
    },
    {
     "data": {
      "text/html": [
       "<div><span class=\"Text-label\" style=\"display:inline-block; overflow:hidden; white-space:nowrap; text-overflow:ellipsis; min-width:15ex; max-width:15ex; vertical-align:middle; text-align:right\">Mothership Connection by Parliament</span>\n",
       "<progress style=\"width:45ex\" max=\"7\" value=\"7\" class=\"Progress-main\"/></progress>\n",
       "<span class=\"Progress-label\"><strong>100%</strong></span>\n",
       "<span class=\"Iteration-label\">7/7</span>\n",
       "<span class=\"Time-label\">[00:05<00:01, 0.65s/it]</span></div>"
      ],
      "text/plain": [
       "\u001b[A\u001b[2K\r",
       "Mothership Conn [█████████████████████████████████████████████] 7/7 [00:05<00:01, 0.65s/it]"
      ]
     },
     "metadata": {},
     "output_type": "display_data"
    },
    {
     "data": {
      "text/html": [
       "<div><span class=\"Text-label\" style=\"display:inline-block; overflow:hidden; white-space:nowrap; text-overflow:ellipsis; min-width:15ex; max-width:15ex; vertical-align:middle; text-align:right\">Adore Life by Savages</span>\n",
       "<progress style=\"width:45ex\" max=\"10\" value=\"10\" class=\"Progress-main\"/></progress>\n",
       "<span class=\"Progress-label\"><strong>100%</strong></span>\n",
       "<span class=\"Iteration-label\">10/10</span>\n",
       "<span class=\"Time-label\">[00:05<00:01, 0.53s/it]</span></div>"
      ],
      "text/plain": [
       "\u001b[A\u001b[2K\r",
       "Adore Life by S [█████████████████████████████████████████████] 10/10 [00:05<00:01, 0.53s/it]"
      ]
     },
     "metadata": {},
     "output_type": "display_data"
    },
    {
     "data": {
      "text/html": [
       "<div><span class=\"Text-label\" style=\"display:inline-block; overflow:hidden; white-space:nowrap; text-overflow:ellipsis; min-width:15ex; max-width:15ex; vertical-align:middle; text-align:right\">Not to Disappear by Daughter</span>\n",
       "<progress style=\"width:45ex\" max=\"10\" value=\"10\" class=\"Progress-main\"/></progress>\n",
       "<span class=\"Progress-label\"><strong>100%</strong></span>\n",
       "<span class=\"Iteration-label\">10/10</span>\n",
       "<span class=\"Time-label\">[00:07<00:00, 0.67s/it]</span></div>"
      ],
      "text/plain": [
       "\u001b[A\u001b[2K\r",
       "Not to Disappea [█████████████████████████████████████████████] 10/10 [00:07<00:00, 0.67s/it]"
      ]
     },
     "metadata": {},
     "output_type": "display_data"
    },
    {
     "data": {
      "text/html": [
       "<div><span class=\"Text-label\" style=\"display:inline-block; overflow:hidden; white-space:nowrap; text-overflow:ellipsis; min-width:15ex; max-width:15ex; vertical-align:middle; text-align:right\">Jesu/Sun Kil Moon by Jesu/Sun Kil Moon</span>\n",
       "<progress style=\"width:45ex\" max=\"10\" value=\"10\" class=\"Progress-main\"/></progress>\n",
       "<span class=\"Progress-label\"><strong>100%</strong></span>\n",
       "<span class=\"Iteration-label\">10/10</span>\n",
       "<span class=\"Time-label\">[00:08<00:03, 0.82s/it]</span></div>"
      ],
      "text/plain": [
       "\u001b[A\u001b[2K\r",
       "Jesu/Sun Kil Mo [█████████████████████████████████████████████] 10/10 [00:08<00:03, 0.82s/it]"
      ]
     },
     "metadata": {},
     "output_type": "display_data"
    },
    {
     "data": {
      "text/html": [
       "<div><span class=\"Text-label\" style=\"display:inline-block; overflow:hidden; white-space:nowrap; text-overflow:ellipsis; min-width:15ex; max-width:15ex; vertical-align:middle; text-align:right\">Malibu by Anderson .Paak</span>\n",
       "<progress style=\"width:45ex\" max=\"16\" value=\"16\" class=\"Progress-main\"/></progress>\n",
       "<span class=\"Progress-label\"><strong>100%</strong></span>\n",
       "<span class=\"Iteration-label\">16/16</span>\n",
       "<span class=\"Time-label\">[00:09<00:01, 0.53s/it]</span></div>"
      ],
      "text/plain": [
       "\u001b[A\u001b[2K\r",
       "Malibu by Ander [█████████████████████████████████████████████] 16/16 [00:09<00:01, 0.53s/it]"
      ]
     },
     "metadata": {},
     "output_type": "display_data"
    },
    {
     "data": {
      "text/html": [
       "<div><span class=\"Text-label\" style=\"display:inline-block; overflow:hidden; white-space:nowrap; text-overflow:ellipsis; min-width:15ex; max-width:15ex; vertical-align:middle; text-align:right\">Emotional Mugger by Ty Segall</span>\n",
       "<progress style=\"width:45ex\" max=\"11\" value=\"11\" class=\"Progress-main\"/></progress>\n",
       "<span class=\"Progress-label\"><strong>100%</strong></span>\n",
       "<span class=\"Iteration-label\">11/11</span>\n",
       "<span class=\"Time-label\">[00:05<00:01, 0.46s/it]</span></div>"
      ],
      "text/plain": [
       "\u001b[A\u001b[2K\r",
       "Emotional Mugge [█████████████████████████████████████████████] 11/11 [00:05<00:01, 0.46s/it]"
      ]
     },
     "metadata": {},
     "output_type": "display_data"
    },
    {
     "data": {
      "text/html": [
       "<div><span class=\"Text-label\" style=\"display:inline-block; overflow:hidden; white-space:nowrap; text-overflow:ellipsis; min-width:15ex; max-width:15ex; vertical-align:middle; text-align:right\">AQUARIA by BOOTS</span>\n",
       "<progress style=\"width:45ex\" max=\"11\" value=\"11\" class=\"Progress-main\"/></progress>\n",
       "<span class=\"Progress-label\"><strong>100%</strong></span>\n",
       "<span class=\"Iteration-label\">11/11</span>\n",
       "<span class=\"Time-label\">[00:06<00:00, 0.52s/it]</span></div>"
      ],
      "text/plain": [
       "\u001b[A\u001b[2K\r",
       "AQUARIA by BOOT [█████████████████████████████████████████████] 11/11 [00:06<00:00, 0.52s/it]"
      ]
     },
     "metadata": {},
     "output_type": "display_data"
    },
    {
     "data": {
      "text/html": [
       "<div><span class=\"Text-label\" style=\"display:inline-block; overflow:hidden; white-space:nowrap; text-overflow:ellipsis; min-width:15ex; max-width:15ex; vertical-align:middle; text-align:right\">Los Suicidas by Meridian Brothers</span>\n",
       "<progress style=\"width:45ex\" max=\"8\" value=\"8\" class=\"Progress-main\"/></progress>\n",
       "<span class=\"Progress-label\"><strong>100%</strong></span>\n",
       "<span class=\"Iteration-label\">8/8</span>\n",
       "<span class=\"Time-label\">[00:04<00:01, 0.56s/it]</span></div>"
      ],
      "text/plain": [
       "\u001b[A\u001b[2K\r",
       "Los Suicidas by [█████████████████████████████████████████████] 8/8 [00:04<00:01, 0.56s/it]"
      ]
     },
     "metadata": {},
     "output_type": "display_data"
    },
    {
     "data": {
      "text/html": [
       "<div><span class=\"Text-label\" style=\"display:inline-block; overflow:hidden; white-space:nowrap; text-overflow:ellipsis; min-width:15ex; max-width:15ex; vertical-align:middle; text-align:right\">Leave Me Alone by Hinds</span>\n",
       "<progress style=\"width:45ex\" max=\"12\" value=\"12\" class=\"Progress-main\"/></progress>\n",
       "<span class=\"Progress-label\"><strong>100%</strong></span>\n",
       "<span class=\"Iteration-label\">12/12</span>\n",
       "<span class=\"Time-label\">[00:06<00:00, 0.51s/it]</span></div>"
      ],
      "text/plain": [
       "\u001b[A\u001b[2K\r",
       "Leave Me Alone  [█████████████████████████████████████████████] 12/12 [00:06<00:00, 0.51s/it]"
      ]
     },
     "metadata": {},
     "output_type": "display_data"
    },
    {
     "data": {
      "text/html": [
       "<div><span class=\"Text-label\" style=\"display:inline-block; overflow:hidden; white-space:nowrap; text-overflow:ellipsis; min-width:15ex; max-width:15ex; vertical-align:middle; text-align:right\">Blackstar by David Bowie</span>\n",
       "<progress style=\"width:45ex\" max=\"7\" value=\"7\" class=\"Progress-main\"/></progress>\n",
       "<span class=\"Progress-label\"><strong>100%</strong></span>\n",
       "<span class=\"Iteration-label\">7/7</span>\n",
       "<span class=\"Time-label\">[00:04<00:01, 0.58s/it]</span></div>"
      ],
      "text/plain": [
       "\u001b[A\u001b[2K\r",
       "Blackstar by Da [█████████████████████████████████████████████] 7/7 [00:04<00:01, 0.58s/it]"
      ]
     },
     "metadata": {},
     "output_type": "display_data"
    },
    {
     "data": {
      "text/html": [
       "<div><span class=\"Text-label\" style=\"display:inline-block; overflow:hidden; white-space:nowrap; text-overflow:ellipsis; min-width:15ex; max-width:15ex; vertical-align:middle; text-align:right\">At Least For Now by Benjamin Clementine</span>\n",
       "<progress style=\"width:45ex\" max=\"12\" value=\"12\" class=\"Progress-main\"/></progress>\n",
       "<span class=\"Progress-label\"><strong>100%</strong></span>\n",
       "<span class=\"Iteration-label\">12/12</span>\n",
       "<span class=\"Time-label\">[00:07<00:00, 0.59s/it]</span></div>"
      ],
      "text/plain": [
       "\u001b[A\u001b[2K\r",
       "At Least For No [█████████████████████████████████████████████] 12/12 [00:07<00:00, 0.59s/it]"
      ]
     },
     "metadata": {},
     "output_type": "display_data"
    },
    {
     "data": {
      "text/html": [
       "<div><span class=\"Text-label\" style=\"display:inline-block; overflow:hidden; white-space:nowrap; text-overflow:ellipsis; min-width:15ex; max-width:15ex; vertical-align:middle; text-align:right\">Oblivion Access by Lil Ugly Mane</span>\n",
       "<progress style=\"width:45ex\" max=\"13\" value=\"13\" class=\"Progress-main\"/></progress>\n",
       "<span class=\"Progress-label\"><strong>100%</strong></span>\n",
       "<span class=\"Iteration-label\">13/13</span>\n",
       "<span class=\"Time-label\">[00:06<00:01, 0.48s/it]</span></div>"
      ],
      "text/plain": [
       "\u001b[A\u001b[2K\r",
       "Oblivion Access [█████████████████████████████████████████████] 13/13 [00:06<00:01, 0.48s/it]"
      ]
     },
     "metadata": {},
     "output_type": "display_data"
    },
    {
     "data": {
      "text/html": [
       "<div><span class=\"Text-label\" style=\"display:inline-block; overflow:hidden; white-space:nowrap; text-overflow:ellipsis; min-width:15ex; max-width:15ex; vertical-align:middle; text-align:right\">Hyperion by Krallice</span>\n",
       "<progress style=\"width:45ex\" max=\"3\" value=\"3\" class=\"Progress-main\"/></progress>\n",
       "<span class=\"Progress-label\"><strong>100%</strong></span>\n",
       "<span class=\"Iteration-label\">3/3</span>\n",
       "<span class=\"Time-label\">[00:02<00:01, 0.69s/it]</span></div>"
      ],
      "text/plain": [
       "\u001b[A\u001b[2K\r",
       "Hyperion by Kra [█████████████████████████████████████████████] 3/3 [00:02<00:01, 0.69s/it]"
      ]
     },
     "metadata": {},
     "output_type": "display_data"
    },
    {
     "data": {
      "text/html": [
       "<div><span class=\"Text-label\" style=\"display:inline-block; overflow:hidden; white-space:nowrap; text-overflow:ellipsis; min-width:15ex; max-width:15ex; vertical-align:middle; text-align:right\">Tell Me I'm Pretty by Cage The Elephant</span>\n",
       "<progress style=\"width:45ex\" max=\"10\" value=\"10\" class=\"Progress-main\"/></progress>\n",
       "<span class=\"Progress-label\"><strong>100%</strong></span>\n",
       "<span class=\"Iteration-label\">10/10</span>\n",
       "<span class=\"Time-label\">[00:05<00:00, 0.49s/it]</span></div>"
      ],
      "text/plain": [
       "\u001b[A\u001b[2K\r",
       "Tell Me I'm Pre [█████████████████████████████████████████████] 10/10 [00:05<00:00, 0.49s/it]"
      ]
     },
     "metadata": {},
     "output_type": "display_data"
    },
    {
     "data": {
      "text/html": [
       "<div><span class=\"Text-label\" style=\"display:inline-block; overflow:hidden; white-space:nowrap; text-overflow:ellipsis; min-width:15ex; max-width:15ex; vertical-align:middle; text-align:right\">Kid A by Radiohead</span>\n",
       "<progress style=\"width:45ex\" max=\"11\" value=\"11\" class=\"Progress-main\"/></progress>\n",
       "<span class=\"Progress-label\"><strong>100%</strong></span>\n",
       "<span class=\"Iteration-label\">11/11</span>\n",
       "<span class=\"Time-label\">[00:05<00:00, 0.45s/it]</span></div>"
      ],
      "text/plain": [
       "\u001b[A\u001b[2K\r",
       "Kid A by Radioh [█████████████████████████████████████████████] 11/11 [00:05<00:00, 0.45s/it]"
      ]
     },
     "metadata": {},
     "output_type": "display_data"
    },
    {
     "data": {
      "text/html": [
       "<div><span class=\"Text-label\" style=\"display:inline-block; overflow:hidden; white-space:nowrap; text-overflow:ellipsis; min-width:15ex; max-width:15ex; vertical-align:middle; text-align:right\">Endtroducing..... by DJ Shadow</span>\n",
       "<progress style=\"width:45ex\" max=\"16\" value=\"16\" class=\"Progress-main\"/></progress>\n",
       "<span class=\"Progress-label\"><strong>100%</strong></span>\n",
       "<span class=\"Iteration-label\">16/16</span>\n",
       "<span class=\"Time-label\">[00:08<00:00, 0.51s/it]</span></div>"
      ],
      "text/plain": [
       "\u001b[A\u001b[2K\r",
       "Endtroducing... [█████████████████████████████████████████████] 16/16 [00:08<00:00, 0.51s/it]"
      ]
     },
     "metadata": {},
     "output_type": "display_data"
    },
    {
     "data": {
      "text/html": [
       "<div><span class=\"Text-label\" style=\"display:inline-block; overflow:hidden; white-space:nowrap; text-overflow:ellipsis; min-width:15ex; max-width:15ex; vertical-align:middle; text-align:right\">Straight Outta Compton by N.W.A.</span>\n",
       "<progress style=\"width:45ex\" max=\"13\" value=\"13\" class=\"Progress-main\"/></progress>\n",
       "<span class=\"Progress-label\"><strong>100%</strong></span>\n",
       "<span class=\"Iteration-label\">13/13</span>\n",
       "<span class=\"Time-label\">[00:08<00:00, 0.60s/it]</span></div>"
      ],
      "text/plain": [
       "\u001b[A\u001b[2K\r",
       "Straight Outta  [█████████████████████████████████████████████] 13/13 [00:08<00:00, 0.60s/it]"
      ]
     },
     "metadata": {},
     "output_type": "display_data"
    },
    {
     "data": {
      "text/html": [
       "<div><span class=\"Text-label\" style=\"display:inline-block; overflow:hidden; white-space:nowrap; text-overflow:ellipsis; min-width:15ex; max-width:15ex; vertical-align:middle; text-align:right\">Spiderland by Slint</span>\n",
       "<progress style=\"width:45ex\" max=\"6\" value=\"6\" class=\"Progress-main\"/></progress>\n",
       "<span class=\"Progress-label\"><strong>100%</strong></span>\n",
       "<span class=\"Iteration-label\">6/6</span>\n",
       "<span class=\"Time-label\">[00:04<00:01, 0.70s/it]</span></div>"
      ],
      "text/plain": [
       "\u001b[A\u001b[2K\r",
       "Spiderland by S [█████████████████████████████████████████████] 6/6 [00:04<00:01, 0.70s/it]"
      ]
     },
     "metadata": {},
     "output_type": "display_data"
    },
    {
     "data": {
      "text/html": [
       "<div><span class=\"Text-label\" style=\"display:inline-block; overflow:hidden; white-space:nowrap; text-overflow:ellipsis; min-width:15ex; max-width:15ex; vertical-align:middle; text-align:right\">Highway 61 Revisited by Bob Dylan</span>\n",
       "<progress style=\"width:45ex\" max=\"9\" value=\"9\" class=\"Progress-main\"/></progress>\n",
       "<span class=\"Progress-label\"><strong>100%</strong></span>\n",
       "<span class=\"Iteration-label\">9/9</span>\n",
       "<span class=\"Time-label\">[00:05<00:01, 0.53s/it]</span></div>"
      ],
      "text/plain": [
       "\u001b[A\u001b[2K\r",
       "Highway 61 Revi [█████████████████████████████████████████████] 9/9 [00:05<00:01, 0.53s/it]"
      ]
     },
     "metadata": {},
     "output_type": "display_data"
    },
    {
     "data": {
      "text/html": [
       "<div><span class=\"Text-label\" style=\"display:inline-block; overflow:hidden; white-space:nowrap; text-overflow:ellipsis; min-width:15ex; max-width:15ex; vertical-align:middle; text-align:right\">Phaedra (Deluxe Version) by Tangerine Dream</span>\n",
       "<progress style=\"width:45ex\" max=\"14\" value=\"14\" class=\"Progress-main\"/></progress>\n",
       "<span class=\"Progress-label\"><strong>100%</strong></span>\n",
       "<span class=\"Iteration-label\">14/14</span>\n",
       "<span class=\"Time-label\">[00:11<00:00, 0.79s/it]</span></div>"
      ],
      "text/plain": [
       "\u001b[A\u001b[2K\r",
       "Phaedra (Deluxe [█████████████████████████████████████████████] 14/14 [00:11<00:00, 0.79s/it]"
      ]
     },
     "metadata": {},
     "output_type": "display_data"
    },
    {
     "data": {
      "text/html": [
       "<div><span class=\"Text-label\" style=\"display:inline-block; overflow:hidden; white-space:nowrap; text-overflow:ellipsis; min-width:15ex; max-width:15ex; vertical-align:middle; text-align:right\">King Push – Darkest Before Dawn: The Prelude by Pusha T</span>\n",
       "<progress style=\"width:45ex\" max=\"10\" value=\"10\" class=\"Progress-main\"/></progress>\n",
       "<span class=\"Progress-label\"><strong>100%</strong></span>\n",
       "<span class=\"Iteration-label\">10/10</span>\n",
       "<span class=\"Time-label\">[00:05<00:00, 0.50s/it]</span></div>"
      ],
      "text/plain": [
       "\u001b[A\u001b[2K\r",
       "King Push – Dar [█████████████████████████████████████████████] 10/10 [00:05<00:00, 0.50s/it]"
      ]
     },
     "metadata": {},
     "output_type": "display_data"
    },
    {
     "data": {
      "text/html": [
       "<div><span class=\"Text-label\" style=\"display:inline-block; overflow:hidden; white-space:nowrap; text-overflow:ellipsis; min-width:15ex; max-width:15ex; vertical-align:middle; text-align:right\">Purple Haze by Cam’ron</span>\n",
       "<progress style=\"width:45ex\" max=\"24\" value=\"24\" class=\"Progress-main\"/></progress>\n",
       "<span class=\"Progress-label\"><strong>100%</strong></span>\n",
       "<span class=\"Iteration-label\">24/24</span>\n",
       "<span class=\"Time-label\">[00:12<00:01, 0.51s/it]</span></div>"
      ],
      "text/plain": [
       "\u001b[A\u001b[2K\r",
       "Purple Haze by  [█████████████████████████████████████████████] 24/24 [00:12<00:01, 0.51s/it]"
      ]
     },
     "metadata": {},
     "output_type": "display_data"
    },
    {
     "data": {
      "text/html": [
       "<div><span class=\"Text-label\" style=\"display:inline-block; overflow:hidden; white-space:nowrap; text-overflow:ellipsis; min-width:15ex; max-width:15ex; vertical-align:middle; text-align:right\">ARDIPITHECUS by WILLOW</span>\n",
       "<progress style=\"width:45ex\" max=\"15\" value=\"15\" class=\"Progress-main\"/></progress>\n",
       "<span class=\"Progress-label\"><strong>100%</strong></span>\n",
       "<span class=\"Iteration-label\">15/15</span>\n",
       "<span class=\"Time-label\">[00:07<00:00, 0.44s/it]</span></div>"
      ],
      "text/plain": [
       "\u001b[A\u001b[2K\r",
       "ARDIPITHECUS by [█████████████████████████████████████████████] 15/15 [00:07<00:00, 0.44s/it]"
      ]
     },
     "metadata": {},
     "output_type": "display_data"
    },
    {
     "data": {
      "text/html": [
       "<div><span class=\"Text-label\" style=\"display:inline-block; overflow:hidden; white-space:nowrap; text-overflow:ellipsis; min-width:15ex; max-width:15ex; vertical-align:middle; text-align:right\">Stretch Music (Introducing Elena Pinderhughes) by Christian Scott aTunde Adjuah</span>\n",
       "<progress style=\"width:45ex\" max=\"11\" value=\"11\" class=\"Progress-main\"/></progress>\n",
       "<span class=\"Progress-label\"><strong>100%</strong></span>\n",
       "<span class=\"Iteration-label\">11/11</span>\n",
       "<span class=\"Time-label\">[00:05<00:00, 0.50s/it]</span></div>"
      ],
      "text/plain": [
       "\u001b[A\u001b[2K\r",
       "Stretch Music ( [█████████████████████████████████████████████] 11/11 [00:05<00:00, 0.50s/it]"
      ]
     },
     "metadata": {},
     "output_type": "display_data"
    },
    {
     "data": {
      "text/html": [
       "<div><span class=\"Text-label\" style=\"display:inline-block; overflow:hidden; white-space:nowrap; text-overflow:ellipsis; min-width:15ex; max-width:15ex; vertical-align:middle; text-align:right\">The Things We Do To Find People Who Feel Like Us by Beach Slang</span>\n",
       "<progress style=\"width:45ex\" max=\"10\" value=\"10\" class=\"Progress-main\"/></progress>\n",
       "<span class=\"Progress-label\"><strong>100%</strong></span>\n",
       "<span class=\"Iteration-label\">10/10</span>\n",
       "<span class=\"Time-label\">[00:05<00:00, 0.46s/it]</span></div>"
      ],
      "text/plain": [
       "\u001b[A\u001b[2K\r",
       "The Things We D [█████████████████████████████████████████████] 10/10 [00:05<00:00, 0.46s/it]"
      ]
     },
     "metadata": {},
     "output_type": "display_data"
    },
    {
     "data": {
      "text/html": [
       "<div><span class=\"Text-label\" style=\"display:inline-block; overflow:hidden; white-space:nowrap; text-overflow:ellipsis; min-width:15ex; max-width:15ex; vertical-align:middle; text-align:right\">Speed Me Up (with Ty Dolla $ign, Lil Yachty & Sueco the Child) by Wiz Khalifa</span>\n",
       "<progress style=\"width:45ex\" max=\"1\" value=\"1\" class=\"Progress-main\"/></progress>\n",
       "<span class=\"Progress-label\"><strong>100%</strong></span>\n",
       "<span class=\"Iteration-label\">1/1</span>\n",
       "<span class=\"Time-label\">[00:01<00:01, 0.66s/it]</span></div>"
      ],
      "text/plain": [
       "\u001b[A\u001b[2K\r",
       "Speed Me Up (wi [█████████████████████████████████████████████] 1/1 [00:01<00:01, 0.66s/it]"
      ]
     },
     "metadata": {},
     "output_type": "display_data"
    },
    {
     "data": {
      "text/html": [
       "<div><span class=\"Text-label\" style=\"display:inline-block; overflow:hidden; white-space:nowrap; text-overflow:ellipsis; min-width:15ex; max-width:15ex; vertical-align:middle; text-align:right\">A New Place 2 Drown by Archy Marshall</span>\n",
       "<progress style=\"width:45ex\" max=\"12\" value=\"12\" class=\"Progress-main\"/></progress>\n",
       "<span class=\"Progress-label\"><strong>100%</strong></span>\n",
       "<span class=\"Iteration-label\">12/12</span>\n",
       "<span class=\"Time-label\">[00:06<00:01, 0.54s/it]</span></div>"
      ],
      "text/plain": [
       "\u001b[A\u001b[2K\r",
       "A New Place 2 D [█████████████████████████████████████████████] 12/12 [00:06<00:01, 0.54s/it]"
      ]
     },
     "metadata": {},
     "output_type": "display_data"
    },
    {
     "data": {
      "text/html": [
       "<div><span class=\"Text-label\" style=\"display:inline-block; overflow:hidden; white-space:nowrap; text-overflow:ellipsis; min-width:15ex; max-width:15ex; vertical-align:middle; text-align:right\">When It's Dark Out by G-Eazy</span>\n",
       "<progress style=\"width:45ex\" max=\"17\" value=\"17\" class=\"Progress-main\"/></progress>\n",
       "<span class=\"Progress-label\"><strong>100%</strong></span>\n",
       "<span class=\"Iteration-label\">17/17</span>\n",
       "<span class=\"Time-label\">[00:09<00:01, 0.54s/it]</span></div>"
      ],
      "text/plain": [
       "\u001b[A\u001b[2K\r",
       "When It's Dark  [█████████████████████████████████████████████] 17/17 [00:09<00:01, 0.54s/it]"
      ]
     },
     "metadata": {},
     "output_type": "display_data"
    },
    {
     "data": {
      "text/html": [
       "<div><span class=\"Text-label\" style=\"display:inline-block; overflow:hidden; white-space:nowrap; text-overflow:ellipsis; min-width:15ex; max-width:15ex; vertical-align:middle; text-align:right\">Time & Materials by Cavanaugh</span>\n",
       "<progress style=\"width:45ex\" max=\"9\" value=\"9\" class=\"Progress-main\"/></progress>\n",
       "<span class=\"Progress-label\"><strong>100%</strong></span>\n",
       "<span class=\"Iteration-label\">9/9</span>\n",
       "<span class=\"Time-label\">[00:04<00:01, 0.45s/it]</span></div>"
      ],
      "text/plain": [
       "\u001b[A\u001b[2K\r",
       "Time & Material [█████████████████████████████████████████████] 9/9 [00:04<00:01, 0.45s/it]"
      ]
     },
     "metadata": {},
     "output_type": "display_data"
    },
    {
     "data": {
      "text/html": [
       "<div><span class=\"Text-label\" style=\"display:inline-block; overflow:hidden; white-space:nowrap; text-overflow:ellipsis; min-width:15ex; max-width:15ex; vertical-align:middle; text-align:right\">A Head Full of Dreams by Coldplay</span>\n",
       "<progress style=\"width:45ex\" max=\"11\" value=\"11\" class=\"Progress-main\"/></progress>\n",
       "<span class=\"Progress-label\"><strong>100%</strong></span>\n",
       "<span class=\"Iteration-label\">11/11</span>\n",
       "<span class=\"Time-label\">[00:06<00:01, 0.54s/it]</span></div>"
      ],
      "text/plain": [
       "\u001b[A\u001b[2K\r",
       "A Head Full of  [█████████████████████████████████████████████] 11/11 [00:06<00:01, 0.54s/it]"
      ]
     },
     "metadata": {},
     "output_type": "display_data"
    },
    {
     "data": {
      "text/html": [
       "<div><span class=\"Text-label\" style=\"display:inline-block; overflow:hidden; white-space:nowrap; text-overflow:ellipsis; min-width:15ex; max-width:15ex; vertical-align:middle; text-align:right\">But You Caint Use My Phone (Mixtape) by Erykah Badu</span>\n",
       "<progress style=\"width:45ex\" max=\"11\" value=\"11\" class=\"Progress-main\"/></progress>\n",
       "<span class=\"Progress-label\"><strong>100%</strong></span>\n",
       "<span class=\"Iteration-label\">11/11</span>\n",
       "<span class=\"Time-label\">[00:05<00:01, 0.49s/it]</span></div>"
      ],
      "text/plain": [
       "\u001b[A\u001b[2K\r",
       "But You Caint U [█████████████████████████████████████████████] 11/11 [00:05<00:01, 0.49s/it]"
      ]
     },
     "metadata": {},
     "output_type": "display_data"
    },
    {
     "data": {
      "text/html": [
       "<div><span class=\"Text-label\" style=\"display:inline-block; overflow:hidden; white-space:nowrap; text-overflow:ellipsis; min-width:15ex; max-width:15ex; vertical-align:middle; text-align:right\">Speedin' Bullet 2 Heaven by Kid Cudi</span>\n",
       "<progress style=\"width:45ex\" max=\"26\" value=\"26\" class=\"Progress-main\"/></progress>\n",
       "<span class=\"Progress-label\"><strong>100%</strong></span>\n",
       "<span class=\"Iteration-label\">26/26</span>\n",
       "<span class=\"Time-label\">[00:13<00:01, 0.51s/it]</span></div>"
      ],
      "text/plain": [
       "\u001b[A\u001b[2K\r",
       "Speedin' Bullet [█████████████████████████████████████████████] 26/26 [00:13<00:01, 0.51s/it]"
      ]
     },
     "metadata": {},
     "output_type": "display_data"
    },
    {
     "data": {
      "text/html": [
       "<div><span class=\"Text-label\" style=\"display:inline-block; overflow:hidden; white-space:nowrap; text-overflow:ellipsis; min-width:15ex; max-width:15ex; vertical-align:middle; text-align:right\">Skid Row by James Ferraro</span>\n",
       "<progress style=\"width:45ex\" max=\"13\" value=\"13\" class=\"Progress-main\"/></progress>\n",
       "<span class=\"Progress-label\"><strong>100%</strong></span>\n",
       "<span class=\"Iteration-label\">13/13</span>\n",
       "<span class=\"Time-label\">[00:07<00:00, 0.53s/it]</span></div>"
      ],
      "text/plain": [
       "\u001b[A\u001b[2K\r",
       "Skid Row by Jam [█████████████████████████████████████████████] 13/13 [00:07<00:00, 0.53s/it]"
      ]
     },
     "metadata": {},
     "output_type": "display_data"
    },
    {
     "data": {
      "text/html": [
       "<div><span class=\"Text-label\" style=\"display:inline-block; overflow:hidden; white-space:nowrap; text-overflow:ellipsis; min-width:15ex; max-width:15ex; vertical-align:middle; text-align:right\">Kannon by Sunn 0)))</span>\n",
       "<progress style=\"width:45ex\" max=\"3\" value=\"3\" class=\"Progress-main\"/></progress>\n",
       "<span class=\"Progress-label\"><strong>100%</strong></span>\n",
       "<span class=\"Iteration-label\">3/3</span>\n",
       "<span class=\"Time-label\">[00:03<00:01, 0.85s/it]</span></div>"
      ],
      "text/plain": [
       "\u001b[A\u001b[2K\r",
       "Kannon by Sunn  [█████████████████████████████████████████████] 3/3 [00:03<00:01, 0.85s/it]"
      ]
     },
     "metadata": {},
     "output_type": "display_data"
    },
    {
     "data": {
      "text/html": [
       "<div><span class=\"Text-label\" style=\"display:inline-block; overflow:hidden; white-space:nowrap; text-overflow:ellipsis; min-width:15ex; max-width:15ex; vertical-align:middle; text-align:right\">Mutant by Arca</span>\n",
       "<progress style=\"width:45ex\" max=\"20\" value=\"20\" class=\"Progress-main\"/></progress>\n",
       "<span class=\"Progress-label\"><strong>100%</strong></span>\n",
       "<span class=\"Iteration-label\">20/20</span>\n",
       "<span class=\"Time-label\">[00:09<00:01, 0.47s/it]</span></div>"
      ],
      "text/plain": [
       "\u001b[A\u001b[2K\r",
       " Mutant by Arca [█████████████████████████████████████████████] 20/20 [00:09<00:01, 0.47s/it]"
      ]
     },
     "metadata": {},
     "output_type": "display_data"
    },
    {
     "data": {
      "text/html": [
       "<div><span class=\"Text-label\" style=\"display:inline-block; overflow:hidden; white-space:nowrap; text-overflow:ellipsis; min-width:15ex; max-width:15ex; vertical-align:middle; text-align:right\">Shadow of a Doubt by Freddie Gibbs</span>\n",
       "<progress style=\"width:45ex\" max=\"17\" value=\"17\" class=\"Progress-main\"/></progress>\n",
       "<span class=\"Progress-label\"><strong>100%</strong></span>\n",
       "<span class=\"Iteration-label\">17/17</span>\n",
       "<span class=\"Time-label\">[00:09<00:00, 0.54s/it]</span></div>"
      ],
      "text/plain": [
       "\u001b[A\u001b[2K\r",
       "Shadow of a Dou [█████████████████████████████████████████████] 17/17 [00:09<00:00, 0.54s/it]"
      ]
     },
     "metadata": {},
     "output_type": "display_data"
    },
    {
     "data": {
      "text/html": [
       "<div><span class=\"Text-label\" style=\"display:inline-block; overflow:hidden; white-space:nowrap; text-overflow:ellipsis; min-width:15ex; max-width:15ex; vertical-align:middle; text-align:right\">25 by Adele</span>\n",
       "<progress style=\"width:45ex\" max=\"11\" value=\"11\" class=\"Progress-main\"/></progress>\n",
       "<span class=\"Progress-label\"><strong>100%</strong></span>\n",
       "<span class=\"Iteration-label\">11/11</span>\n",
       "<span class=\"Time-label\">[00:05<00:00, 0.48s/it]</span></div>"
      ],
      "text/plain": [
       "\u001b[A\u001b[2K\r",
       "    25 by Adele [█████████████████████████████████████████████] 11/11 [00:05<00:00, 0.48s/it]"
      ]
     },
     "metadata": {},
     "output_type": "display_data"
    },
    {
     "data": {
      "text/html": [
       "<div><span class=\"Text-label\" style=\"display:inline-block; overflow:hidden; white-space:nowrap; text-overflow:ellipsis; min-width:15ex; max-width:15ex; vertical-align:middle; text-align:right\">Free TC (Deluxe Edition) by Ty Dolla $ign</span>\n",
       "<progress style=\"width:45ex\" max=\"20\" value=\"20\" class=\"Progress-main\"/></progress>\n",
       "<span class=\"Progress-label\"><strong>100%</strong></span>\n",
       "<span class=\"Iteration-label\">20/20</span>\n",
       "<span class=\"Time-label\">[00:10<00:00, 0.50s/it]</span></div>"
      ],
      "text/plain": [
       "\u001b[A\u001b[2K\r",
       "Free TC (Deluxe [█████████████████████████████████████████████] 20/20 [00:10<00:00, 0.50s/it]"
      ]
     },
     "metadata": {},
     "output_type": "display_data"
    },
    {
     "data": {
      "text/html": [
       "<div><span class=\"Text-label\" style=\"display:inline-block; overflow:hidden; white-space:nowrap; text-overflow:ellipsis; min-width:15ex; max-width:15ex; vertical-align:middle; text-align:right\">Paper Mâché Dream Balloon by King Gizzard & The Lizard Wizard</span>\n",
       "<progress style=\"width:45ex\" max=\"12\" value=\"12\" class=\"Progress-main\"/></progress>\n",
       "<span class=\"Progress-label\"><strong>100%</strong></span>\n",
       "<span class=\"Iteration-label\">12/12</span>\n",
       "<span class=\"Time-label\">[00:06<00:00, 0.50s/it]</span></div>"
      ],
      "text/plain": [
       "\u001b[A\u001b[2K\r",
       "Paper Mâché Dre [█████████████████████████████████████████████] 12/12 [00:06<00:00, 0.50s/it]"
      ]
     },
     "metadata": {},
     "output_type": "display_data"
    },
    {
     "data": {
      "text/html": [
       "<div><span class=\"Text-label\" style=\"display:inline-block; overflow:hidden; white-space:nowrap; text-overflow:ellipsis; min-width:15ex; max-width:15ex; vertical-align:middle; text-align:right\">The Miraculous by Anna von Hausswolff</span>\n",
       "<progress style=\"width:45ex\" max=\"9\" value=\"9\" class=\"Progress-main\"/></progress>\n",
       "<span class=\"Progress-label\"><strong>100%</strong></span>\n",
       "<span class=\"Iteration-label\">9/9</span>\n",
       "<span class=\"Time-label\">[00:05<00:01, 0.58s/it]</span></div>"
      ],
      "text/plain": [
       "\u001b[A\u001b[2K\r",
       "The Miraculous  [█████████████████████████████████████████████] 9/9 [00:05<00:01, 0.58s/it]"
      ]
     },
     "metadata": {},
     "output_type": "display_data"
    },
    {
     "data": {
      "text/html": [
       "<div><span class=\"Text-label\" style=\"display:inline-block; overflow:hidden; white-space:nowrap; text-overflow:ellipsis; min-width:15ex; max-width:15ex; vertical-align:middle; text-align:right\">Purpose (Deluxe) by Justin Bieber</span>\n",
       "<progress style=\"width:45ex\" max=\"19\" value=\"19\" class=\"Progress-main\"/></progress>\n",
       "<span class=\"Progress-label\"><strong>100%</strong></span>\n",
       "<span class=\"Iteration-label\">19/19</span>\n",
       "<span class=\"Time-label\">[00:10<00:01, 0.51s/it]</span></div>"
      ],
      "text/plain": [
       "\u001b[A\u001b[2K\r",
       "Purpose (Deluxe [█████████████████████████████████████████████] 19/19 [00:10<00:01, 0.51s/it]"
      ]
     },
     "metadata": {},
     "output_type": "display_data"
    },
    {
     "data": {
      "text/html": [
       "<div><span class=\"Text-label\" style=\"display:inline-block; overflow:hidden; white-space:nowrap; text-overflow:ellipsis; min-width:15ex; max-width:15ex; vertical-align:middle; text-align:right\">The Incredible True Story by Logic</span>\n",
       "<progress style=\"width:45ex\" max=\"18\" value=\"18\" class=\"Progress-main\"/></progress>\n",
       "<span class=\"Progress-label\"><strong>100%</strong></span>\n",
       "<span class=\"Iteration-label\">18/18</span>\n",
       "<span class=\"Time-label\">[00:09<00:01, 0.53s/it]</span></div>"
      ],
      "text/plain": [
       "\u001b[A\u001b[2K\r",
       "The Incredible  [█████████████████████████████████████████████] 18/18 [00:09<00:01, 0.53s/it]"
      ]
     },
     "metadata": {},
     "output_type": "display_data"
    },
    {
     "data": {
      "text/html": [
       "<div><span class=\"Text-label\" style=\"display:inline-block; overflow:hidden; white-space:nowrap; text-overflow:ellipsis; min-width:15ex; max-width:15ex; vertical-align:middle; text-align:right\">haha by The Garden</span>\n",
       "<progress style=\"width:45ex\" max=\"17\" value=\"17\" class=\"Progress-main\"/></progress>\n",
       "<span class=\"Progress-label\"><strong>100%</strong></span>\n",
       "<span class=\"Iteration-label\">17/17</span>\n",
       "<span class=\"Time-label\">[00:07<00:00, 0.40s/it]</span></div>"
      ],
      "text/plain": [
       "\u001b[A\u001b[2K\r",
       "haha by The Gar [█████████████████████████████████████████████] 17/17 [00:07<00:00, 0.40s/it]"
      ]
     },
     "metadata": {},
     "output_type": "display_data"
    },
    {
     "data": {
      "text/html": [
       "<div><span class=\"Text-label\" style=\"display:inline-block; overflow:hidden; white-space:nowrap; text-overflow:ellipsis; min-width:15ex; max-width:15ex; vertical-align:middle; text-align:right\">And After That, We Didn't Talk by GoldLink</span>\n",
       "<progress style=\"width:45ex\" max=\"11\" value=\"11\" class=\"Progress-main\"/></progress>\n",
       "<span class=\"Progress-label\"><strong>100%</strong></span>\n",
       "<span class=\"Iteration-label\">11/11</span>\n",
       "<span class=\"Time-label\">[00:05<00:01, 0.43s/it]</span></div>"
      ],
      "text/plain": [
       "\u001b[A\u001b[2K\r",
       "And After That, [█████████████████████████████████████████████] 11/11 [00:05<00:01, 0.43s/it]"
      ]
     },
     "metadata": {},
     "output_type": "display_data"
    },
    {
     "data": {
      "text/html": [
       "<div><span class=\"Text-label\" style=\"display:inline-block; overflow:hidden; white-space:nowrap; text-overflow:ellipsis; min-width:15ex; max-width:15ex; vertical-align:middle; text-align:right\">Thumbs by Busdriver</span>\n",
       "<progress style=\"width:45ex\" max=\"13\" value=\"13\" class=\"Progress-main\"/></progress>\n",
       "<span class=\"Progress-label\"><strong>100%</strong></span>\n",
       "<span class=\"Iteration-label\">13/13</span>\n",
       "<span class=\"Time-label\">[00:06<00:01, 0.48s/it]</span></div>"
      ],
      "text/plain": [
       "\u001b[A\u001b[2K\r",
       "Thumbs by Busdr [█████████████████████████████████████████████] 13/13 [00:06<00:01, 0.48s/it]"
      ]
     },
     "metadata": {},
     "output_type": "display_data"
    },
    {
     "data": {
      "text/html": [
       "<div><span class=\"Text-label\" style=\"display:inline-block; overflow:hidden; white-space:nowrap; text-overflow:ellipsis; min-width:15ex; max-width:15ex; vertical-align:middle; text-align:right\">Exhausting Fire by Kylesa</span>\n",
       "<progress style=\"width:45ex\" max=\"11\" value=\"11\" class=\"Progress-main\"/></progress>\n",
       "<span class=\"Progress-label\"><strong>100%</strong></span>\n",
       "<span class=\"Iteration-label\">11/11</span>\n",
       "<span class=\"Time-label\">[00:06<00:01, 0.59s/it]</span></div>"
      ],
      "text/plain": [
       "\u001b[A\u001b[2K\r",
       "Exhausting Fire [█████████████████████████████████████████████] 11/11 [00:06<00:01, 0.59s/it]"
      ]
     },
     "metadata": {},
     "output_type": "display_data"
    },
    {
     "data": {
      "text/html": [
       "<div><span class=\"Text-label\" style=\"display:inline-block; overflow:hidden; white-space:nowrap; text-overflow:ellipsis; min-width:15ex; max-width:15ex; vertical-align:middle; text-align:right\">Art Angels by Grimes</span>\n",
       "<progress style=\"width:45ex\" max=\"14\" value=\"14\" class=\"Progress-main\"/></progress>\n",
       "<span class=\"Progress-label\"><strong>100%</strong></span>\n",
       "<span class=\"Iteration-label\">14/14</span>\n",
       "<span class=\"Time-label\">[00:09<00:00, 0.63s/it]</span></div>"
      ],
      "text/plain": [
       "\u001b[A\u001b[2K\r",
       "Art Angels by G [█████████████████████████████████████████████] 14/14 [00:09<00:00, 0.63s/it]"
      ]
     },
     "metadata": {},
     "output_type": "display_data"
    },
    {
     "data": {
      "text/html": [
       "<div><span class=\"Text-label\" style=\"display:inline-block; overflow:hidden; white-space:nowrap; text-overflow:ellipsis; min-width:15ex; max-width:15ex; vertical-align:middle; text-align:right\">Teens of Style by Car Seat Headrest</span>\n",
       "<progress style=\"width:45ex\" max=\"11\" value=\"11\" class=\"Progress-main\"/></progress>\n",
       "<span class=\"Progress-label\"><strong>100%</strong></span>\n",
       "<span class=\"Iteration-label\">11/11</span>\n",
       "<span class=\"Time-label\">[00:06<00:01, 0.56s/it]</span></div>"
      ],
      "text/plain": [
       "\u001b[A\u001b[2K\r",
       "Teens of Style  [█████████████████████████████████████████████] 11/11 [00:06<00:01, 0.56s/it]"
      ]
     },
     "metadata": {},
     "output_type": "display_data"
    },
    {
     "data": {
      "text/html": [
       "<div><span class=\"Text-label\" style=\"display:inline-block; overflow:hidden; white-space:nowrap; text-overflow:ellipsis; min-width:15ex; max-width:15ex; vertical-align:middle; text-align:right\">Autumn Eternal by Panopticon</span>\n",
       "<progress style=\"width:45ex\" max=\"8\" value=\"8\" class=\"Progress-main\"/></progress>\n",
       "<span class=\"Progress-label\"><strong>100%</strong></span>\n",
       "<span class=\"Iteration-label\">8/8</span>\n",
       "<span class=\"Time-label\">[00:09<00:01, 1.17s/it]</span></div>"
      ],
      "text/plain": [
       "\u001b[A\u001b[2K\r",
       "Autumn Eternal  [█████████████████████████████████████████████] 8/8 [00:09<00:01, 1.17s/it]"
      ]
     },
     "metadata": {},
     "output_type": "display_data"
    },
    {
     "data": {
      "text/html": [
       "<div><span class=\"Text-label\" style=\"display:inline-block; overflow:hidden; white-space:nowrap; text-overflow:ellipsis; min-width:15ex; max-width:15ex; vertical-align:middle; text-align:right\">Bad Neighbor by MED</span>\n",
       "<progress style=\"width:45ex\" max=\"15\" value=\"15\" class=\"Progress-main\"/></progress>\n",
       "<span class=\"Progress-label\"><strong>100%</strong></span>\n",
       "<span class=\"Iteration-label\">15/15</span>\n",
       "<span class=\"Time-label\">[00:09<00:01, 0.60s/it]</span></div>"
      ],
      "text/plain": [
       "\u001b[A\u001b[2K\r",
       "Bad Neighbor by [█████████████████████████████████████████████] 15/15 [00:09<00:01, 0.60s/it]"
      ]
     },
     "metadata": {},
     "output_type": "display_data"
    },
    {
     "data": {
      "text/html": [
       "<div><span class=\"Text-label\" style=\"display:inline-block; overflow:hidden; white-space:nowrap; text-overflow:ellipsis; min-width:15ex; max-width:15ex; vertical-align:middle; text-align:right\">Chinese Nü Yr by Iglooghost</span>\n",
       "<progress style=\"width:45ex\" max=\"4\" value=\"4\" class=\"Progress-main\"/></progress>\n",
       "<span class=\"Progress-label\"><strong>100%</strong></span>\n",
       "<span class=\"Iteration-label\">4/4</span>\n",
       "<span class=\"Time-label\">[00:02<00:01, 0.58s/it]</span></div>"
      ],
      "text/plain": [
       "\u001b[A\u001b[2K\r",
       "Chinese Nü Yr b [█████████████████████████████████████████████] 4/4 [00:02<00:01, 0.58s/it]"
      ]
     },
     "metadata": {},
     "output_type": "display_data"
    },
    {
     "data": {
      "text/html": [
       "<div><span class=\"Text-label\" style=\"display:inline-block; overflow:hidden; white-space:nowrap; text-overflow:ellipsis; min-width:15ex; max-width:15ex; vertical-align:middle; text-align:right\">Dealer by Foxing</span>\n",
       "<progress style=\"width:45ex\" max=\"11\" value=\"11\" class=\"Progress-main\"/></progress>\n",
       "<span class=\"Progress-label\"><strong>100%</strong></span>\n",
       "<span class=\"Iteration-label\">11/11</span>\n",
       "<span class=\"Time-label\">[00:06<00:00, 0.52s/it]</span></div>"
      ],
      "text/plain": [
       "\u001b[A\u001b[2K\r",
       "Dealer by Foxin [█████████████████████████████████████████████] 11/11 [00:06<00:00, 0.52s/it]"
      ]
     },
     "metadata": {},
     "output_type": "display_data"
    },
    {
     "data": {
      "text/html": [
       "<div><span class=\"Text-label\" style=\"display:inline-block; overflow:hidden; white-space:nowrap; text-overflow:ellipsis; min-width:15ex; max-width:15ex; vertical-align:middle; text-align:right\">Late Knight Special by Kirk Knight</span>\n",
       "<progress style=\"width:45ex\" max=\"12\" value=\"12\" class=\"Progress-main\"/></progress>\n",
       "<span class=\"Progress-label\"><strong>100%</strong></span>\n",
       "<span class=\"Iteration-label\">12/12</span>\n",
       "<span class=\"Time-label\">[00:08<00:00, 0.64s/it]</span></div>"
      ],
      "text/plain": [
       "\u001b[A\u001b[2K\r",
       "Late Knight Spe [█████████████████████████████████████████████] 12/12 [00:08<00:00, 0.64s/it]"
      ]
     },
     "metadata": {},
     "output_type": "display_data"
    },
    {
     "data": {
      "text/html": [
       "<div><span class=\"Text-label\" style=\"display:inline-block; overflow:hidden; white-space:nowrap; text-overflow:ellipsis; min-width:15ex; max-width:15ex; vertical-align:middle; text-align:right\">Disharmony by Twitching Tongues</span>\n",
       "<progress style=\"width:45ex\" max=\"10\" value=\"10\" class=\"Progress-main\"/></progress>\n",
       "<span class=\"Progress-label\"><strong>100%</strong></span>\n",
       "<span class=\"Iteration-label\">10/10</span>\n",
       "<span class=\"Time-label\">[00:05<00:01, 0.51s/it]</span></div>"
      ],
      "text/plain": [
       "\u001b[A\u001b[2K\r",
       "Disharmony by T [█████████████████████████████████████████████] 10/10 [00:05<00:01, 0.51s/it]"
      ]
     },
     "metadata": {},
     "output_type": "display_data"
    },
    {
     "data": {
      "text/html": [
       "<div><span class=\"Text-label\" style=\"display:inline-block; overflow:hidden; white-space:nowrap; text-overflow:ellipsis; min-width:15ex; max-width:15ex; vertical-align:middle; text-align:right\">The Agent Intellect by Protomartyr</span>\n",
       "<progress style=\"width:45ex\" max=\"12\" value=\"12\" class=\"Progress-main\"/></progress>\n",
       "<span class=\"Progress-label\"><strong>100%</strong></span>\n",
       "<span class=\"Iteration-label\">12/12</span>\n",
       "<span class=\"Time-label\">[00:06<00:00, 0.52s/it]</span></div>"
      ],
      "text/plain": [
       "\u001b[A\u001b[2K\r",
       "The Agent Intel [█████████████████████████████████████████████] 12/12 [00:06<00:00, 0.52s/it]"
      ]
     },
     "metadata": {},
     "output_type": "display_data"
    },
    {
     "data": {
      "text/html": [
       "<div><span class=\"Text-label\" style=\"display:inline-block; overflow:hidden; white-space:nowrap; text-overflow:ellipsis; min-width:15ex; max-width:15ex; vertical-align:middle; text-align:right\">General Admission by Machine Gun Kelly</span>\n",
       "<progress style=\"width:45ex\" max=\"16\" value=\"16\" class=\"Progress-main\"/></progress>\n",
       "<span class=\"Progress-label\"><strong>100%</strong></span>\n",
       "<span class=\"Iteration-label\">16/16</span>\n",
       "<span class=\"Time-label\">[00:09<00:01, 0.57s/it]</span></div>"
      ],
      "text/plain": [
       "\u001b[A\u001b[2K\r",
       "General Admissi [█████████████████████████████████████████████] 16/16 [00:09<00:01, 0.57s/it]"
      ]
     },
     "metadata": {},
     "output_type": "display_data"
    },
    {
     "data": {
      "text/html": [
       "<div><span class=\"Text-label\" style=\"display:inline-block; overflow:hidden; white-space:nowrap; text-overflow:ellipsis; min-width:15ex; max-width:15ex; vertical-align:middle; text-align:right\">Halfway by Uncommon Nasa</span>\n",
       "<progress style=\"width:45ex\" max=\"12\" value=\"12\" class=\"Progress-main\"/></progress>\n",
       "<span class=\"Progress-label\"><strong>100%</strong></span>\n",
       "<span class=\"Iteration-label\">12/12</span>\n",
       "<span class=\"Time-label\">[00:06<00:00, 0.53s/it]</span></div>"
      ],
      "text/plain": [
       "\u001b[A\u001b[2K\r",
       "Halfway by Unco [█████████████████████████████████████████████] 12/12 [00:06<00:00, 0.53s/it]"
      ]
     },
     "metadata": {},
     "output_type": "display_data"
    },
    {
     "data": {
      "text/html": [
       "<div><span class=\"Text-label\" style=\"display:inline-block; overflow:hidden; white-space:nowrap; text-overflow:ellipsis; min-width:15ex; max-width:15ex; vertical-align:middle; text-align:right\">The Documentary 2.5 by The Game</span>\n",
       "<progress style=\"width:45ex\" max=\"18\" value=\"18\" class=\"Progress-main\"/></progress>\n",
       "<span class=\"Progress-label\"><strong>100%</strong></span>\n",
       "<span class=\"Iteration-label\">18/18</span>\n",
       "<span class=\"Time-label\">[00:12<00:00, 0.64s/it]</span></div>"
      ],
      "text/plain": [
       "\u001b[A\u001b[2K\r",
       "The Documentary [█████████████████████████████████████████████] 18/18 [00:12<00:00, 0.64s/it]"
      ]
     },
     "metadata": {},
     "output_type": "display_data"
    },
    {
     "data": {
      "text/html": [
       "<div><span class=\"Text-label\" style=\"display:inline-block; overflow:hidden; white-space:nowrap; text-overflow:ellipsis; min-width:15ex; max-width:15ex; vertical-align:middle; text-align:right\">All We Need by Raury</span>\n",
       "<progress style=\"width:45ex\" max=\"14\" value=\"14\" class=\"Progress-main\"/></progress>\n",
       "<span class=\"Progress-label\"><strong>100%</strong></span>\n",
       "<span class=\"Iteration-label\">14/14</span>\n",
       "<span class=\"Time-label\">[00:08<00:01, 0.55s/it]</span></div>"
      ],
      "text/plain": [
       "\u001b[A\u001b[2K\r",
       "All We Need by  [█████████████████████████████████████████████] 14/14 [00:08<00:01, 0.55s/it]"
      ]
     },
     "metadata": {},
     "output_type": "display_data"
    },
    {
     "data": {
      "text/html": [
       "<div><span class=\"Text-label\" style=\"display:inline-block; overflow:hidden; white-space:nowrap; text-overflow:ellipsis; min-width:15ex; max-width:15ex; vertical-align:middle; text-align:right\">Fading Frontier by Deerhunter</span>\n",
       "<progress style=\"width:45ex\" max=\"9\" value=\"9\" class=\"Progress-main\"/></progress>\n",
       "<span class=\"Progress-label\"><strong>100%</strong></span>\n",
       "<span class=\"Iteration-label\">9/9</span>\n",
       "<span class=\"Time-label\">[00:04<00:00, 0.46s/it]</span></div>"
      ],
      "text/plain": [
       "\u001b[A\u001b[2K\r",
       "Fading Frontier [█████████████████████████████████████████████] 9/9 [00:04<00:00, 0.46s/it]"
      ]
     },
     "metadata": {},
     "output_type": "display_data"
    },
    {
     "data": {
      "text/html": [
       "<div><span class=\"Text-label\" style=\"display:inline-block; overflow:hidden; white-space:nowrap; text-overflow:ellipsis; min-width:15ex; max-width:15ex; vertical-align:middle; text-align:right\">Thank Your Lucky Stars by Beach House</span>\n",
       "<progress style=\"width:45ex\" max=\"9\" value=\"9\" class=\"Progress-main\"/></progress>\n",
       "<span class=\"Progress-label\"><strong>100%</strong></span>\n",
       "<span class=\"Iteration-label\">9/9</span>\n",
       "<span class=\"Time-label\">[00:05<00:00, 0.59s/it]</span></div>"
      ],
      "text/plain": [
       "\u001b[A\u001b[2K\r",
       "Thank Your Luck [█████████████████████████████████████████████] 9/9 [00:05<00:00, 0.59s/it]"
      ]
     },
     "metadata": {},
     "output_type": "display_data"
    },
    {
     "data": {
      "text/html": [
       "<div><span class=\"Text-label\" style=\"display:inline-block; overflow:hidden; white-space:nowrap; text-overflow:ellipsis; min-width:15ex; max-width:15ex; vertical-align:middle; text-align:right\">VEGA INTL. Night School by Neon Indian</span>\n",
       "<progress style=\"width:45ex\" max=\"14\" value=\"14\" class=\"Progress-main\"/></progress>\n",
       "<span class=\"Progress-label\"><strong>100%</strong></span>\n",
       "<span class=\"Iteration-label\">14/14</span>\n",
       "<span class=\"Time-label\">[00:09<00:01, 0.67s/it]</span></div>"
      ],
      "text/plain": [
       "\u001b[A\u001b[2K\r",
       "VEGA INTL. Nigh [█████████████████████████████████████████████] 14/14 [00:09<00:01, 0.67s/it]"
      ]
     },
     "metadata": {},
     "output_type": "display_data"
    },
    {
     "data": {
      "text/html": [
       "<div><span class=\"Text-label\" style=\"display:inline-block; overflow:hidden; white-space:nowrap; text-overflow:ellipsis; min-width:15ex; max-width:15ex; vertical-align:middle; text-align:right\">Harmlessness by The World Is A Beautiful Place & I Am No Longer Afraid To Die</span>\n",
       "<progress style=\"width:45ex\" max=\"13\" value=\"13\" class=\"Progress-main\"/></progress>\n",
       "<span class=\"Progress-label\"><strong>100%</strong></span>\n",
       "<span class=\"Iteration-label\">13/13</span>\n",
       "<span class=\"Time-label\">[00:06<00:01, 0.45s/it]</span></div>"
      ],
      "text/plain": [
       "\u001b[A\u001b[2K\r",
       "Harmlessness by [█████████████████████████████████████████████] 13/13 [00:06<00:01, 0.45s/it]"
      ]
     },
     "metadata": {},
     "output_type": "display_data"
    },
    {
     "data": {
      "text/html": [
       "<div><span class=\"Text-label\" style=\"display:inline-block; overflow:hidden; white-space:nowrap; text-overflow:ellipsis; min-width:15ex; max-width:15ex; vertical-align:middle; text-align:right\">Every Open Eye (Special Edition) by CHVRCHES</span>\n",
       "<progress style=\"width:45ex\" max=\"14\" value=\"14\" class=\"Progress-main\"/></progress>\n",
       "<span class=\"Progress-label\"><strong>100%</strong></span>\n",
       "<span class=\"Iteration-label\">14/14</span>\n",
       "<span class=\"Time-label\">[00:08<00:01, 0.56s/it]</span></div>"
      ],
      "text/plain": [
       "\u001b[A\u001b[2K\r",
       "Every Open Eye  [█████████████████████████████████████████████] 14/14 [00:08<00:01, 0.56s/it]"
      ]
     },
     "metadata": {},
     "output_type": "display_data"
    },
    {
     "data": {
      "text/html": [
       "<div><span class=\"Text-label\" style=\"display:inline-block; overflow:hidden; white-space:nowrap; text-overflow:ellipsis; min-width:15ex; max-width:15ex; vertical-align:middle; text-align:right\">Music Complete by New Order</span>\n",
       "<progress style=\"width:45ex\" max=\"11\" value=\"11\" class=\"Progress-main\"/></progress>\n",
       "<span class=\"Progress-label\"><strong>100%</strong></span>\n",
       "<span class=\"Iteration-label\">11/11</span>\n",
       "<span class=\"Time-label\">[00:10<00:01, 0.87s/it]</span></div>"
      ],
      "text/plain": [
       "\u001b[A\u001b[2K\r",
       "Music Complete  [█████████████████████████████████████████████] 11/11 [00:10<00:01, 0.87s/it]"
      ]
     },
     "metadata": {},
     "output_type": "display_data"
    },
    {
     "data": {
      "text/html": [
       "<div><span class=\"Text-label\" style=\"display:inline-block; overflow:hidden; white-space:nowrap; text-overflow:ellipsis; min-width:15ex; max-width:15ex; vertical-align:middle; text-align:right\">Beach Music by Alex G</span>\n",
       "<progress style=\"width:45ex\" max=\"13\" value=\"13\" class=\"Progress-main\"/></progress>\n",
       "<span class=\"Progress-label\"><strong>100%</strong></span>\n",
       "<span class=\"Iteration-label\">13/13</span>\n",
       "<span class=\"Time-label\">[00:06<00:01, 0.47s/it]</span></div>"
      ],
      "text/plain": [
       "\u001b[A\u001b[2K\r",
       "Beach Music by  [█████████████████████████████████████████████] 13/13 [00:06<00:01, 0.47s/it]"
      ]
     },
     "metadata": {},
     "output_type": "display_data"
    },
    {
     "data": {
      "text/html": [
       "<div><span class=\"Text-label\" style=\"display:inline-block; overflow:hidden; white-space:nowrap; text-overflow:ellipsis; min-width:15ex; max-width:15ex; vertical-align:middle; text-align:right\">Self Portrait by Loma Prieta</span>\n",
       "<progress style=\"width:45ex\" max=\"10\" value=\"10\" class=\"Progress-main\"/></progress>\n",
       "<span class=\"Progress-label\"><strong>100%</strong></span>\n",
       "<span class=\"Iteration-label\">10/10</span>\n",
       "<span class=\"Time-label\">[00:04<00:00, 0.42s/it]</span></div>"
      ],
      "text/plain": [
       "\u001b[A\u001b[2K\r",
       "Self Portrait b [█████████████████████████████████████████████] 10/10 [00:04<00:00, 0.42s/it]"
      ]
     },
     "metadata": {},
     "output_type": "display_data"
    },
    {
     "data": {
      "text/html": [
       "<div><span class=\"Text-label\" style=\"display:inline-block; overflow:hidden; white-space:nowrap; text-overflow:ellipsis; min-width:15ex; max-width:15ex; vertical-align:middle; text-align:right\">Caracal (Deluxe) by Disclosure</span>\n",
       "<progress style=\"width:45ex\" max=\"14\" value=\"14\" class=\"Progress-main\"/></progress>\n",
       "<span class=\"Progress-label\"><strong>100%</strong></span>\n",
       "<span class=\"Iteration-label\">14/14</span>\n",
       "<span class=\"Time-label\">[00:11<00:01, 0.75s/it]</span></div>"
      ],
      "text/plain": [
       "\u001b[A\u001b[2K\r",
       "Caracal (Deluxe [█████████████████████████████████████████████] 14/14 [00:11<00:01, 0.75s/it]"
      ]
     },
     "metadata": {},
     "output_type": "display_data"
    },
    {
     "data": {
      "text/html": [
       "<div><span class=\"Text-label\" style=\"display:inline-block; overflow:hidden; white-space:nowrap; text-overflow:ellipsis; min-width:15ex; max-width:15ex; vertical-align:middle; text-align:right\">V by Wavves</span>\n",
       "<progress style=\"width:45ex\" max=\"11\" value=\"11\" class=\"Progress-main\"/></progress>\n",
       "<span class=\"Progress-label\"><strong>100%</strong></span>\n",
       "<span class=\"Iteration-label\">11/11</span>\n",
       "<span class=\"Time-label\">[00:05<00:01, 0.49s/it]</span></div>"
      ],
      "text/plain": [
       "\u001b[A\u001b[2K\r",
       "    V by Wavves [█████████████████████████████████████████████] 11/11 [00:05<00:01, 0.49s/it]"
      ]
     },
     "metadata": {},
     "output_type": "display_data"
    },
    {
     "data": {
      "text/html": [
       "<div><span class=\"Text-label\" style=\"display:inline-block; overflow:hidden; white-space:nowrap; text-overflow:ellipsis; min-width:15ex; max-width:15ex; vertical-align:middle; text-align:right\">b'lieve i'm goin down... by Kurt Vile</span>\n",
       "<progress style=\"width:45ex\" max=\"12\" value=\"12\" class=\"Progress-main\"/></progress>\n",
       "<span class=\"Progress-label\"><strong>100%</strong></span>\n",
       "<span class=\"Iteration-label\">12/12</span>\n",
       "<span class=\"Time-label\">[00:09<00:00, 0.75s/it]</span></div>"
      ],
      "text/plain": [
       "\u001b[A\u001b[2K\r",
       "b'lieve i'm goi [█████████████████████████████████████████████] 12/12 [00:09<00:00, 0.75s/it]"
      ]
     },
     "metadata": {},
     "output_type": "display_data"
    },
    {
     "data": {
      "text/html": [
       "<div><span class=\"Text-label\" style=\"display:inline-block; overflow:hidden; white-space:nowrap; text-overflow:ellipsis; min-width:15ex; max-width:15ex; vertical-align:middle; text-align:right\">Fetty Wap (Deluxe) by Fetty Wap</span>\n",
       "<progress style=\"width:45ex\" max=\"20\" value=\"20\" class=\"Progress-main\"/></progress>\n",
       "<span class=\"Progress-label\"><strong>100%</strong></span>\n",
       "<span class=\"Iteration-label\">20/20</span>\n",
       "<span class=\"Time-label\">[00:11<00:01, 0.54s/it]</span></div>"
      ],
      "text/plain": [
       "\u001b[A\u001b[2K\r",
       "Fetty Wap (Delu [█████████████████████████████████████████████] 20/20 [00:11<00:01, 0.54s/it]"
      ]
     },
     "metadata": {},
     "output_type": "display_data"
    },
    {
     "data": {
      "text/html": [
       "<div><span class=\"Text-label\" style=\"display:inline-block; overflow:hidden; white-space:nowrap; text-overflow:ellipsis; min-width:15ex; max-width:15ex; vertical-align:middle; text-align:right\">Slaves Beyond Death by Black Breath</span>\n",
       "<progress style=\"width:45ex\" max=\"8\" value=\"8\" class=\"Progress-main\"/></progress>\n",
       "<span class=\"Progress-label\"><strong>100%</strong></span>\n",
       "<span class=\"Iteration-label\">8/8</span>\n",
       "<span class=\"Time-label\">[00:05<00:00, 0.60s/it]</span></div>"
      ],
      "text/plain": [
       "\u001b[A\u001b[2K\r",
       "Slaves Beyond D [█████████████████████████████████████████████] 8/8 [00:05<00:00, 0.60s/it]"
      ]
     },
     "metadata": {},
     "output_type": "display_data"
    },
    {
     "data": {
      "text/html": [
       "<div><span class=\"Text-label\" style=\"display:inline-block; overflow:hidden; white-space:nowrap; text-overflow:ellipsis; min-width:15ex; max-width:15ex; vertical-align:middle; text-align:right\">New Bermuda by Deafheaven</span>\n",
       "<progress style=\"width:45ex\" max=\"5\" value=\"5\" class=\"Progress-main\"/></progress>\n",
       "<span class=\"Progress-label\"><strong>100%</strong></span>\n",
       "<span class=\"Iteration-label\">5/5</span>\n",
       "<span class=\"Time-label\">[00:04<00:01, 0.71s/it]</span></div>"
      ],
      "text/plain": [
       "\u001b[A\u001b[2K\r",
       "New Bermuda by  [█████████████████████████████████████████████] 5/5 [00:04<00:01, 0.71s/it]"
      ]
     },
     "metadata": {},
     "output_type": "display_data"
    },
    {
     "data": {
      "text/html": [
       "<div><span class=\"Text-label\" style=\"display:inline-block; overflow:hidden; white-space:nowrap; text-overflow:ellipsis; min-width:15ex; max-width:15ex; vertical-align:middle; text-align:right\">So The Flies Don't Come by Milo</span>\n",
       "<progress style=\"width:45ex\" max=\"10\" value=\"10\" class=\"Progress-main\"/></progress>\n",
       "<span class=\"Progress-label\"><strong>100%</strong></span>\n",
       "<span class=\"Iteration-label\">10/10</span>\n",
       "<span class=\"Time-label\">[00:05<00:01, 0.49s/it]</span></div>"
      ],
      "text/plain": [
       "\u001b[A\u001b[2K\r",
       "So The Flies Do [█████████████████████████████████████████████] 10/10 [00:05<00:01, 0.49s/it]"
      ]
     },
     "metadata": {},
     "output_type": "display_data"
    },
    {
     "data": {
      "text/html": [
       "<div><span class=\"Text-label\" style=\"display:inline-block; overflow:hidden; white-space:nowrap; text-overflow:ellipsis; min-width:15ex; max-width:15ex; vertical-align:middle; text-align:right\">Back On Top by The Front Bottoms</span>\n",
       "<progress style=\"width:45ex\" max=\"11\" value=\"11\" class=\"Progress-main\"/></progress>\n",
       "<span class=\"Progress-label\"><strong>100%</strong></span>\n",
       "<span class=\"Iteration-label\">11/11</span>\n",
       "<span class=\"Time-label\">[00:06<00:00, 0.59s/it]</span></div>"
      ],
      "text/plain": [
       "\u001b[A\u001b[2K\r",
       "Back On Top by  [█████████████████████████████████████████████] 11/11 [00:06<00:00, 0.59s/it]"
      ]
     },
     "metadata": {},
     "output_type": "display_data"
    },
    {
     "data": {
      "text/html": [
       "<div><span class=\"Text-label\" style=\"display:inline-block; overflow:hidden; white-space:nowrap; text-overflow:ellipsis; min-width:15ex; max-width:15ex; vertical-align:middle; text-align:right\">Have You In My Wilderness by Julia Holter</span>\n",
       "<progress style=\"width:45ex\" max=\"10\" value=\"10\" class=\"Progress-main\"/></progress>\n",
       "<span class=\"Progress-label\"><strong>100%</strong></span>\n",
       "<span class=\"Iteration-label\">10/10</span>\n",
       "<span class=\"Time-label\">[00:06<00:01, 0.58s/it]</span></div>"
      ],
      "text/plain": [
       "\u001b[A\u001b[2K\r",
       "Have You In My  [█████████████████████████████████████████████] 10/10 [00:06<00:01, 0.58s/it]"
      ]
     },
     "metadata": {},
     "output_type": "display_data"
    },
    {
     "data": {
      "text/html": [
       "<div><span class=\"Text-label\" style=\"display:inline-block; overflow:hidden; white-space:nowrap; text-overflow:ellipsis; min-width:15ex; max-width:15ex; vertical-align:middle; text-align:right\">Sun Coming Down by Ought</span>\n",
       "<progress style=\"width:45ex\" max=\"8\" value=\"8\" class=\"Progress-main\"/></progress>\n",
       "<span class=\"Progress-label\"><strong>100%</strong></span>\n",
       "<span class=\"Iteration-label\">8/8</span>\n",
       "<span class=\"Time-label\">[00:04<00:00, 0.45s/it]</span></div>"
      ],
      "text/plain": [
       "\u001b[A\u001b[2K\r",
       "Sun Coming Down [█████████████████████████████████████████████] 8/8 [00:04<00:00, 0.45s/it]"
      ]
     },
     "metadata": {},
     "output_type": "display_data"
    },
    {
     "data": {
      "text/html": [
       "<div><span class=\"Text-label\" style=\"display:inline-block; overflow:hidden; white-space:nowrap; text-overflow:ellipsis; min-width:15ex; max-width:15ex; vertical-align:middle; text-align:right\">What A Time To Be Alive by Drake</span>\n",
       "<progress style=\"width:45ex\" max=\"11\" value=\"11\" class=\"Progress-main\"/></progress>\n",
       "<span class=\"Progress-label\"><strong>100%</strong></span>\n",
       "<span class=\"Iteration-label\">11/11</span>\n",
       "<span class=\"Time-label\">[00:05<00:00, 0.49s/it]</span></div>"
      ],
      "text/plain": [
       "\u001b[A\u001b[2K\r",
       "What A Time To  [█████████████████████████████████████████████] 11/11 [00:05<00:00, 0.49s/it]"
      ]
     },
     "metadata": {},
     "output_type": "display_data"
    },
    {
     "data": {
      "text/html": [
       "<div><span class=\"Text-label\" style=\"display:inline-block; overflow:hidden; white-space:nowrap; text-overflow:ellipsis; min-width:15ex; max-width:15ex; vertical-align:middle; text-align:right\">Honeymoon by Lana Del Rey</span>\n",
       "<progress style=\"width:45ex\" max=\"14\" value=\"14\" class=\"Progress-main\"/></progress>\n",
       "<span class=\"Progress-label\"><strong>100%</strong></span>\n",
       "<span class=\"Iteration-label\">14/14</span>\n",
       "<span class=\"Time-label\">[00:08<00:01, 0.57s/it]</span></div>"
      ],
      "text/plain": [
       "\u001b[A\u001b[2K\r",
       "Honeymoon by La [█████████████████████████████████████████████] 14/14 [00:08<00:01, 0.57s/it]"
      ]
     },
     "metadata": {},
     "output_type": "display_data"
    },
    {
     "data": {
      "text/html": [
       "<div><span class=\"Text-label\" style=\"display:inline-block; overflow:hidden; white-space:nowrap; text-overflow:ellipsis; min-width:15ex; max-width:15ex; vertical-align:middle; text-align:right\">GO:OD AM by Mac Miller</span>\n",
       "<progress style=\"width:45ex\" max=\"17\" value=\"17\" class=\"Progress-main\"/></progress>\n",
       "<span class=\"Progress-label\"><strong>100%</strong></span>\n",
       "<span class=\"Iteration-label\">17/17</span>\n",
       "<span class=\"Time-label\">[00:10<00:00, 0.60s/it]</span></div>"
      ],
      "text/plain": [
       "\u001b[A\u001b[2K\r",
       "GO:OD AM by Mac [█████████████████████████████████████████████] 17/17 [00:10<00:00, 0.60s/it]"
      ]
     },
     "metadata": {},
     "output_type": "display_data"
    },
    {
     "data": {
      "text/html": [
       "<div><span class=\"Text-label\" style=\"display:inline-block; overflow:hidden; white-space:nowrap; text-overflow:ellipsis; min-width:15ex; max-width:15ex; vertical-align:middle; text-align:right\">Evermore - The Art Of Duality by The Underachievers</span>\n",
       "<progress style=\"width:45ex\" max=\"15\" value=\"15\" class=\"Progress-main\"/></progress>\n",
       "<span class=\"Progress-label\"><strong>100%</strong></span>\n",
       "<span class=\"Iteration-label\">15/15</span>\n",
       "<span class=\"Time-label\">[00:09<00:00, 0.63s/it]</span></div>"
      ],
      "text/plain": [
       "\u001b[A\u001b[2K\r",
       "Evermore - The  [█████████████████████████████████████████████] 15/15 [00:09<00:00, 0.63s/it]"
      ]
     },
     "metadata": {},
     "output_type": "display_data"
    },
    {
     "data": {
      "text/html": [
       "<div><span class=\"Text-label\" style=\"display:inline-block; overflow:hidden; white-space:nowrap; text-overflow:ellipsis; min-width:15ex; max-width:15ex; vertical-align:middle; text-align:right\">La Di Da Di by Battles</span>\n",
       "<progress style=\"width:45ex\" max=\"12\" value=\"12\" class=\"Progress-main\"/></progress>\n",
       "<span class=\"Progress-label\"><strong>100%</strong></span>\n",
       "<span class=\"Iteration-label\">12/12</span>\n",
       "<span class=\"Time-label\">[00:08<00:01, 0.64s/it]</span></div>"
      ],
      "text/plain": [
       "\u001b[A\u001b[2K\r",
       "La Di Da Di by  [█████████████████████████████████████████████] 12/12 [00:08<00:01, 0.64s/it]"
      ]
     },
     "metadata": {},
     "output_type": "display_data"
    },
    {
     "data": {
      "text/html": [
       "<div><span class=\"Text-label\" style=\"display:inline-block; overflow:hidden; white-space:nowrap; text-overflow:ellipsis; min-width:15ex; max-width:15ex; vertical-align:middle; text-align:right\">Anthems For Doomed Youth (Deluxe) by The Libertines</span>\n",
       "<progress style=\"width:45ex\" max=\"16\" value=\"16\" class=\"Progress-main\"/></progress>\n",
       "<span class=\"Progress-label\"><strong>100%</strong></span>\n",
       "<span class=\"Iteration-label\">16/16</span>\n",
       "<span class=\"Time-label\">[00:08<00:00, 0.48s/it]</span></div>"
      ],
      "text/plain": [
       "\u001b[A\u001b[2K\r",
       "Anthems For Doo [█████████████████████████████████████████████] 16/16 [00:08<00:00, 0.48s/it]"
      ]
     },
     "metadata": {},
     "output_type": "display_data"
    },
    {
     "data": {
      "text/html": [
       "<div><span class=\"Text-label\" style=\"display:inline-block; overflow:hidden; white-space:nowrap; text-overflow:ellipsis; min-width:15ex; max-width:15ex; vertical-align:middle; text-align:right\">Sonic Ranch by Whitey Morgan and the 78's</span>\n",
       "<progress style=\"width:45ex\" max=\"10\" value=\"10\" class=\"Progress-main\"/></progress>\n",
       "<span class=\"Progress-label\"><strong>100%</strong></span>\n",
       "<span class=\"Iteration-label\">10/10</span>\n",
       "<span class=\"Time-label\">[00:05<00:00, 0.46s/it]</span></div>"
      ],
      "text/plain": [
       "\u001b[A\u001b[2K\r",
       "Sonic Ranch by  [█████████████████████████████████████████████] 10/10 [00:05<00:00, 0.46s/it]"
      ]
     },
     "metadata": {},
     "output_type": "display_data"
    },
    {
     "data": {
      "text/html": [
       "<div><span class=\"Text-label\" style=\"display:inline-block; overflow:hidden; white-space:nowrap; text-overflow:ellipsis; min-width:15ex; max-width:15ex; vertical-align:middle; text-align:right\">90059 by Jay Rock</span>\n",
       "<progress style=\"width:45ex\" max=\"11\" value=\"11\" class=\"Progress-main\"/></progress>\n",
       "<span class=\"Progress-label\"><strong>100%</strong></span>\n",
       "<span class=\"Iteration-label\">11/11</span>\n",
       "<span class=\"Time-label\">[00:06<00:00, 0.55s/it]</span></div>"
      ],
      "text/plain": [
       "\u001b[A\u001b[2K\r",
       "90059 by Jay Ro [█████████████████████████████████████████████] 11/11 [00:06<00:00, 0.55s/it]"
      ]
     },
     "metadata": {},
     "output_type": "display_data"
    },
    {
     "data": {
      "text/html": [
       "<div><span class=\"Text-label\" style=\"display:inline-block; overflow:hidden; white-space:nowrap; text-overflow:ellipsis; min-width:15ex; max-width:15ex; vertical-align:middle; text-align:right\">Too by FIDLAR</span>\n",
       "<progress style=\"width:45ex\" max=\"12\" value=\"12\" class=\"Progress-main\"/></progress>\n",
       "<span class=\"Progress-label\"><strong>100%</strong></span>\n",
       "<span class=\"Iteration-label\">12/12</span>\n",
       "<span class=\"Time-label\">[00:07<00:01, 0.56s/it]</span></div>"
      ],
      "text/plain": [
       "\u001b[A\u001b[2K\r",
       "  Too by FIDLAR [█████████████████████████████████████████████] 12/12 [00:07<00:01, 0.56s/it]"
      ]
     },
     "metadata": {},
     "output_type": "display_data"
    },
    {
     "data": {
      "text/html": [
       "<div><span class=\"Text-label\" style=\"display:inline-block; overflow:hidden; white-space:nowrap; text-overflow:ellipsis; min-width:15ex; max-width:15ex; vertical-align:middle; text-align:right\">No Closer To Heaven by The Wonder Years</span>\n",
       "<progress style=\"width:45ex\" max=\"13\" value=\"13\" class=\"Progress-main\"/></progress>\n",
       "<span class=\"Progress-label\"><strong>100%</strong></span>\n",
       "<span class=\"Iteration-label\">13/13</span>\n",
       "<span class=\"Time-label\">[00:07<00:01, 0.51s/it]</span></div>"
      ],
      "text/plain": [
       "\u001b[A\u001b[2K\r",
       "No Closer To He [█████████████████████████████████████████████] 13/13 [00:07<00:01, 0.51s/it]"
      ]
     },
     "metadata": {},
     "output_type": "display_data"
    },
    {
     "data": {
      "text/html": [
       "<div><span class=\"Text-label\" style=\"display:inline-block; overflow:hidden; white-space:nowrap; text-overflow:ellipsis; min-width:15ex; max-width:15ex; vertical-align:middle; text-align:right\">The Book of Souls by Iron Maiden</span>\n",
       "<progress style=\"width:45ex\" max=\"11\" value=\"11\" class=\"Progress-main\"/></progress>\n",
       "<span class=\"Progress-label\"><strong>100%</strong></span>\n",
       "<span class=\"Iteration-label\">11/11</span>\n",
       "<span class=\"Time-label\">[00:07<00:01, 0.61s/it]</span></div>"
      ],
      "text/plain": [
       "\u001b[A\u001b[2K\r",
       "The Book of Sou [█████████████████████████████████████████████] 11/11 [00:07<00:01, 0.61s/it]"
      ]
     },
     "metadata": {},
     "output_type": "display_data"
    },
    {
     "data": {
      "text/html": [
       "<div><span class=\"Text-label\" style=\"display:inline-block; overflow:hidden; white-space:nowrap; text-overflow:ellipsis; min-width:15ex; max-width:15ex; vertical-align:middle; text-align:right\">Invite The Light by Dâm-Funk</span>\n",
       "<progress style=\"width:45ex\" max=\"20\" value=\"20\" class=\"Progress-main\"/></progress>\n",
       "<span class=\"Progress-label\"><strong>100%</strong></span>\n",
       "<span class=\"Iteration-label\">20/20</span>\n",
       "<span class=\"Time-label\">[00:12<00:01, 0.58s/it]</span></div>"
      ],
      "text/plain": [
       "\u001b[A\u001b[2K\r",
       "Invite The Ligh [█████████████████████████████████████████████] 20/20 [00:12<00:01, 0.58s/it]"
      ]
     },
     "metadata": {},
     "output_type": "display_data"
    },
    {
     "data": {
      "text/html": [
       "<div><span class=\"Text-label\" style=\"display:inline-block; overflow:hidden; white-space:nowrap; text-overflow:ellipsis; min-width:15ex; max-width:15ex; vertical-align:middle; text-align:right\">Rodeo (Expanded Edition) by Travis Scott</span>\n",
       "<progress style=\"width:45ex\" max=\"16\" value=\"16\" class=\"Progress-main\"/></progress>\n",
       "<span class=\"Progress-label\"><strong>100%</strong></span>\n",
       "<span class=\"Iteration-label\">16/16</span>\n",
       "<span class=\"Time-label\">[00:09<00:00, 0.58s/it]</span></div>"
      ],
      "text/plain": [
       "\u001b[A\u001b[2K\r",
       "Rodeo (Expanded [█████████████████████████████████████████████] 16/16 [00:09<00:00, 0.58s/it]"
      ]
     },
     "metadata": {},
     "output_type": "display_data"
    },
    {
     "data": {
      "text/html": [
       "<div><span class=\"Text-label\" style=\"display:inline-block; overflow:hidden; white-space:nowrap; text-overflow:ellipsis; min-width:15ex; max-width:15ex; vertical-align:middle; text-align:right\">Miley Cyrus & Her Dead Petz by Miley Cyrus</span>\n",
       "<progress style=\"width:45ex\" max=\"23\" value=\"4\" class=\"Progress-main\"/></progress>\n",
       "<span class=\"Progress-label\"><strong>17%</strong></span>\n",
       "<span class=\"Iteration-label\">4/23</span>\n",
       "<span class=\"Time-label\">[00:02<00:00, 0.46s/it]</span></div>"
      ],
      "text/plain": [
       "\u001b[A\u001b[2K\r",
       "Miley Cyrus & H [███████######################################] 4/23 [00:02<00:00, 0.46s/it]"
      ]
     },
     "metadata": {},
     "output_type": "display_data"
    }
   ],
   "source": [
    "# initialize albums and tracks, summarize, and put in CSV for storage\n",
    "#albums = []\n",
    "print(\"initializing albums and tracks\")\n",
    "i = 0\n",
    "with open(ndcsv, \"a\", encoding=\"utf-8\") as ndd:\n",
    "    wr = csv.writer(ndd, dialect='excel')\n",
    "    for raw_album in pb(raw_albums):\n",
    "        i += 1\n",
    "        try:\n",
    "            #albums.append(Album(raw_album, client))\n",
    "            ''' This is the original code block\n",
    "            if raw_album['id'] not in csvids:\n",
    "                album = Album(raw_album,client)\n",
    "                wr.writerow(album.summary)\n",
    "                csvids.add(album.id)\n",
    "            if i%10 == 0:\n",
    "                ndd.flush()\n",
    "            ''' \n",
    "            #This is the code bloack for bul loading the data to the database\n",
    "            if raw_album['id'] not in csvids:\n",
    "                album = Album(raw_album, client)\n",
    "                db.insert_album(album)\n",
    "                wr.writerow([album.id])\n",
    "                csvids.add(album.id)\n",
    "            if i%10 == 0:\n",
    "                ndd.flush()\n",
    "        except Exception as e:\n",
    "            print(\"exception occured during initialization of \" + raw_album['name'] + \": \" + str(e)) \n",
    "print(len(csvids), \"albums initialized\")"
   ]
  },
  {
   "cell_type": "code",
   "execution_count": 15,
   "metadata": {},
   "outputs": [
    {
     "data": {
      "text/html": [
       "<div>\n",
       "<style scoped>\n",
       "    .dataframe tbody tr th:only-of-type {\n",
       "        vertical-align: middle;\n",
       "    }\n",
       "\n",
       "    .dataframe tbody tr th {\n",
       "        vertical-align: top;\n",
       "    }\n",
       "\n",
       "    .dataframe thead th {\n",
       "        text-align: right;\n",
       "    }\n",
       "</style>\n",
       "<table border=\"1\" class=\"dataframe\">\n",
       "  <thead>\n",
       "    <tr style=\"text-align: right;\">\n",
       "      <th></th>\n",
       "      <th>id</th>\n",
       "      <th>album</th>\n",
       "      <th>score</th>\n",
       "      <th>artists</th>\n",
       "      <th>year</th>\n",
       "      <th>track count</th>\n",
       "      <th>duration</th>\n",
       "      <th># artists mean</th>\n",
       "      <th>danceability mean</th>\n",
       "      <th>energy mean</th>\n",
       "      <th>...</th>\n",
       "      <th>start_of_fade_out 50%</th>\n",
       "      <th>loudness 50%</th>\n",
       "      <th>tempo 50%</th>\n",
       "      <th>tempo_confidence 50%</th>\n",
       "      <th>time_signature 50%</th>\n",
       "      <th>time_signature_confidence 50%</th>\n",
       "      <th>key 50%</th>\n",
       "      <th>key_confidence 50%</th>\n",
       "      <th>mode 50%</th>\n",
       "      <th>mode_confidence 50%</th>\n",
       "    </tr>\n",
       "  </thead>\n",
       "  <tbody>\n",
       "    <tr>\n",
       "      <th>0</th>\n",
       "      <td>6jWde94ln40epKIQCd8XUh</td>\n",
       "      <td>Toxicity</td>\n",
       "      <td>10</td>\n",
       "      <td>System Of A Down</td>\n",
       "      <td>2001</td>\n",
       "      <td>15</td>\n",
       "      <td>2641.92000</td>\n",
       "      <td>1.000000</td>\n",
       "      <td>0.455667</td>\n",
       "      <td>0.898133</td>\n",
       "      <td>...</td>\n",
       "      <td>176.20000</td>\n",
       "      <td>-3.9080</td>\n",
       "      <td>99.733</td>\n",
       "      <td>0.230</td>\n",
       "      <td>4.0</td>\n",
       "      <td>0.9690</td>\n",
       "      <td>2.0</td>\n",
       "      <td>0.486</td>\n",
       "      <td>1.0</td>\n",
       "      <td>0.5620</td>\n",
       "    </tr>\n",
       "    <tr>\n",
       "      <th>1</th>\n",
       "      <td>1CI5OW60s9W41YLI80Jjdr</td>\n",
       "      <td>Untrue</td>\n",
       "      <td>10</td>\n",
       "      <td>Burial</td>\n",
       "      <td>2007</td>\n",
       "      <td>13</td>\n",
       "      <td>3033.37330</td>\n",
       "      <td>1.000000</td>\n",
       "      <td>0.460615</td>\n",
       "      <td>0.528231</td>\n",
       "      <td>...</td>\n",
       "      <td>232.18213</td>\n",
       "      <td>-12.2860</td>\n",
       "      <td>135.120</td>\n",
       "      <td>0.170</td>\n",
       "      <td>4.0</td>\n",
       "      <td>0.9700</td>\n",
       "      <td>3.0</td>\n",
       "      <td>0.453</td>\n",
       "      <td>1.0</td>\n",
       "      <td>0.4410</td>\n",
       "    </tr>\n",
       "    <tr>\n",
       "      <th>2</th>\n",
       "      <td>4iyCxURICjYcIERJt85C5W</td>\n",
       "      <td>The Cold Vein (Deluxe Edition)</td>\n",
       "      <td>10</td>\n",
       "      <td>Cannibal Ox</td>\n",
       "      <td>2013</td>\n",
       "      <td>30</td>\n",
       "      <td>8859.09333</td>\n",
       "      <td>1.166667</td>\n",
       "      <td>0.602767</td>\n",
       "      <td>0.733833</td>\n",
       "      <td>...</td>\n",
       "      <td>274.34087</td>\n",
       "      <td>-5.3655</td>\n",
       "      <td>87.778</td>\n",
       "      <td>0.281</td>\n",
       "      <td>4.0</td>\n",
       "      <td>0.9900</td>\n",
       "      <td>7.0</td>\n",
       "      <td>0.434</td>\n",
       "      <td>1.0</td>\n",
       "      <td>0.4305</td>\n",
       "    </tr>\n",
       "    <tr>\n",
       "      <th>3</th>\n",
       "      <td>7hcefwuxgBS2mssgOtUSJy</td>\n",
       "      <td>The Woods</td>\n",
       "      <td>10</td>\n",
       "      <td>Sleater-Kinney</td>\n",
       "      <td>2005</td>\n",
       "      <td>10</td>\n",
       "      <td>2888.38669</td>\n",
       "      <td>1.000000</td>\n",
       "      <td>0.348600</td>\n",
       "      <td>0.914200</td>\n",
       "      <td>...</td>\n",
       "      <td>241.26404</td>\n",
       "      <td>-2.2345</td>\n",
       "      <td>142.187</td>\n",
       "      <td>0.322</td>\n",
       "      <td>4.0</td>\n",
       "      <td>0.9265</td>\n",
       "      <td>11.0</td>\n",
       "      <td>0.539</td>\n",
       "      <td>0.5</td>\n",
       "      <td>0.4705</td>\n",
       "    </tr>\n",
       "    <tr>\n",
       "      <th>4</th>\n",
       "      <td>4ssF0ppdJnMTtL2hg1CLKX</td>\n",
       "      <td>Give Up (Deluxe 10th Anniversary Edition)</td>\n",
       "      <td>10</td>\n",
       "      <td>The Postal Service</td>\n",
       "      <td>2003</td>\n",
       "      <td>25</td>\n",
       "      <td>6264.88000</td>\n",
       "      <td>1.000000</td>\n",
       "      <td>0.617480</td>\n",
       "      <td>0.640480</td>\n",
       "      <td>...</td>\n",
       "      <td>239.87955</td>\n",
       "      <td>-7.6730</td>\n",
       "      <td>134.949</td>\n",
       "      <td>0.500</td>\n",
       "      <td>4.0</td>\n",
       "      <td>1.0000</td>\n",
       "      <td>2.0</td>\n",
       "      <td>0.617</td>\n",
       "      <td>1.0</td>\n",
       "      <td>0.5600</td>\n",
       "    </tr>\n",
       "  </tbody>\n",
       "</table>\n",
       "<p>5 rows × 70 columns</p>\n",
       "</div>"
      ],
      "text/plain": [
       "                       id                                      album  score  \\\n",
       "0  6jWde94ln40epKIQCd8XUh                                   Toxicity     10   \n",
       "1  1CI5OW60s9W41YLI80Jjdr                                     Untrue     10   \n",
       "2  4iyCxURICjYcIERJt85C5W             The Cold Vein (Deluxe Edition)     10   \n",
       "3  7hcefwuxgBS2mssgOtUSJy                                  The Woods     10   \n",
       "4  4ssF0ppdJnMTtL2hg1CLKX  Give Up (Deluxe 10th Anniversary Edition)     10   \n",
       "\n",
       "              artists  year  track count    duration  # artists mean  \\\n",
       "0    System Of A Down  2001           15  2641.92000        1.000000   \n",
       "1              Burial  2007           13  3033.37330        1.000000   \n",
       "2         Cannibal Ox  2013           30  8859.09333        1.166667   \n",
       "3      Sleater-Kinney  2005           10  2888.38669        1.000000   \n",
       "4  The Postal Service  2003           25  6264.88000        1.000000   \n",
       "\n",
       "   danceability mean  energy mean  ...  start_of_fade_out 50%  loudness 50%  \\\n",
       "0           0.455667     0.898133  ...              176.20000       -3.9080   \n",
       "1           0.460615     0.528231  ...              232.18213      -12.2860   \n",
       "2           0.602767     0.733833  ...              274.34087       -5.3655   \n",
       "3           0.348600     0.914200  ...              241.26404       -2.2345   \n",
       "4           0.617480     0.640480  ...              239.87955       -7.6730   \n",
       "\n",
       "   tempo 50%  tempo_confidence 50%  time_signature 50%  \\\n",
       "0     99.733                 0.230                 4.0   \n",
       "1    135.120                 0.170                 4.0   \n",
       "2     87.778                 0.281                 4.0   \n",
       "3    142.187                 0.322                 4.0   \n",
       "4    134.949                 0.500                 4.0   \n",
       "\n",
       "   time_signature_confidence 50%  key 50%  key_confidence 50%  mode 50%  \\\n",
       "0                         0.9690      2.0               0.486       1.0   \n",
       "1                         0.9700      3.0               0.453       1.0   \n",
       "2                         0.9900      7.0               0.434       1.0   \n",
       "3                         0.9265     11.0               0.539       0.5   \n",
       "4                         1.0000      2.0               0.617       1.0   \n",
       "\n",
       "   mode_confidence 50%  \n",
       "0               0.5620  \n",
       "1               0.4410  \n",
       "2               0.4305  \n",
       "3               0.4705  \n",
       "4               0.5600  \n",
       "\n",
       "[5 rows x 70 columns]"
      ]
     },
     "execution_count": 15,
     "metadata": {},
     "output_type": "execute_result"
    }
   ],
   "source": [
    "nd_data = pd.read_csv('needledrop_data.csv',header=0)\n",
    "nd_data.head()"
   ]
  },
  {
   "cell_type": "markdown",
   "metadata": {},
   "source": [
    "---\n",
    "At this point we've gathered all the pertinent information about every album, and every song within each album. Below are descriptions from the spotify API documentation of the different attributes of the song features and analysis. Note that several of the features were dropped immediately becuase they were not relevant to the experiment.\n",
    "\n",
    "The next thing done is the creation of statistics that summarize the features of all the songs in each album. For example, the median dancability of all tracks in an album. These statistics will be used to find patterns in The NeedleDrop album scores. These stats are gathered and flattened to a list for each track in the Album class's dataframe mathod (called in the contructor)"
   ]
  },
  {
   "cell_type": "code",
   "execution_count": 16,
   "metadata": {},
   "outputs": [
    {
     "data": {
      "text/html": [
       "<iframe src=\"https://developer.spotify.com/documentation/web-api/reference/tracks/get-audio-features/\" width=\"800\" height=\"500\"></iframe>\n",
       "<iframe src=\"https://developer.spotify.com/documentation/web-api/reference/tracks/get-audio-analysis/\" width=\"800\" height=\"500\"></iframe>\n"
      ],
      "text/plain": [
       "<IPython.core.display.HTML object>"
      ]
     },
     "metadata": {},
     "output_type": "display_data"
    }
   ],
   "source": [
    "%%html\n",
    "<iframe src=\"https://developer.spotify.com/documentation/web-api/reference/tracks/get-audio-features/\" width=\"800\" height=\"500\"></iframe>\n",
    "<iframe src=\"https://developer.spotify.com/documentation/web-api/reference/tracks/get-audio-analysis/\" width=\"800\" height=\"500\"></iframe>"
   ]
  },
  {
   "cell_type": "markdown",
   "metadata": {},
   "source": [
    "As you can see above, we now have important summary statistics of all the tracks contained within an album. This data will be further shaped to represent values that are important to us. Once we have the features of the album that we want, we can finally compile this data into something that we can use to analyze the NeedleDrop data.\n",
    "\n",
    "Similar to how we summarized each track when generating the album DataFrame, we summarized each album to generate a Dataframe containing summaries of ALL albums that we can correlate with the albums in the NeedleDrop data. This will allow us to first do some learning by creating visualizations. Hopefully we will be able to draw conclusions surrounding Anthony Fantano's music taste. This process is done in the Albums summarize function (called in the Albums constructor).\n",
    "\n",
    "Finally, we will model the data with some machine learning algorithms that will allow us to predict NeedleDrop ratings of future albums. \n",
    "\n",
    "#### See data_exploration.ipynb"
   ]
  }
 ],
 "metadata": {
  "kernelspec": {
   "display_name": "Python 3",
   "language": "python",
   "name": "python3"
  },
  "language_info": {
   "codemirror_mode": {
    "name": "ipython",
    "version": 3
   },
   "file_extension": ".py",
   "mimetype": "text/x-python",
   "name": "python",
   "nbconvert_exporter": "python",
   "pygments_lexer": "ipython3",
   "version": "3.8.3"
  }
 },
 "nbformat": 4,
 "nbformat_minor": 4
}
