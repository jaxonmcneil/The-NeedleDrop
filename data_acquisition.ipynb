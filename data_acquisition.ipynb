{
 "cells": [
  {
   "cell_type": "markdown",
   "metadata": {},
   "source": [
    "# DATA ACQUISITION AND MANIPULATION\n",
    "Retrieval and shaping of data from the NeedleDrop dataset and Spotify API"
   ]
  },
  {
   "cell_type": "markdown",
   "metadata": {},
   "source": [
    "### Step 1: Get NeedleDrop Data"
   ]
  },
  {
   "cell_type": "code",
   "execution_count": 1,
   "metadata": {},
   "outputs": [],
   "source": [
    "#import data science tools\n",
    "import matplotlib.pyplot as plt\n",
    "import numpy as np\n",
    "import pandas as pd\n",
    "\n",
    "plt.style.use('seaborn-darkgrid')"
   ]
  },
  {
   "cell_type": "code",
   "execution_count": 2,
   "metadata": {},
   "outputs": [
    {
     "data": {
      "text/html": [
       "<div>\n",
       "<style scoped>\n",
       "    .dataframe tbody tr th:only-of-type {\n",
       "        vertical-align: middle;\n",
       "    }\n",
       "\n",
       "    .dataframe tbody tr th {\n",
       "        vertical-align: top;\n",
       "    }\n",
       "\n",
       "    .dataframe thead th {\n",
       "        text-align: right;\n",
       "    }\n",
       "</style>\n",
       "<table border=\"1\" class=\"dataframe\">\n",
       "  <thead>\n",
       "    <tr style=\"text-align: right;\">\n",
       "      <th></th>\n",
       "      <th>artist</th>\n",
       "      <th>album</th>\n",
       "      <th>score</th>\n",
       "    </tr>\n",
       "  </thead>\n",
       "  <tbody>\n",
       "    <tr>\n",
       "      <th>2</th>\n",
       "      <td>System of a Down</td>\n",
       "      <td>Toxicity</td>\n",
       "      <td>10</td>\n",
       "    </tr>\n",
       "    <tr>\n",
       "      <th>3</th>\n",
       "      <td>Burial</td>\n",
       "      <td>Untrue</td>\n",
       "      <td>10</td>\n",
       "    </tr>\n",
       "    <tr>\n",
       "      <th>4</th>\n",
       "      <td>Cannibal Ox</td>\n",
       "      <td>The Cold Vein</td>\n",
       "      <td>10</td>\n",
       "    </tr>\n",
       "    <tr>\n",
       "      <th>5</th>\n",
       "      <td>Sleater-Kinney</td>\n",
       "      <td>The Woods</td>\n",
       "      <td>10</td>\n",
       "    </tr>\n",
       "    <tr>\n",
       "      <th>6</th>\n",
       "      <td>The Postal Service</td>\n",
       "      <td>Give Up</td>\n",
       "      <td>10</td>\n",
       "    </tr>\n",
       "    <tr>\n",
       "      <th>...</th>\n",
       "      <td>...</td>\n",
       "      <td>...</td>\n",
       "      <td>...</td>\n",
       "    </tr>\n",
       "    <tr>\n",
       "      <th>1991</th>\n",
       "      <td>Broken Bells</td>\n",
       "      <td>Broken Bells</td>\n",
       "      <td>5</td>\n",
       "    </tr>\n",
       "    <tr>\n",
       "      <th>1992</th>\n",
       "      <td>Liars</td>\n",
       "      <td>Sisterworld</td>\n",
       "      <td>6</td>\n",
       "    </tr>\n",
       "    <tr>\n",
       "      <th>1993</th>\n",
       "      <td>High On Fire</td>\n",
       "      <td>Snakes for the Divine</td>\n",
       "      <td>8</td>\n",
       "    </tr>\n",
       "    <tr>\n",
       "      <th>1994</th>\n",
       "      <td>The Knife</td>\n",
       "      <td>Tomorrow In a Year</td>\n",
       "      <td>3</td>\n",
       "    </tr>\n",
       "    <tr>\n",
       "      <th>1995</th>\n",
       "      <td>Gorillaz</td>\n",
       "      <td>Plastic Beach</td>\n",
       "      <td>7</td>\n",
       "    </tr>\n",
       "  </tbody>\n",
       "</table>\n",
       "<p>1858 rows × 3 columns</p>\n",
       "</div>"
      ],
      "text/plain": [
       "                  artist                   album  score\n",
       "2       System of a Down                Toxicity     10\n",
       "3                 Burial                  Untrue     10\n",
       "4            Cannibal Ox           The Cold Vein     10\n",
       "5        Sleater-Kinney                The Woods     10\n",
       "6     The Postal Service                 Give Up     10\n",
       "...                  ...                     ...    ...\n",
       "1991        Broken Bells           Broken Bells       5\n",
       "1992               Liars            Sisterworld       6\n",
       "1993        High On Fire  Snakes for the Divine       8\n",
       "1994           The Knife      Tomorrow In a Year      3\n",
       "1995            Gorillaz           Plastic Beach      7\n",
       "\n",
       "[1858 rows x 3 columns]"
      ]
     },
     "execution_count": 2,
     "metadata": {},
     "output_type": "execute_result"
    }
   ],
   "source": [
    "#Get the NeedleDrop ratings in a pandas DataFrame and manipulate it to bettwe suit our needs\n",
    "nd = pd.read_csv('./all_needledrop_ratings.csv')\n",
    "\n",
    "#Set column names\n",
    "nd.columns = ['artist','album','score','review year']\n",
    "\n",
    "#drop review year column. This column contains very incomplete data and we can get better data from the spotify API\n",
    "nd.drop(labels='review year', axis='columns',inplace=True)\n",
    "\n",
    "#drop first 2 rows\n",
    "nd.drop(labels=[0,1],axis='index',inplace=True)\n",
    "\n",
    "#set rating of all albums with rating \"classic\" or \"CLASSIC\" to 10\n",
    "nd.replace(to_replace=['CLASSIC','classic'],value='10', inplace=True)\n",
    "\n",
    "#remove all rows with weird ratings. For example, we can't assign \"meh\" a numerical value without guessing and potentially skewing the data\n",
    "nd = nd[nd['score'].apply(lambda x: x.isdigit())]\n",
    "\n",
    "#replace scores with numerical data\n",
    "dic = {'10':10,'9':9,'8':8,'7':7,'6':6,'5':5,'4':4,'3':3,'2':2,'1':1,'0':0}\n",
    "nd.replace(dic, inplace=True)\n",
    "nd"
   ]
  },
  {
   "cell_type": "markdown",
   "metadata": {},
   "source": [
    "---\n",
    "The NeedleDrop data is now suitable for analysis, but there isn't much to be learned from this data alone. Here is some basic data exploration that can be done with the NeedleDrop dataset. Beyond this, we need to combine this data with other data."
   ]
  },
  {
   "cell_type": "code",
   "execution_count": 3,
   "metadata": {},
   "outputs": [
    {
     "data": {
      "text/html": [
       "<div>\n",
       "<style scoped>\n",
       "    .dataframe tbody tr th:only-of-type {\n",
       "        vertical-align: middle;\n",
       "    }\n",
       "\n",
       "    .dataframe tbody tr th {\n",
       "        vertical-align: top;\n",
       "    }\n",
       "\n",
       "    .dataframe thead th {\n",
       "        text-align: right;\n",
       "    }\n",
       "</style>\n",
       "<table border=\"1\" class=\"dataframe\">\n",
       "  <thead>\n",
       "    <tr style=\"text-align: right;\">\n",
       "      <th></th>\n",
       "      <th>score</th>\n",
       "    </tr>\n",
       "  </thead>\n",
       "  <tbody>\n",
       "    <tr>\n",
       "      <th>count</th>\n",
       "      <td>1858.000000</td>\n",
       "    </tr>\n",
       "    <tr>\n",
       "      <th>mean</th>\n",
       "      <td>6.431109</td>\n",
       "    </tr>\n",
       "    <tr>\n",
       "      <th>std</th>\n",
       "      <td>1.646079</td>\n",
       "    </tr>\n",
       "    <tr>\n",
       "      <th>min</th>\n",
       "      <td>0.000000</td>\n",
       "    </tr>\n",
       "    <tr>\n",
       "      <th>25%</th>\n",
       "      <td>5.000000</td>\n",
       "    </tr>\n",
       "    <tr>\n",
       "      <th>50%</th>\n",
       "      <td>7.000000</td>\n",
       "    </tr>\n",
       "    <tr>\n",
       "      <th>75%</th>\n",
       "      <td>8.000000</td>\n",
       "    </tr>\n",
       "    <tr>\n",
       "      <th>max</th>\n",
       "      <td>10.000000</td>\n",
       "    </tr>\n",
       "  </tbody>\n",
       "</table>\n",
       "</div>"
      ],
      "text/plain": [
       "             score\n",
       "count  1858.000000\n",
       "mean      6.431109\n",
       "std       1.646079\n",
       "min       0.000000\n",
       "25%       5.000000\n",
       "50%       7.000000\n",
       "75%       8.000000\n",
       "max      10.000000"
      ]
     },
     "execution_count": 3,
     "metadata": {},
     "output_type": "execute_result"
    }
   ],
   "source": [
    "nd.describe()"
   ]
  },
  {
   "cell_type": "code",
   "execution_count": 4,
   "metadata": {},
   "outputs": [
    {
     "data": {
      "image/png": "[encoded data removed]",
      "text/plain": [
       "<Figure size 432x288 with 1 Axes>"
      ]
     },
     "metadata": {},
     "output_type": "display_data"
    }
   ],
   "source": [
    "#histogram of scores\n",
    "plt.hist(nd['score'],bins=10)\n",
    "plt.xlabel(\"Score\")\n",
    "plt.ylabel(\"Frequency\")\n",
    "plt.title(\"Score vs Frequency\")\n",
    "plt.show()"
   ]
  },
  {
   "cell_type": "code",
   "execution_count": 5,
   "metadata": {},
   "outputs": [
    {
     "data": {
      "text/plain": [
       "Death Grips           8\n",
       "Various Artists       7\n",
       "Big K.R.I.T.          7\n",
       "Logic                 6\n",
       "The Weeknd            6\n",
       "of Montreal           5\n",
       "Vince Staples         5\n",
       "Kendrick Lamar        5\n",
       "The Underachievers    5\n",
       "Mac Miller            5\n",
       "Name: artist, dtype: int64"
      ]
     },
     "execution_count": 5,
     "metadata": {},
     "output_type": "execute_result"
    }
   ],
   "source": [
    "#The NeedleDrop top 10 artists by most frequent appearances\n",
    "n = 10\n",
    "top = nd['artist'].value_counts()[:n].index.tolist()\n",
    "top_artists = pd.DataFrame(columns=['artist','album','score'])\n",
    "for a in top:\n",
    "    top_artists = pd.concat([top_artists, nd[nd['artist'] == a]])\n",
    "top_artists['artist'].value_counts()"
   ]
  },
  {
   "cell_type": "markdown",
   "metadata": {},
   "source": [
    "### Step 2. Get Spotify Data"
   ]
  },
  {
   "cell_type": "code",
   "execution_count": 6,
   "metadata": {},
   "outputs": [],
   "source": [
    "#import spotify api client\n",
    "import csv\n",
    "from spotify_client import Spotify_client\n",
    "from album import Album\n",
    "from db_client import DB_Client\n",
    "from ipypb import track as pb\n",
    "from os.path import getsize"
   ]
  },
  {
   "cell_type": "code",
   "execution_count": 7,
   "metadata": {},
   "outputs": [
    {
     "name": "stdout",
     "output_type": "stream",
     "text": [
      "Gathering raw album data\n"
     ]
    },
    {
     "data": {
      "text/html": [
       "<div><span class=\"Text-label\" style=\"display:inline-block; overflow:hidden; white-space:nowrap; text-overflow:ellipsis; min-width:0; max-width:15ex; vertical-align:middle; text-align:right\"></span>\n",
       "<progress style=\"width:60ex\" max=\"1858\" value=\"1858\" class=\"Progress-main\"/></progress>\n",
       "<span class=\"Progress-label\"><strong>100%</strong></span>\n",
       "<span class=\"Iteration-label\">1836/1858</span>\n",
       "<span class=\"Time-label\">[04:03<00:00, 0.13s/it]</span></div>"
      ],
      "text/plain": [
       "\u001b[A\u001b[2K\r",
       " [████████████████████████████████████████████████████████████] 1858/1858 [04:03<00:00, 0.13s/it]"
      ]
     },
     "metadata": {},
     "output_type": "display_data"
    },
    {
     "name": "stdout",
     "output_type": "stream",
     "text": [
      "1821  raw albums collected\n"
     ]
    }
   ],
   "source": [
    "# create client\n",
    "client = Spotify_client()\n",
    "\n",
    "#gather raw Spotify album data of albums from list of album names included in NeedleDrop data\n",
    "raw_albums = []\n",
    "flagged_albums = []\n",
    "missed_albums = [] #to look for commonalities in missed searches (maybe we can recover some of this data)\n",
    "print('Gathering raw album data')\n",
    "#for album, artists in zip(pb(nd['album'].tolist()),nd['artist'].tolist()):\n",
    "for index, row in pb(nd.iterrows(),len(nd.index)):\n",
    "    album = row['album']\n",
    "    artists = row['artist']\n",
    "    score = row['score']\n",
    "    \n",
    "    album = str(album).strip()\n",
    "    artists = artists.split(\", \")\n",
    "    a_temp = []\n",
    "    for a in artists:\n",
    "        a_temp.append(str(a).strip())\n",
    "    artists = a_temp\n",
    "    try:\n",
    "        flag, search = client.search_for_album(album,artists)\n",
    "        #successful search\n",
    "        if flag == 0:\n",
    "            search['score'] = score\n",
    "            raw_albums.append(search)\n",
    "        #flagged search (returned album might be incorrect)\n",
    "        elif flag == -1:\n",
    "            search['score'] = score\n",
    "            flagged_albums.append(((album,artists),search))\n",
    "        #failed search (no album returned matching search query)\n",
    "        elif flag == -2:\n",
    "            missed_albums.append((album,artists))\n",
    "    except Exception as e:\n",
    "        print('\\t',\"exception occured during search for\", album, \"by\", artists, \":\", str(e))\n",
    "raw_albums = [a for a in raw_albums if a] \n",
    "print(len(raw_albums) + len(flagged_albums) ,\" raw albums collected\")"
   ]
  },
  {
   "cell_type": "code",
   "execution_count": 8,
   "metadata": {},
   "outputs": [
    {
     "name": "stdout",
     "output_type": "stream",
     "text": [
      "37\n"
     ]
    }
   ],
   "source": [
    "#at this stage, the missed albums either weren't on spotify or had spelling errors\n",
    "#all spelling errors were corrected\n",
    "print(len(missed_albums))"
   ]
  },
  {
   "cell_type": "code",
   "execution_count": 10,
   "metadata": {
    "collapsed": true,
    "jupyter": {
     "outputs_hidden": true
    }
   },
   "outputs": [
    {
     "name": "stdout",
     "output_type": "stream",
     "text": [
      "input -> search result\n",
      "Magnus by ['Thou'] -> My Love Is Gone (MAGNUS Remix) by Jonas Aden >> "
     ]
    },
    {
     "name": "stdin",
     "output_type": "stream",
     "text": [
      "correct? [y/N]:  N\n"
     ]
    },
    {
     "name": "stdout",
     "output_type": "stream",
     "text": [
      "Tierra Whack by ['Tierra Whack'] -> So Sick So Sad (Tierra Whack \"Fuck Off\" Bootleg Rmx) by Lil 'Merica >> "
     ]
    },
    {
     "name": "stdin",
     "output_type": "stream",
     "text": [
      "correct? [y/N]:  N\n"
     ]
    },
    {
     "name": "stdout",
     "output_type": "stream",
     "text": [
      "Endless by ['Frank Ocean'] -> Our Endless Numbered Days by Iron & Wine >> "
     ]
    },
    {
     "name": "stdin",
     "output_type": "stream",
     "text": [
      "correct? [y/N]:  N\n"
     ]
    },
    {
     "name": "stdout",
     "output_type": "stream",
     "text": [
      "Godfather II by ['Wiley'] -> The Godfather I, II & III (Piano Version) by Ilary Barnes >> "
     ]
    },
    {
     "name": "stdin",
     "output_type": "stream",
     "text": [
      "correct? [y/N]:  N\n"
     ]
    },
    {
     "name": "stdout",
     "output_type": "stream",
     "text": [
      "8 by ['Hop Along'] -> 8 Letters by Why Don't We >> "
     ]
    },
    {
     "name": "stdin",
     "output_type": "stream",
     "text": [
      "correct? [y/N]:  N\n"
     ]
    },
    {
     "name": "stdout",
     "output_type": "stream",
     "text": [
      "? by ['XXXTENTACION'] -> The Album by Teyana Taylor >> "
     ]
    },
    {
     "name": "stdin",
     "output_type": "stream",
     "text": [
      "correct? [y/N]:  N\n"
     ]
    },
    {
     "name": "stdout",
     "output_type": "stream",
     "text": [
      "Black Panther The Album by ['Various Artists'] -> Black Panther The Album Music From And Inspired By by Kendrick Lamar >> "
     ]
    },
    {
     "name": "stdin",
     "output_type": "stream",
     "text": [
      "correct? [y/N]:  y\n"
     ]
    },
    {
     "name": "stdout",
     "output_type": "stream",
     "text": [
      "Flames Within Flames by ['Neurosis'] -> Flames Within (Radio Edit) by AcroniX >> "
     ]
    },
    {
     "name": "stdin",
     "output_type": "stream",
     "text": [
      "correct? [y/N]:  N\n"
     ]
    },
    {
     "name": "stdout",
     "output_type": "stream",
     "text": [
      "Rain Temple by ['2 8 1 4'] -> December 2019: Rain Recordings For Ultimate Relaxation by White Noise Relaxation >> "
     ]
    },
    {
     "name": "stdin",
     "output_type": "stream",
     "text": [
      "correct? [y/N]:  N\n"
     ]
    },
    {
     "name": "stdout",
     "output_type": "stream",
     "text": [
      "99.90% by ['Kaytranada'] -> First Take Fridays, Vol. 9 (Episodes 90-99) by Jonathan Brader >> "
     ]
    },
    {
     "name": "stdin",
     "output_type": "stream",
     "text": [
      "correct? [y/N]:  N\n"
     ]
    },
    {
     "name": "stdout",
     "output_type": "stream",
     "text": [
      "The Colour In Everything by ['James Blake'] -> The Believer by Everything In Colour >> "
     ]
    },
    {
     "name": "stdin",
     "output_type": "stream",
     "text": [
      "correct? [y/N]:  N\n"
     ]
    },
    {
     "name": "stdout",
     "output_type": "stream",
     "text": [
      "Space Heads by ['VARIOUS ARTISTS'] -> Tuning the Space Remixes by Groove Genies >> "
     ]
    },
    {
     "name": "stdin",
     "output_type": "stream",
     "text": [
      "correct? [y/N]:  N\n"
     ]
    },
    {
     "name": "stdout",
     "output_type": "stream",
     "text": [
      "Product by ['Sophie'] -> The Essential Boogie Down Productions / KRS-One by Boogie Down Productions >> "
     ]
    },
    {
     "name": "stdin",
     "output_type": "stream",
     "text": [
      "correct? [y/N]:  N\n"
     ]
    },
    {
     "name": "stdout",
     "output_type": "stream",
     "text": [
      "Divers by ['Joanna Newsom'] -> Divers by CNC >> "
     ]
    },
    {
     "name": "stdin",
     "output_type": "stream",
     "text": [
      "correct? [y/N]:  N\n"
     ]
    },
    {
     "name": "stdout",
     "output_type": "stream",
     "text": [
      "It's Better This Way by ['Big K.R.I.T.'] -> It's Better This Way by Remote Viewing >> "
     ]
    },
    {
     "name": "stdin",
     "output_type": "stream",
     "text": [
      "correct? [y/N]:  N\n"
     ]
    },
    {
     "name": "stdout",
     "output_type": "stream",
     "text": [
      "The New CALassic by ['Cal Chuchesta'] -> The New Harlem Funk - Gotta Take Your Love (2 Original Classic Albums) by Flowchart >> "
     ]
    },
    {
     "name": "stdin",
     "output_type": "stream",
     "text": [
      "correct? [y/N]:  N\n"
     ]
    },
    {
     "name": "stdout",
     "output_type": "stream",
     "text": [
      "Wave[s] by ['Mick Jenkins'] -> Waves of the Sea, Ocean and Lakes by Ocean Waves For Sleep >> "
     ]
    },
    {
     "name": "stdin",
     "output_type": "stream",
     "text": [
      "correct? [y/N]:  N\n"
     ]
    },
    {
     "name": "stdout",
     "output_type": "stream",
     "text": [
      "Simple Songs by [\"Jim O'Rourke\"] -> Simple Songs Of Freedom: The Tim Hardin Collection by Tim Hardin >> "
     ]
    },
    {
     "name": "stdin",
     "output_type": "stream",
     "text": [
      "correct? [y/N]:  N\n"
     ]
    },
    {
     "name": "stdout",
     "output_type": "stream",
     "text": [
      "TĂU by ['Negură Bunget'] -> God Taught Me by Zauntee >> "
     ]
    },
    {
     "name": "stdin",
     "output_type": "stream",
     "text": [
      "correct? [y/N]:  N\n"
     ]
    },
    {
     "name": "stdout",
     "output_type": "stream",
     "text": [
      "A Special Episode Of by ['Open Mike Eagle'] -> ASOT 984 - A State Of Trance Episode 984 (Who's Afraid Of 138?! Special) by Armin van Buuren >> "
     ]
    },
    {
     "name": "stdin",
     "output_type": "stream",
     "text": [
      "correct? [y/N]:  N\n"
     ]
    },
    {
     "name": "stdout",
     "output_type": "stream",
     "text": [
      "Viet Cong by ['Viet Cong'] -> Viet-Nam : Théâtre populaire du nord (Hat Cheo) by Hung Dang Cong >> "
     ]
    },
    {
     "name": "stdin",
     "output_type": "stream",
     "text": [
      "correct? [y/N]:  N\n"
     ]
    },
    {
     "name": "stdout",
     "output_type": "stream",
     "text": [
      "The Church by ['Mr. Oizo'] -> Let The Church Say Amen (Radio Edit) by Andrae Crouch >> "
     ]
    },
    {
     "name": "stdin",
     "output_type": "stream",
     "text": [
      "correct? [y/N]:  N\n"
     ]
    },
    {
     "name": "stdout",
     "output_type": "stream",
     "text": [
      "Seeds by ['TVOTR'] -> Seeds by TV On The Radio >> "
     ]
    },
    {
     "name": "stdin",
     "output_type": "stream",
     "text": [
      "correct? [y/N]:  N\n"
     ]
    },
    {
     "name": "stdout",
     "output_type": "stream",
     "text": [
      "Rhythm by ['Wildbirds & Peacedrums'] -> People's Instinctive Travels and the Paths of Rhythm (25th Anniversary Edition) by A Tribe Called Quest >> "
     ]
    },
    {
     "name": "stdin",
     "output_type": "stream",
     "text": [
      "correct? [y/N]:  N\n"
     ]
    },
    {
     "name": "stdout",
     "output_type": "stream",
     "text": [
      "INSA by ['Mellowhype'] -> Alphabet Insanity 2 by Mac Lethal >> "
     ]
    },
    {
     "name": "stdin",
     "output_type": "stream",
     "text": [
      "correct? [y/N]:  N\n"
     ]
    },
    {
     "name": "stdout",
     "output_type": "stream",
     "text": [
      "No More by ['Shlohmo & Jeremih'] -> Nothing More by Nothing More >> "
     ]
    },
    {
     "name": "stdin",
     "output_type": "stream",
     "text": [
      "correct? [y/N]:  N\n"
     ]
    },
    {
     "name": "stdout",
     "output_type": "stream",
     "text": [
      "Faces by ['Mac Miller'] -> The Best of Faces: Good Boys When They're Asleep by Faces >> "
     ]
    },
    {
     "name": "stdin",
     "output_type": "stream",
     "text": [
      "correct? [y/N]:  N\n"
     ]
    },
    {
     "name": "stdout",
     "output_type": "stream",
     "text": [
      "Christmas Island by ['Andrew Jackson Jihad'] -> Christmas Island by Leon Redbone >> "
     ]
    },
    {
     "name": "stdin",
     "output_type": "stream",
     "text": [
      "correct? [y/N]:  N\n"
     ]
    },
    {
     "name": "stdout",
     "output_type": "stream",
     "text": [
      "P.T.S.D. by ['Pharoahe Monch'] -> Sleeping Music: Calm Music to Help You Sleep, Natural Sleep Aid and Relaxing Piano for Sleep Music by Deep Sleep Music Collective >> "
     ]
    },
    {
     "name": "stdin",
     "output_type": "stream",
     "text": [
      "correct? [y/N]:  N\n"
     ]
    },
    {
     "name": "stdout",
     "output_type": "stream",
     "text": [
      "Blue Chips 2 by ['Action Bronson & Party Supplies'] -> Blue and White - 2013 by The Buffalo Chips >> "
     ]
    },
    {
     "name": "stdin",
     "output_type": "stream",
     "text": [
      "correct? [y/N]:  N\n"
     ]
    },
    {
     "name": "stdout",
     "output_type": "stream",
     "text": [
      "BetterOffDEAD by ['Flatbush Zombies'] -> Betteroffdead. by sushimusor >> "
     ]
    },
    {
     "name": "stdin",
     "output_type": "stream",
     "text": [
      "correct? [y/N]:  N\n"
     ]
    },
    {
     "name": "stdout",
     "output_type": "stream",
     "text": [
      "GNK by ['YC The Cynic'] -> DoD (GnkMix) by GB Lotto >> "
     ]
    },
    {
     "name": "stdin",
     "output_type": "stream",
     "text": [
      "correct? [y/N]:  N\n"
     ]
    },
    {
     "name": "stdout",
     "output_type": "stream",
     "text": [
      "Endless Night by ['TOAD'] -> Endless Night by Kent Loon >> "
     ]
    },
    {
     "name": "stdin",
     "output_type": "stream",
     "text": [
      "correct? [y/N]:  N\n"
     ]
    },
    {
     "name": "stdout",
     "output_type": "stream",
     "text": [
      "Kismet by [\"Mr. Muthafuckin' eXquire\"] -> Kismet by Buddha Trixie >> "
     ]
    },
    {
     "name": "stdin",
     "output_type": "stream",
     "text": [
      "correct? [y/N]:  N\n"
     ]
    },
    {
     "name": "stdout",
     "output_type": "stream",
     "text": [
      "Howl by ['This Routine Is Hell'] -> Howlin' Wolf by Howlin' Wolf >> "
     ]
    },
    {
     "name": "stdin",
     "output_type": "stream",
     "text": [
      "correct? [y/N]:  N\n"
     ]
    },
    {
     "name": "stdout",
     "output_type": "stream",
     "text": [
      "The Eulogy by ['Cakes Da Killa'] -> The Eulogy by Dj Magicmike-Spud >> "
     ]
    },
    {
     "name": "stdin",
     "output_type": "stream",
     "text": [
      "correct? [y/N]:  N\n"
     ]
    },
    {
     "name": "stdout",
     "output_type": "stream",
     "text": [
      "Floral Shoppe by ['Macintosh Plus'] -> Floral Shoppe 2 by THE DARKEST FUTURE >> "
     ]
    },
    {
     "name": "stdin",
     "output_type": "stream",
     "text": [
      "correct? [y/N]:  N\n"
     ]
    },
    {
     "name": "stdout",
     "output_type": "stream",
     "text": [
      "Duality by ['Captain Murphy'] -> DUALITY by WE ARE FURY >> "
     ]
    },
    {
     "name": "stdin",
     "output_type": "stream",
     "text": [
      "correct? [y/N]:  N\n"
     ]
    },
    {
     "name": "stdout",
     "output_type": "stream",
     "text": [
      "(III) by ['Crystal Castles'] -> Revenge Of The Dreamers III by Dreamville >> "
     ]
    },
    {
     "name": "stdin",
     "output_type": "stream",
     "text": [
      "correct? [y/N]:  N\n"
     ]
    },
    {
     "name": "stdout",
     "output_type": "stream",
     "text": [
      "3rd by ['Hoax'] -> EX'ACT - The 3rd Album by EXO >> "
     ]
    },
    {
     "name": "stdin",
     "output_type": "stream",
     "text": [
      "correct? [y/N]:  N\n"
     ]
    },
    {
     "name": "stdout",
     "output_type": "stream",
     "text": [
      "Lord$ Never Worry by ['A$AP Mob'] -> Lords Never Worry by Pageant Queen >> "
     ]
    },
    {
     "name": "stdin",
     "output_type": "stream",
     "text": [
      "correct? [y/N]:  N\n"
     ]
    },
    {
     "name": "stdout",
     "output_type": "stream",
     "text": [
      "Instinct by ['Niki and the Dove'] -> Ultra Instinct Mastered by Friedrich Habetler >> "
     ]
    },
    {
     "name": "stdin",
     "output_type": "stream",
     "text": [
      "correct? [y/N]:  N\n"
     ]
    },
    {
     "name": "stdout",
     "output_type": "stream",
     "text": [
      "No Idols by ['Domo Genesis'] -> No False Idols, Chapter 1 by Neo Fresco >> "
     ]
    },
    {
     "name": "stdin",
     "output_type": "stream",
     "text": [
      "correct? [y/N]:  N\n"
     ]
    },
    {
     "name": "stdout",
     "output_type": "stream",
     "text": [
      "Hair by ['Ty Segall & White Fence'] -> Bad Hair Day by \"Weird Al\" Yankovic >> "
     ]
    },
    {
     "name": "stdin",
     "output_type": "stream",
     "text": [
      "correct? [y/N]:  N\n"
     ]
    },
    {
     "name": "stdout",
     "output_type": "stream",
     "text": [
      "Americana by ['Neil Young & Crazy Horse'] -> Americana by Gregoire Maret >> "
     ]
    },
    {
     "name": "stdin",
     "output_type": "stream",
     "text": [
      "correct? [y/N]:  N\n"
     ]
    },
    {
     "name": "stdout",
     "output_type": "stream",
     "text": [
      "Cancer for Cure by ['El-P'] -> Cure For Cancer by Meezzy Trappo >> "
     ]
    },
    {
     "name": "stdin",
     "output_type": "stream",
     "text": [
      "correct? [y/N]:  N\n"
     ]
    },
    {
     "name": "stdout",
     "output_type": "stream",
     "text": [
      "R.A.P. Music by ['Killer Mike'] -> Sleeping Music: Calm Music to Help You Sleep, Natural Sleep Aid and Relaxing Piano for Sleep Music by Deep Sleep Music Collective >> "
     ]
    },
    {
     "name": "stdin",
     "output_type": "stream",
     "text": [
      "correct? [y/N]:  N\n"
     ]
    },
    {
     "name": "stdout",
     "output_type": "stream",
     "text": [
      "OFF! by ['OFF!'] -> Better off Dead by Josh A >> "
     ]
    },
    {
     "name": "stdin",
     "output_type": "stream",
     "text": [
      "correct? [y/N]:  N\n"
     ]
    },
    {
     "name": "stdout",
     "output_type": "stream",
     "text": [
      "Dweller On the Threshold by ['Dweller On the Threshold'] -> The Dweller on the Threshold by Starbirthed >> "
     ]
    },
    {
     "name": "stdin",
     "output_type": "stream",
     "text": [
      "correct? [y/N]:  N\n"
     ]
    },
    {
     "name": "stdout",
     "output_type": "stream",
     "text": [
      "Narrow by ['Soap&Skin'] -> Chutes Too Narrow by The Shins >> "
     ]
    },
    {
     "name": "stdin",
     "output_type": "stream",
     "text": [
      "correct? [y/N]:  N\n"
     ]
    },
    {
     "name": "stdout",
     "output_type": "stream",
     "text": [
      "Kings and Them by ['Evian Christ'] -> Humperdinck - Sleeping Beauty - Excerpts From 'Kings Children' - Fantasy On A Theme From 'Hansel And Gretel' by Engelbert Humperdinck >> "
     ]
    },
    {
     "name": "stdin",
     "output_type": "stream",
     "text": [
      "correct? [y/N]:  N\n"
     ]
    },
    {
     "name": "stdout",
     "output_type": "stream",
     "text": [
      "When You're Gone by ['Lapalux'] -> When You're Gone by Jalal Aliniya >> "
     ]
    },
    {
     "name": "stdin",
     "output_type": "stream",
     "text": [
      "correct? [y/N]:  N\n"
     ]
    },
    {
     "name": "stdout",
     "output_type": "stream",
     "text": [
      "I.V. by ['Loma Prieta'] -> Luv Is Rage 2 by Lil Uzi Vert >> "
     ]
    },
    {
     "name": "stdin",
     "output_type": "stream",
     "text": [
      "correct? [y/N]:  N\n"
     ]
    },
    {
     "name": "stdout",
     "output_type": "stream",
     "text": [
      "The Horror by ['Pop. 1280'] -> Getting There From Here (with Todd Edwards) (Miami Horror & Lazywax Remix) by Poolside >> "
     ]
    },
    {
     "name": "stdin",
     "output_type": "stream",
     "text": [
      "correct? [y/N]:  N\n"
     ]
    },
    {
     "name": "stdout",
     "output_type": "stream",
     "text": [
      "Echoes of Silence by ['The Weeknd'] -> Echoes Of Silence by Thierry Lang >> "
     ]
    },
    {
     "name": "stdin",
     "output_type": "stream",
     "text": [
      "correct? [y/N]:  N\n"
     ]
    },
    {
     "name": "stdout",
     "output_type": "stream",
     "text": [
      "Live. Love. A$AP by ['ASAP Rocky'] -> Wondrous Love (Live) by BYU Women's Chorus >> "
     ]
    },
    {
     "name": "stdin",
     "output_type": "stream",
     "text": [
      "correct? [y/N]:  N\n"
     ]
    },
    {
     "name": "stdout",
     "output_type": "stream",
     "text": [
      "Knife Man by ['Andrew Jackson Jihad'] -> Knife by Manos Fikapa >> "
     ]
    },
    {
     "name": "stdin",
     "output_type": "stream",
     "text": [
      "correct? [y/N]:  N\n"
     ]
    },
    {
     "name": "stdout",
     "output_type": "stream",
     "text": [
      "Room(s) by ['Machinedrum'] -> Room For Squares by John Mayer >> "
     ]
    },
    {
     "name": "stdin",
     "output_type": "stream",
     "text": [
      "correct? [y/N]:  N\n"
     ]
    },
    {
     "name": "stdout",
     "output_type": "stream",
     "text": [
      "Lover's Holiday by ['Theophilus London'] -> Lover's Holiday by Stephanie Cooke >> "
     ]
    },
    {
     "name": "stdin",
     "output_type": "stream",
     "text": [
      "correct? [y/N]:  N\n"
     ]
    },
    {
     "name": "stdout",
     "output_type": "stream",
     "text": [
      "R.E.K.S. by ['Reks'] -> Mozart's Eine Kleine Nachtmusik 4th M. (Rondo) by Wolfgang Amadeus Mozart >> "
     ]
    },
    {
     "name": "stdin",
     "output_type": "stream",
     "text": [
      "correct? [y/N]:  N\n"
     ]
    },
    {
     "name": "stdout",
     "output_type": "stream",
     "text": [
      "Unlearn by ['Fergus & Geronimo'] -> Learning How to Unlearn by Dogtooth & Nail >> "
     ]
    },
    {
     "name": "stdin",
     "output_type": "stream",
     "text": [
      "correct? [y/N]:  N\n"
     ]
    },
    {
     "name": "stdout",
     "output_type": "stream",
     "text": [
      "Kills by ['jj'] -> Addiction Kills by Jelly Roll >> "
     ]
    },
    {
     "name": "stdin",
     "output_type": "stream",
     "text": [
      "correct? [y/N]:  N\n"
     ]
    },
    {
     "name": "stdout",
     "output_type": "stream",
     "text": [
      "Bastard by ['Tyler', 'The Creator'] -> \"God, Forgive These Bastards\" Songs From The Forgotten Life of Henry Turner by The Taxpayers >> "
     ]
    },
    {
     "name": "stdin",
     "output_type": "stream",
     "text": [
      "correct? [y/N]:  N\n"
     ]
    },
    {
     "name": "stdout",
     "output_type": "stream",
     "text": [
      "First Four by ['Off!'] -> First Family 4 Life by M.O.P. >> "
     ]
    },
    {
     "name": "stdin",
     "output_type": "stream",
     "text": [
      "correct? [y/N]:  N\n"
     ]
    },
    {
     "name": "stdout",
     "output_type": "stream",
     "text": [
      "All Day by ['Girl Talk'] -> Father of All... by Green Day >> "
     ]
    },
    {
     "name": "stdin",
     "output_type": "stream",
     "text": [
      "correct? [y/N]:  N\n"
     ]
    },
    {
     "name": "stdout",
     "output_type": "stream",
     "text": [
      "Maya (/\\/\\ /\\ Y /\\) by ['MIA'] -> Migz & Maya by Migz & Maya >> "
     ]
    },
    {
     "name": "stdin",
     "output_type": "stream",
     "text": [
      "correct? [y/N]:  N\n"
     ]
    },
    {
     "name": "stdout",
     "output_type": "stream",
     "text": [
      "Pomegranates by ['Various Artists'] -> Winter Pomegranates by Patrice Ruane >> "
     ]
    },
    {
     "name": "stdin",
     "output_type": "stream",
     "text": [
      "correct? [y/N]:  N\n"
     ]
    },
    {
     "name": "stdout",
     "output_type": "stream",
     "text": [
      "Go by ['Jonsi'] -> It Was Good Until It Wasn't by Kehlani >> "
     ]
    },
    {
     "name": "stdin",
     "output_type": "stream",
     "text": [
      "correct? [y/N]:  N\n"
     ]
    }
   ],
   "source": [
    "#There are still some flagged albums after the search algorithm resolves\n",
    "#This is an optional checker that allows for manual verification of flagged albums\n",
    "print(\"input -> search result\")\n",
    "for album in flagged_albums:\n",
    "    print(album[0][0], \"by\", album [0][1], \"->\", album[1]['name'], \"by\", album[1]['artists'][0]['name'], end=\" >> \")\n",
    "    ans = input (\"correct? [y/N]: \")\n",
    "    while ans != \"y\" and ans != \"N\":\n",
    "        ans = input(\"invalid input, enter [y/N]: \")\n",
    "    if ans == \"y\":\n",
    "        raw_albums.append(album[1])\n",
    "        flagged_albums.remove(album)\n",
    "    else:\n",
    "        missed_albums.append(album[1])"
   ]
  },
  {
   "cell_type": "code",
   "execution_count": 8,
   "metadata": {
    "jupyter": {
     "source_hidden": true
    }
   },
   "outputs": [],
   "source": [
    "#prepare CSV to hold album information\n",
    "ndcsv = 'needledrop_data.csv'\n",
    "csvids = set()\n",
    "cols = []\n",
    "ndd = open(ndcsv, \"a\")\n",
    "if getsize(ndcsv) == 0:\n",
    "    alb = Album(raw_albums[0],client)\n",
    "    alb.dataframe()\n",
    "    df = alb.df.describe()\n",
    "    df.drop(labels=['count','min','max','25%','75%'], axis='index', inplace=True)\n",
    "    cols = ['id','album','score','artists','year','track count','duration']\n",
    "    #get column names\n",
    "    for row in df.index.values.tolist():\n",
    "        for col in df.columns:\n",
    "            cols.append(col + \" \" + row)\n",
    "            \n",
    "    wr = csv.writer(ndd, dialect='excel')\n",
    "    wr.writerow(cols)\n",
    "    ndd.close()\n",
    "        \n",
    "    \n",
    "else:\n",
    "    ndd.close()\n",
    "    #get set of unique id's already loaded into csv\n",
    "    with open(ndcsv, \"r\", encoding = \"utf-8\") as ndd:\n",
    "        reader = csv.reader(ndd)\n",
    "        for line in reader:\n",
    "            if line and line[0] != 'id':\n",
    "                csvids.add(line[0])"
   ]
  },
  {
   "cell_type": "code",
   "execution_count": 8,
   "metadata": {},
   "outputs": [],
   "source": [
    "#this is a substitute cell for the cell above meant to keep track of \n",
    "#which albums have been placed in the database. For regular usage run the cell above instead of this one\n",
    "ndcsv = 'database_ids.csv'\n",
    "csvids = set()\n",
    "cols = ['id']\n",
    "ndd = open(ndcsv, \"a\")\n",
    "if getsize(ndcsv) == 0:\n",
    "    wr = csv.writer(ndd, dialect='excel')\n",
    "    wr.writerow(cols)\n",
    "    ndd.close()\n",
    "else:\n",
    "    ndd.close()\n",
    "    with open(ndcsv, \"r\", encoding = \"utf-8\") as ndd:\n",
    "        reader = csv.reader(ndd)\n",
    "        for line in reader:\n",
    "            if line and line[0] != 'id':\n",
    "                csvids.add(line[0])"
   ]
  },
  {
   "cell_type": "code",
   "execution_count": 9,
   "metadata": {},
   "outputs": [
    {
     "name": "stdin",
     "output_type": "stream",
     "text": [
      "Username:  jaxonmcneil\n"
     ]
    },
    {
     "name": "stdout",
     "output_type": "stream",
     "text": [
      "Password: "
     ]
    },
    {
     "name": "stdin",
     "output_type": "stream",
     "text": [
      " ················\n"
     ]
    }
   ],
   "source": [
    "#prepare database to hold song/artist/album data\n",
    "#login\n",
    "db = DB_Client()\n"
   ]
  },
  {
   "cell_type": "code",
   "execution_count": 11,
   "metadata": {},
   "outputs": [
    {
     "name": "stdout",
     "output_type": "stream",
     "text": [
      "WARNING, RUNNING THIS WILL DELETE THE SCHEMA\n"
     ]
    },
    {
     "name": "stdin",
     "output_type": "stream",
     "text": [
      "CONFIRM? (y/n):  n\n"
     ]
    }
   ],
   "source": [
    "#run this block to rebuild the schema\n",
    "print(\"WARNING, RUNNING THIS WILL DELETE THE SCHEMA\")\n",
    "answer = input(\"CONFIRM? (y/n): \")\n",
    "if answer == 'y':\n",
    "        db.refresh_tables()\n",
    "        print(\"schema restarted!\")"
   ]
  },
  {
   "cell_type": "code",
   "execution_count": 10,
   "metadata": {},
   "outputs": [
    {
     "name": "stdout",
     "output_type": "stream",
     "text": [
      "initializing albums and tracks\n"
     ]
    },
    {
     "data": {
      "text/html": [
       "<div><span class=\"Text-label\" style=\"display:inline-block; overflow:hidden; white-space:nowrap; text-overflow:ellipsis; min-width:0; max-width:15ex; vertical-align:middle; text-align:right\"></span>\n",
       "<progress style=\"width:60ex\" max=\"1748\" value=\"1748\" class=\"Progress-main\"/></progress>\n",
       "<span class=\"Progress-label\"><strong>100%</strong></span>\n",
       "<span class=\"Iteration-label\">1734/1748</span>\n",
       "<span class=\"Time-label\">[24:31<00:13, 0.84s/it]</span></div>"
      ],
      "text/plain": [
       "\u001b[A\u001b[A\u001b[2K\r",
       " [████████████████████████████████████████████████████████████] 1748/1748 [24:31<00:13, 0.84s/it]\u001b[B"
      ]
     },
     "metadata": {},
     "output_type": "display_data"
    },
    {
     "data": {
      "text/html": [
       "<div><span class=\"Text-label\" style=\"display:inline-block; overflow:hidden; white-space:nowrap; text-overflow:ellipsis; min-width:15ex; max-width:15ex; vertical-align:middle; text-align:right\">Soused by Scott Walker</span>\n",
       "<progress style=\"width:45ex\" max=\"5\" value=\"1\" class=\"Progress-main\"/></progress>\n",
       "<span class=\"Progress-label\"><strong>20%</strong></span>\n",
       "<span class=\"Iteration-label\">1/5</span>\n",
       "<span class=\"Time-label\">[00:01<00:01, 0.89s/it]</span></div>"
      ],
      "text/plain": [
       "\u001b[A\u001b[2K\r",
       "Soused by Scott [█████████####################################] 1/5 [00:01<00:01, 0.89s/it]"
      ]
     },
     "metadata": {},
     "output_type": "display_data"
    },
    {
     "name": "stderr",
     "output_type": "stream",
     "text": [
      "HTTP Error for GET to https://api.spotify.com/v1/audio-analysis/5C4fIPZukzNltyO9pBz148 returned 404 due to analysis not found\n",
      "HTTP Error for GET to https://api.spotify.com/v1/audio-analysis/5C4fIPZukzNltyO9pBz148 returned 404 due to analysis not found\n",
      "HTTP Error for GET to https://api.spotify.com/v1/audio-analysis/5C4fIPZukzNltyO9pBz148 returned 404 due to analysis not found\n"
     ]
    },
    {
     "name": "stdout",
     "output_type": "stream",
     "text": [
      "exception occured during initialization of Soused: local variable 'analysis' referenced before assignment\n"
     ]
    },
    {
     "data": {
      "text/html": [
       "<div><span class=\"Text-label\" style=\"display:inline-block; overflow:hidden; white-space:nowrap; text-overflow:ellipsis; min-width:15ex; max-width:15ex; vertical-align:middle; text-align:right\">Trilogy by The Weeknd</span>\n",
       "<progress style=\"width:45ex\" max=\"30\" value=\"30\" class=\"Progress-main\"/></progress>\n",
       "<span class=\"Progress-label\"><strong>100%</strong></span>\n",
       "<span class=\"Iteration-label\">30/30</span>\n",
       "<span class=\"Time-label\">[00:21<00:01, 0.71s/it]</span></div>"
      ],
      "text/plain": [
       "\u001b[A\u001b[2K\r",
       "Trilogy by The  [█████████████████████████████████████████████] 30/30 [00:21<00:01, 0.71s/it]"
      ]
     },
     "metadata": {},
     "output_type": "display_data"
    },
    {
     "data": {
      "text/html": [
       "<div><span class=\"Text-label\" style=\"display:inline-block; overflow:hidden; white-space:nowrap; text-overflow:ellipsis; min-width:15ex; max-width:15ex; vertical-align:middle; text-align:right\">Nine Types of Light by TV On The Radio</span>\n",
       "<progress style=\"width:45ex\" max=\"10\" value=\"10\" class=\"Progress-main\"/></progress>\n",
       "<span class=\"Progress-label\"><strong>100%</strong></span>\n",
       "<span class=\"Iteration-label\">10/10</span>\n",
       "<span class=\"Time-label\">[00:07<00:01, 0.70s/it]</span></div>"
      ],
      "text/plain": [
       "\u001b[A\u001b[2K\r",
       "Nine Types of L [█████████████████████████████████████████████] 10/10 [00:07<00:01, 0.70s/it]"
      ]
     },
     "metadata": {},
     "output_type": "display_data"
    },
    {
     "data": {
      "text/html": [
       "<div><span class=\"Text-label\" style=\"display:inline-block; overflow:hidden; white-space:nowrap; text-overflow:ellipsis; min-width:15ex; max-width:15ex; vertical-align:middle; text-align:right\">Creep On Creepin' On by Timber Timbre</span>\n",
       "<progress style=\"width:45ex\" max=\"10\" value=\"10\" class=\"Progress-main\"/></progress>\n",
       "<span class=\"Progress-label\"><strong>100%</strong></span>\n",
       "<span class=\"Iteration-label\">10/10</span>\n",
       "<span class=\"Time-label\">[00:07<00:00, 0.65s/it]</span></div>"
      ],
      "text/plain": [
       "\u001b[A\u001b[2K\r",
       "Creep On Creepi [█████████████████████████████████████████████] 10/10 [00:07<00:00, 0.65s/it]"
      ]
     },
     "metadata": {},
     "output_type": "display_data"
    },
    {
     "data": {
      "text/html": [
       "<div><span class=\"Text-label\" style=\"display:inline-block; overflow:hidden; white-space:nowrap; text-overflow:ellipsis; min-width:15ex; max-width:15ex; vertical-align:middle; text-align:right\">What Did You Expect from The Vaccines? by The Vaccines</span>\n",
       "<progress style=\"width:45ex\" max=\"12\" value=\"12\" class=\"Progress-main\"/></progress>\n",
       "<span class=\"Progress-label\"><strong>100%</strong></span>\n",
       "<span class=\"Iteration-label\">12/12</span>\n",
       "<span class=\"Time-label\">[00:07<00:00, 0.58s/it]</span></div>"
      ],
      "text/plain": [
       "\u001b[A\u001b[2K\r",
       "What Did You Ex [█████████████████████████████████████████████] 12/12 [00:07<00:00, 0.58s/it]"
      ]
     },
     "metadata": {},
     "output_type": "display_data"
    },
    {
     "data": {
      "text/html": [
       "<div><span class=\"Text-label\" style=\"display:inline-block; overflow:hidden; white-space:nowrap; text-overflow:ellipsis; min-width:15ex; max-width:15ex; vertical-align:middle; text-align:right\">Holy Ghost! by Holy Ghost!</span>\n",
       "<progress style=\"width:45ex\" max=\"10\" value=\"10\" class=\"Progress-main\"/></progress>\n",
       "<span class=\"Progress-label\"><strong>100%</strong></span>\n",
       "<span class=\"Iteration-label\">10/10</span>\n",
       "<span class=\"Time-label\">[00:09<00:01, 0.86s/it]</span></div>"
      ],
      "text/plain": [
       "\u001b[A\u001b[2K\r",
       "Holy Ghost! by  [█████████████████████████████████████████████] 10/10 [00:09<00:01, 0.86s/it]"
      ]
     },
     "metadata": {},
     "output_type": "display_data"
    },
    {
     "data": {
      "text/html": [
       "<div><span class=\"Text-label\" style=\"display:inline-block; overflow:hidden; white-space:nowrap; text-overflow:ellipsis; min-width:15ex; max-width:15ex; vertical-align:middle; text-align:right\">Tomboy by Panda Bear</span>\n",
       "<progress style=\"width:45ex\" max=\"11\" value=\"11\" class=\"Progress-main\"/></progress>\n",
       "<span class=\"Progress-label\"><strong>100%</strong></span>\n",
       "<span class=\"Iteration-label\">11/11</span>\n",
       "<span class=\"Time-label\">[00:07<00:00, 0.61s/it]</span></div>"
      ],
      "text/plain": [
       "\u001b[A\u001b[2K\r",
       "Tomboy by Panda [█████████████████████████████████████████████] 11/11 [00:07<00:00, 0.61s/it]"
      ]
     },
     "metadata": {},
     "output_type": "display_data"
    },
    {
     "data": {
      "text/html": [
       "<div><span class=\"Text-label\" style=\"display:inline-block; overflow:hidden; white-space:nowrap; text-overflow:ellipsis; min-width:15ex; max-width:15ex; vertical-align:middle; text-align:right\">Darker Handcraft by Trap Them</span>\n",
       "<progress style=\"width:45ex\" max=\"12\" value=\"12\" class=\"Progress-main\"/></progress>\n",
       "<span class=\"Progress-label\"><strong>100%</strong></span>\n",
       "<span class=\"Iteration-label\">12/12</span>\n",
       "<span class=\"Time-label\">[00:07<00:01, 0.62s/it]</span></div>"
      ],
      "text/plain": [
       "\u001b[A\u001b[2K\r",
       "Darker Handcraf [█████████████████████████████████████████████] 12/12 [00:07<00:01, 0.62s/it]"
      ]
     },
     "metadata": {},
     "output_type": "display_data"
    },
    {
     "data": {
      "text/html": [
       "<div><span class=\"Text-label\" style=\"display:inline-block; overflow:hidden; white-space:nowrap; text-overflow:ellipsis; min-width:15ex; max-width:15ex; vertical-align:middle; text-align:right\">Mind Bokeh by Bibio</span>\n",
       "<progress style=\"width:45ex\" max=\"12\" value=\"12\" class=\"Progress-main\"/></progress>\n",
       "<span class=\"Progress-label\"><strong>100%</strong></span>\n",
       "<span class=\"Iteration-label\">12/12</span>\n",
       "<span class=\"Time-label\">[00:08<00:01, 0.71s/it]</span></div>"
      ],
      "text/plain": [
       "\u001b[A\u001b[2K\r",
       "Mind Bokeh by B [█████████████████████████████████████████████] 12/12 [00:08<00:01, 0.71s/it]"
      ]
     },
     "metadata": {},
     "output_type": "display_data"
    },
    {
     "data": {
      "text/html": [
       "<div><span class=\"Text-label\" style=\"display:inline-block; overflow:hidden; white-space:nowrap; text-overflow:ellipsis; min-width:15ex; max-width:15ex; vertical-align:middle; text-align:right\">Idle Labor by Craft Spells</span>\n",
       "<progress style=\"width:45ex\" max=\"11\" value=\"11\" class=\"Progress-main\"/></progress>\n",
       "<span class=\"Progress-label\"><strong>100%</strong></span>\n",
       "<span class=\"Iteration-label\">11/11</span>\n",
       "<span class=\"Time-label\">[00:06<00:01, 0.59s/it]</span></div>"
      ],
      "text/plain": [
       "\u001b[A\u001b[2K\r",
       "Idle Labor by C [█████████████████████████████████████████████] 11/11 [00:06<00:01, 0.59s/it]"
      ]
     },
     "metadata": {},
     "output_type": "display_data"
    },
    {
     "data": {
      "text/html": [
       "<div><span class=\"Text-label\" style=\"display:inline-block; overflow:hidden; white-space:nowrap; text-overflow:ellipsis; min-width:15ex; max-width:15ex; vertical-align:middle; text-align:right\">Belong by The Pains Of Being Pure At Heart</span>\n",
       "<progress style=\"width:45ex\" max=\"10\" value=\"10\" class=\"Progress-main\"/></progress>\n",
       "<span class=\"Progress-label\"><strong>100%</strong></span>\n",
       "<span class=\"Iteration-label\">10/10</span>\n",
       "<span class=\"Time-label\">[00:05<00:01, 0.55s/it]</span></div>"
      ],
      "text/plain": [
       "\u001b[A\u001b[2K\r",
       "Belong by The P [█████████████████████████████████████████████] 10/10 [00:05<00:01, 0.55s/it]"
      ]
     },
     "metadata": {},
     "output_type": "display_data"
    },
    {
     "data": {
      "text/html": [
       "<div><span class=\"Text-label\" style=\"display:inline-block; overflow:hidden; white-space:nowrap; text-overflow:ellipsis; min-width:15ex; max-width:15ex; vertical-align:middle; text-align:right\">Angles by The Strokes</span>\n",
       "<progress style=\"width:45ex\" max=\"10\" value=\"10\" class=\"Progress-main\"/></progress>\n",
       "<span class=\"Progress-label\"><strong>100%</strong></span>\n",
       "<span class=\"Iteration-label\">10/10</span>\n",
       "<span class=\"Time-label\">[00:06<00:00, 0.59s/it]</span></div>"
      ],
      "text/plain": [
       "\u001b[A\u001b[2K\r",
       "Angles by The S [█████████████████████████████████████████████] 10/10 [00:06<00:00, 0.59s/it]"
      ]
     },
     "metadata": {},
     "output_type": "display_data"
    },
    {
     "data": {
      "text/html": [
       "<div><span class=\"Text-label\" style=\"display:inline-block; overflow:hidden; white-space:nowrap; text-overflow:ellipsis; min-width:15ex; max-width:15ex; vertical-align:middle; text-align:right\">Fallen by Burzum</span>\n",
       "<progress style=\"width:45ex\" max=\"7\" value=\"7\" class=\"Progress-main\"/></progress>\n",
       "<span class=\"Progress-label\"><strong>100%</strong></span>\n",
       "<span class=\"Iteration-label\">7/7</span>\n",
       "<span class=\"Time-label\">[00:07<00:01, 0.95s/it]</span></div>"
      ],
      "text/plain": [
       "\u001b[A\u001b[2K\r",
       "Fallen by Burzu [█████████████████████████████████████████████] 7/7 [00:07<00:01, 0.95s/it]"
      ]
     },
     "metadata": {},
     "output_type": "display_data"
    },
    {
     "data": {
      "text/html": [
       "<div><span class=\"Text-label\" style=\"display:inline-block; overflow:hidden; white-space:nowrap; text-overflow:ellipsis; min-width:15ex; max-width:15ex; vertical-align:middle; text-align:right\">Shaolin Vs. Wu-tang by Raekwon</span>\n",
       "<progress style=\"width:45ex\" max=\"17\" value=\"17\" class=\"Progress-main\"/></progress>\n",
       "<span class=\"Progress-label\"><strong>100%</strong></span>\n",
       "<span class=\"Iteration-label\">17/17</span>\n",
       "<span class=\"Time-label\">[00:11<00:00, 0.65s/it]</span></div>"
      ],
      "text/plain": [
       "\u001b[A\u001b[2K\r",
       "Shaolin Vs. Wu- [█████████████████████████████████████████████] 17/17 [00:11<00:00, 0.65s/it]"
      ]
     },
     "metadata": {},
     "output_type": "display_data"
    },
    {
     "data": {
      "text/html": [
       "<div><span class=\"Text-label\" style=\"display:inline-block; overflow:hidden; white-space:nowrap; text-overflow:ellipsis; min-width:15ex; max-width:15ex; vertical-align:middle; text-align:right\">Lasers by Lupe Fiasco</span>\n",
       "<progress style=\"width:45ex\" max=\"12\" value=\"12\" class=\"Progress-main\"/></progress>\n",
       "<span class=\"Progress-label\"><strong>100%</strong></span>\n",
       "<span class=\"Iteration-label\">12/12</span>\n",
       "<span class=\"Time-label\">[00:07<00:01, 0.61s/it]</span></div>"
      ],
      "text/plain": [
       "\u001b[A\u001b[2K\r",
       "Lasers by Lupe  [█████████████████████████████████████████████] 12/12 [00:07<00:01, 0.61s/it]"
      ]
     },
     "metadata": {},
     "output_type": "display_data"
    },
    {
     "data": {
      "text/html": [
       "<div><span class=\"Text-label\" style=\"display:inline-block; overflow:hidden; white-space:nowrap; text-overflow:ellipsis; min-width:15ex; max-width:15ex; vertical-align:middle; text-align:right\">Ravedeath, 1972 by Tim Hecker</span>\n",
       "<progress style=\"width:45ex\" max=\"12\" value=\"12\" class=\"Progress-main\"/></progress>\n",
       "<span class=\"Progress-label\"><strong>100%</strong></span>\n",
       "<span class=\"Iteration-label\">12/12</span>\n",
       "<span class=\"Time-label\">[00:07<00:01, 0.55s/it]</span></div>"
      ],
      "text/plain": [
       "\u001b[A\u001b[2K\r",
       "Ravedeath, 1972 [█████████████████████████████████████████████] 12/12 [00:07<00:01, 0.55s/it]"
      ]
     },
     "metadata": {},
     "output_type": "display_data"
    },
    {
     "data": {
      "text/html": [
       "<div><span class=\"Text-label\" style=\"display:inline-block; overflow:hidden; white-space:nowrap; text-overflow:ellipsis; min-width:15ex; max-width:15ex; vertical-align:middle; text-align:right\">Jason... The Dragon by Weedeater</span>\n",
       "<progress style=\"width:45ex\" max=\"10\" value=\"10\" class=\"Progress-main\"/></progress>\n",
       "<span class=\"Progress-label\"><strong>100%</strong></span>\n",
       "<span class=\"Iteration-label\">10/10</span>\n",
       "<span class=\"Time-label\">[00:05<00:01, 0.48s/it]</span></div>"
      ],
      "text/plain": [
       "\u001b[A\u001b[2K\r",
       "Jason... The Dr [█████████████████████████████████████████████] 10/10 [00:05<00:01, 0.48s/it]"
      ]
     },
     "metadata": {},
     "output_type": "display_data"
    },
    {
     "data": {
      "text/html": [
       "<div><span class=\"Text-label\" style=\"display:inline-block; overflow:hidden; white-space:nowrap; text-overflow:ellipsis; min-width:15ex; max-width:15ex; vertical-align:middle; text-align:right\">Different Gear, Still Speeding by Beady Eye</span>\n",
       "<progress style=\"width:45ex\" max=\"13\" value=\"13\" class=\"Progress-main\"/></progress>\n",
       "<span class=\"Progress-label\"><strong>100%</strong></span>\n",
       "<span class=\"Iteration-label\">13/13</span>\n",
       "<span class=\"Time-label\">[00:08<00:01, 0.65s/it]</span></div>"
      ],
      "text/plain": [
       "\u001b[A\u001b[2K\r",
       "Different Gear, [█████████████████████████████████████████████] 13/13 [00:08<00:01, 0.65s/it]"
      ]
     },
     "metadata": {},
     "output_type": "display_data"
    },
    {
     "data": {
      "text/html": [
       "<div><span class=\"Text-label\" style=\"display:inline-block; overflow:hidden; white-space:nowrap; text-overflow:ellipsis; min-width:15ex; max-width:15ex; vertical-align:middle; text-align:right\">All Eternals Deck by The Mountain Goats</span>\n",
       "<progress style=\"width:45ex\" max=\"13\" value=\"13\" class=\"Progress-main\"/></progress>\n",
       "<span class=\"Progress-label\"><strong>100%</strong></span>\n",
       "<span class=\"Iteration-label\">13/13</span>\n",
       "<span class=\"Time-label\">[00:09<00:01, 0.71s/it]</span></div>"
      ],
      "text/plain": [
       "\u001b[A\u001b[2K\r",
       "All Eternals De [█████████████████████████████████████████████] 13/13 [00:09<00:01, 0.71s/it]"
      ]
     },
     "metadata": {},
     "output_type": "display_data"
    },
    {
     "data": {
      "text/html": [
       "<div><span class=\"Text-label\" style=\"display:inline-block; overflow:hidden; white-space:nowrap; text-overflow:ellipsis; min-width:15ex; max-width:15ex; vertical-align:middle; text-align:right\">Mosaik by Siriusmo</span>\n",
       "<progress style=\"width:45ex\" max=\"17\" value=\"17\" class=\"Progress-main\"/></progress>\n",
       "<span class=\"Progress-label\"><strong>100%</strong></span>\n",
       "<span class=\"Iteration-label\">17/17</span>\n",
       "<span class=\"Time-label\">[00:10<00:01, 0.61s/it]</span></div>"
      ],
      "text/plain": [
       "\u001b[A\u001b[2K\r",
       "Mosaik by Siriu [█████████████████████████████████████████████] 17/17 [00:10<00:01, 0.61s/it]"
      ]
     },
     "metadata": {},
     "output_type": "display_data"
    },
    {
     "data": {
      "text/html": [
       "<div><span class=\"Text-label\" style=\"display:inline-block; overflow:hidden; white-space:nowrap; text-overflow:ellipsis; min-width:15ex; max-width:15ex; vertical-align:middle; text-align:right\">Yuck by Yuck</span>\n",
       "<progress style=\"width:45ex\" max=\"12\" value=\"12\" class=\"Progress-main\"/></progress>\n",
       "<span class=\"Progress-label\"><strong>100%</strong></span>\n",
       "<span class=\"Iteration-label\">12/12</span>\n",
       "<span class=\"Time-label\">[00:08<00:01, 0.66s/it]</span></div>"
      ],
      "text/plain": [
       "\u001b[A\u001b[2K\r",
       "   Yuck by Yuck [█████████████████████████████████████████████] 12/12 [00:08<00:01, 0.66s/it]"
      ]
     },
     "metadata": {},
     "output_type": "display_data"
    },
    {
     "data": {
      "text/html": [
       "<div><span class=\"Text-label\" style=\"display:inline-block; overflow:hidden; white-space:nowrap; text-overflow:ellipsis; min-width:15ex; max-width:15ex; vertical-align:middle; text-align:right\">Higher Learning Series: Volume Two - On Second Thought by John Paul Sharp</span>\n",
       "<progress style=\"width:45ex\" max=\"13\" value=\"13\" class=\"Progress-main\"/></progress>\n",
       "<span class=\"Progress-label\"><strong>100%</strong></span>\n",
       "<span class=\"Iteration-label\">13/13</span>\n",
       "<span class=\"Time-label\">[00:09<00:01, 0.72s/it]</span></div>"
      ],
      "text/plain": [
       "\u001b[A\u001b[2K\r",
       "Higher Learning [█████████████████████████████████████████████] 13/13 [00:09<00:01, 0.72s/it]"
      ]
     },
     "metadata": {},
     "output_type": "display_data"
    },
    {
     "data": {
      "text/html": [
       "<div><span class=\"Text-label\" style=\"display:inline-block; overflow:hidden; white-space:nowrap; text-overflow:ellipsis; min-width:15ex; max-width:15ex; vertical-align:middle; text-align:right\">Let England Shake by PJ Harvey</span>\n",
       "<progress style=\"width:45ex\" max=\"13\" value=\"13\" class=\"Progress-main\"/></progress>\n",
       "<span class=\"Progress-label\"><strong>100%</strong></span>\n",
       "<span class=\"Iteration-label\">13/13</span>\n",
       "<span class=\"Time-label\">[00:07<00:01, 0.55s/it]</span></div>"
      ],
      "text/plain": [
       "\u001b[A\u001b[2K\r",
       "Let England Sha [█████████████████████████████████████████████] 13/13 [00:07<00:01, 0.55s/it]"
      ]
     },
     "metadata": {},
     "output_type": "display_data"
    },
    {
     "data": {
      "text/html": [
       "<div><span class=\"Text-label\" style=\"display:inline-block; overflow:hidden; white-space:nowrap; text-overflow:ellipsis; min-width:15ex; max-width:15ex; vertical-align:middle; text-align:right\">Underneath The Pine by Toro y Moi</span>\n",
       "<progress style=\"width:45ex\" max=\"11\" value=\"11\" class=\"Progress-main\"/></progress>\n",
       "<span class=\"Progress-label\"><strong>100%</strong></span>\n",
       "<span class=\"Iteration-label\">11/11</span>\n",
       "<span class=\"Time-label\">[00:07<00:01, 0.63s/it]</span></div>"
      ],
      "text/plain": [
       "\u001b[A\u001b[2K\r",
       "Underneath The  [█████████████████████████████████████████████] 11/11 [00:07<00:01, 0.63s/it]"
      ]
     },
     "metadata": {},
     "output_type": "display_data"
    },
    {
     "data": {
      "text/html": [
       "<div><span class=\"Text-label\" style=\"display:inline-block; overflow:hidden; white-space:nowrap; text-overflow:ellipsis; min-width:15ex; max-width:15ex; vertical-align:middle; text-align:right\">New History Warfare Vol. 2: Judges by Colin Stetson</span>\n",
       "<progress style=\"width:45ex\" max=\"14\" value=\"14\" class=\"Progress-main\"/></progress>\n",
       "<span class=\"Progress-label\"><strong>100%</strong></span>\n",
       "<span class=\"Iteration-label\">14/14</span>\n",
       "<span class=\"Time-label\">[00:09<00:00, 0.63s/it]</span></div>"
      ],
      "text/plain": [
       "\u001b[A\u001b[2K\r",
       "New History War [█████████████████████████████████████████████] 14/14 [00:09<00:00, 0.63s/it]"
      ]
     },
     "metadata": {},
     "output_type": "display_data"
    },
    {
     "data": {
      "text/html": [
       "<div><span class=\"Text-label\" style=\"display:inline-block; overflow:hidden; white-space:nowrap; text-overflow:ellipsis; min-width:15ex; max-width:15ex; vertical-align:middle; text-align:right\">The King Of Limbs by Radiohead</span>\n",
       "<progress style=\"width:45ex\" max=\"8\" value=\"8\" class=\"Progress-main\"/></progress>\n",
       "<span class=\"Progress-label\"><strong>100%</strong></span>\n",
       "<span class=\"Iteration-label\">8/8</span>\n",
       "<span class=\"Time-label\">[00:06<00:01, 0.77s/it]</span></div>"
      ],
      "text/plain": [
       "\u001b[A\u001b[2K\r",
       "The King Of Lim [█████████████████████████████████████████████] 8/8 [00:06<00:01, 0.77s/it]"
      ]
     },
     "metadata": {},
     "output_type": "display_data"
    },
    {
     "data": {
      "text/html": [
       "<div><span class=\"Text-label\" style=\"display:inline-block; overflow:hidden; white-space:nowrap; text-overflow:ellipsis; min-width:15ex; max-width:15ex; vertical-align:middle; text-align:right\">Space Is Only Noise by Nicolas Jaar</span>\n",
       "<progress style=\"width:45ex\" max=\"13\" value=\"13\" class=\"Progress-main\"/></progress>\n",
       "<span class=\"Progress-label\"><strong>100%</strong></span>\n",
       "<span class=\"Iteration-label\">13/13</span>\n",
       "<span class=\"Time-label\">[00:07<00:01, 0.56s/it]</span></div>"
      ],
      "text/plain": [
       "\u001b[A\u001b[2K\r",
       "Space Is Only N [█████████████████████████████████████████████] 13/13 [00:07<00:01, 0.56s/it]"
      ]
     },
     "metadata": {},
     "output_type": "display_data"
    },
    {
     "data": {
      "text/html": [
       "<div><span class=\"Text-label\" style=\"display:inline-block; overflow:hidden; white-space:nowrap; text-overflow:ellipsis; min-width:15ex; max-width:15ex; vertical-align:middle; text-align:right\">V by Vreid</span>\n",
       "<progress style=\"width:45ex\" max=\"9\" value=\"9\" class=\"Progress-main\"/></progress>\n",
       "<span class=\"Progress-label\"><strong>100%</strong></span>\n",
       "<span class=\"Iteration-label\">9/9</span>\n",
       "<span class=\"Time-label\">[00:06<00:01, 0.69s/it]</span></div>"
      ],
      "text/plain": [
       "\u001b[A\u001b[2K\r",
       "     V by Vreid [█████████████████████████████████████████████] 9/9 [00:06<00:01, 0.69s/it]"
      ]
     },
     "metadata": {},
     "output_type": "display_data"
    },
    {
     "data": {
      "text/html": [
       "<div><span class=\"Text-label\" style=\"display:inline-block; overflow:hidden; white-space:nowrap; text-overflow:ellipsis; min-width:15ex; max-width:15ex; vertical-align:middle; text-align:right\">Angels Exodus by Lil B</span>\n",
       "<progress style=\"width:45ex\" max=\"12\" value=\"12\" class=\"Progress-main\"/></progress>\n",
       "<span class=\"Progress-label\"><strong>100%</strong></span>\n",
       "<span class=\"Iteration-label\">12/12</span>\n",
       "<span class=\"Time-label\">[00:07<00:00, 0.59s/it]</span></div>"
      ],
      "text/plain": [
       "\u001b[A\u001b[2K\r",
       "Angels Exodus b [█████████████████████████████████████████████] 12/12 [00:07<00:00, 0.59s/it]"
      ]
     },
     "metadata": {},
     "output_type": "display_data"
    },
    {
     "data": {
      "text/html": [
       "<div><span class=\"Text-label\" style=\"display:inline-block; overflow:hidden; white-space:nowrap; text-overflow:ellipsis; min-width:15ex; max-width:15ex; vertical-align:middle; text-align:right\">Hardcore Will Never Die, But You Will by Mogwai</span>\n",
       "<progress style=\"width:45ex\" max=\"10\" value=\"10\" class=\"Progress-main\"/></progress>\n",
       "<span class=\"Progress-label\"><strong>100%</strong></span>\n",
       "<span class=\"Iteration-label\">10/10</span>\n",
       "<span class=\"Time-label\">[00:06<00:01, 0.62s/it]</span></div>"
      ],
      "text/plain": [
       "\u001b[A\u001b[2K\r",
       "Hardcore Will N [█████████████████████████████████████████████] 10/10 [00:06<00:01, 0.62s/it]"
      ]
     },
     "metadata": {},
     "output_type": "display_data"
    },
    {
     "data": {
      "text/html": [
       "<div><span class=\"Text-label\" style=\"display:inline-block; overflow:hidden; white-space:nowrap; text-overflow:ellipsis; min-width:15ex; max-width:15ex; vertical-align:middle; text-align:right\">Natural Child by Natural Child</span>\n",
       "<progress style=\"width:45ex\" max=\"11\" value=\"11\" class=\"Progress-main\"/></progress>\n",
       "<span class=\"Progress-label\"><strong>100%</strong></span>\n",
       "<span class=\"Iteration-label\">11/11</span>\n",
       "<span class=\"Time-label\">[00:06<00:01, 0.56s/it]</span></div>"
      ],
      "text/plain": [
       "\u001b[A\u001b[2K\r",
       "Natural Child b [█████████████████████████████████████████████] 11/11 [00:06<00:01, 0.56s/it]"
      ]
     },
     "metadata": {},
     "output_type": "display_data"
    },
    {
     "data": {
      "text/html": [
       "<div><span class=\"Text-label\" style=\"display:inline-block; overflow:hidden; white-space:nowrap; text-overflow:ellipsis; min-width:15ex; max-width:15ex; vertical-align:middle; text-align:right\">feel away (feat. James Blake & Mount Kimbie) by slowthai</span>\n",
       "<progress style=\"width:45ex\" max=\"1\" value=\"1\" class=\"Progress-main\"/></progress>\n",
       "<span class=\"Progress-label\"><strong>100%</strong></span>\n",
       "<span class=\"Iteration-label\">1/1</span>\n",
       "<span class=\"Time-label\">[00:03<00:03, 2.92s/it]</span></div>"
      ],
      "text/plain": [
       "\u001b[A\u001b[2K\r",
       "feel away (feat [█████████████████████████████████████████████] 1/1 [00:03<00:03, 2.92s/it]"
      ]
     },
     "metadata": {},
     "output_type": "display_data"
    },
    {
     "data": {
      "text/html": [
       "<div><span class=\"Text-label\" style=\"display:inline-block; overflow:hidden; white-space:nowrap; text-overflow:ellipsis; min-width:15ex; max-width:15ex; vertical-align:middle; text-align:right\">Zonoscope by Cut Copy</span>\n",
       "<progress style=\"width:45ex\" max=\"11\" value=\"11\" class=\"Progress-main\"/></progress>\n",
       "<span class=\"Progress-label\"><strong>100%</strong></span>\n",
       "<span class=\"Iteration-label\">11/11</span>\n",
       "<span class=\"Time-label\">[00:11<00:01, 1.00s/it]</span></div>"
      ],
      "text/plain": [
       "\u001b[A\u001b[2K\r",
       "Zonoscope by Cu [█████████████████████████████████████████████] 11/11 [00:11<00:01, 1.00s/it]"
      ]
     },
     "metadata": {},
     "output_type": "display_data"
    },
    {
     "data": {
      "text/html": [
       "<div><span class=\"Text-label\" style=\"display:inline-block; overflow:hidden; white-space:nowrap; text-overflow:ellipsis; min-width:15ex; max-width:15ex; vertical-align:middle; text-align:right\">Angels Of Darkness, Demons Of Light 1 by Earth</span>\n",
       "<progress style=\"width:45ex\" max=\"5\" value=\"5\" class=\"Progress-main\"/></progress>\n",
       "<span class=\"Progress-label\"><strong>100%</strong></span>\n",
       "<span class=\"Iteration-label\">5/5</span>\n",
       "<span class=\"Time-label\">[00:04<00:01, 0.80s/it]</span></div>"
      ],
      "text/plain": [
       "\u001b[A\u001b[2K\r",
       "Angels Of Darkn [█████████████████████████████████████████████] 5/5 [00:04<00:01, 0.80s/it]"
      ]
     },
     "metadata": {},
     "output_type": "display_data"
    },
    {
     "data": {
      "text/html": [
       "<div><span class=\"Text-label\" style=\"display:inline-block; overflow:hidden; white-space:nowrap; text-overflow:ellipsis; min-width:15ex; max-width:15ex; vertical-align:middle; text-align:right\">Elephants At The Door by Dumbo Gets Mad</span>\n",
       "<progress style=\"width:45ex\" max=\"10\" value=\"10\" class=\"Progress-main\"/></progress>\n",
       "<span class=\"Progress-label\"><strong>100%</strong></span>\n",
       "<span class=\"Iteration-label\">10/10</span>\n",
       "<span class=\"Time-label\">[00:07<00:01, 0.67s/it]</span></div>"
      ],
      "text/plain": [
       "\u001b[A\u001b[2K\r",
       "Elephants At Th [█████████████████████████████████████████████] 10/10 [00:07<00:01, 0.67s/it]"
      ]
     },
     "metadata": {},
     "output_type": "display_data"
    },
    {
     "data": {
      "text/html": [
       "<div><span class=\"Text-label\" style=\"display:inline-block; overflow:hidden; white-space:nowrap; text-overflow:ellipsis; min-width:15ex; max-width:15ex; vertical-align:middle; text-align:right\">White Wilderness by John Vanderslice</span>\n",
       "<progress style=\"width:45ex\" max=\"9\" value=\"9\" class=\"Progress-main\"/></progress>\n",
       "<span class=\"Progress-label\"><strong>100%</strong></span>\n",
       "<span class=\"Iteration-label\">9/9</span>\n",
       "<span class=\"Time-label\">[00:04<00:01, 0.49s/it]</span></div>"
      ],
      "text/plain": [
       "\u001b[A\u001b[2K\r",
       "White Wildernes [█████████████████████████████████████████████] 9/9 [00:04<00:01, 0.49s/it]"
      ]
     },
     "metadata": {},
     "output_type": "display_data"
    },
    {
     "data": {
      "text/html": [
       "<div><span class=\"Text-label\" style=\"display:inline-block; overflow:hidden; white-space:nowrap; text-overflow:ellipsis; min-width:15ex; max-width:15ex; vertical-align:middle; text-align:right\">Native Speaker by Braids</span>\n",
       "<progress style=\"width:45ex\" max=\"9\" value=\"9\" class=\"Progress-main\"/></progress>\n",
       "<span class=\"Progress-label\"><strong>100%</strong></span>\n",
       "<span class=\"Iteration-label\">9/9</span>\n",
       "<span class=\"Time-label\">[00:07<00:01, 0.76s/it]</span></div>"
      ],
      "text/plain": [
       "\u001b[A\u001b[2K\r",
       "Native Speaker  [█████████████████████████████████████████████] 9/9 [00:07<00:01, 0.76s/it]"
      ]
     },
     "metadata": {},
     "output_type": "display_data"
    },
    {
     "data": {
      "text/html": [
       "<div><span class=\"Text-label\" style=\"display:inline-block; overflow:hidden; white-space:nowrap; text-overflow:ellipsis; min-width:15ex; max-width:15ex; vertical-align:middle; text-align:right\">Kvelertak by Kvelertak</span>\n",
       "<progress style=\"width:45ex\" max=\"17\" value=\"17\" class=\"Progress-main\"/></progress>\n",
       "<span class=\"Progress-label\"><strong>100%</strong></span>\n",
       "<span class=\"Iteration-label\">17/17</span>\n",
       "<span class=\"Time-label\">[00:11<00:01, 0.66s/it]</span></div>"
      ],
      "text/plain": [
       "\u001b[A\u001b[2K\r",
       "Kvelertak by Kv [█████████████████████████████████████████████] 17/17 [00:11<00:01, 0.66s/it]"
      ]
     },
     "metadata": {},
     "output_type": "display_data"
    },
    {
     "data": {
      "text/html": [
       "<div><span class=\"Text-label\" style=\"display:inline-block; overflow:hidden; white-space:nowrap; text-overflow:ellipsis; min-width:15ex; max-width:15ex; vertical-align:middle; text-align:right\">The King Is Dead by The Decemberists</span>\n",
       "<progress style=\"width:45ex\" max=\"10\" value=\"10\" class=\"Progress-main\"/></progress>\n",
       "<span class=\"Progress-label\"><strong>100%</strong></span>\n",
       "<span class=\"Iteration-label\">10/10</span>\n",
       "<span class=\"Time-label\">[00:06<00:01, 0.60s/it]</span></div>"
      ],
      "text/plain": [
       "\u001b[A\u001b[2K\r",
       "The King Is Dea [█████████████████████████████████████████████] 10/10 [00:06<00:01, 0.60s/it]"
      ]
     },
     "metadata": {},
     "output_type": "display_data"
    },
    {
     "data": {
      "text/html": [
       "<div><span class=\"Text-label\" style=\"display:inline-block; overflow:hidden; white-space:nowrap; text-overflow:ellipsis; min-width:15ex; max-width:15ex; vertical-align:middle; text-align:right\">Kaputt by Destroyer</span>\n",
       "<progress style=\"width:45ex\" max=\"9\" value=\"9\" class=\"Progress-main\"/></progress>\n",
       "<span class=\"Progress-label\"><strong>100%</strong></span>\n",
       "<span class=\"Iteration-label\">9/9</span>\n",
       "<span class=\"Time-label\">[00:07<00:01, 0.76s/it]</span></div>"
      ],
      "text/plain": [
       "\u001b[A\u001b[2K\r",
       "Kaputt by Destr [█████████████████████████████████████████████] 9/9 [00:07<00:01, 0.76s/it]"
      ]
     },
     "metadata": {},
     "output_type": "display_data"
    },
    {
     "data": {
      "text/html": [
       "<div><span class=\"Text-label\" style=\"display:inline-block; overflow:hidden; white-space:nowrap; text-overflow:ellipsis; min-width:15ex; max-width:15ex; vertical-align:middle; text-align:right\">Ritual by White Lies</span>\n",
       "<progress style=\"width:45ex\" max=\"10\" value=\"10\" class=\"Progress-main\"/></progress>\n",
       "<span class=\"Progress-label\"><strong>100%</strong></span>\n",
       "<span class=\"Iteration-label\">10/10</span>\n",
       "<span class=\"Time-label\">[00:06<00:01, 0.63s/it]</span></div>"
      ],
      "text/plain": [
       "\u001b[A\u001b[2K\r",
       "Ritual by White [█████████████████████████████████████████████] 10/10 [00:06<00:01, 0.63s/it]"
      ]
     },
     "metadata": {},
     "output_type": "display_data"
    },
    {
     "data": {
      "text/html": [
       "<div><span class=\"Text-label\" style=\"display:inline-block; overflow:hidden; white-space:nowrap; text-overflow:ellipsis; min-width:15ex; max-width:15ex; vertical-align:middle; text-align:right\">Dye It Blonde by Smith Westerns</span>\n",
       "<progress style=\"width:45ex\" max=\"10\" value=\"10\" class=\"Progress-main\"/></progress>\n",
       "<span class=\"Progress-label\"><strong>100%</strong></span>\n",
       "<span class=\"Iteration-label\">10/10</span>\n",
       "<span class=\"Time-label\">[00:07<00:01, 0.66s/it]</span></div>"
      ],
      "text/plain": [
       "\u001b[A\u001b[2K\r",
       "Dye It Blonde b [█████████████████████████████████████████████] 10/10 [00:07<00:01, 0.66s/it]"
      ]
     },
     "metadata": {},
     "output_type": "display_data"
    },
    {
     "data": {
      "text/html": [
       "<div><span class=\"Text-label\" style=\"display:inline-block; overflow:hidden; white-space:nowrap; text-overflow:ellipsis; min-width:15ex; max-width:15ex; vertical-align:middle; text-align:right\">Opus Eponymous by Ghost</span>\n",
       "<progress style=\"width:45ex\" max=\"9\" value=\"9\" class=\"Progress-main\"/></progress>\n",
       "<span class=\"Progress-label\"><strong>100%</strong></span>\n",
       "<span class=\"Iteration-label\">9/9</span>\n",
       "<span class=\"Time-label\">[00:04<00:00, 0.48s/it]</span></div>"
      ],
      "text/plain": [
       "\u001b[A\u001b[2K\r",
       "Opus Eponymous  [█████████████████████████████████████████████] 9/9 [00:04<00:00, 0.48s/it]"
      ]
     },
     "metadata": {},
     "output_type": "display_data"
    },
    {
     "data": {
      "text/html": [
       "<div><span class=\"Text-label\" style=\"display:inline-block; overflow:hidden; white-space:nowrap; text-overflow:ellipsis; min-width:15ex; max-width:15ex; vertical-align:middle; text-align:right\">Thank You Happy Birthday by Cage The Elephant</span>\n",
       "<progress style=\"width:45ex\" max=\"14\" value=\"14\" class=\"Progress-main\"/></progress>\n",
       "<span class=\"Progress-label\"><strong>100%</strong></span>\n",
       "<span class=\"Iteration-label\">14/14</span>\n",
       "<span class=\"Time-label\">[00:09<00:01, 0.61s/it]</span></div>"
      ],
      "text/plain": [
       "\u001b[A\u001b[2K\r",
       "Thank You Happy [█████████████████████████████████████████████] 14/14 [00:09<00:01, 0.61s/it]"
      ]
     },
     "metadata": {},
     "output_type": "display_data"
    },
    {
     "data": {
      "text/html": [
       "<div><span class=\"Text-label\" style=\"display:inline-block; overflow:hidden; white-space:nowrap; text-overflow:ellipsis; min-width:15ex; max-width:15ex; vertical-align:middle; text-align:right\">Valhalla Dancehall by British Sea Power</span>\n",
       "<progress style=\"width:45ex\" max=\"13\" value=\"13\" class=\"Progress-main\"/></progress>\n",
       "<span class=\"Progress-label\"><strong>100%</strong></span>\n",
       "<span class=\"Iteration-label\">13/13</span>\n",
       "<span class=\"Time-label\">[00:09<00:01, 0.66s/it]</span></div>"
      ],
      "text/plain": [
       "\u001b[A\u001b[2K\r",
       "Valhalla Danceh [█████████████████████████████████████████████] 13/13 [00:09<00:01, 0.66s/it]"
      ]
     },
     "metadata": {},
     "output_type": "display_data"
    },
    {
     "data": {
      "text/html": [
       "<div><span class=\"Text-label\" style=\"display:inline-block; overflow:hidden; white-space:nowrap; text-overflow:ellipsis; min-width:15ex; max-width:15ex; vertical-align:middle; text-align:right\">Red Barked Tree by Wire</span>\n",
       "<progress style=\"width:45ex\" max=\"11\" value=\"11\" class=\"Progress-main\"/></progress>\n",
       "<span class=\"Progress-label\"><strong>100%</strong></span>\n",
       "<span class=\"Iteration-label\">11/11</span>\n",
       "<span class=\"Time-label\">[00:07<00:01, 0.65s/it]</span></div>"
      ],
      "text/plain": [
       "\u001b[A\u001b[2K\r",
       "Red Barked Tree [█████████████████████████████████████████████] 11/11 [00:07<00:01, 0.65s/it]"
      ]
     },
     "metadata": {},
     "output_type": "display_data"
    },
    {
     "data": {
      "text/html": [
       "<div><span class=\"Text-label\" style=\"display:inline-block; overflow:hidden; white-space:nowrap; text-overflow:ellipsis; min-width:15ex; max-width:15ex; vertical-align:middle; text-align:right\">Showroom Of Compassion by Cake</span>\n",
       "<progress style=\"width:45ex\" max=\"11\" value=\"11\" class=\"Progress-main\"/></progress>\n",
       "<span class=\"Progress-label\"><strong>100%</strong></span>\n",
       "<span class=\"Iteration-label\">11/11</span>\n",
       "<span class=\"Time-label\">[00:06<00:01, 0.58s/it]</span></div>"
      ],
      "text/plain": [
       "\u001b[A\u001b[2K\r",
       "Showroom Of Com [█████████████████████████████████████████████] 11/11 [00:06<00:01, 0.58s/it]"
      ]
     },
     "metadata": {},
     "output_type": "display_data"
    },
    {
     "data": {
      "text/html": [
       "<div><span class=\"Text-label\" style=\"display:inline-block; overflow:hidden; white-space:nowrap; text-overflow:ellipsis; min-width:15ex; max-width:15ex; vertical-align:middle; text-align:right\">All Pigs Must Die by All Pigs Must Die</span>\n",
       "<progress style=\"width:45ex\" max=\"5\" value=\"5\" class=\"Progress-main\"/></progress>\n",
       "<span class=\"Progress-label\"><strong>100%</strong></span>\n",
       "<span class=\"Iteration-label\">5/5</span>\n",
       "<span class=\"Time-label\">[00:03<00:01, 0.55s/it]</span></div>"
      ],
      "text/plain": [
       "\u001b[A\u001b[2K\r",
       "All Pigs Must D [█████████████████████████████████████████████] 5/5 [00:03<00:01, 0.55s/it]"
      ]
     },
     "metadata": {},
     "output_type": "display_data"
    },
    {
     "data": {
      "text/html": [
       "<div><span class=\"Text-label\" style=\"display:inline-block; overflow:hidden; white-space:nowrap; text-overflow:ellipsis; min-width:15ex; max-width:15ex; vertical-align:middle; text-align:right\">TSOL by Shad</span>\n",
       "<progress style=\"width:45ex\" max=\"13\" value=\"13\" class=\"Progress-main\"/></progress>\n",
       "<span class=\"Progress-label\"><strong>100%</strong></span>\n",
       "<span class=\"Iteration-label\">13/13</span>\n",
       "<span class=\"Time-label\">[00:08<00:00, 0.64s/it]</span></div>"
      ],
      "text/plain": [
       "\u001b[A\u001b[2K\r",
       "   TSOL by Shad [█████████████████████████████████████████████] 13/13 [00:08<00:00, 0.64s/it]"
      ]
     },
     "metadata": {},
     "output_type": "display_data"
    },
    {
     "data": {
      "text/html": [
       "<div><span class=\"Text-label\" style=\"display:inline-block; overflow:hidden; white-space:nowrap; text-overflow:ellipsis; min-width:15ex; max-width:15ex; vertical-align:middle; text-align:right\">The Fall by Gorillaz</span>\n",
       "<progress style=\"width:45ex\" max=\"15\" value=\"15\" class=\"Progress-main\"/></progress>\n",
       "<span class=\"Progress-label\"><strong>100%</strong></span>\n",
       "<span class=\"Iteration-label\">15/15</span>\n",
       "<span class=\"Time-label\">[00:09<00:00, 0.62s/it]</span></div>"
      ],
      "text/plain": [
       "\u001b[A\u001b[2K\r",
       "The Fall by Gor [█████████████████████████████████████████████] 15/15 [00:09<00:00, 0.62s/it]"
      ]
     },
     "metadata": {},
     "output_type": "display_data"
    },
    {
     "data": {
      "text/html": [
       "<div><span class=\"Text-label\" style=\"display:inline-block; overflow:hidden; white-space:nowrap; text-overflow:ellipsis; min-width:15ex; max-width:15ex; vertical-align:middle; text-align:right\">Apollo Kids by Ghostface Killah</span>\n",
       "<progress style=\"width:45ex\" max=\"12\" value=\"12\" class=\"Progress-main\"/></progress>\n",
       "<span class=\"Progress-label\"><strong>100%</strong></span>\n",
       "<span class=\"Iteration-label\">12/12</span>\n",
       "<span class=\"Time-label\">[00:08<00:01, 0.63s/it]</span></div>"
      ],
      "text/plain": [
       "\u001b[A\u001b[2K\r",
       "Apollo Kids by  [█████████████████████████████████████████████] 12/12 [00:08<00:01, 0.63s/it]"
      ]
     },
     "metadata": {},
     "output_type": "display_data"
    },
    {
     "data": {
      "text/html": [
       "<div><span class=\"Text-label\" style=\"display:inline-block; overflow:hidden; white-space:nowrap; text-overflow:ellipsis; min-width:15ex; max-width:15ex; vertical-align:middle; text-align:right\">Rising Sun by The Souljazz Orchestra</span>\n",
       "<progress style=\"width:45ex\" max=\"9\" value=\"9\" class=\"Progress-main\"/></progress>\n",
       "<span class=\"Progress-label\"><strong>100%</strong></span>\n",
       "<span class=\"Iteration-label\">9/9</span>\n",
       "<span class=\"Time-label\">[00:06<00:01, 0.64s/it]</span></div>"
      ],
      "text/plain": [
       "\u001b[A\u001b[2K\r",
       "Rising Sun by T [█████████████████████████████████████████████] 9/9 [00:06<00:01, 0.64s/it]"
      ]
     },
     "metadata": {},
     "output_type": "display_data"
    },
    {
     "data": {
      "text/html": [
       "<div><span class=\"Text-label\" style=\"display:inline-block; overflow:hidden; white-space:nowrap; text-overflow:ellipsis; min-width:15ex; max-width:15ex; vertical-align:middle; text-align:right\">Senior by Röyksopp</span>\n",
       "<progress style=\"width:45ex\" max=\"10\" value=\"10\" class=\"Progress-main\"/></progress>\n",
       "<span class=\"Progress-label\"><strong>100%</strong></span>\n",
       "<span class=\"Iteration-label\">10/10</span>\n",
       "<span class=\"Time-label\">[00:07<00:01, 0.74s/it]</span></div>"
      ],
      "text/plain": [
       "\u001b[A\u001b[2K\r",
       "Senior by Röyks [█████████████████████████████████████████████] 10/10 [00:07<00:01, 0.74s/it]"
      ]
     },
     "metadata": {},
     "output_type": "display_data"
    },
    {
     "data": {
      "text/html": [
       "<div><span class=\"Text-label\" style=\"display:inline-block; overflow:hidden; white-space:nowrap; text-overflow:ellipsis; min-width:15ex; max-width:15ex; vertical-align:middle; text-align:right\">Anika by Anika</span>\n",
       "<progress style=\"width:45ex\" max=\"14\" value=\"14\" class=\"Progress-main\"/></progress>\n",
       "<span class=\"Progress-label\"><strong>100%</strong></span>\n",
       "<span class=\"Iteration-label\">14/14</span>\n",
       "<span class=\"Time-label\">[00:08<00:00, 0.55s/it]</span></div>"
      ],
      "text/plain": [
       "\u001b[A\u001b[2K\r",
       " Anika by Anika [█████████████████████████████████████████████] 14/14 [00:08<00:00, 0.55s/it]"
      ]
     },
     "metadata": {},
     "output_type": "display_data"
    },
    {
     "data": {
      "text/html": [
       "<div><span class=\"Text-label\" style=\"display:inline-block; overflow:hidden; white-space:nowrap; text-overflow:ellipsis; min-width:15ex; max-width:15ex; vertical-align:middle; text-align:right\">I'm Shithead by Thanks, Computer!</span>\n",
       "<progress style=\"width:45ex\" max=\"1\" value=\"1\" class=\"Progress-main\"/></progress>\n",
       "<span class=\"Progress-label\"><strong>100%</strong></span>\n",
       "<span class=\"Iteration-label\">1/1</span>\n",
       "<span class=\"Time-label\">[00:01<00:01, 0.52s/it]</span></div>"
      ],
      "text/plain": [
       "\u001b[A\u001b[2K\r",
       "I'm Shithead by [█████████████████████████████████████████████] 1/1 [00:01<00:01, 0.52s/it]"
      ]
     },
     "metadata": {},
     "output_type": "display_data"
    },
    {
     "data": {
      "text/html": [
       "<div><span class=\"Text-label\" style=\"display:inline-block; overflow:hidden; white-space:nowrap; text-overflow:ellipsis; min-width:15ex; max-width:15ex; vertical-align:middle; text-align:right\">Scary Monsters and Nice Sprites EP by Skrillex</span>\n",
       "<progress style=\"width:45ex\" max=\"9\" value=\"9\" class=\"Progress-main\"/></progress>\n",
       "<span class=\"Progress-label\"><strong>100%</strong></span>\n",
       "<span class=\"Iteration-label\">9/9</span>\n",
       "<span class=\"Time-label\">[00:06<00:01, 0.66s/it]</span></div>"
      ],
      "text/plain": [
       "\u001b[A\u001b[2K\r",
       "Scary Monsters  [█████████████████████████████████████████████] 9/9 [00:06<00:01, 0.66s/it]"
      ]
     },
     "metadata": {},
     "output_type": "display_data"
    },
    {
     "data": {
      "text/html": [
       "<div><span class=\"Text-label\" style=\"display:inline-block; overflow:hidden; white-space:nowrap; text-overflow:ellipsis; min-width:15ex; max-width:15ex; vertical-align:middle; text-align:right\">First Four EPs by OFF!</span>\n",
       "<progress style=\"width:45ex\" max=\"16\" value=\"16\" class=\"Progress-main\"/></progress>\n",
       "<span class=\"Progress-label\"><strong>100%</strong></span>\n",
       "<span class=\"Iteration-label\">16/16</span>\n",
       "<span class=\"Time-label\">[00:07<00:00, 0.46s/it]</span></div>"
      ],
      "text/plain": [
       "\u001b[A\u001b[2K\r",
       "First Four EPs  [█████████████████████████████████████████████] 16/16 [00:07<00:00, 0.46s/it]"
      ]
     },
     "metadata": {},
     "output_type": "display_data"
    },
    {
     "data": {
      "text/html": [
       "<div><span class=\"Text-label\" style=\"display:inline-block; overflow:hidden; white-space:nowrap; text-overflow:ellipsis; min-width:15ex; max-width:15ex; vertical-align:middle; text-align:right\">Pyramid of the Sun (Bonus Track Version) by Maserati</span>\n",
       "<progress style=\"width:45ex\" max=\"10\" value=\"10\" class=\"Progress-main\"/></progress>\n",
       "<span class=\"Progress-label\"><strong>100%</strong></span>\n",
       "<span class=\"Iteration-label\">10/10</span>\n",
       "<span class=\"Time-label\">[00:07<00:01, 0.70s/it]</span></div>"
      ],
      "text/plain": [
       "\u001b[A\u001b[2K\r",
       "Pyramid of the  [█████████████████████████████████████████████] 10/10 [00:07<00:01, 0.70s/it]"
      ]
     },
     "metadata": {},
     "output_type": "display_data"
    },
    {
     "data": {
      "text/html": [
       "<div><span class=\"Text-label\" style=\"display:inline-block; overflow:hidden; white-space:nowrap; text-overflow:ellipsis; min-width:15ex; max-width:15ex; vertical-align:middle; text-align:right\">Ring by Glasser</span>\n",
       "<progress style=\"width:45ex\" max=\"9\" value=\"9\" class=\"Progress-main\"/></progress>\n",
       "<span class=\"Progress-label\"><strong>100%</strong></span>\n",
       "<span class=\"Iteration-label\">9/9</span>\n",
       "<span class=\"Time-label\">[00:08<00:01, 0.91s/it]</span></div>"
      ],
      "text/plain": [
       "\u001b[A\u001b[2K\r",
       "Ring by Glasser [█████████████████████████████████████████████] 9/9 [00:08<00:01, 0.91s/it]"
      ]
     },
     "metadata": {},
     "output_type": "display_data"
    },
    {
     "data": {
      "text/html": [
       "<div><span class=\"Text-label\" style=\"display:inline-block; overflow:hidden; white-space:nowrap; text-overflow:ellipsis; min-width:15ex; max-width:15ex; vertical-align:middle; text-align:right\">Broken Dreams Club by Girls</span>\n",
       "<progress style=\"width:45ex\" max=\"6\" value=\"6\" class=\"Progress-main\"/></progress>\n",
       "<span class=\"Progress-label\"><strong>100%</strong></span>\n",
       "<span class=\"Iteration-label\">6/6</span>\n",
       "<span class=\"Time-label\">[00:04<00:01, 0.72s/it]</span></div>"
      ],
      "text/plain": [
       "\u001b[A\u001b[2K\r",
       "Broken Dreams C [█████████████████████████████████████████████] 6/6 [00:04<00:01, 0.72s/it]"
      ]
     },
     "metadata": {},
     "output_type": "display_data"
    },
    {
     "data": {
      "text/html": [
       "<div><span class=\"Text-label\" style=\"display:inline-block; overflow:hidden; white-space:nowrap; text-overflow:ellipsis; min-width:15ex; max-width:15ex; vertical-align:middle; text-align:right\">Marrow of the Spirit by Agalloch</span>\n",
       "<progress style=\"width:45ex\" max=\"6\" value=\"6\" class=\"Progress-main\"/></progress>\n",
       "<span class=\"Progress-label\"><strong>100%</strong></span>\n",
       "<span class=\"Iteration-label\">6/6</span>\n",
       "<span class=\"Time-label\">[00:06<00:01, 0.98s/it]</span></div>"
      ],
      "text/plain": [
       "\u001b[A\u001b[2K\r",
       "Marrow of the S [█████████████████████████████████████████████] 6/6 [00:06<00:01, 0.98s/it]"
      ]
     },
     "metadata": {},
     "output_type": "display_data"
    },
    {
     "data": {
      "text/html": [
       "<div><span class=\"Text-label\" style=\"display:inline-block; overflow:hidden; white-space:nowrap; text-overflow:ellipsis; min-width:15ex; max-width:15ex; vertical-align:middle; text-align:right\">My Beautiful Dark Twisted Fantasy by Kanye West</span>\n",
       "<progress style=\"width:45ex\" max=\"13\" value=\"13\" class=\"Progress-main\"/></progress>\n",
       "<span class=\"Progress-label\"><strong>100%</strong></span>\n",
       "<span class=\"Iteration-label\">13/13</span>\n",
       "<span class=\"Time-label\">[00:11<00:01, 0.87s/it]</span></div>"
      ],
      "text/plain": [
       "\u001b[A\u001b[2K\r",
       "My Beautiful Da [█████████████████████████████████████████████] 13/13 [00:11<00:01, 0.87s/it]"
      ]
     },
     "metadata": {},
     "output_type": "display_data"
    },
    {
     "data": {
      "text/html": [
       "<div><span class=\"Text-label\" style=\"display:inline-block; overflow:hidden; white-space:nowrap; text-overflow:ellipsis; min-width:15ex; max-width:15ex; vertical-align:middle; text-align:right\">Ardour by Teebs</span>\n",
       "<progress style=\"width:45ex\" max=\"18\" value=\"18\" class=\"Progress-main\"/></progress>\n",
       "<span class=\"Progress-label\"><strong>100%</strong></span>\n",
       "<span class=\"Iteration-label\">18/18</span>\n",
       "<span class=\"Time-label\">[00:20<00:00, 1.13s/it]</span></div>"
      ],
      "text/plain": [
       "\u001b[A\u001b[2K\r",
       "Ardour by Teebs [█████████████████████████████████████████████] 18/18 [00:20<00:00, 1.13s/it]"
      ]
     },
     "metadata": {},
     "output_type": "display_data"
    },
    {
     "data": {
      "text/html": [
       "<div><span class=\"Text-label\" style=\"display:inline-block; overflow:hidden; white-space:nowrap; text-overflow:ellipsis; min-width:15ex; max-width:15ex; vertical-align:middle; text-align:right\">Sports by Weekend</span>\n",
       "<progress style=\"width:45ex\" max=\"10\" value=\"10\" class=\"Progress-main\"/></progress>\n",
       "<span class=\"Progress-label\"><strong>100%</strong></span>\n",
       "<span class=\"Iteration-label\">10/10</span>\n",
       "<span class=\"Time-label\">[00:08<00:01, 0.82s/it]</span></div>"
      ],
      "text/plain": [
       "\u001b[A\u001b[2K\r",
       "Sports by Weeke [█████████████████████████████████████████████] 10/10 [00:08<00:01, 0.82s/it]"
      ]
     },
     "metadata": {},
     "output_type": "display_data"
    },
    {
     "data": {
      "text/html": [
       "<div><span class=\"Text-label\" style=\"display:inline-block; overflow:hidden; white-space:nowrap; text-overflow:ellipsis; min-width:15ex; max-width:15ex; vertical-align:middle; text-align:right\">The Lady Killer by CeeLo Green</span>\n",
       "<progress style=\"width:45ex\" max=\"14\" value=\"14\" class=\"Progress-main\"/></progress>\n",
       "<span class=\"Progress-label\"><strong>100%</strong></span>\n",
       "<span class=\"Iteration-label\">14/14</span>\n",
       "<span class=\"Time-label\">[00:08<00:00, 0.60s/it]</span></div>"
      ],
      "text/plain": [
       "\u001b[A\u001b[2K\r",
       "The Lady Killer [█████████████████████████████████████████████] 14/14 [00:08<00:00, 0.60s/it]"
      ]
     },
     "metadata": {},
     "output_type": "display_data"
    },
    {
     "data": {
      "text/html": [
       "<div><span class=\"Text-label\" style=\"display:inline-block; overflow:hidden; white-space:nowrap; text-overflow:ellipsis; min-width:15ex; max-width:15ex; vertical-align:middle; text-align:right\">Sidewalks by Matt and Kim</span>\n",
       "<progress style=\"width:45ex\" max=\"10\" value=\"10\" class=\"Progress-main\"/></progress>\n",
       "<span class=\"Progress-label\"><strong>100%</strong></span>\n",
       "<span class=\"Iteration-label\">10/10</span>\n",
       "<span class=\"Time-label\">[00:06<00:01, 0.63s/it]</span></div>"
      ],
      "text/plain": [
       "\u001b[A\u001b[2K\r",
       "Sidewalks by Ma [█████████████████████████████████████████████] 10/10 [00:06<00:01, 0.63s/it]"
      ]
     },
     "metadata": {},
     "output_type": "display_data"
    },
    {
     "data": {
      "text/html": [
       "<div><span class=\"Text-label\" style=\"display:inline-block; overflow:hidden; white-space:nowrap; text-overflow:ellipsis; min-width:15ex; max-width:15ex; vertical-align:middle; text-align:right\">Lucky Shiner by Gold Panda</span>\n",
       "<progress style=\"width:45ex\" max=\"13\" value=\"13\" class=\"Progress-main\"/></progress>\n",
       "<span class=\"Progress-label\"><strong>100%</strong></span>\n",
       "<span class=\"Iteration-label\">13/13</span>\n",
       "<span class=\"Time-label\">[00:11<00:02, 0.86s/it]</span></div>"
      ],
      "text/plain": [
       "\u001b[A\u001b[2K\r",
       "Lucky Shiner by [█████████████████████████████████████████████] 13/13 [00:11<00:02, 0.86s/it]"
      ]
     },
     "metadata": {},
     "output_type": "display_data"
    },
    {
     "data": {
      "text/html": [
       "<div><span class=\"Text-label\" style=\"display:inline-block; overflow:hidden; white-space:nowrap; text-overflow:ellipsis; min-width:15ex; max-width:15ex; vertical-align:middle; text-align:right\">Man On The Moon II: The Legend Of Mr. Rager by Kid Cudi</span>\n",
       "<progress style=\"width:45ex\" max=\"17\" value=\"17\" class=\"Progress-main\"/></progress>\n",
       "<span class=\"Progress-label\"><strong>100%</strong></span>\n",
       "<span class=\"Iteration-label\">17/17</span>\n",
       "<span class=\"Time-label\">[00:11<00:01, 0.65s/it]</span></div>"
      ],
      "text/plain": [
       "\u001b[A\u001b[2K\r",
       "Man On The Moon [█████████████████████████████████████████████] 17/17 [00:11<00:01, 0.65s/it]"
      ]
     },
     "metadata": {},
     "output_type": "display_data"
    },
    {
     "data": {
      "text/html": [
       "<div><span class=\"Text-label\" style=\"display:inline-block; overflow:hidden; white-space:nowrap; text-overflow:ellipsis; min-width:15ex; max-width:15ex; vertical-align:middle; text-align:right\">Shut Up, Dude by Das Racist</span>\n",
       "<progress style=\"width:45ex\" max=\"18\" value=\"18\" class=\"Progress-main\"/></progress>\n",
       "<span class=\"Progress-label\"><strong>100%</strong></span>\n",
       "<span class=\"Iteration-label\">18/18</span>\n",
       "<span class=\"Time-label\">[00:10<00:01, 0.58s/it]</span></div>"
      ],
      "text/plain": [
       "\u001b[A\u001b[2K\r",
       "Shut Up, Dude b [█████████████████████████████████████████████] 18/18 [00:10<00:01, 0.58s/it]"
      ]
     },
     "metadata": {},
     "output_type": "display_data"
    },
    {
     "data": {
      "text/html": [
       "<div><span class=\"Text-label\" style=\"display:inline-block; overflow:hidden; white-space:nowrap; text-overflow:ellipsis; min-width:15ex; max-width:15ex; vertical-align:middle; text-align:right\">Small Craft On A Milk Sea by Brian Eno</span>\n",
       "<progress style=\"width:45ex\" max=\"15\" value=\"15\" class=\"Progress-main\"/></progress>\n",
       "<span class=\"Progress-label\"><strong>100%</strong></span>\n",
       "<span class=\"Iteration-label\">15/15</span>\n",
       "<span class=\"Time-label\">[00:10<00:01, 0.68s/it]</span></div>"
      ],
      "text/plain": [
       "\u001b[A\u001b[2K\r",
       "Small Craft On  [█████████████████████████████████████████████] 15/15 [00:10<00:01, 0.68s/it]"
      ]
     },
     "metadata": {},
     "output_type": "display_data"
    },
    {
     "data": {
      "text/html": [
       "<div><span class=\"Text-label\" style=\"display:inline-block; overflow:hidden; white-space:nowrap; text-overflow:ellipsis; min-width:15ex; max-width:15ex; vertical-align:middle; text-align:right\">Black Masses by Electric Wizard</span>\n",
       "<progress style=\"width:45ex\" max=\"8\" value=\"8\" class=\"Progress-main\"/></progress>\n",
       "<span class=\"Progress-label\"><strong>100%</strong></span>\n",
       "<span class=\"Iteration-label\">8/8</span>\n",
       "<span class=\"Time-label\">[00:07<00:02, 0.81s/it]</span></div>"
      ],
      "text/plain": [
       "\u001b[A\u001b[2K\r",
       "Black Masses by [█████████████████████████████████████████████] 8/8 [00:07<00:02, 0.81s/it]"
      ]
     },
     "metadata": {},
     "output_type": "display_data"
    },
    {
     "data": {
      "text/html": [
       "<div><span class=\"Text-label\" style=\"display:inline-block; overflow:hidden; white-space:nowrap; text-overflow:ellipsis; min-width:15ex; max-width:15ex; vertical-align:middle; text-align:right\">Love Remains by How To Dress Well</span>\n",
       "<progress style=\"width:45ex\" max=\"14\" value=\"14\" class=\"Progress-main\"/></progress>\n",
       "<span class=\"Progress-label\"><strong>100%</strong></span>\n",
       "<span class=\"Iteration-label\">14/14</span>\n",
       "<span class=\"Time-label\">[00:09<00:01, 0.65s/it]</span></div>"
      ],
      "text/plain": [
       "\u001b[A\u001b[2K\r",
       "Love Remains by [█████████████████████████████████████████████] 14/14 [00:09<00:01, 0.65s/it]"
      ]
     },
     "metadata": {},
     "output_type": "display_data"
    },
    {
     "data": {
      "text/html": [
       "<div><span class=\"Text-label\" style=\"display:inline-block; overflow:hidden; white-space:nowrap; text-overflow:ellipsis; min-width:15ex; max-width:15ex; vertical-align:middle; text-align:right\">Satan Worshipping Doom (Remastered) by Bongripper</span>\n",
       "<progress style=\"width:45ex\" max=\"4\" value=\"4\" class=\"Progress-main\"/></progress>\n",
       "<span class=\"Progress-label\"><strong>100%</strong></span>\n",
       "<span class=\"Iteration-label\">4/4</span>\n",
       "<span class=\"Time-label\">[00:04<00:01, 1.11s/it]</span></div>"
      ],
      "text/plain": [
       "\u001b[A\u001b[2K\r",
       "Satan Worshippi [█████████████████████████████████████████████] 4/4 [00:04<00:01, 1.11s/it]"
      ]
     },
     "metadata": {},
     "output_type": "display_data"
    },
    {
     "data": {
      "text/html": [
       "<div><span class=\"Text-label\" style=\"display:inline-block; overflow:hidden; white-space:nowrap; text-overflow:ellipsis; min-width:15ex; max-width:15ex; vertical-align:middle; text-align:right\">Shobaleader One: d'Demonstrator by Squarepusher</span>\n",
       "<progress style=\"width:45ex\" max=\"9\" value=\"9\" class=\"Progress-main\"/></progress>\n",
       "<span class=\"Progress-label\"><strong>100%</strong></span>\n",
       "<span class=\"Iteration-label\">9/9</span>\n",
       "<span class=\"Time-label\">[00:07<00:01, 0.81s/it]</span></div>"
      ],
      "text/plain": [
       "\u001b[A\u001b[2K\r",
       "Shobaleader One [█████████████████████████████████████████████] 9/9 [00:07<00:01, 0.81s/it]"
      ]
     },
     "metadata": {},
     "output_type": "display_data"
    },
    {
     "data": {
      "text/html": [
       "<div><span class=\"Text-label\" style=\"display:inline-block; overflow:hidden; white-space:nowrap; text-overflow:ellipsis; min-width:15ex; max-width:15ex; vertical-align:middle; text-align:right\">Special Affections by Diamond Rings</span>\n",
       "<progress style=\"width:45ex\" max=\"10\" value=\"10\" class=\"Progress-main\"/></progress>\n",
       "<span class=\"Progress-label\"><strong>100%</strong></span>\n",
       "<span class=\"Iteration-label\">10/10</span>\n",
       "<span class=\"Time-label\">[00:06<00:01, 0.65s/it]</span></div>"
      ],
      "text/plain": [
       "\u001b[A\u001b[2K\r",
       "Special Affecti [█████████████████████████████████████████████] 10/10 [00:06<00:01, 0.65s/it]"
      ]
     },
     "metadata": {},
     "output_type": "display_data"
    },
    {
     "data": {
      "text/html": [
       "<div><span class=\"Text-label\" style=\"display:inline-block; overflow:hidden; white-space:nowrap; text-overflow:ellipsis; min-width:15ex; max-width:15ex; vertical-align:middle; text-align:right\">The Fool by Warpaint</span>\n",
       "<progress style=\"width:45ex\" max=\"9\" value=\"9\" class=\"Progress-main\"/></progress>\n",
       "<span class=\"Progress-label\"><strong>100%</strong></span>\n",
       "<span class=\"Iteration-label\">9/9</span>\n",
       "<span class=\"Time-label\">[00:07<00:00, 0.78s/it]</span></div>"
      ],
      "text/plain": [
       "\u001b[A\u001b[2K\r",
       "The Fool by War [█████████████████████████████████████████████] 9/9 [00:07<00:00, 0.78s/it]"
      ]
     },
     "metadata": {},
     "output_type": "display_data"
    },
    {
     "data": {
      "text/html": [
       "<div><span class=\"Text-label\" style=\"display:inline-block; overflow:hidden; white-space:nowrap; text-overflow:ellipsis; min-width:15ex; max-width:15ex; vertical-align:middle; text-align:right\">Black City by Matthew Dear</span>\n",
       "<progress style=\"width:45ex\" max=\"11\" value=\"11\" class=\"Progress-main\"/></progress>\n",
       "<span class=\"Progress-label\"><strong>100%</strong></span>\n",
       "<span class=\"Iteration-label\">11/11</span>\n",
       "<span class=\"Time-label\">[00:07<00:01, 0.66s/it]</span></div>"
      ],
      "text/plain": [
       "\u001b[A\u001b[2K\r",
       "Black City by M [█████████████████████████████████████████████] 11/11 [00:07<00:01, 0.66s/it]"
      ]
     },
     "metadata": {},
     "output_type": "display_data"
    },
    {
     "data": {
      "text/html": [
       "<div><span class=\"Text-label\" style=\"display:inline-block; overflow:hidden; white-space:nowrap; text-overflow:ellipsis; min-width:15ex; max-width:15ex; vertical-align:middle; text-align:right\">FACE TAT by Zach Hill</span>\n",
       "<progress style=\"width:45ex\" max=\"13\" value=\"13\" class=\"Progress-main\"/></progress>\n",
       "<span class=\"Progress-label\"><strong>100%</strong></span>\n",
       "<span class=\"Iteration-label\">13/13</span>\n",
       "<span class=\"Time-label\">[00:09<00:00, 0.67s/it]</span></div>"
      ],
      "text/plain": [
       "\u001b[A\u001b[2K\r",
       "FACE TAT by Zac [█████████████████████████████████████████████] 13/13 [00:09<00:00, 0.67s/it]"
      ]
     },
     "metadata": {},
     "output_type": "display_data"
    },
    {
     "data": {
      "text/html": [
       "<div><span class=\"Text-label\" style=\"display:inline-block; overflow:hidden; white-space:nowrap; text-overflow:ellipsis; min-width:15ex; max-width:15ex; vertical-align:middle; text-align:right\">Come Around Sundown (Expanded Edition) by Kings of Leon</span>\n",
       "<progress style=\"width:45ex\" max=\"16\" value=\"16\" class=\"Progress-main\"/></progress>\n",
       "<span class=\"Progress-label\"><strong>100%</strong></span>\n",
       "<span class=\"Iteration-label\">16/16</span>\n",
       "<span class=\"Time-label\">[00:10<00:01, 0.61s/it]</span></div>"
      ],
      "text/plain": [
       "\u001b[A\u001b[2K\r",
       "Come Around Sun [█████████████████████████████████████████████] 16/16 [00:10<00:01, 0.61s/it]"
      ]
     },
     "metadata": {},
     "output_type": "display_data"
    },
    {
     "data": {
      "text/html": [
       "<div><span class=\"Text-label\" style=\"display:inline-block; overflow:hidden; white-space:nowrap; text-overflow:ellipsis; min-width:15ex; max-width:15ex; vertical-align:middle; text-align:right\">Death Gate by The Gaslamp Killer</span>\n",
       "<progress style=\"width:45ex\" max=\"5\" value=\"5\" class=\"Progress-main\"/></progress>\n",
       "<span class=\"Progress-label\"><strong>100%</strong></span>\n",
       "<span class=\"Iteration-label\">5/5</span>\n",
       "<span class=\"Time-label\">[00:03<00:00, 0.59s/it]</span></div>"
      ],
      "text/plain": [
       "\u001b[A\u001b[2K\r",
       "Death Gate by T [█████████████████████████████████████████████] 5/5 [00:03<00:00, 0.59s/it]"
      ]
     },
     "metadata": {},
     "output_type": "display_data"
    },
    {
     "data": {
      "text/html": [
       "<div><span class=\"Text-label\" style=\"display:inline-block; overflow:hidden; white-space:nowrap; text-overflow:ellipsis; min-width:15ex; max-width:15ex; vertical-align:middle; text-align:right\">Down There by Avey Tare</span>\n",
       "<progress style=\"width:45ex\" max=\"9\" value=\"9\" class=\"Progress-main\"/></progress>\n",
       "<span class=\"Progress-label\"><strong>100%</strong></span>\n",
       "<span class=\"Iteration-label\">9/9</span>\n",
       "<span class=\"Time-label\">[00:05<00:01, 0.59s/it]</span></div>"
      ],
      "text/plain": [
       "\u001b[A\u001b[2K\r",
       "Down There by A [█████████████████████████████████████████████] 9/9 [00:05<00:01, 0.59s/it]"
      ]
     },
     "metadata": {},
     "output_type": "display_data"
    },
    {
     "data": {
      "text/html": [
       "<div><span class=\"Text-label\" style=\"display:inline-block; overflow:hidden; white-space:nowrap; text-overflow:ellipsis; min-width:15ex; max-width:15ex; vertical-align:middle; text-align:right\">Epic by Sharon Van Etten</span>\n",
       "<progress style=\"width:45ex\" max=\"7\" value=\"7\" class=\"Progress-main\"/></progress>\n",
       "<span class=\"Progress-label\"><strong>100%</strong></span>\n",
       "<span class=\"Iteration-label\">7/7</span>\n",
       "<span class=\"Time-label\">[00:04<00:01, 0.57s/it]</span></div>"
      ],
      "text/plain": [
       "\u001b[A\u001b[2K\r",
       "Epic by Sharon  [█████████████████████████████████████████████] 7/7 [00:04<00:01, 0.57s/it]"
      ]
     },
     "metadata": {},
     "output_type": "display_data"
    },
    {
     "data": {
      "text/html": [
       "<div><span class=\"Text-label\" style=\"display:inline-block; overflow:hidden; white-space:nowrap; text-overflow:ellipsis; min-width:15ex; max-width:15ex; vertical-align:middle; text-align:right\">Holkham Drones by Luke Abbott</span>\n",
       "<progress style=\"width:45ex\" max=\"12\" value=\"12\" class=\"Progress-main\"/></progress>\n",
       "<span class=\"Progress-label\"><strong>100%</strong></span>\n",
       "<span class=\"Iteration-label\">12/12</span>\n",
       "<span class=\"Time-label\">[00:09<00:00, 0.71s/it]</span></div>"
      ],
      "text/plain": [
       "\u001b[A\u001b[2K\r",
       "Holkham Drones  [█████████████████████████████████████████████] 12/12 [00:09<00:00, 0.71s/it]"
      ]
     },
     "metadata": {},
     "output_type": "display_data"
    },
    {
     "data": {
      "text/html": [
       "<div><span class=\"Text-label\" style=\"display:inline-block; overflow:hidden; white-space:nowrap; text-overflow:ellipsis; min-width:15ex; max-width:15ex; vertical-align:middle; text-align:right\">Play It Strange by The Fresh & Onlys</span>\n",
       "<progress style=\"width:45ex\" max=\"11\" value=\"11\" class=\"Progress-main\"/></progress>\n",
       "<span class=\"Progress-label\"><strong>100%</strong></span>\n",
       "<span class=\"Iteration-label\">11/11</span>\n",
       "<span class=\"Time-label\">[00:06<00:00, 0.55s/it]</span></div>"
      ],
      "text/plain": [
       "\u001b[A\u001b[2K\r",
       "Play It Strange [█████████████████████████████████████████████] 11/11 [00:06<00:00, 0.55s/it]"
      ]
     },
     "metadata": {},
     "output_type": "display_data"
    },
    {
     "data": {
      "text/html": [
       "<div><span class=\"Text-label\" style=\"display:inline-block; overflow:hidden; white-space:nowrap; text-overflow:ellipsis; min-width:15ex; max-width:15ex; vertical-align:middle; text-align:right\">Write About Love by Belle & Sebastian</span>\n",
       "<progress style=\"width:45ex\" max=\"11\" value=\"11\" class=\"Progress-main\"/></progress>\n",
       "<span class=\"Progress-label\"><strong>100%</strong></span>\n",
       "<span class=\"Iteration-label\">11/11</span>\n",
       "<span class=\"Time-label\">[00:09<00:01, 0.78s/it]</span></div>"
      ],
      "text/plain": [
       "\u001b[A\u001b[2K\r",
       "Write About Lov [█████████████████████████████████████████████] 11/11 [00:09<00:01, 0.78s/it]"
      ]
     },
     "metadata": {},
     "output_type": "display_data"
    },
    {
     "data": {
      "text/html": [
       "<div><span class=\"Text-label\" style=\"display:inline-block; overflow:hidden; white-space:nowrap; text-overflow:ellipsis; min-width:15ex; max-width:15ex; vertical-align:middle; text-align:right\">The Age of Adz by Sufjan Stevens</span>\n",
       "<progress style=\"width:45ex\" max=\"11\" value=\"11\" class=\"Progress-main\"/></progress>\n",
       "<span class=\"Progress-label\"><strong>100%</strong></span>\n",
       "<span class=\"Iteration-label\">11/11</span>\n",
       "<span class=\"Time-label\">[00:11<00:03, 1.01s/it]</span></div>"
      ],
      "text/plain": [
       "\u001b[A\u001b[2K\r",
       "The Age of Adz  [█████████████████████████████████████████████] 11/11 [00:11<00:03, 1.01s/it]"
      ]
     },
     "metadata": {},
     "output_type": "display_data"
    },
    {
     "data": {
      "text/html": [
       "<div><span class=\"Text-label\" style=\"display:inline-block; overflow:hidden; white-space:nowrap; text-overflow:ellipsis; min-width:15ex; max-width:15ex; vertical-align:middle; text-align:right\">Record Collection by Mark Ronson</span>\n",
       "<progress style=\"width:45ex\" max=\"14\" value=\"14\" class=\"Progress-main\"/></progress>\n",
       "<span class=\"Progress-label\"><strong>100%</strong></span>\n",
       "<span class=\"Iteration-label\">14/14</span>\n",
       "<span class=\"Time-label\">[00:09<00:00, 0.63s/it]</span></div>"
      ],
      "text/plain": [
       "\u001b[A\u001b[2K\r",
       "Record Collecti [█████████████████████████████████████████████] 14/14 [00:09<00:00, 0.63s/it]"
      ]
     },
     "metadata": {},
     "output_type": "display_data"
    },
    {
     "data": {
      "text/html": [
       "<div><span class=\"Text-label\" style=\"display:inline-block; overflow:hidden; white-space:nowrap; text-overflow:ellipsis; min-width:15ex; max-width:15ex; vertical-align:middle; text-align:right\">Forget by Twin Shadow</span>\n",
       "<progress style=\"width:45ex\" max=\"11\" value=\"11\" class=\"Progress-main\"/></progress>\n",
       "<span class=\"Progress-label\"><strong>100%</strong></span>\n",
       "<span class=\"Iteration-label\">11/11</span>\n",
       "<span class=\"Time-label\">[00:07<00:01, 0.66s/it]</span></div>"
      ],
      "text/plain": [
       "\u001b[A\u001b[2K\r",
       "Forget by Twin  [█████████████████████████████████████████████] 11/11 [00:07<00:01, 0.66s/it]"
      ]
     },
     "metadata": {},
     "output_type": "display_data"
    },
    {
     "data": {
      "text/html": [
       "<div><span class=\"Text-label\" style=\"display:inline-block; overflow:hidden; white-space:nowrap; text-overflow:ellipsis; min-width:15ex; max-width:15ex; vertical-align:middle; text-align:right\">Crush by Abe Vigoda</span>\n",
       "<progress style=\"width:45ex\" max=\"10\" value=\"10\" class=\"Progress-main\"/></progress>\n",
       "<span class=\"Progress-label\"><strong>100%</strong></span>\n",
       "<span class=\"Iteration-label\">10/10</span>\n",
       "<span class=\"Time-label\">[00:07<00:01, 0.66s/it]</span></div>"
      ],
      "text/plain": [
       "\u001b[A\u001b[2K\r",
       "Crush by Abe Vi [█████████████████████████████████████████████] 10/10 [00:07<00:01, 0.66s/it]"
      ]
     },
     "metadata": {},
     "output_type": "display_data"
    },
    {
     "data": {
      "text/html": [
       "<div><span class=\"Text-label\" style=\"display:inline-block; overflow:hidden; white-space:nowrap; text-overflow:ellipsis; min-width:15ex; max-width:15ex; vertical-align:middle; text-align:right\">Sometimes The Blues Is Just A Passing Bird by The Tallest Man On Earth</span>\n",
       "<progress style=\"width:45ex\" max=\"5\" value=\"5\" class=\"Progress-main\"/></progress>\n",
       "<span class=\"Progress-label\"><strong>100%</strong></span>\n",
       "<span class=\"Iteration-label\">5/5</span>\n",
       "<span class=\"Time-label\">[00:03<00:01, 0.55s/it]</span></div>"
      ],
      "text/plain": [
       "\u001b[A\u001b[2K\r",
       "Sometimes The B [█████████████████████████████████████████████] 5/5 [00:03<00:01, 0.55s/it]"
      ]
     },
     "metadata": {},
     "output_type": "display_data"
    },
    {
     "data": {
      "text/html": [
       "<div><span class=\"Text-label\" style=\"display:inline-block; overflow:hidden; white-space:nowrap; text-overflow:ellipsis; min-width:15ex; max-width:15ex; vertical-align:middle; text-align:right\">King Night (Amazon Exclusive Version) by SALEM</span>\n",
       "<progress style=\"width:45ex\" max=\"12\" value=\"12\" class=\"Progress-main\"/></progress>\n",
       "<span class=\"Progress-label\"><strong>100%</strong></span>\n",
       "<span class=\"Iteration-label\">12/12</span>\n",
       "<span class=\"Time-label\">[00:07<00:00, 0.61s/it]</span></div>"
      ],
      "text/plain": [
       "\u001b[A\u001b[2K\r",
       "King Night (Ama [█████████████████████████████████████████████] 12/12 [00:07<00:00, 0.61s/it]"
      ]
     },
     "metadata": {},
     "output_type": "display_data"
    },
    {
     "data": {
      "text/html": [
       "<div><span class=\"Text-label\" style=\"display:inline-block; overflow:hidden; white-space:nowrap; text-overflow:ellipsis; min-width:15ex; max-width:15ex; vertical-align:middle; text-align:right\">Public Strain by Women</span>\n",
       "<progress style=\"width:45ex\" max=\"11\" value=\"11\" class=\"Progress-main\"/></progress>\n",
       "<span class=\"Progress-label\"><strong>100%</strong></span>\n",
       "<span class=\"Iteration-label\">11/11</span>\n",
       "<span class=\"Time-label\">[00:07<00:01, 0.61s/it]</span></div>"
      ],
      "text/plain": [
       "\u001b[A\u001b[2K\r",
       "Public Strain b [█████████████████████████████████████████████] 11/11 [00:07<00:01, 0.61s/it]"
      ]
     },
     "metadata": {},
     "output_type": "display_data"
    },
    {
     "data": {
      "text/html": [
       "<div><span class=\"Text-label\" style=\"display:inline-block; overflow:hidden; white-space:nowrap; text-overflow:ellipsis; min-width:15ex; max-width:15ex; vertical-align:middle; text-align:right\">Le Noise by Neil Young</span>\n",
       "<progress style=\"width:45ex\" max=\"8\" value=\"8\" class=\"Progress-main\"/></progress>\n",
       "<span class=\"Progress-label\"><strong>100%</strong></span>\n",
       "<span class=\"Iteration-label\">8/8</span>\n",
       "<span class=\"Time-label\">[00:05<00:01, 0.57s/it]</span></div>"
      ],
      "text/plain": [
       "\u001b[A\u001b[2K\r",
       "Le Noise by Nei [█████████████████████████████████████████████] 8/8 [00:05<00:01, 0.57s/it]"
      ]
     },
     "metadata": {},
     "output_type": "display_data"
    },
    {
     "data": {
      "text/html": [
       "<div><span class=\"Text-label\" style=\"display:inline-block; overflow:hidden; white-space:nowrap; text-overflow:ellipsis; min-width:15ex; max-width:15ex; vertical-align:middle; text-align:right\">Everything In Between by No Age</span>\n",
       "<progress style=\"width:45ex\" max=\"13\" value=\"13\" class=\"Progress-main\"/></progress>\n",
       "<span class=\"Progress-label\"><strong>100%</strong></span>\n",
       "<span class=\"Iteration-label\">13/13</span>\n",
       "<span class=\"Time-label\">[00:08<00:01, 0.62s/it]</span></div>"
      ],
      "text/plain": [
       "\u001b[A\u001b[2K\r",
       "Everything In B [█████████████████████████████████████████████] 13/13 [00:08<00:01, 0.62s/it]"
      ]
     },
     "metadata": {},
     "output_type": "display_data"
    },
    {
     "data": {
      "text/html": [
       "<div><span class=\"Text-label\" style=\"display:inline-block; overflow:hidden; white-space:nowrap; text-overflow:ellipsis; min-width:15ex; max-width:15ex; vertical-align:middle; text-align:right\">Unsilent Death (10th Anniversary Edition) by Nails</span>\n",
       "<progress style=\"width:45ex\" max=\"15\" value=\"15\" class=\"Progress-main\"/></progress>\n",
       "<span class=\"Progress-label\"><strong>100%</strong></span>\n",
       "<span class=\"Iteration-label\">15/15</span>\n",
       "<span class=\"Time-label\">[00:08<00:00, 0.51s/it]</span></div>"
      ],
      "text/plain": [
       "\u001b[A\u001b[2K\r",
       "Unsilent Death  [█████████████████████████████████████████████] 15/15 [00:08<00:00, 0.51s/it]"
      ]
     },
     "metadata": {},
     "output_type": "display_data"
    },
    {
     "data": {
      "text/html": [
       "<div><span class=\"Text-label\" style=\"display:inline-block; overflow:hidden; white-space:nowrap; text-overflow:ellipsis; min-width:15ex; max-width:15ex; vertical-align:middle; text-align:right\">Halcyon Digest by Deerhunter</span>\n",
       "<progress style=\"width:45ex\" max=\"11\" value=\"11\" class=\"Progress-main\"/></progress>\n",
       "<span class=\"Progress-label\"><strong>100%</strong></span>\n",
       "<span class=\"Iteration-label\">11/11</span>\n",
       "<span class=\"Time-label\">[00:09<00:01, 0.86s/it]</span></div>"
      ],
      "text/plain": [
       "\u001b[A\u001b[2K\r",
       "Halcyon Digest  [█████████████████████████████████████████████] 11/11 [00:09<00:01, 0.86s/it]"
      ]
     },
     "metadata": {},
     "output_type": "display_data"
    },
    {
     "data": {
      "text/html": [
       "<div><span class=\"Text-label\" style=\"display:inline-block; overflow:hidden; white-space:nowrap; text-overflow:ellipsis; min-width:15ex; max-width:15ex; vertical-align:middle; text-align:right\">My Father Will Guide Me Up A Rope To The Sky by Swans</span>\n",
       "<progress style=\"width:45ex\" max=\"8\" value=\"8\" class=\"Progress-main\"/></progress>\n",
       "<span class=\"Progress-label\"><strong>100%</strong></span>\n",
       "<span class=\"Iteration-label\">8/8</span>\n",
       "<span class=\"Time-label\">[00:06<00:01, 0.81s/it]</span></div>"
      ],
      "text/plain": [
       "\u001b[A\u001b[2K\r",
       "My Father Will  [█████████████████████████████████████████████] 8/8 [00:06<00:01, 0.81s/it]"
      ]
     },
     "metadata": {},
     "output_type": "display_data"
    },
    {
     "data": {
      "text/html": [
       "<div><span class=\"Text-label\" style=\"display:inline-block; overflow:hidden; white-space:nowrap; text-overflow:ellipsis; min-width:15ex; max-width:15ex; vertical-align:middle; text-align:right\">Wilderness Heart by Black Mountain</span>\n",
       "<progress style=\"width:45ex\" max=\"10\" value=\"10\" class=\"Progress-main\"/></progress>\n",
       "<span class=\"Progress-label\"><strong>100%</strong></span>\n",
       "<span class=\"Iteration-label\">10/10</span>\n",
       "<span class=\"Time-label\">[00:06<00:01, 0.56s/it]</span></div>"
      ],
      "text/plain": [
       "\u001b[A\u001b[2K\r",
       "Wilderness Hear [█████████████████████████████████████████████] 10/10 [00:06<00:01, 0.56s/it]"
      ]
     },
     "metadata": {},
     "output_type": "display_data"
    },
    {
     "data": {
      "text/html": [
       "<div><span class=\"Text-label\" style=\"display:inline-block; overflow:hidden; white-space:nowrap; text-overflow:ellipsis; min-width:15ex; max-width:15ex; vertical-align:middle; text-align:right\">Album Of The Year by Black Milk</span>\n",
       "<progress style=\"width:45ex\" max=\"12\" value=\"12\" class=\"Progress-main\"/></progress>\n",
       "<span class=\"Progress-label\"><strong>100%</strong></span>\n",
       "<span class=\"Iteration-label\">12/12</span>\n",
       "<span class=\"Time-label\">[00:08<00:01, 0.66s/it]</span></div>"
      ],
      "text/plain": [
       "\u001b[A\u001b[2K\r",
       "Album Of The Ye [█████████████████████████████████████████████] 12/12 [00:08<00:01, 0.66s/it]"
      ]
     },
     "metadata": {},
     "output_type": "display_data"
    },
    {
     "data": {
      "text/html": [
       "<div><span class=\"Text-label\" style=\"display:inline-block; overflow:hidden; white-space:nowrap; text-overflow:ellipsis; min-width:15ex; max-width:15ex; vertical-align:middle; text-align:right\">In Evening Air by Future Islands</span>\n",
       "<progress style=\"width:45ex\" max=\"9\" value=\"9\" class=\"Progress-main\"/></progress>\n",
       "<span class=\"Progress-label\"><strong>100%</strong></span>\n",
       "<span class=\"Iteration-label\">9/9</span>\n",
       "<span class=\"Time-label\">[00:08<00:01, 0.88s/it]</span></div>"
      ],
      "text/plain": [
       "\u001b[A\u001b[2K\r",
       "In Evening Air  [█████████████████████████████████████████████] 9/9 [00:08<00:01, 0.88s/it]"
      ]
     },
     "metadata": {},
     "output_type": "display_data"
    },
    {
     "data": {
      "text/html": [
       "<div><span class=\"Text-label\" style=\"display:inline-block; overflow:hidden; white-space:nowrap; text-overflow:ellipsis; min-width:15ex; max-width:15ex; vertical-align:middle; text-align:right\">Business Casual by Chromeo</span>\n",
       "<progress style=\"width:45ex\" max=\"10\" value=\"10\" class=\"Progress-main\"/></progress>\n",
       "<span class=\"Progress-label\"><strong>100%</strong></span>\n",
       "<span class=\"Iteration-label\">10/10</span>\n",
       "<span class=\"Time-label\">[00:07<00:02, 0.71s/it]</span></div>"
      ],
      "text/plain": [
       "\u001b[A\u001b[2K\r",
       "Business Casual [█████████████████████████████████████████████] 10/10 [00:07<00:02, 0.71s/it]"
      ]
     },
     "metadata": {},
     "output_type": "display_data"
    },
    {
     "data": {
      "text/html": [
       "<div><span class=\"Text-label\" style=\"display:inline-block; overflow:hidden; white-space:nowrap; text-overflow:ellipsis; min-width:15ex; max-width:15ex; vertical-align:middle; text-align:right\">Lisbon by The Walkmen</span>\n",
       "<progress style=\"width:45ex\" max=\"11\" value=\"11\" class=\"Progress-main\"/></progress>\n",
       "<span class=\"Progress-label\"><strong>100%</strong></span>\n",
       "<span class=\"Iteration-label\">11/11</span>\n",
       "<span class=\"Time-label\">[00:08<00:01, 0.70s/it]</span></div>"
      ],
      "text/plain": [
       "\u001b[A\u001b[2K\r",
       "Lisbon by The W [█████████████████████████████████████████████] 11/11 [00:08<00:01, 0.70s/it]"
      ]
     },
     "metadata": {},
     "output_type": "display_data"
    },
    {
     "data": {
      "text/html": [
       "<div><span class=\"Text-label\" style=\"display:inline-block; overflow:hidden; white-space:nowrap; text-overflow:ellipsis; min-width:15ex; max-width:15ex; vertical-align:middle; text-align:right\">Grinderman 2 by Grinderman</span>\n",
       "<progress style=\"width:45ex\" max=\"9\" value=\"9\" class=\"Progress-main\"/></progress>\n",
       "<span class=\"Progress-label\"><strong>100%</strong></span>\n",
       "<span class=\"Iteration-label\">9/9</span>\n",
       "<span class=\"Time-label\">[00:07<00:01, 0.80s/it]</span></div>"
      ],
      "text/plain": [
       "\u001b[A\u001b[2K\r",
       "Grinderman 2 by [█████████████████████████████████████████████] 9/9 [00:07<00:01, 0.80s/it]"
      ]
     },
     "metadata": {},
     "output_type": "display_data"
    },
    {
     "data": {
      "text/html": [
       "<div><span class=\"Text-label\" style=\"display:inline-block; overflow:hidden; white-space:nowrap; text-overflow:ellipsis; min-width:15ex; max-width:15ex; vertical-align:middle; text-align:right\">Penny Sparkle by Blonde Redhead</span>\n",
       "<progress style=\"width:45ex\" max=\"10\" value=\"10\" class=\"Progress-main\"/></progress>\n",
       "<span class=\"Progress-label\"><strong>100%</strong></span>\n",
       "<span class=\"Iteration-label\">10/10</span>\n",
       "<span class=\"Time-label\">[00:08<00:01, 0.76s/it]</span></div>"
      ],
      "text/plain": [
       "\u001b[A\u001b[2K\r",
       "Penny Sparkle b [█████████████████████████████████████████████] 10/10 [00:08<00:01, 0.76s/it]"
      ]
     },
     "metadata": {},
     "output_type": "display_data"
    },
    {
     "data": {
      "text/html": [
       "<div><span class=\"Text-label\" style=\"display:inline-block; overflow:hidden; white-space:nowrap; text-overflow:ellipsis; min-width:15ex; max-width:15ex; vertical-align:middle; text-align:right\">False Priest by of Montreal</span>\n",
       "<progress style=\"width:45ex\" max=\"13\" value=\"13\" class=\"Progress-main\"/></progress>\n",
       "<span class=\"Progress-label\"><strong>100%</strong></span>\n",
       "<span class=\"Iteration-label\">13/13</span>\n",
       "<span class=\"Time-label\">[00:10<00:01, 0.74s/it]</span></div>"
      ],
      "text/plain": [
       "\u001b[A\u001b[2K\r",
       "False Priest by [█████████████████████████████████████████████] 13/13 [00:10<00:01, 0.74s/it]"
      ]
     },
     "metadata": {},
     "output_type": "display_data"
    },
    {
     "data": {
      "text/html": [
       "<div><span class=\"Text-label\" style=\"display:inline-block; overflow:hidden; white-space:nowrap; text-overflow:ellipsis; min-width:15ex; max-width:15ex; vertical-align:middle; text-align:right\">Hurley by Weezer</span>\n",
       "<progress style=\"width:45ex\" max=\"10\" value=\"10\" class=\"Progress-main\"/></progress>\n",
       "<span class=\"Progress-label\"><strong>100%</strong></span>\n",
       "<span class=\"Iteration-label\">10/10</span>\n",
       "<span class=\"Time-label\">[00:06<00:00, 0.56s/it]</span></div>"
      ],
      "text/plain": [
       "\u001b[A\u001b[2K\r",
       "Hurley by Weeze [█████████████████████████████████████████████] 10/10 [00:06<00:00, 0.56s/it]"
      ]
     },
     "metadata": {},
     "output_type": "display_data"
    },
    {
     "data": {
      "text/html": [
       "<div><span class=\"Text-label\" style=\"display:inline-block; overflow:hidden; white-space:nowrap; text-overflow:ellipsis; min-width:15ex; max-width:15ex; vertical-align:middle; text-align:right\">Patagonian Rats by Tera Melos</span>\n",
       "<progress style=\"width:45ex\" max=\"12\" value=\"12\" class=\"Progress-main\"/></progress>\n",
       "<span class=\"Progress-label\"><strong>100%</strong></span>\n",
       "<span class=\"Iteration-label\">12/12</span>\n",
       "<span class=\"Time-label\">[00:11<00:01, 0.90s/it]</span></div>"
      ],
      "text/plain": [
       "\u001b[A\u001b[2K\r",
       "Patagonian Rats [█████████████████████████████████████████████] 12/12 [00:11<00:01, 0.90s/it]"
      ]
     },
     "metadata": {},
     "output_type": "display_data"
    },
    {
     "data": {
      "text/html": [
       "<div><span class=\"Text-label\" style=\"display:inline-block; overflow:hidden; white-space:nowrap; text-overflow:ellipsis; min-width:15ex; max-width:15ex; vertical-align:middle; text-align:right\">Lawless Darkness by Watain</span>\n",
       "<progress style=\"width:45ex\" max=\"10\" value=\"10\" class=\"Progress-main\"/></progress>\n",
       "<span class=\"Progress-label\"><strong>100%</strong></span>\n",
       "<span class=\"Iteration-label\">10/10</span>\n",
       "<span class=\"Time-label\">[00:09<00:01, 0.87s/it]</span></div>"
      ],
      "text/plain": [
       "\u001b[A\u001b[2K\r",
       "Lawless Darknes [█████████████████████████████████████████████] 10/10 [00:09<00:01, 0.87s/it]"
      ]
     },
     "metadata": {},
     "output_type": "display_data"
    },
    {
     "data": {
      "text/html": [
       "<div><span class=\"Text-label\" style=\"display:inline-block; overflow:hidden; white-space:nowrap; text-overflow:ellipsis; min-width:15ex; max-width:15ex; vertical-align:middle; text-align:right\">Illumination by Miami Horror</span>\n",
       "<progress style=\"width:45ex\" max=\"12\" value=\"12\" class=\"Progress-main\"/></progress>\n",
       "<span class=\"Progress-label\"><strong>100%</strong></span>\n",
       "<span class=\"Iteration-label\">12/12</span>\n",
       "<span class=\"Time-label\">[00:07<00:01, 0.61s/it]</span></div>"
      ],
      "text/plain": [
       "\u001b[A\u001b[2K\r",
       "Illumination by [█████████████████████████████████████████████] 12/12 [00:07<00:01, 0.61s/it]"
      ]
     },
     "metadata": {},
     "output_type": "display_data"
    },
    {
     "data": {
      "text/html": [
       "<div><span class=\"Text-label\" style=\"display:inline-block; overflow:hidden; white-space:nowrap; text-overflow:ellipsis; min-width:15ex; max-width:15ex; vertical-align:middle; text-align:right\">Interpol by Interpol</span>\n",
       "<progress style=\"width:45ex\" max=\"10\" value=\"10\" class=\"Progress-main\"/></progress>\n",
       "<span class=\"Progress-label\"><strong>100%</strong></span>\n",
       "<span class=\"Iteration-label\">10/10</span>\n",
       "<span class=\"Time-label\">[00:06<00:01, 0.57s/it]</span></div>"
      ],
      "text/plain": [
       "\u001b[A\u001b[2K\r",
       "Interpol by Int [█████████████████████████████████████████████] 10/10 [00:06<00:01, 0.57s/it]"
      ]
     },
     "metadata": {},
     "output_type": "display_data"
    },
    {
     "data": {
      "text/html": [
       "<div><span class=\"Text-label\" style=\"display:inline-block; overflow:hidden; white-space:nowrap; text-overflow:ellipsis; min-width:15ex; max-width:15ex; vertical-align:middle; text-align:right\">Memphis by Magic Kids</span>\n",
       "<progress style=\"width:45ex\" max=\"11\" value=\"11\" class=\"Progress-main\"/></progress>\n",
       "<span class=\"Progress-label\"><strong>100%</strong></span>\n",
       "<span class=\"Iteration-label\">11/11</span>\n",
       "<span class=\"Time-label\">[00:05<00:01, 0.47s/it]</span></div>"
      ],
      "text/plain": [
       "\u001b[A\u001b[2K\r",
       "Memphis by Magi [█████████████████████████████████████████████] 11/11 [00:05<00:01, 0.47s/it]"
      ]
     },
     "metadata": {},
     "output_type": "display_data"
    },
    {
     "data": {
      "text/html": [
       "<div><span class=\"Text-label\" style=\"display:inline-block; overflow:hidden; white-space:nowrap; text-overflow:ellipsis; min-width:15ex; max-width:15ex; vertical-align:middle; text-align:right\">Special Moves Bonus Tracks by Mogwai</span>\n",
       "<progress style=\"width:45ex\" max=\"6\" value=\"6\" class=\"Progress-main\"/></progress>\n",
       "<span class=\"Progress-label\"><strong>100%</strong></span>\n",
       "<span class=\"Iteration-label\">6/6</span>\n",
       "<span class=\"Time-label\">[00:04<00:01, 0.66s/it]</span></div>"
      ],
      "text/plain": [
       "\u001b[A\u001b[2K\r",
       "Special Moves B [█████████████████████████████████████████████] 6/6 [00:04<00:01, 0.66s/it]"
      ]
     },
     "metadata": {},
     "output_type": "display_data"
    },
    {
     "data": {
      "text/html": [
       "<div><span class=\"Text-label\" style=\"display:inline-block; overflow:hidden; white-space:nowrap; text-overflow:ellipsis; min-width:15ex; max-width:15ex; vertical-align:middle; text-align:right\">Surfing the Void by Klaxons</span>\n",
       "<progress style=\"width:45ex\" max=\"10\" value=\"10\" class=\"Progress-main\"/></progress>\n",
       "<span class=\"Progress-label\"><strong>100%</strong></span>\n",
       "<span class=\"Iteration-label\">10/10</span>\n",
       "<span class=\"Time-label\">[00:05<00:01, 0.54s/it]</span></div>"
      ],
      "text/plain": [
       "\u001b[A\u001b[2K\r",
       "Surfing the Voi [█████████████████████████████████████████████] 10/10 [00:05<00:01, 0.54s/it]"
      ]
     },
     "metadata": {},
     "output_type": "display_data"
    },
    {
     "data": {
      "text/html": [
       "<div><span class=\"Text-label\" style=\"display:inline-block; overflow:hidden; white-space:nowrap; text-overflow:ellipsis; min-width:15ex; max-width:15ex; vertical-align:middle; text-align:right\">Treasure State by Sō Percussion</span>\n",
       "<progress style=\"width:45ex\" max=\"8\" value=\"8\" class=\"Progress-main\"/></progress>\n",
       "<span class=\"Progress-label\"><strong>100%</strong></span>\n",
       "<span class=\"Iteration-label\">8/8</span>\n",
       "<span class=\"Time-label\">[00:07<00:01, 0.92s/it]</span></div>"
      ],
      "text/plain": [
       "\u001b[A\u001b[2K\r",
       "Treasure State  [█████████████████████████████████████████████] 8/8 [00:07<00:01, 0.92s/it]"
      ]
     },
     "metadata": {},
     "output_type": "display_data"
    },
    {
     "data": {
      "text/html": [
       "<div><span class=\"Text-label\" style=\"display:inline-block; overflow:hidden; white-space:nowrap; text-overflow:ellipsis; min-width:15ex; max-width:15ex; vertical-align:middle; text-align:right\">All Delighted People by Sufjan Stevens</span>\n",
       "<progress style=\"width:45ex\" max=\"8\" value=\"8\" class=\"Progress-main\"/></progress>\n",
       "<span class=\"Progress-label\"><strong>100%</strong></span>\n",
       "<span class=\"Iteration-label\">8/8</span>\n",
       "<span class=\"Time-label\">[00:06<00:01, 0.72s/it]</span></div>"
      ],
      "text/plain": [
       "\u001b[A\u001b[2K\r",
       "All Delighted P [█████████████████████████████████████████████] 8/8 [00:06<00:01, 0.72s/it]"
      ]
     },
     "metadata": {},
     "output_type": "display_data"
    },
    {
     "data": {
      "text/html": [
       "<div><span class=\"Text-label\" style=\"display:inline-block; overflow:hidden; white-space:nowrap; text-overflow:ellipsis; min-width:15ex; max-width:15ex; vertical-align:middle; text-align:right\">Four More Years by Teen Daze</span>\n",
       "<progress style=\"width:45ex\" max=\"8\" value=\"8\" class=\"Progress-main\"/></progress>\n",
       "<span class=\"Progress-label\"><strong>100%</strong></span>\n",
       "<span class=\"Iteration-label\">8/8</span>\n",
       "<span class=\"Time-label\">[00:04<00:01, 0.53s/it]</span></div>"
      ],
      "text/plain": [
       "\u001b[A\u001b[2K\r",
       "Four More Years [█████████████████████████████████████████████] 8/8 [00:04<00:01, 0.53s/it]"
      ]
     },
     "metadata": {},
     "output_type": "display_data"
    },
    {
     "data": {
      "text/html": [
       "<div><span class=\"Text-label\" style=\"display:inline-block; overflow:hidden; white-space:nowrap; text-overflow:ellipsis; min-width:15ex; max-width:15ex; vertical-align:middle; text-align:right\">The Final Frontier (2015 - Remaster) by Iron Maiden</span>\n",
       "<progress style=\"width:45ex\" max=\"10\" value=\"10\" class=\"Progress-main\"/></progress>\n",
       "<span class=\"Progress-label\"><strong>100%</strong></span>\n",
       "<span class=\"Iteration-label\">10/10</span>\n",
       "<span class=\"Time-label\">[00:09<00:01, 0.90s/it]</span></div>"
      ],
      "text/plain": [
       "\u001b[A\u001b[2K\r",
       "The Final Front [█████████████████████████████████████████████] 10/10 [00:09<00:01, 0.90s/it]"
      ]
     },
     "metadata": {},
     "output_type": "display_data"
    },
    {
     "data": {
      "text/html": [
       "<div><span class=\"Text-label\" style=\"display:inline-block; overflow:hidden; white-space:nowrap; text-overflow:ellipsis; min-width:15ex; max-width:15ex; vertical-align:middle; text-align:right\">Summit by Thou</span>\n",
       "<progress style=\"width:45ex\" max=\"5\" value=\"5\" class=\"Progress-main\"/></progress>\n",
       "<span class=\"Progress-label\"><strong>100%</strong></span>\n",
       "<span class=\"Iteration-label\">5/5</span>\n",
       "<span class=\"Time-label\">[00:04<00:00, 0.74s/it]</span></div>"
      ],
      "text/plain": [
       "\u001b[A\u001b[2K\r",
       " Summit by Thou [█████████████████████████████████████████████] 5/5 [00:04<00:00, 0.74s/it]"
      ]
     },
     "metadata": {},
     "output_type": "display_data"
    },
    {
     "data": {
      "text/html": [
       "<div><span class=\"Text-label\" style=\"display:inline-block; overflow:hidden; white-space:nowrap; text-overflow:ellipsis; min-width:15ex; max-width:15ex; vertical-align:middle; text-align:right\">Transit Transit by Autolux</span>\n",
       "<progress style=\"width:45ex\" max=\"10\" value=\"10\" class=\"Progress-main\"/></progress>\n",
       "<span class=\"Progress-label\"><strong>100%</strong></span>\n",
       "<span class=\"Iteration-label\">10/10</span>\n",
       "<span class=\"Time-label\">[00:06<00:01, 0.60s/it]</span></div>"
      ],
      "text/plain": [
       "\u001b[A\u001b[2K\r",
       "Transit Transit [█████████████████████████████████████████████] 10/10 [00:06<00:01, 0.60s/it]"
      ]
     },
     "metadata": {},
     "output_type": "display_data"
    },
    {
     "data": {
      "text/html": [
       "<div><span class=\"Text-label\" style=\"display:inline-block; overflow:hidden; white-space:nowrap; text-overflow:ellipsis; min-width:15ex; max-width:15ex; vertical-align:middle; text-align:right\">The Budos Band III by The Budos Band</span>\n",
       "<progress style=\"width:45ex\" max=\"11\" value=\"11\" class=\"Progress-main\"/></progress>\n",
       "<span class=\"Progress-label\"><strong>100%</strong></span>\n",
       "<span class=\"Iteration-label\">11/11</span>\n",
       "<span class=\"Time-label\">[00:07<00:01, 0.65s/it]</span></div>"
      ],
      "text/plain": [
       "\u001b[A\u001b[2K\r",
       "The Budos Band  [█████████████████████████████████████████████] 11/11 [00:07<00:01, 0.65s/it]"
      ]
     },
     "metadata": {},
     "output_type": "display_data"
    },
    {
     "data": {
      "text/html": [
       "<div><span class=\"Text-label\" style=\"display:inline-block; overflow:hidden; white-space:nowrap; text-overflow:ellipsis; min-width:15ex; max-width:15ex; vertical-align:middle; text-align:right\">All Sons & Daughters by All Sons & Daughters</span>\n",
       "<progress style=\"width:45ex\" max=\"11\" value=\"11\" class=\"Progress-main\"/></progress>\n",
       "<span class=\"Progress-label\"><strong>100%</strong></span>\n",
       "<span class=\"Iteration-label\">11/11</span>\n",
       "<span class=\"Time-label\">[00:07<00:00, 0.59s/it]</span></div>"
      ],
      "text/plain": [
       "\u001b[A\u001b[2K\r",
       "All Sons & Daug [█████████████████████████████████████████████] 11/11 [00:07<00:00, 0.59s/it]"
      ]
     },
     "metadata": {},
     "output_type": "display_data"
    },
    {
     "data": {
      "text/html": [
       "<div><span class=\"Text-label\" style=\"display:inline-block; overflow:hidden; white-space:nowrap; text-overflow:ellipsis; min-width:15ex; max-width:15ex; vertical-align:middle; text-align:right\">Rohnert Park by Ceremony</span>\n",
       "<progress style=\"width:45ex\" max=\"13\" value=\"13\" class=\"Progress-main\"/></progress>\n",
       "<span class=\"Progress-label\"><strong>100%</strong></span>\n",
       "<span class=\"Iteration-label\">13/13</span>\n",
       "<span class=\"Time-label\">[00:07<00:01, 0.51s/it]</span></div>"
      ],
      "text/plain": [
       "\u001b[A\u001b[2K\r",
       "Rohnert Park by [█████████████████████████████████████████████] 13/13 [00:07<00:01, 0.51s/it]"
      ]
     },
     "metadata": {},
     "output_type": "display_data"
    },
    {
     "data": {
      "text/html": [
       "<div><span class=\"Text-label\" style=\"display:inline-block; overflow:hidden; white-space:nowrap; text-overflow:ellipsis; min-width:15ex; max-width:15ex; vertical-align:middle; text-align:right\">The Suburbs by Arcade Fire</span>\n",
       "<progress style=\"width:45ex\" max=\"16\" value=\"16\" class=\"Progress-main\"/></progress>\n",
       "<span class=\"Progress-label\"><strong>100%</strong></span>\n",
       "<span class=\"Iteration-label\">16/16</span>\n",
       "<span class=\"Time-label\">[00:10<00:00, 0.60s/it]</span></div>"
      ],
      "text/plain": [
       "\u001b[A\u001b[2K\r",
       "The Suburbs by  [█████████████████████████████████████████████] 16/16 [00:10<00:00, 0.60s/it]"
      ]
     },
     "metadata": {},
     "output_type": "display_data"
    },
    {
     "data": {
      "text/html": [
       "<div><span class=\"Text-label\" style=\"display:inline-block; overflow:hidden; white-space:nowrap; text-overflow:ellipsis; min-width:15ex; max-width:15ex; vertical-align:middle; text-align:right\">Gemini by Wild Nothing</span>\n",
       "<progress style=\"width:45ex\" max=\"12\" value=\"12\" class=\"Progress-main\"/></progress>\n",
       "<span class=\"Progress-label\"><strong>100%</strong></span>\n",
       "<span class=\"Iteration-label\">12/12</span>\n",
       "<span class=\"Time-label\">[00:07<00:01, 0.58s/it]</span></div>"
      ],
      "text/plain": [
       "\u001b[A\u001b[2K\r",
       "Gemini by Wild  [█████████████████████████████████████████████] 12/12 [00:07<00:01, 0.58s/it]"
      ]
     },
     "metadata": {},
     "output_type": "display_data"
    },
    {
     "data": {
      "text/html": [
       "<div><span class=\"Text-label\" style=\"display:inline-block; overflow:hidden; white-space:nowrap; text-overflow:ellipsis; min-width:15ex; max-width:15ex; vertical-align:middle; text-align:right\">Crazy For You by Best Coast</span>\n",
       "<progress style=\"width:45ex\" max=\"13\" value=\"13\" class=\"Progress-main\"/></progress>\n",
       "<span class=\"Progress-label\"><strong>100%</strong></span>\n",
       "<span class=\"Iteration-label\">13/13</span>\n",
       "<span class=\"Time-label\">[00:06<00:00, 0.45s/it]</span></div>"
      ],
      "text/plain": [
       "\u001b[A\u001b[2K\r",
       "Crazy For You b [█████████████████████████████████████████████] 13/13 [00:06<00:00, 0.45s/it]"
      ]
     },
     "metadata": {},
     "output_type": "display_data"
    },
    {
     "data": {
      "text/html": [
       "<div><span class=\"Text-label\" style=\"display:inline-block; overflow:hidden; white-space:nowrap; text-overflow:ellipsis; min-width:15ex; max-width:15ex; vertical-align:middle; text-align:right\">Paramatma by Mono/Poly</span>\n",
       "<progress style=\"width:45ex\" max=\"19\" value=\"19\" class=\"Progress-main\"/></progress>\n",
       "<span class=\"Progress-label\"><strong>100%</strong></span>\n",
       "<span class=\"Iteration-label\">19/19</span>\n",
       "<span class=\"Time-label\">[00:13<00:01, 0.67s/it]</span></div>"
      ],
      "text/plain": [
       "\u001b[A\u001b[2K\r",
       "Paramatma by Mo [█████████████████████████████████████████████] 19/19 [00:13<00:01, 0.67s/it]"
      ]
     },
     "metadata": {},
     "output_type": "display_data"
    },
    {
     "data": {
      "text/html": [
       "<div><span class=\"Text-label\" style=\"display:inline-block; overflow:hidden; white-space:nowrap; text-overflow:ellipsis; min-width:15ex; max-width:15ex; vertical-align:middle; text-align:right\">Cerulean by Baths</span>\n",
       "<progress style=\"width:45ex\" max=\"12\" value=\"12\" class=\"Progress-main\"/></progress>\n",
       "<span class=\"Progress-label\"><strong>100%</strong></span>\n",
       "<span class=\"Iteration-label\">12/12</span>\n",
       "<span class=\"Time-label\">[00:08<00:01, 0.64s/it]</span></div>"
      ],
      "text/plain": [
       "\u001b[A\u001b[2K\r",
       "Cerulean by Bat [█████████████████████████████████████████████] 12/12 [00:08<00:01, 0.64s/it]"
      ]
     },
     "metadata": {},
     "output_type": "display_data"
    },
    {
     "data": {
      "text/html": [
       "<div><span class=\"Text-label\" style=\"display:inline-block; overflow:hidden; white-space:nowrap; text-overflow:ellipsis; min-width:15ex; max-width:15ex; vertical-align:middle; text-align:right\">The Way Out by The Books</span>\n",
       "<progress style=\"width:45ex\" max=\"14\" value=\"14\" class=\"Progress-main\"/></progress>\n",
       "<span class=\"Progress-label\"><strong>100%</strong></span>\n",
       "<span class=\"Iteration-label\">14/14</span>\n",
       "<span class=\"Time-label\">[00:08<00:01, 0.57s/it]</span></div>"
      ],
      "text/plain": [
       "\u001b[A\u001b[2K\r",
       "The Way Out by  [█████████████████████████████████████████████] 14/14 [00:08<00:01, 0.57s/it]"
      ]
     },
     "metadata": {},
     "output_type": "display_data"
    },
    {
     "data": {
      "text/html": [
       "<div><span class=\"Text-label\" style=\"display:inline-block; overflow:hidden; white-space:nowrap; text-overflow:ellipsis; min-width:15ex; max-width:15ex; vertical-align:middle; text-align:right\">Mount Wittenberg Orca by Dirty Projectors</span>\n",
       "<progress style=\"width:45ex\" max=\"7\" value=\"7\" class=\"Progress-main\"/></progress>\n",
       "<span class=\"Progress-label\"><strong>100%</strong></span>\n",
       "<span class=\"Iteration-label\">7/7</span>\n",
       "<span class=\"Time-label\">[00:06<00:01, 0.79s/it]</span></div>"
      ],
      "text/plain": [
       "\u001b[A\u001b[2K\r",
       "Mount Wittenber [█████████████████████████████████████████████] 7/7 [00:06<00:01, 0.79s/it]"
      ]
     },
     "metadata": {},
     "output_type": "display_data"
    },
    {
     "data": {
      "text/html": [
       "<div><span class=\"Text-label\" style=\"display:inline-block; overflow:hidden; white-space:nowrap; text-overflow:ellipsis; min-width:15ex; max-width:15ex; vertical-align:middle; text-align:right\">Urgency by Superhumanoids</span>\n",
       "<progress style=\"width:45ex\" max=\"5\" value=\"5\" class=\"Progress-main\"/></progress>\n",
       "<span class=\"Progress-label\"><strong>100%</strong></span>\n",
       "<span class=\"Iteration-label\">5/5</span>\n",
       "<span class=\"Time-label\">[00:04<00:01, 0.70s/it]</span></div>"
      ],
      "text/plain": [
       "\u001b[A\u001b[2K\r",
       "Urgency by Supe [█████████████████████████████████████████████] 5/5 [00:04<00:01, 0.70s/it]"
      ]
     },
     "metadata": {},
     "output_type": "display_data"
    },
    {
     "data": {
      "text/html": [
       "<div><span class=\"Text-label\" style=\"display:inline-block; overflow:hidden; white-space:nowrap; text-overflow:ellipsis; min-width:15ex; max-width:15ex; vertical-align:middle; text-align:right\">Sir Lucious Left Foot...The Son Of Chico Dusty by Big Boi</span>\n",
       "<progress style=\"width:45ex\" max=\"15\" value=\"15\" class=\"Progress-main\"/></progress>\n",
       "<span class=\"Progress-label\"><strong>100%</strong></span>\n",
       "<span class=\"Iteration-label\">15/15</span>\n",
       "<span class=\"Time-label\">[00:09<00:01, 0.61s/it]</span></div>"
      ],
      "text/plain": [
       "\u001b[A\u001b[2K\r",
       "Sir Lucious Lef [█████████████████████████████████████████████] 15/15 [00:09<00:01, 0.61s/it]"
      ]
     },
     "metadata": {},
     "output_type": "display_data"
    },
    {
     "data": {
      "text/html": [
       "<div><span class=\"Text-label\" style=\"display:inline-block; overflow:hidden; white-space:nowrap; text-overflow:ellipsis; min-width:15ex; max-width:15ex; vertical-align:middle; text-align:right\">The People's Record by Club 8</span>\n",
       "<progress style=\"width:45ex\" max=\"10\" value=\"10\" class=\"Progress-main\"/></progress>\n",
       "<span class=\"Progress-label\"><strong>100%</strong></span>\n",
       "<span class=\"Iteration-label\">10/10</span>\n",
       "<span class=\"Time-label\">[00:06<00:01, 0.56s/it]</span></div>"
      ],
      "text/plain": [
       "\u001b[A\u001b[2K\r",
       "The People's Re [█████████████████████████████████████████████] 10/10 [00:06<00:01, 0.56s/it]"
      ]
     },
     "metadata": {},
     "output_type": "display_data"
    },
    {
     "data": {
      "text/html": [
       "<div><span class=\"Text-label\" style=\"display:inline-block; overflow:hidden; white-space:nowrap; text-overflow:ellipsis; min-width:15ex; max-width:15ex; vertical-align:middle; text-align:right\">King of the Beach by Wavves</span>\n",
       "<progress style=\"width:45ex\" max=\"12\" value=\"12\" class=\"Progress-main\"/></progress>\n",
       "<span class=\"Progress-label\"><strong>100%</strong></span>\n",
       "<span class=\"Iteration-label\">12/12</span>\n",
       "<span class=\"Time-label\">[00:06<00:01, 0.53s/it]</span></div>"
      ],
      "text/plain": [
       "\u001b[A\u001b[2K\r",
       "King of the Bea [█████████████████████████████████████████████] 12/12 [00:06<00:01, 0.53s/it]"
      ]
     },
     "metadata": {},
     "output_type": "display_data"
    },
    {
     "data": {
      "text/html": [
       "<div><span class=\"Text-label\" style=\"display:inline-block; overflow:hidden; white-space:nowrap; text-overflow:ellipsis; min-width:15ex; max-width:15ex; vertical-align:middle; text-align:right\">How I Got Over by The Roots</span>\n",
       "<progress style=\"width:45ex\" max=\"14\" value=\"14\" class=\"Progress-main\"/></progress>\n",
       "<span class=\"Progress-label\"><strong>100%</strong></span>\n",
       "<span class=\"Iteration-label\">14/14</span>\n",
       "<span class=\"Time-label\">[00:08<00:01, 0.54s/it]</span></div>"
      ],
      "text/plain": [
       "\u001b[A\u001b[2K\r",
       "How I Got Over  [█████████████████████████████████████████████] 14/14 [00:08<00:01, 0.54s/it]"
      ]
     },
     "metadata": {},
     "output_type": "display_data"
    },
    {
     "data": {
      "text/html": [
       "<div><span class=\"Text-label\" style=\"display:inline-block; overflow:hidden; white-space:nowrap; text-overflow:ellipsis; min-width:15ex; max-width:15ex; vertical-align:middle; text-align:right\">EXPO 86 by Wolf Parade</span>\n",
       "<progress style=\"width:45ex\" max=\"11\" value=\"11\" class=\"Progress-main\"/></progress>\n",
       "<span class=\"Progress-label\"><strong>100%</strong></span>\n",
       "<span class=\"Iteration-label\">11/11</span>\n",
       "<span class=\"Time-label\">[00:06<00:01, 0.58s/it]</span></div>"
      ],
      "text/plain": [
       "\u001b[A\u001b[2K\r",
       "EXPO 86 by Wolf [█████████████████████████████████████████████] 11/11 [00:06<00:01, 0.58s/it]"
      ]
     },
     "metadata": {},
     "output_type": "display_data"
    },
    {
     "data": {
      "text/html": [
       "<div><span class=\"Text-label\" style=\"display:inline-block; overflow:hidden; white-space:nowrap; text-overflow:ellipsis; min-width:15ex; max-width:15ex; vertical-align:middle; text-align:right\">Does It Look Like I'm Here? by Emeralds</span>\n",
       "<progress style=\"width:45ex\" max=\"12\" value=\"12\" class=\"Progress-main\"/></progress>\n",
       "<span class=\"Progress-label\"><strong>100%</strong></span>\n",
       "<span class=\"Iteration-label\">12/12</span>\n",
       "<span class=\"Time-label\">[00:08<00:01, 0.67s/it]</span></div>"
      ],
      "text/plain": [
       "\u001b[A\u001b[2K\r",
       "Does It Look Li [█████████████████████████████████████████████] 12/12 [00:08<00:01, 0.67s/it]"
      ]
     },
     "metadata": {},
     "output_type": "display_data"
    },
    {
     "data": {
      "text/html": [
       "<div><span class=\"Text-label\" style=\"display:inline-block; overflow:hidden; white-space:nowrap; text-overflow:ellipsis; min-width:15ex; max-width:15ex; vertical-align:middle; text-align:right\">Homeland by Laurie Anderson</span>\n",
       "<progress style=\"width:45ex\" max=\"12\" value=\"12\" class=\"Progress-main\"/></progress>\n",
       "<span class=\"Progress-label\"><strong>100%</strong></span>\n",
       "<span class=\"Iteration-label\">12/12</span>\n",
       "<span class=\"Time-label\">[00:10<00:00, 0.85s/it]</span></div>"
      ],
      "text/plain": [
       "\u001b[A\u001b[2K\r",
       "Homeland by Lau [█████████████████████████████████████████████] 12/12 [00:10<00:00, 0.85s/it]"
      ]
     },
     "metadata": {},
     "output_type": "display_data"
    },
    {
     "data": {
      "text/html": [
       "<div><span class=\"Text-label\" style=\"display:inline-block; overflow:hidden; white-space:nowrap; text-overflow:ellipsis; min-width:15ex; max-width:15ex; vertical-align:middle; text-align:right\">The ArchAndroid by Janelle Monáe</span>\n",
       "<progress style=\"width:45ex\" max=\"18\" value=\"18\" class=\"Progress-main\"/></progress>\n",
       "<span class=\"Progress-label\"><strong>100%</strong></span>\n",
       "<span class=\"Iteration-label\">18/18</span>\n",
       "<span class=\"Time-label\">[00:16<00:01, 0.91s/it]</span></div>"
      ],
      "text/plain": [
       "\u001b[A\u001b[2K\r",
       "The ArchAndroid [█████████████████████████████████████████████] 18/18 [00:16<00:01, 0.91s/it]"
      ]
     },
     "metadata": {},
     "output_type": "display_data"
    },
    {
     "data": {
      "text/html": [
       "<div><span class=\"Text-label\" style=\"display:inline-block; overflow:hidden; white-space:nowrap; text-overflow:ellipsis; min-width:15ex; max-width:15ex; vertical-align:middle; text-align:right\">Sex Dreams And Denim Jeans by Uffie</span>\n",
       "<progress style=\"width:45ex\" max=\"16\" value=\"16\" class=\"Progress-main\"/></progress>\n",
       "<span class=\"Progress-label\"><strong>100%</strong></span>\n",
       "<span class=\"Iteration-label\">16/16</span>\n",
       "<span class=\"Time-label\">[00:12<00:01, 0.76s/it]</span></div>"
      ],
      "text/plain": [
       "\u001b[A\u001b[2K\r",
       "Sex Dreams And  [█████████████████████████████████████████████] 16/16 [00:12<00:01, 0.76s/it]"
      ]
     },
     "metadata": {},
     "output_type": "display_data"
    },
    {
     "data": {
      "text/html": [
       "<div><span class=\"Text-label\" style=\"display:inline-block; overflow:hidden; white-space:nowrap; text-overflow:ellipsis; min-width:15ex; max-width:15ex; vertical-align:middle; text-align:right\">Something For Everybody (Deluxe) by DEVO</span>\n",
       "<progress style=\"width:45ex\" max=\"15\" value=\"15\" class=\"Progress-main\"/></progress>\n",
       "<span class=\"Progress-label\"><strong>100%</strong></span>\n",
       "<span class=\"Iteration-label\">15/15</span>\n",
       "<span class=\"Time-label\">[00:09<00:01, 0.58s/it]</span></div>"
      ],
      "text/plain": [
       "\u001b[A\u001b[2K\r",
       "Something For E [█████████████████████████████████████████████] 15/15 [00:09<00:01, 0.58s/it]"
      ]
     },
     "metadata": {},
     "output_type": "display_data"
    },
    {
     "data": {
      "text/html": [
       "<div><span class=\"Text-label\" style=\"display:inline-block; overflow:hidden; white-space:nowrap; text-overflow:ellipsis; min-width:15ex; max-width:15ex; vertical-align:middle; text-align:right\">Clinging to a Scheme by The Radio Dept.</span>\n",
       "<progress style=\"width:45ex\" max=\"10\" value=\"10\" class=\"Progress-main\"/></progress>\n",
       "<span class=\"Progress-label\"><strong>100%</strong></span>\n",
       "<span class=\"Iteration-label\">10/10</span>\n",
       "<span class=\"Time-label\">[00:08<00:01, 0.75s/it]</span></div>"
      ],
      "text/plain": [
       "\u001b[A\u001b[2K\r",
       "Clinging to a S [█████████████████████████████████████████████] 10/10 [00:08<00:01, 0.75s/it]"
      ]
     },
     "metadata": {},
     "output_type": "display_data"
    },
    {
     "data": {
      "text/html": [
       "<div><span class=\"Text-label\" style=\"display:inline-block; overflow:hidden; white-space:nowrap; text-overflow:ellipsis; min-width:15ex; max-width:15ex; vertical-align:middle; text-align:right\">Becoming A Jackal by Villagers</span>\n",
       "<progress style=\"width:45ex\" max=\"11\" value=\"11\" class=\"Progress-main\"/></progress>\n",
       "<span class=\"Progress-label\"><strong>100%</strong></span>\n",
       "<span class=\"Iteration-label\">11/11</span>\n",
       "<span class=\"Time-label\">[00:07<00:01, 0.64s/it]</span></div>"
      ],
      "text/plain": [
       "\u001b[A\u001b[2K\r",
       "Becoming A Jack [█████████████████████████████████████████████] 11/11 [00:07<00:01, 0.64s/it]"
      ]
     },
     "metadata": {},
     "output_type": "display_data"
    },
    {
     "data": {
      "text/html": [
       "<div><span class=\"Text-label\" style=\"display:inline-block; overflow:hidden; white-space:nowrap; text-overflow:ellipsis; min-width:15ex; max-width:15ex; vertical-align:middle; text-align:right\">Total Life Forever by Foals</span>\n",
       "<progress style=\"width:45ex\" max=\"11\" value=\"11\" class=\"Progress-main\"/></progress>\n",
       "<span class=\"Progress-label\"><strong>100%</strong></span>\n",
       "<span class=\"Iteration-label\">11/11</span>\n",
       "<span class=\"Time-label\">[00:08<00:01, 0.69s/it]</span></div>"
      ],
      "text/plain": [
       "\u001b[A\u001b[2K\r",
       "Total Life Fore [█████████████████████████████████████████████] 11/11 [00:08<00:01, 0.69s/it]"
      ]
     },
     "metadata": {},
     "output_type": "display_data"
    },
    {
     "data": {
      "text/html": [
       "<div><span class=\"Text-label\" style=\"display:inline-block; overflow:hidden; white-space:nowrap; text-overflow:ellipsis; min-width:15ex; max-width:15ex; vertical-align:middle; text-align:right\">The Drums by The Drums</span>\n",
       "<progress style=\"width:45ex\" max=\"12\" value=\"12\" class=\"Progress-main\"/></progress>\n",
       "<span class=\"Progress-label\"><strong>100%</strong></span>\n",
       "<span class=\"Iteration-label\">12/12</span>\n",
       "<span class=\"Time-label\">[00:08<00:00, 0.69s/it]</span></div>"
      ],
      "text/plain": [
       "\u001b[A\u001b[2K\r",
       "The Drums by Th [█████████████████████████████████████████████] 12/12 [00:08<00:00, 0.69s/it]"
      ]
     },
     "metadata": {},
     "output_type": "display_data"
    },
    {
     "data": {
      "text/html": [
       "<div><span class=\"Text-label\" style=\"display:inline-block; overflow:hidden; white-space:nowrap; text-overflow:ellipsis; min-width:15ex; max-width:15ex; vertical-align:middle; text-align:right\">Wild Smile by Suckers</span>\n",
       "<progress style=\"width:45ex\" max=\"11\" value=\"11\" class=\"Progress-main\"/></progress>\n",
       "<span class=\"Progress-label\"><strong>100%</strong></span>\n",
       "<span class=\"Iteration-label\">11/11</span>\n",
       "<span class=\"Time-label\">[00:08<00:00, 0.76s/it]</span></div>"
      ],
      "text/plain": [
       "\u001b[A\u001b[2K\r",
       "Wild Smile by S [█████████████████████████████████████████████] 11/11 [00:08<00:00, 0.76s/it]"
      ]
     },
     "metadata": {},
     "output_type": "display_data"
    },
    {
     "data": {
      "text/html": [
       "<div><span class=\"Text-label\" style=\"display:inline-block; overflow:hidden; white-space:nowrap; text-overflow:ellipsis; min-width:15ex; max-width:15ex; vertical-align:middle; text-align:right\">Before Today by Ariel Pink</span>\n",
       "<progress style=\"width:45ex\" max=\"12\" value=\"12\" class=\"Progress-main\"/></progress>\n",
       "<span class=\"Progress-label\"><strong>100%</strong></span>\n",
       "<span class=\"Iteration-label\">12/12</span>\n",
       "<span class=\"Time-label\">[00:07<00:01, 0.62s/it]</span></div>"
      ],
      "text/plain": [
       "\u001b[A\u001b[2K\r",
       "Before Today by [█████████████████████████████████████████████] 12/12 [00:07<00:01, 0.62s/it]"
      ]
     },
     "metadata": {},
     "output_type": "display_data"
    },
    {
     "data": {
      "text/html": [
       "<div><span class=\"Text-label\" style=\"display:inline-block; overflow:hidden; white-space:nowrap; text-overflow:ellipsis; min-width:15ex; max-width:15ex; vertical-align:middle; text-align:right\">Pigeons by Here We Go Magic</span>\n",
       "<progress style=\"width:45ex\" max=\"11\" value=\"11\" class=\"Progress-main\"/></progress>\n",
       "<span class=\"Progress-label\"><strong>100%</strong></span>\n",
       "<span class=\"Iteration-label\">11/11</span>\n",
       "<span class=\"Time-label\">[00:09<00:01, 0.80s/it]</span></div>"
      ],
      "text/plain": [
       "\u001b[A\u001b[2K\r",
       "Pigeons by Here [█████████████████████████████████████████████] 11/11 [00:09<00:01, 0.80s/it]"
      ]
     },
     "metadata": {},
     "output_type": "display_data"
    },
    {
     "data": {
      "text/html": [
       "<div><span class=\"Text-label\" style=\"display:inline-block; overflow:hidden; white-space:nowrap; text-overflow:ellipsis; min-width:15ex; max-width:15ex; vertical-align:middle; text-align:right\">Fever by Sleepy Sun</span>\n",
       "<progress style=\"width:45ex\" max=\"9\" value=\"9\" class=\"Progress-main\"/></progress>\n",
       "<span class=\"Progress-label\"><strong>100%</strong></span>\n",
       "<span class=\"Iteration-label\">9/9</span>\n",
       "<span class=\"Time-label\">[00:06<00:01, 0.65s/it]</span></div>"
      ],
      "text/plain": [
       "\u001b[A\u001b[2K\r",
       "Fever by Sleepy [█████████████████████████████████████████████] 9/9 [00:06<00:01, 0.65s/it]"
      ]
     },
     "metadata": {},
     "output_type": "display_data"
    },
    {
     "data": {
      "text/html": [
       "<div><span class=\"Text-label\" style=\"display:inline-block; overflow:hidden; white-space:nowrap; text-overflow:ellipsis; min-width:15ex; max-width:15ex; vertical-align:middle; text-align:right\">The Bride Screamed Murder by Melvins</span>\n",
       "<progress style=\"width:45ex\" max=\"9\" value=\"9\" class=\"Progress-main\"/></progress>\n",
       "<span class=\"Progress-label\"><strong>100%</strong></span>\n",
       "<span class=\"Iteration-label\">9/9</span>\n",
       "<span class=\"Time-label\">[00:05<00:01, 0.57s/it]</span></div>"
      ],
      "text/plain": [
       "\u001b[A\u001b[2K\r",
       "The Bride Screa [█████████████████████████████████████████████] 9/9 [00:05<00:01, 0.57s/it]"
      ]
     },
     "metadata": {},
     "output_type": "display_data"
    },
    {
     "data": {
      "text/html": [
       "<div><span class=\"Text-label\" style=\"display:inline-block; overflow:hidden; white-space:nowrap; text-overflow:ellipsis; min-width:15ex; max-width:15ex; vertical-align:middle; text-align:right\">InnerSpeaker by Tame Impala</span>\n",
       "<progress style=\"width:45ex\" max=\"11\" value=\"11\" class=\"Progress-main\"/></progress>\n",
       "<span class=\"Progress-label\"><strong>100%</strong></span>\n",
       "<span class=\"Iteration-label\">11/11</span>\n",
       "<span class=\"Time-label\">[00:08<00:01, 0.77s/it]</span></div>"
      ],
      "text/plain": [
       "\u001b[A\u001b[2K\r",
       "InnerSpeaker by [█████████████████████████████████████████████] 11/11 [00:08<00:01, 0.77s/it]"
      ]
     },
     "metadata": {},
     "output_type": "display_data"
    },
    {
     "data": {
      "text/html": [
       "<div><span class=\"Text-label\" style=\"display:inline-block; overflow:hidden; white-space:nowrap; text-overflow:ellipsis; min-width:15ex; max-width:15ex; vertical-align:middle; text-align:right\">OJ Simpson by Guilty Simpson</span>\n",
       "<progress style=\"width:45ex\" max=\"24\" value=\"24\" class=\"Progress-main\"/></progress>\n",
       "<span class=\"Progress-label\"><strong>100%</strong></span>\n",
       "<span class=\"Iteration-label\">24/24</span>\n",
       "<span class=\"Time-label\">[00:15<00:00, 0.62s/it]</span></div>"
      ],
      "text/plain": [
       "\u001b[A\u001b[2K\r",
       "OJ Simpson by G [█████████████████████████████████████████████] 24/24 [00:15<00:00, 0.62s/it]"
      ]
     },
     "metadata": {},
     "output_type": "display_data"
    },
    {
     "data": {
      "text/html": [
       "<div><span class=\"Text-label\" style=\"display:inline-block; overflow:hidden; white-space:nowrap; text-overflow:ellipsis; min-width:15ex; max-width:15ex; vertical-align:middle; text-align:right\">LP4 by Ratatat</span>\n",
       "<progress style=\"width:45ex\" max=\"12\" value=\"12\" class=\"Progress-main\"/></progress>\n",
       "<span class=\"Progress-label\"><strong>100%</strong></span>\n",
       "<span class=\"Iteration-label\">12/12</span>\n",
       "<span class=\"Time-label\">[00:08<00:01, 0.63s/it]</span></div>"
      ],
      "text/plain": [
       "\u001b[A\u001b[2K\r",
       " LP4 by Ratatat [█████████████████████████████████████████████] 12/12 [00:08<00:01, 0.63s/it]"
      ]
     },
     "metadata": {},
     "output_type": "display_data"
    },
    {
     "data": {
      "text/html": [
       "<div><span class=\"Text-label\" style=\"display:inline-block; overflow:hidden; white-space:nowrap; text-overflow:ellipsis; min-width:15ex; max-width:15ex; vertical-align:middle; text-align:right\">Portal Of Sorrow by Xasthur</span>\n",
       "<progress style=\"width:45ex\" max=\"14\" value=\"14\" class=\"Progress-main\"/></progress>\n",
       "<span class=\"Progress-label\"><strong>100%</strong></span>\n",
       "<span class=\"Iteration-label\">14/14</span>\n",
       "<span class=\"Time-label\">[00:08<00:00, 0.58s/it]</span></div>"
      ],
      "text/plain": [
       "\u001b[A\u001b[2K\r",
       "Portal Of Sorro [█████████████████████████████████████████████] 14/14 [00:08<00:00, 0.58s/it]"
      ]
     },
     "metadata": {},
     "output_type": "display_data"
    },
    {
     "data": {
      "text/html": [
       "<div><span class=\"Text-label\" style=\"display:inline-block; overflow:hidden; white-space:nowrap; text-overflow:ellipsis; min-width:15ex; max-width:15ex; vertical-align:middle; text-align:right\">Maniac Meat by TOBACCO</span>\n",
       "<progress style=\"width:45ex\" max=\"16\" value=\"16\" class=\"Progress-main\"/></progress>\n",
       "<span class=\"Progress-label\"><strong>100%</strong></span>\n",
       "<span class=\"Iteration-label\">16/16</span>\n",
       "<span class=\"Time-label\">[00:09<00:03, 0.57s/it]</span></div>"
      ],
      "text/plain": [
       "\u001b[A\u001b[2K\r",
       "Maniac Meat by  [█████████████████████████████████████████████] 16/16 [00:09<00:03, 0.57s/it]"
      ]
     },
     "metadata": {},
     "output_type": "display_data"
    },
    {
     "data": {
      "text/html": [
       "<div><span class=\"Text-label\" style=\"display:inline-block; overflow:hidden; white-space:nowrap; text-overflow:ellipsis; min-width:15ex; max-width:15ex; vertical-align:middle; text-align:right\">Hippies by Harlem</span>\n",
       "<progress style=\"width:45ex\" max=\"16\" value=\"16\" class=\"Progress-main\"/></progress>\n",
       "<span class=\"Progress-label\"><strong>100%</strong></span>\n",
       "<span class=\"Iteration-label\">16/16</span>\n",
       "<span class=\"Time-label\">[00:09<00:00, 0.58s/it]</span></div>"
      ],
      "text/plain": [
       "\u001b[A\u001b[2K\r",
       "Hippies by Harl [█████████████████████████████████████████████] 16/16 [00:09<00:00, 0.58s/it]"
      ]
     },
     "metadata": {},
     "output_type": "display_data"
    },
    {
     "data": {
      "text/html": [
       "<div><span class=\"Text-label\" style=\"display:inline-block; overflow:hidden; white-space:nowrap; text-overflow:ellipsis; min-width:15ex; max-width:15ex; vertical-align:middle; text-align:right\">Treats by Sleigh Bells</span>\n",
       "<progress style=\"width:45ex\" max=\"11\" value=\"11\" class=\"Progress-main\"/></progress>\n",
       "<span class=\"Progress-label\"><strong>100%</strong></span>\n",
       "<span class=\"Iteration-label\">11/11</span>\n",
       "<span class=\"Time-label\">[00:07<00:01, 0.67s/it]</span></div>"
      ],
      "text/plain": [
       "\u001b[A\u001b[2K\r",
       "Treats by Sleig [█████████████████████████████████████████████] 11/11 [00:07<00:01, 0.67s/it]"
      ]
     },
     "metadata": {},
     "output_type": "display_data"
    },
    {
     "data": {
      "text/html": [
       "<div><span class=\"Text-label\" style=\"display:inline-block; overflow:hidden; white-space:nowrap; text-overflow:ellipsis; min-width:15ex; max-width:15ex; vertical-align:middle; text-align:right\">Brothers by The Black Keys</span>\n",
       "<progress style=\"width:45ex\" max=\"15\" value=\"15\" class=\"Progress-main\"/></progress>\n",
       "<span class=\"Progress-label\"><strong>100%</strong></span>\n",
       "<span class=\"Iteration-label\">15/15</span>\n",
       "<span class=\"Time-label\">[00:08<00:01, 0.56s/it]</span></div>"
      ],
      "text/plain": [
       "\u001b[A\u001b[2K\r",
       "Brothers by The [█████████████████████████████████████████████] 15/15 [00:08<00:01, 0.56s/it]"
      ]
     },
     "metadata": {},
     "output_type": "display_data"
    },
    {
     "data": {
      "text/html": [
       "<div><span class=\"Text-label\" style=\"display:inline-block; overflow:hidden; white-space:nowrap; text-overflow:ellipsis; min-width:15ex; max-width:15ex; vertical-align:middle; text-align:right\">This Is Happening by LCD Soundsystem</span>\n",
       "<progress style=\"width:45ex\" max=\"9\" value=\"9\" class=\"Progress-main\"/></progress>\n",
       "<span class=\"Progress-label\"><strong>100%</strong></span>\n",
       "<span class=\"Iteration-label\">9/9</span>\n",
       "<span class=\"Time-label\">[00:08<00:01, 0.91s/it]</span></div>"
      ],
      "text/plain": [
       "\u001b[A\u001b[2K\r",
       "This Is Happeni [█████████████████████████████████████████████] 9/9 [00:08<00:01, 0.91s/it]"
      ]
     },
     "metadata": {},
     "output_type": "display_data"
    },
    {
     "data": {
      "text/html": [
       "<div><span class=\"Text-label\" style=\"display:inline-block; overflow:hidden; white-space:nowrap; text-overflow:ellipsis; min-width:15ex; max-width:15ex; vertical-align:middle; text-align:right\">Sea Of Cowards by The Dead Weather</span>\n",
       "<progress style=\"width:45ex\" max=\"11\" value=\"11\" class=\"Progress-main\"/></progress>\n",
       "<span class=\"Progress-label\"><strong>100%</strong></span>\n",
       "<span class=\"Iteration-label\">11/11</span>\n",
       "<span class=\"Time-label\">[00:06<00:01, 0.54s/it]</span></div>"
      ],
      "text/plain": [
       "\u001b[A\u001b[2K\r",
       "Sea Of Cowards  [█████████████████████████████████████████████] 11/11 [00:06<00:01, 0.54s/it]"
      ]
     },
     "metadata": {},
     "output_type": "display_data"
    },
    {
     "data": {
      "text/html": [
       "<div><span class=\"Text-label\" style=\"display:inline-block; overflow:hidden; white-space:nowrap; text-overflow:ellipsis; min-width:15ex; max-width:15ex; vertical-align:middle; text-align:right\">Their Complete Recordings Together by Bing Crosby</span>\n",
       "<progress style=\"width:45ex\" max=\"50\" value=\"50\" class=\"Progress-main\"/></progress>\n",
       "<span class=\"Progress-label\"><strong>100%</strong></span>\n",
       "<span class=\"Iteration-label\">50/50</span>\n",
       "<span class=\"Time-label\">[00:27<00:01, 0.53s/it]</span></div>"
      ],
      "text/plain": [
       "\u001b[A\u001b[2K\r",
       "Their Complete  [█████████████████████████████████████████████] 50/50 [00:27<00:01, 0.53s/it]"
      ]
     },
     "metadata": {},
     "output_type": "display_data"
    },
    {
     "data": {
      "text/html": [
       "<div><span class=\"Text-label\" style=\"display:inline-block; overflow:hidden; white-space:nowrap; text-overflow:ellipsis; min-width:15ex; max-width:15ex; vertical-align:middle; text-align:right\">High Violet by The National</span>\n",
       "<progress style=\"width:45ex\" max=\"11\" value=\"11\" class=\"Progress-main\"/></progress>\n",
       "<span class=\"Progress-label\"><strong>100%</strong></span>\n",
       "<span class=\"Iteration-label\">11/11</span>\n",
       "<span class=\"Time-label\">[00:08<00:00, 0.72s/it]</span></div>"
      ],
      "text/plain": [
       "\u001b[A\u001b[2K\r",
       "High Violet by  [█████████████████████████████████████████████] 11/11 [00:08<00:00, 0.72s/it]"
      ]
     },
     "metadata": {},
     "output_type": "display_data"
    },
    {
     "data": {
      "text/html": [
       "<div><span class=\"Text-label\" style=\"display:inline-block; overflow:hidden; white-space:nowrap; text-overflow:ellipsis; min-width:15ex; max-width:15ex; vertical-align:middle; text-align:right\">At Echo Lake by Woods</span>\n",
       "<progress style=\"width:45ex\" max=\"11\" value=\"11\" class=\"Progress-main\"/></progress>\n",
       "<span class=\"Progress-label\"><strong>100%</strong></span>\n",
       "<span class=\"Iteration-label\">11/11</span>\n",
       "<span class=\"Time-label\">[00:07<00:01, 0.62s/it]</span></div>"
      ],
      "text/plain": [
       "\u001b[A\u001b[2K\r",
       "At Echo Lake by [█████████████████████████████████████████████] 11/11 [00:07<00:01, 0.62s/it]"
      ]
     },
     "metadata": {},
     "output_type": "display_data"
    },
    {
     "data": {
      "text/html": [
       "<div><span class=\"Text-label\" style=\"display:inline-block; overflow:hidden; white-space:nowrap; text-overflow:ellipsis; min-width:15ex; max-width:15ex; vertical-align:middle; text-align:right\">Latin by Holy Fuck</span>\n",
       "<progress style=\"width:45ex\" max=\"9\" value=\"9\" class=\"Progress-main\"/></progress>\n",
       "<span class=\"Progress-label\"><strong>100%</strong></span>\n",
       "<span class=\"Iteration-label\">9/9</span>\n",
       "<span class=\"Time-label\">[00:06<00:01, 0.62s/it]</span></div>"
      ],
      "text/plain": [
       "\u001b[A\u001b[2K\r",
       "Latin by Holy F [█████████████████████████████████████████████] 9/9 [00:06<00:01, 0.62s/it]"
      ]
     },
     "metadata": {},
     "output_type": "display_data"
    },
    {
     "data": {
      "text/html": [
       "<div><span class=\"Text-label\" style=\"display:inline-block; overflow:hidden; white-space:nowrap; text-overflow:ellipsis; min-width:15ex; max-width:15ex; vertical-align:middle; text-align:right\">Throat by Little Women</span>\n",
       "<progress style=\"width:45ex\" max=\"7\" value=\"7\" class=\"Progress-main\"/></progress>\n",
       "<span class=\"Progress-label\"><strong>100%</strong></span>\n",
       "<span class=\"Iteration-label\">7/7</span>\n",
       "<span class=\"Time-label\">[00:04<00:01, 0.63s/it]</span></div>"
      ],
      "text/plain": [
       "\u001b[A\u001b[2K\r",
       "Throat by Littl [█████████████████████████████████████████████] 7/7 [00:04<00:01, 0.63s/it]"
      ]
     },
     "metadata": {},
     "output_type": "display_data"
    },
    {
     "data": {
      "text/html": [
       "<div><span class=\"Text-label\" style=\"display:inline-block; overflow:hidden; white-space:nowrap; text-overflow:ellipsis; min-width:15ex; max-width:15ex; vertical-align:middle; text-align:right\">Cosmogramma by Flying Lotus</span>\n",
       "<progress style=\"width:45ex\" max=\"17\" value=\"17\" class=\"Progress-main\"/></progress>\n",
       "<span class=\"Progress-label\"><strong>100%</strong></span>\n",
       "<span class=\"Iteration-label\">17/17</span>\n",
       "<span class=\"Time-label\">[00:10<00:01, 0.56s/it]</span></div>"
      ],
      "text/plain": [
       "\u001b[A\u001b[2K\r",
       "Cosmogramma by  [█████████████████████████████████████████████] 17/17 [00:10<00:01, 0.56s/it]"
      ]
     },
     "metadata": {},
     "output_type": "display_data"
    },
    {
     "data": {
      "text/html": [
       "<div><span class=\"Text-label\" style=\"display:inline-block; overflow:hidden; white-space:nowrap; text-overflow:ellipsis; min-width:15ex; max-width:15ex; vertical-align:middle; text-align:right\">Forgiveness Rock Record by Broken Social Scene</span>\n",
       "<progress style=\"width:45ex\" max=\"14\" value=\"14\" class=\"Progress-main\"/></progress>\n",
       "<span class=\"Progress-label\"><strong>100%</strong></span>\n",
       "<span class=\"Iteration-label\">14/14</span>\n",
       "<span class=\"Time-label\">[00:09<00:00, 0.68s/it]</span></div>"
      ],
      "text/plain": [
       "\u001b[A\u001b[2K\r",
       "Forgiveness Roc [█████████████████████████████████████████████] 14/14 [00:09<00:00, 0.68s/it]"
      ]
     },
     "metadata": {},
     "output_type": "display_data"
    },
    {
     "data": {
      "text/html": [
       "<div><span class=\"Text-label\" style=\"display:inline-block; overflow:hidden; white-space:nowrap; text-overflow:ellipsis; min-width:15ex; max-width:15ex; vertical-align:middle; text-align:right\">Crystal Castles by Crystal Castles</span>\n",
       "<progress style=\"width:45ex\" max=\"17\" value=\"17\" class=\"Progress-main\"/></progress>\n",
       "<span class=\"Progress-label\"><strong>100%</strong></span>\n",
       "<span class=\"Iteration-label\">17/17</span>\n",
       "<span class=\"Time-label\">[00:09<00:01, 0.55s/it]</span></div>"
      ],
      "text/plain": [
       "\u001b[A\u001b[2K\r",
       "Crystal Castles [█████████████████████████████████████████████] 17/17 [00:09<00:01, 0.55s/it]"
      ]
     },
     "metadata": {},
     "output_type": "display_data"
    },
    {
     "data": {
      "text/html": [
       "<div><span class=\"Text-label\" style=\"display:inline-block; overflow:hidden; white-space:nowrap; text-overflow:ellipsis; min-width:15ex; max-width:15ex; vertical-align:middle; text-align:right\">Circle The Wagons by Darkthrone</span>\n",
       "<progress style=\"width:45ex\" max=\"9\" value=\"9\" class=\"Progress-main\"/></progress>\n",
       "<span class=\"Progress-label\"><strong>100%</strong></span>\n",
       "<span class=\"Iteration-label\">9/9</span>\n",
       "<span class=\"Time-label\">[00:06<00:01, 0.68s/it]</span></div>"
      ],
      "text/plain": [
       "\u001b[A\u001b[2K\r",
       "Circle The Wago [█████████████████████████████████████████████] 9/9 [00:06<00:01, 0.68s/it]"
      ]
     },
     "metadata": {},
     "output_type": "display_data"
    },
    {
     "data": {
      "text/html": [
       "<div><span class=\"Text-label\" style=\"display:inline-block; overflow:hidden; white-space:nowrap; text-overflow:ellipsis; min-width:15ex; max-width:15ex; vertical-align:middle; text-align:right\">Happy birthday song by Happy Birthday Song</span>\n",
       "<progress style=\"width:45ex\" max=\"4\" value=\"4\" class=\"Progress-main\"/></progress>\n",
       "<span class=\"Progress-label\"><strong>100%</strong></span>\n",
       "<span class=\"Iteration-label\">4/4</span>\n",
       "<span class=\"Time-label\">[00:03<00:01, 0.72s/it]</span></div>"
      ],
      "text/plain": [
       "\u001b[A\u001b[2K\r",
       "Happy birthday  [█████████████████████████████████████████████] 4/4 [00:03<00:01, 0.72s/it]"
      ]
     },
     "metadata": {},
     "output_type": "display_data"
    },
    {
     "data": {
      "text/html": [
       "<div><span class=\"Text-label\" style=\"display:inline-block; overflow:hidden; white-space:nowrap; text-overflow:ellipsis; min-width:15ex; max-width:15ex; vertical-align:middle; text-align:right\">Swim by Caribou</span>\n",
       "<progress style=\"width:45ex\" max=\"9\" value=\"9\" class=\"Progress-main\"/></progress>\n",
       "<span class=\"Progress-label\"><strong>100%</strong></span>\n",
       "<span class=\"Iteration-label\">9/9</span>\n",
       "<span class=\"Time-label\">[00:06<00:01, 0.71s/it]</span></div>"
      ],
      "text/plain": [
       "\u001b[A\u001b[2K\r",
       "Swim by Caribou [█████████████████████████████████████████████] 9/9 [00:06<00:01, 0.71s/it]"
      ]
     },
     "metadata": {},
     "output_type": "display_data"
    },
    {
     "data": {
      "text/html": [
       "<div><span class=\"Text-label\" style=\"display:inline-block; overflow:hidden; white-space:nowrap; text-overflow:ellipsis; min-width:15ex; max-width:15ex; vertical-align:middle; text-align:right\">Raw Power by The Stooges</span>\n",
       "<progress style=\"width:45ex\" max=\"8\" value=\"8\" class=\"Progress-main\"/></progress>\n",
       "<span class=\"Progress-label\"><strong>100%</strong></span>\n",
       "<span class=\"Iteration-label\">8/8</span>\n",
       "<span class=\"Time-label\">[00:05<00:01, 0.66s/it]</span></div>"
      ],
      "text/plain": [
       "\u001b[A\u001b[2K\r",
       "Raw Power by Th [█████████████████████████████████████████████] 8/8 [00:05<00:01, 0.66s/it]"
      ]
     },
     "metadata": {},
     "output_type": "display_data"
    },
    {
     "data": {
      "text/html": [
       "<div><span class=\"Text-label\" style=\"display:inline-block; overflow:hidden; white-space:nowrap; text-overflow:ellipsis; min-width:15ex; max-width:15ex; vertical-align:middle; text-align:right\">The Wild Hunt by The Tallest Man On Earth</span>\n",
       "<progress style=\"width:45ex\" max=\"10\" value=\"10\" class=\"Progress-main\"/></progress>\n",
       "<span class=\"Progress-label\"><strong>100%</strong></span>\n",
       "<span class=\"Iteration-label\">10/10</span>\n",
       "<span class=\"Time-label\">[00:06<00:00, 0.62s/it]</span></div>"
      ],
      "text/plain": [
       "\u001b[A\u001b[2K\r",
       "The Wild Hunt b [█████████████████████████████████████████████] 10/10 [00:06<00:00, 0.62s/it]"
      ]
     },
     "metadata": {},
     "output_type": "display_data"
    },
    {
     "data": {
      "text/html": [
       "<div><span class=\"Text-label\" style=\"display:inline-block; overflow:hidden; white-space:nowrap; text-overflow:ellipsis; min-width:15ex; max-width:15ex; vertical-align:middle; text-align:right\">The Monitor by Titus Andronicus</span>\n",
       "<progress style=\"width:45ex\" max=\"10\" value=\"10\" class=\"Progress-main\"/></progress>\n",
       "<span class=\"Progress-label\"><strong>100%</strong></span>\n",
       "<span class=\"Iteration-label\">10/10</span>\n",
       "<span class=\"Time-label\">[00:07<00:01, 0.68s/it]</span></div>"
      ],
      "text/plain": [
       "\u001b[A\u001b[2K\r",
       "The Monitor by  [█████████████████████████████████████████████] 10/10 [00:07<00:01, 0.68s/it]"
      ]
     },
     "metadata": {},
     "output_type": "display_data"
    },
    {
     "data": {
      "text/html": [
       "<div><span class=\"Text-label\" style=\"display:inline-block; overflow:hidden; white-space:nowrap; text-overflow:ellipsis; min-width:15ex; max-width:15ex; vertical-align:middle; text-align:right\">Belus by Burzum</span>\n",
       "<progress style=\"width:45ex\" max=\"8\" value=\"8\" class=\"Progress-main\"/></progress>\n",
       "<span class=\"Progress-label\"><strong>100%</strong></span>\n",
       "<span class=\"Iteration-label\">8/8</span>\n",
       "<span class=\"Time-label\">[00:05<00:01, 0.59s/it]</span></div>"
      ],
      "text/plain": [
       "\u001b[A\u001b[2K\r",
       "Belus by Burzum [█████████████████████████████████████████████] 8/8 [00:05<00:01, 0.59s/it]"
      ]
     },
     "metadata": {},
     "output_type": "display_data"
    },
    {
     "data": {
      "text/html": [
       "<div><span class=\"Text-label\" style=\"display:inline-block; overflow:hidden; white-space:nowrap; text-overflow:ellipsis; min-width:15ex; max-width:15ex; vertical-align:middle; text-align:right\">Black Tambourine by Black Tambourine</span>\n",
       "<progress style=\"width:45ex\" max=\"16\" value=\"16\" class=\"Progress-main\"/></progress>\n",
       "<span class=\"Progress-label\"><strong>100%</strong></span>\n",
       "<span class=\"Iteration-label\">16/16</span>\n",
       "<span class=\"Time-label\">[00:10<00:01, 0.62s/it]</span></div>"
      ],
      "text/plain": [
       "\u001b[A\u001b[2K\r",
       "Black Tambourin [█████████████████████████████████████████████] 16/16 [00:10<00:01, 0.62s/it]"
      ]
     },
     "metadata": {},
     "output_type": "display_data"
    },
    {
     "data": {
      "text/html": [
       "<div><span class=\"Text-label\" style=\"display:inline-block; overflow:hidden; white-space:nowrap; text-overflow:ellipsis; min-width:15ex; max-width:15ex; vertical-align:middle; text-align:right\">Oversteps by Autechre</span>\n",
       "<progress style=\"width:45ex\" max=\"14\" value=\"14\" class=\"Progress-main\"/></progress>\n",
       "<span class=\"Progress-label\"><strong>100%</strong></span>\n",
       "<span class=\"Iteration-label\">14/14</span>\n",
       "<span class=\"Time-label\">[00:09<00:01, 0.64s/it]</span></div>"
      ],
      "text/plain": [
       "\u001b[A\u001b[2K\r",
       "Oversteps by Au [█████████████████████████████████████████████] 14/14 [00:09<00:01, 0.64s/it]"
      ]
     },
     "metadata": {},
     "output_type": "display_data"
    },
    {
     "data": {
      "text/html": [
       "<div><span class=\"Text-label\" style=\"display:inline-block; overflow:hidden; white-space:nowrap; text-overflow:ellipsis; min-width:15ex; max-width:15ex; vertical-align:middle; text-align:right\">Big Echo by The Morning Benders</span>\n",
       "<progress style=\"width:45ex\" max=\"10\" value=\"10\" class=\"Progress-main\"/></progress>\n",
       "<span class=\"Progress-label\"><strong>100%</strong></span>\n",
       "<span class=\"Iteration-label\">10/10</span>\n",
       "<span class=\"Time-label\">[00:06<00:01, 0.58s/it]</span></div>"
      ],
      "text/plain": [
       "\u001b[A\u001b[2K\r",
       "Big Echo by The [█████████████████████████████████████████████] 10/10 [00:06<00:01, 0.58s/it]"
      ]
     },
     "metadata": {},
     "output_type": "display_data"
    },
    {
     "data": {
      "text/html": [
       "<div><span class=\"Text-label\" style=\"display:inline-block; overflow:hidden; white-space:nowrap; text-overflow:ellipsis; min-width:15ex; max-width:15ex; vertical-align:middle; text-align:right\">Congratulations by MGMT</span>\n",
       "<progress style=\"width:45ex\" max=\"9\" value=\"9\" class=\"Progress-main\"/></progress>\n",
       "<span class=\"Progress-label\"><strong>100%</strong></span>\n",
       "<span class=\"Iteration-label\">9/9</span>\n",
       "<span class=\"Time-label\">[00:06<00:01, 0.67s/it]</span></div>"
      ],
      "text/plain": [
       "\u001b[A\u001b[2K\r",
       "Congratulations [█████████████████████████████████████████████] 9/9 [00:06<00:01, 0.67s/it]"
      ]
     },
     "metadata": {},
     "output_type": "display_data"
    },
    {
     "data": {
      "text/html": [
       "<div><span class=\"Text-label\" style=\"display:inline-block; overflow:hidden; white-space:nowrap; text-overflow:ellipsis; min-width:15ex; max-width:15ex; vertical-align:middle; text-align:right\">American Ghetto by Portugal. The Man</span>\n",
       "<progress style=\"width:45ex\" max=\"11\" value=\"11\" class=\"Progress-main\"/></progress>\n",
       "<span class=\"Progress-label\"><strong>100%</strong></span>\n",
       "<span class=\"Iteration-label\">11/11</span>\n",
       "<span class=\"Time-label\">[00:06<00:01, 0.57s/it]</span></div>"
      ],
      "text/plain": [
       "\u001b[A\u001b[2K\r",
       "American Ghetto [█████████████████████████████████████████████] 11/11 [00:06<00:01, 0.57s/it]"
      ]
     },
     "metadata": {},
     "output_type": "display_data"
    },
    {
     "data": {
      "text/html": [
       "<div><span class=\"Text-label\" style=\"display:inline-block; overflow:hidden; white-space:nowrap; text-overflow:ellipsis; min-width:15ex; max-width:15ex; vertical-align:middle; text-align:right\">A Sufi And A Killer by Gonjasufi</span>\n",
       "<progress style=\"width:45ex\" max=\"20\" value=\"20\" class=\"Progress-main\"/></progress>\n",
       "<span class=\"Progress-label\"><strong>100%</strong></span>\n",
       "<span class=\"Iteration-label\">20/20</span>\n",
       "<span class=\"Time-label\">[00:10<00:00, 0.51s/it]</span></div>"
      ],
      "text/plain": [
       "\u001b[A\u001b[2K\r",
       "A Sufi And A Ki [█████████████████████████████████████████████] 20/20 [00:10<00:00, 0.51s/it]"
      ]
     },
     "metadata": {},
     "output_type": "display_data"
    },
    {
     "data": {
      "text/html": [
       "<div><span class=\"Text-label\" style=\"display:inline-block; overflow:hidden; white-space:nowrap; text-overflow:ellipsis; min-width:15ex; max-width:15ex; vertical-align:middle; text-align:right\">Þþþþþþþþþþþ by Arckanum</span>\n",
       "<progress style=\"width:45ex\" max=\"11\" value=\"11\" class=\"Progress-main\"/></progress>\n",
       "<span class=\"Progress-label\"><strong>100%</strong></span>\n",
       "<span class=\"Iteration-label\">11/11</span>\n",
       "<span class=\"Time-label\">[00:09<00:00, 0.80s/it]</span></div>"
      ],
      "text/plain": [
       "\u001b[A\u001b[2K\r",
       "Þþþþþþþþþþþ by  [█████████████████████████████████████████████] 11/11 [00:09<00:00, 0.80s/it]"
      ]
     },
     "metadata": {},
     "output_type": "display_data"
    },
    {
     "data": {
      "text/html": [
       "<div><span class=\"Text-label\" style=\"display:inline-block; overflow:hidden; white-space:nowrap; text-overflow:ellipsis; min-width:15ex; max-width:15ex; vertical-align:middle; text-align:right\">Broken Bells by Broken Bells</span>\n",
       "<progress style=\"width:45ex\" max=\"10\" value=\"10\" class=\"Progress-main\"/></progress>\n",
       "<span class=\"Progress-label\"><strong>100%</strong></span>\n",
       "<span class=\"Iteration-label\">10/10</span>\n",
       "<span class=\"Time-label\">[00:07<00:01, 0.74s/it]</span></div>"
      ],
      "text/plain": [
       "\u001b[A\u001b[2K\r",
       "Broken Bells by [█████████████████████████████████████████████] 10/10 [00:07<00:01, 0.74s/it]"
      ]
     },
     "metadata": {},
     "output_type": "display_data"
    },
    {
     "data": {
      "text/html": [
       "<div><span class=\"Text-label\" style=\"display:inline-block; overflow:hidden; white-space:nowrap; text-overflow:ellipsis; min-width:15ex; max-width:15ex; vertical-align:middle; text-align:right\">Sisterworld by Liars</span>\n",
       "<progress style=\"width:45ex\" max=\"11\" value=\"11\" class=\"Progress-main\"/></progress>\n",
       "<span class=\"Progress-label\"><strong>100%</strong></span>\n",
       "<span class=\"Iteration-label\">11/11</span>\n",
       "<span class=\"Time-label\">[00:07<00:01, 0.63s/it]</span></div>"
      ],
      "text/plain": [
       "\u001b[A\u001b[2K\r",
       "Sisterworld by  [█████████████████████████████████████████████] 11/11 [00:07<00:01, 0.63s/it]"
      ]
     },
     "metadata": {},
     "output_type": "display_data"
    },
    {
     "data": {
      "text/html": [
       "<div><span class=\"Text-label\" style=\"display:inline-block; overflow:hidden; white-space:nowrap; text-overflow:ellipsis; min-width:15ex; max-width:15ex; vertical-align:middle; text-align:right\">Snakes For The Divine by High On Fire</span>\n",
       "<progress style=\"width:45ex\" max=\"8\" value=\"8\" class=\"Progress-main\"/></progress>\n",
       "<span class=\"Progress-label\"><strong>100%</strong></span>\n",
       "<span class=\"Iteration-label\">8/8</span>\n",
       "<span class=\"Time-label\">[00:08<00:01, 0.97s/it]</span></div>"
      ],
      "text/plain": [
       "\u001b[A\u001b[2K\r",
       "Snakes For The  [█████████████████████████████████████████████] 8/8 [00:08<00:01, 0.97s/it]"
      ]
     },
     "metadata": {},
     "output_type": "display_data"
    },
    {
     "data": {
      "text/html": [
       "<div><span class=\"Text-label\" style=\"display:inline-block; overflow:hidden; white-space:nowrap; text-overflow:ellipsis; min-width:15ex; max-width:15ex; vertical-align:middle; text-align:right\">Tomorrow In A Year by The Knife</span>\n",
       "<progress style=\"width:45ex\" max=\"16\" value=\"16\" class=\"Progress-main\"/></progress>\n",
       "<span class=\"Progress-label\"><strong>100%</strong></span>\n",
       "<span class=\"Iteration-label\">16/16</span>\n",
       "<span class=\"Time-label\">[00:16<00:01, 1.02s/it]</span></div>"
      ],
      "text/plain": [
       "\u001b[A\u001b[2K\r",
       "Tomorrow In A Y [█████████████████████████████████████████████] 16/16 [00:16<00:01, 1.02s/it]"
      ]
     },
     "metadata": {},
     "output_type": "display_data"
    },
    {
     "data": {
      "text/html": [
       "<div><span class=\"Text-label\" style=\"display:inline-block; overflow:hidden; white-space:nowrap; text-overflow:ellipsis; min-width:15ex; max-width:15ex; vertical-align:middle; text-align:right\">Plastic Beach by Gorillaz</span>\n",
       "<progress style=\"width:45ex\" max=\"16\" value=\"16\" class=\"Progress-main\"/></progress>\n",
       "<span class=\"Progress-label\"><strong>100%</strong></span>\n",
       "<span class=\"Iteration-label\">16/16</span>\n",
       "<span class=\"Time-label\">[00:13<00:00, 0.79s/it]</span></div>"
      ],
      "text/plain": [
       "\u001b[A\u001b[2K\r",
       "Plastic Beach b [█████████████████████████████████████████████] 16/16 [00:13<00:00, 0.79s/it]"
      ]
     },
     "metadata": {},
     "output_type": "display_data"
    },
    {
     "name": "stdout",
     "output_type": "stream",
     "text": [
      "1738 albums initialized\n"
     ]
    }
   ],
   "source": [
    "# initialize albums and tracks, summarize, and put in CSV for storage\n",
    "#albums = []\n",
    "print(\"initializing albums and tracks\")\n",
    "i = 0\n",
    "with open(ndcsv, \"a\", encoding=\"utf-8\") as ndd:\n",
    "    wr = csv.writer(ndd, dialect='excel')\n",
    "    for raw_album in pb(raw_albums):\n",
    "        i += 1\n",
    "        try:\n",
    "            #albums.append(Album(raw_album, client))\n",
    "            ''' This is the original code block\n",
    "            if raw_album['id'] not in csvids:\n",
    "                album = Album(raw_album,client)\n",
    "                wr.writerow(album.summary)\n",
    "                csvids.add(album.id)\n",
    "            if i%10 == 0:\n",
    "                ndd.flush()\n",
    "            ''' \n",
    "            #This is the code bloack for bul loading the data to the database\n",
    "            if raw_album['id'] not in csvids:\n",
    "                album = Album(raw_album, client)\n",
    "                db.insert_album(album)\n",
    "                wr.writerow([album.id])\n",
    "                csvids.add(album.id)\n",
    "            if i%10 == 0:\n",
    "                ndd.flush()\n",
    "        except Exception as e:\n",
    "            print(\"exception occured during initialization of \" + raw_album['name'] + \": \" + str(e)) \n",
    "print(len(csvids), \"albums initialized\")"
   ]
  },
  {
   "cell_type": "code",
   "execution_count": 15,
   "metadata": {
    "jupyter": {
     "source_hidden": true
    }
   },
   "outputs": [
    {
     "data": {
      "text/html": [
       "<div>\n",
       "<style scoped>\n",
       "    .dataframe tbody tr th:only-of-type {\n",
       "        vertical-align: middle;\n",
       "    }\n",
       "\n",
       "    .dataframe tbody tr th {\n",
       "        vertical-align: top;\n",
       "    }\n",
       "\n",
       "    .dataframe thead th {\n",
       "        text-align: right;\n",
       "    }\n",
       "</style>\n",
       "<table border=\"1\" class=\"dataframe\">\n",
       "  <thead>\n",
       "    <tr style=\"text-align: right;\">\n",
       "      <th></th>\n",
       "      <th>id</th>\n",
       "      <th>album</th>\n",
       "      <th>score</th>\n",
       "      <th>artists</th>\n",
       "      <th>year</th>\n",
       "      <th>track count</th>\n",
       "      <th>duration</th>\n",
       "      <th># artists mean</th>\n",
       "      <th>danceability mean</th>\n",
       "      <th>energy mean</th>\n",
       "      <th>...</th>\n",
       "      <th>start_of_fade_out 50%</th>\n",
       "      <th>loudness 50%</th>\n",
       "      <th>tempo 50%</th>\n",
       "      <th>tempo_confidence 50%</th>\n",
       "      <th>time_signature 50%</th>\n",
       "      <th>time_signature_confidence 50%</th>\n",
       "      <th>key 50%</th>\n",
       "      <th>key_confidence 50%</th>\n",
       "      <th>mode 50%</th>\n",
       "      <th>mode_confidence 50%</th>\n",
       "    </tr>\n",
       "  </thead>\n",
       "  <tbody>\n",
       "    <tr>\n",
       "      <th>0</th>\n",
       "      <td>6jWde94ln40epKIQCd8XUh</td>\n",
       "      <td>Toxicity</td>\n",
       "      <td>10</td>\n",
       "      <td>System Of A Down</td>\n",
       "      <td>2001</td>\n",
       "      <td>15</td>\n",
       "      <td>2641.92000</td>\n",
       "      <td>1.000000</td>\n",
       "      <td>0.455667</td>\n",
       "      <td>0.898133</td>\n",
       "      <td>...</td>\n",
       "      <td>176.20000</td>\n",
       "      <td>-3.9080</td>\n",
       "      <td>99.733</td>\n",
       "      <td>0.230</td>\n",
       "      <td>4.0</td>\n",
       "      <td>0.9690</td>\n",
       "      <td>2.0</td>\n",
       "      <td>0.486</td>\n",
       "      <td>1.0</td>\n",
       "      <td>0.5620</td>\n",
       "    </tr>\n",
       "    <tr>\n",
       "      <th>1</th>\n",
       "      <td>1CI5OW60s9W41YLI80Jjdr</td>\n",
       "      <td>Untrue</td>\n",
       "      <td>10</td>\n",
       "      <td>Burial</td>\n",
       "      <td>2007</td>\n",
       "      <td>13</td>\n",
       "      <td>3033.37330</td>\n",
       "      <td>1.000000</td>\n",
       "      <td>0.460615</td>\n",
       "      <td>0.528231</td>\n",
       "      <td>...</td>\n",
       "      <td>232.18213</td>\n",
       "      <td>-12.2860</td>\n",
       "      <td>135.120</td>\n",
       "      <td>0.170</td>\n",
       "      <td>4.0</td>\n",
       "      <td>0.9700</td>\n",
       "      <td>3.0</td>\n",
       "      <td>0.453</td>\n",
       "      <td>1.0</td>\n",
       "      <td>0.4410</td>\n",
       "    </tr>\n",
       "    <tr>\n",
       "      <th>2</th>\n",
       "      <td>4iyCxURICjYcIERJt85C5W</td>\n",
       "      <td>The Cold Vein (Deluxe Edition)</td>\n",
       "      <td>10</td>\n",
       "      <td>Cannibal Ox</td>\n",
       "      <td>2013</td>\n",
       "      <td>30</td>\n",
       "      <td>8859.09333</td>\n",
       "      <td>1.166667</td>\n",
       "      <td>0.602767</td>\n",
       "      <td>0.733833</td>\n",
       "      <td>...</td>\n",
       "      <td>274.34087</td>\n",
       "      <td>-5.3655</td>\n",
       "      <td>87.778</td>\n",
       "      <td>0.281</td>\n",
       "      <td>4.0</td>\n",
       "      <td>0.9900</td>\n",
       "      <td>7.0</td>\n",
       "      <td>0.434</td>\n",
       "      <td>1.0</td>\n",
       "      <td>0.4305</td>\n",
       "    </tr>\n",
       "    <tr>\n",
       "      <th>3</th>\n",
       "      <td>7hcefwuxgBS2mssgOtUSJy</td>\n",
       "      <td>The Woods</td>\n",
       "      <td>10</td>\n",
       "      <td>Sleater-Kinney</td>\n",
       "      <td>2005</td>\n",
       "      <td>10</td>\n",
       "      <td>2888.38669</td>\n",
       "      <td>1.000000</td>\n",
       "      <td>0.348600</td>\n",
       "      <td>0.914200</td>\n",
       "      <td>...</td>\n",
       "      <td>241.26404</td>\n",
       "      <td>-2.2345</td>\n",
       "      <td>142.187</td>\n",
       "      <td>0.322</td>\n",
       "      <td>4.0</td>\n",
       "      <td>0.9265</td>\n",
       "      <td>11.0</td>\n",
       "      <td>0.539</td>\n",
       "      <td>0.5</td>\n",
       "      <td>0.4705</td>\n",
       "    </tr>\n",
       "    <tr>\n",
       "      <th>4</th>\n",
       "      <td>4ssF0ppdJnMTtL2hg1CLKX</td>\n",
       "      <td>Give Up (Deluxe 10th Anniversary Edition)</td>\n",
       "      <td>10</td>\n",
       "      <td>The Postal Service</td>\n",
       "      <td>2003</td>\n",
       "      <td>25</td>\n",
       "      <td>6264.88000</td>\n",
       "      <td>1.000000</td>\n",
       "      <td>0.617480</td>\n",
       "      <td>0.640480</td>\n",
       "      <td>...</td>\n",
       "      <td>239.87955</td>\n",
       "      <td>-7.6730</td>\n",
       "      <td>134.949</td>\n",
       "      <td>0.500</td>\n",
       "      <td>4.0</td>\n",
       "      <td>1.0000</td>\n",
       "      <td>2.0</td>\n",
       "      <td>0.617</td>\n",
       "      <td>1.0</td>\n",
       "      <td>0.5600</td>\n",
       "    </tr>\n",
       "  </tbody>\n",
       "</table>\n",
       "<p>5 rows × 70 columns</p>\n",
       "</div>"
      ],
      "text/plain": [
       "                       id                                      album  score  \\\n",
       "0  6jWde94ln40epKIQCd8XUh                                   Toxicity     10   \n",
       "1  1CI5OW60s9W41YLI80Jjdr                                     Untrue     10   \n",
       "2  4iyCxURICjYcIERJt85C5W             The Cold Vein (Deluxe Edition)     10   \n",
       "3  7hcefwuxgBS2mssgOtUSJy                                  The Woods     10   \n",
       "4  4ssF0ppdJnMTtL2hg1CLKX  Give Up (Deluxe 10th Anniversary Edition)     10   \n",
       "\n",
       "              artists  year  track count    duration  # artists mean  \\\n",
       "0    System Of A Down  2001           15  2641.92000        1.000000   \n",
       "1              Burial  2007           13  3033.37330        1.000000   \n",
       "2         Cannibal Ox  2013           30  8859.09333        1.166667   \n",
       "3      Sleater-Kinney  2005           10  2888.38669        1.000000   \n",
       "4  The Postal Service  2003           25  6264.88000        1.000000   \n",
       "\n",
       "   danceability mean  energy mean  ...  start_of_fade_out 50%  loudness 50%  \\\n",
       "0           0.455667     0.898133  ...              176.20000       -3.9080   \n",
       "1           0.460615     0.528231  ...              232.18213      -12.2860   \n",
       "2           0.602767     0.733833  ...              274.34087       -5.3655   \n",
       "3           0.348600     0.914200  ...              241.26404       -2.2345   \n",
       "4           0.617480     0.640480  ...              239.87955       -7.6730   \n",
       "\n",
       "   tempo 50%  tempo_confidence 50%  time_signature 50%  \\\n",
       "0     99.733                 0.230                 4.0   \n",
       "1    135.120                 0.170                 4.0   \n",
       "2     87.778                 0.281                 4.0   \n",
       "3    142.187                 0.322                 4.0   \n",
       "4    134.949                 0.500                 4.0   \n",
       "\n",
       "   time_signature_confidence 50%  key 50%  key_confidence 50%  mode 50%  \\\n",
       "0                         0.9690      2.0               0.486       1.0   \n",
       "1                         0.9700      3.0               0.453       1.0   \n",
       "2                         0.9900      7.0               0.434       1.0   \n",
       "3                         0.9265     11.0               0.539       0.5   \n",
       "4                         1.0000      2.0               0.617       1.0   \n",
       "\n",
       "   mode_confidence 50%  \n",
       "0               0.5620  \n",
       "1               0.4410  \n",
       "2               0.4305  \n",
       "3               0.4705  \n",
       "4               0.5600  \n",
       "\n",
       "[5 rows x 70 columns]"
      ]
     },
     "execution_count": 15,
     "metadata": {},
     "output_type": "execute_result"
    }
   ],
   "source": [
    "nd_data = pd.read_csv('needledrop_data.csv',header=0)\n",
    "nd_data.head()"
   ]
  },
  {
   "cell_type": "markdown",
   "metadata": {},
   "source": [
    "---\n",
    "At this point we've gathered all the pertinent information about every album, and every song within each album. Below are descriptions from the spotify API documentation of the different attributes of the song features and analysis. Note that several of the features were dropped immediately becuase they were not relevant to the experiment.\n",
    "\n",
    "The next thing done is the creation of statistics that summarize the features of all the songs in each album. For example, the median dancability of all tracks in an album. These statistics will be used to find patterns in The NeedleDrop album scores. These stats are gathered and flattened to a list for each track in the Album class's dataframe mathod (called in the contructor)"
   ]
  },
  {
   "cell_type": "code",
   "execution_count": 16,
   "metadata": {},
   "outputs": [
    {
     "data": {
      "text/html": [
       "<iframe src=\"https://developer.spotify.com/documentation/web-api/reference/tracks/get-audio-features/\" width=\"800\" height=\"500\"></iframe>\n",
       "<iframe src=\"https://developer.spotify.com/documentation/web-api/reference/tracks/get-audio-analysis/\" width=\"800\" height=\"500\"></iframe>\n"
      ],
      "text/plain": [
       "<IPython.core.display.HTML object>"
      ]
     },
     "metadata": {},
     "output_type": "display_data"
    }
   ],
   "source": [
    "%%html\n",
    "<iframe src=\"https://developer.spotify.com/documentation/web-api/reference/tracks/get-audio-features/\" width=\"800\" height=\"500\"></iframe>\n",
    "<iframe src=\"https://developer.spotify.com/documentation/web-api/reference/tracks/get-audio-analysis/\" width=\"800\" height=\"500\"></iframe>"
   ]
  },
  {
   "cell_type": "markdown",
   "metadata": {},
   "source": [
    "As you can see above, we now have important summary statistics of all the tracks contained within an album. This data will be further shaped to represent values that are important to us. Once we have the features of the album that we want, we can finally compile this data into something that we can use to analyze the NeedleDrop data.\n",
    "\n",
    "Similar to how we summarized each track when generating the album DataFrame, we summarized each album to generate a Dataframe containing summaries of ALL albums that we can correlate with the albums in the NeedleDrop data. This will allow us to first do some learning by creating visualizations. Hopefully we will be able to draw conclusions surrounding Anthony Fantano's music taste. This process is done in the Albums summarize function (called in the Albums constructor).\n",
    "\n",
    "Finally, we will model the data with some machine learning algorithms that will allow us to predict NeedleDrop ratings of future albums. \n",
    "\n",
    "#### See data_exploration.ipynb"
   ]
  }
 ],
 "metadata": {
  "kernelspec": {
   "display_name": "Python 3",
   "language": "python",
   "name": "python3"
  },
  "language_info": {
   "codemirror_mode": {
    "name": "ipython",
    "version": 3
   },
   "file_extension": ".py",
   "mimetype": "text/x-python",
   "name": "python",
   "nbconvert_exporter": "python",
   "pygments_lexer": "ipython3",
   "version": "3.8.3"
  }
 },
 "nbformat": 4,
 "nbformat_minor": 4
}
