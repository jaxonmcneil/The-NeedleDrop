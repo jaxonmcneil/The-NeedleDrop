{
 "cells": [
  {
   "cell_type": "markdown",
   "metadata": {},
   "source": [
    "# DATA ACQUISITION AND MANIPULATION\n",
    "Retrieval and shaping of data from the NeedleDrop dataset and Spotify API"
   ]
  },
  {
   "cell_type": "markdown",
   "metadata": {},
   "source": [
    "### Step 1: Get NeedleDrop Data"
   ]
  },
  {
   "cell_type": "code",
   "execution_count": null,
   "metadata": {},
   "outputs": [],
   "source": [
    "#import data science tools\n",
    "import matplotlib.pyplot as plt\n",
    "import numpy as np\n",
    "import pandas as pd\n",
    "\n",
    "plt.style.use('seaborn-darkgrid')"
   ]
  },
  {
   "cell_type": "code",
   "execution_count": 2,
   "metadata": {},
   "outputs": [
    {
     "data": {
      "text/html": [
       "<div>\n",
       "<style scoped>\n",
       "    .dataframe tbody tr th:only-of-type {\n",
       "        vertical-align: middle;\n",
       "    }\n",
       "\n",
       "    .dataframe tbody tr th {\n",
       "        vertical-align: top;\n",
       "    }\n",
       "\n",
       "    .dataframe thead th {\n",
       "        text-align: right;\n",
       "    }\n",
       "</style>\n",
       "<table border=\"1\" class=\"dataframe\">\n",
       "  <thead>\n",
       "    <tr style=\"text-align: right;\">\n",
       "      <th></th>\n",
       "      <th>artist</th>\n",
       "      <th>album</th>\n",
       "      <th>score</th>\n",
       "    </tr>\n",
       "  </thead>\n",
       "  <tbody>\n",
       "    <tr>\n",
       "      <th>2</th>\n",
       "      <td>System of a Down</td>\n",
       "      <td>Toxicity</td>\n",
       "      <td>10</td>\n",
       "    </tr>\n",
       "    <tr>\n",
       "      <th>3</th>\n",
       "      <td>Burial</td>\n",
       "      <td>Untrue</td>\n",
       "      <td>10</td>\n",
       "    </tr>\n",
       "    <tr>\n",
       "      <th>4</th>\n",
       "      <td>Cannibal Ox</td>\n",
       "      <td>The Cold Vein</td>\n",
       "      <td>10</td>\n",
       "    </tr>\n",
       "    <tr>\n",
       "      <th>5</th>\n",
       "      <td>Sleater-Kinney</td>\n",
       "      <td>The Woods</td>\n",
       "      <td>10</td>\n",
       "    </tr>\n",
       "    <tr>\n",
       "      <th>6</th>\n",
       "      <td>The Postal Service</td>\n",
       "      <td>Give Up</td>\n",
       "      <td>10</td>\n",
       "    </tr>\n",
       "    <tr>\n",
       "      <th>...</th>\n",
       "      <td>...</td>\n",
       "      <td>...</td>\n",
       "      <td>...</td>\n",
       "    </tr>\n",
       "    <tr>\n",
       "      <th>1991</th>\n",
       "      <td>Broken Bells</td>\n",
       "      <td>Broken Bells</td>\n",
       "      <td>5</td>\n",
       "    </tr>\n",
       "    <tr>\n",
       "      <th>1992</th>\n",
       "      <td>Liars</td>\n",
       "      <td>Sisterworld</td>\n",
       "      <td>6</td>\n",
       "    </tr>\n",
       "    <tr>\n",
       "      <th>1993</th>\n",
       "      <td>High On Fire</td>\n",
       "      <td>Snakes for the Divine</td>\n",
       "      <td>8</td>\n",
       "    </tr>\n",
       "    <tr>\n",
       "      <th>1994</th>\n",
       "      <td>The Knife</td>\n",
       "      <td>Tomorrow In a Year</td>\n",
       "      <td>3</td>\n",
       "    </tr>\n",
       "    <tr>\n",
       "      <th>1995</th>\n",
       "      <td>Gorillaz</td>\n",
       "      <td>Plastic Beach</td>\n",
       "      <td>7</td>\n",
       "    </tr>\n",
       "  </tbody>\n",
       "</table>\n",
       "<p>1858 rows × 3 columns</p>\n",
       "</div>"
      ],
      "text/plain": [
       "                  artist                   album  score\n",
       "2       System of a Down                Toxicity     10\n",
       "3                 Burial                  Untrue     10\n",
       "4            Cannibal Ox           The Cold Vein     10\n",
       "5        Sleater-Kinney                The Woods     10\n",
       "6     The Postal Service                 Give Up     10\n",
       "...                  ...                     ...    ...\n",
       "1991        Broken Bells           Broken Bells       5\n",
       "1992               Liars            Sisterworld       6\n",
       "1993        High On Fire  Snakes for the Divine       8\n",
       "1994           The Knife      Tomorrow In a Year      3\n",
       "1995            Gorillaz           Plastic Beach      7\n",
       "\n",
       "[1858 rows x 3 columns]"
      ]
     },
     "execution_count": 2,
     "metadata": {},
     "output_type": "execute_result"
    }
   ],
   "source": [
    "#Get the NeedleDrop ratings in a pandas DataFrame and manipulate it to bettwe suit our needs\n",
    "nd = pd.read_csv('./all_needledrop_ratings.csv')\n",
    "\n",
    "#Set column names\n",
    "nd.columns = ['artist','album','score','review year']\n",
    "\n",
    "#drop review year column. This column contains very incomplete data and we can get better data from the spotify API\n",
    "nd.drop(labels='review year', axis='columns',inplace=True)\n",
    "\n",
    "#drop first 2 rows\n",
    "nd.drop(labels=[0,1],axis='index',inplace=True)\n",
    "\n",
    "#set rating of all albums with rating \"classic\" or \"CLASSIC\" to 10\n",
    "nd.replace(to_replace=['CLASSIC','classic'],value='10', inplace=True)\n",
    "\n",
    "#remove all rows with weird ratings. For example, we can't assign \"meh\" a numerical value without guessing and potentially skewing the data\n",
    "nd = nd[nd['score'].apply(lambda x: x.isdigit())]\n",
    "\n",
    "#replace scores with numerical data\n",
    "dic = {'10':10,'9':9,'8':8,'7':7,'6':6,'5':5,'4':4,'3':3,'2':2,'1':1,'0':0}\n",
    "nd.replace(dic, inplace=True)\n",
    "nd"
   ]
  },
  {
   "cell_type": "markdown",
   "metadata": {},
   "source": [
    "---\n",
    "The NeedleDrop data is now suitable for analysis, but there isn't much to be learned from this data alone. Here is some basic data exploration that can be done with the NeedleDrop dataset. Beyond this, we need to combine this data with other data."
   ]
  },
  {
   "cell_type": "code",
   "execution_count": 3,
   "metadata": {},
   "outputs": [
    {
     "data": {
      "text/html": [
       "<div>\n",
       "<style scoped>\n",
       "    .dataframe tbody tr th:only-of-type {\n",
       "        vertical-align: middle;\n",
       "    }\n",
       "\n",
       "    .dataframe tbody tr th {\n",
       "        vertical-align: top;\n",
       "    }\n",
       "\n",
       "    .dataframe thead th {\n",
       "        text-align: right;\n",
       "    }\n",
       "</style>\n",
       "<table border=\"1\" class=\"dataframe\">\n",
       "  <thead>\n",
       "    <tr style=\"text-align: right;\">\n",
       "      <th></th>\n",
       "      <th>score</th>\n",
       "    </tr>\n",
       "  </thead>\n",
       "  <tbody>\n",
       "    <tr>\n",
       "      <th>count</th>\n",
       "      <td>1858.000000</td>\n",
       "    </tr>\n",
       "    <tr>\n",
       "      <th>mean</th>\n",
       "      <td>6.431109</td>\n",
       "    </tr>\n",
       "    <tr>\n",
       "      <th>std</th>\n",
       "      <td>1.646079</td>\n",
       "    </tr>\n",
       "    <tr>\n",
       "      <th>min</th>\n",
       "      <td>0.000000</td>\n",
       "    </tr>\n",
       "    <tr>\n",
       "      <th>25%</th>\n",
       "      <td>5.000000</td>\n",
       "    </tr>\n",
       "    <tr>\n",
       "      <th>50%</th>\n",
       "      <td>7.000000</td>\n",
       "    </tr>\n",
       "    <tr>\n",
       "      <th>75%</th>\n",
       "      <td>8.000000</td>\n",
       "    </tr>\n",
       "    <tr>\n",
       "      <th>max</th>\n",
       "      <td>10.000000</td>\n",
       "    </tr>\n",
       "  </tbody>\n",
       "</table>\n",
       "</div>"
      ],
      "text/plain": [
       "             score\n",
       "count  1858.000000\n",
       "mean      6.431109\n",
       "std       1.646079\n",
       "min       0.000000\n",
       "25%       5.000000\n",
       "50%       7.000000\n",
       "75%       8.000000\n",
       "max      10.000000"
      ]
     },
     "execution_count": 3,
     "metadata": {},
     "output_type": "execute_result"
    }
   ],
   "source": [
    "nd.describe()"
   ]
  },
  {
   "cell_type": "code",
   "execution_count": 4,
   "metadata": {},
   "outputs": [
    {
     "data": {
      "image/png": "[encoded data removed]",
      "text/plain": [
       "<Figure size 432x288 with 1 Axes>"
      ]
     },
     "metadata": {},
     "output_type": "display_data"
    }
   ],
   "source": [
    "#histogram of scores\n",
    "plt.hist(nd['score'],bins=10)\n",
    "plt.xlabel(\"Score\")\n",
    "plt.ylabel(\"Frequency\")\n",
    "plt.title(\"Score vs Frequency\")\n",
    "plt.show()"
   ]
  },
  {
   "cell_type": "code",
   "execution_count": 5,
   "metadata": {},
   "outputs": [
    {
     "data": {
      "text/plain": [
       "Death Grips                         8\n",
       "Various Artists                     7\n",
       "Big K.R.I.T.                        7\n",
       "Logic                               6\n",
       "The Weeknd                          6\n",
       "Vince Staples                       5\n",
       "Lupe Fiasco                         5\n",
       "King Gizzard & The Lizard Wizard    5\n",
       "Mount Eerie                         5\n",
       "The Underachievers                  5\n",
       "Name: artist, dtype: int64"
      ]
     },
     "execution_count": 5,
     "metadata": {},
     "output_type": "execute_result"
    }
   ],
   "source": [
    "#The NeedleDrop top 10 artists by most frequent appearances\n",
    "n = 10\n",
    "top = nd['artist'].value_counts()[:n].index.tolist()\n",
    "top_artists = pd.DataFrame(columns=['artist','album','score'])\n",
    "for a in top:\n",
    "    top_artists = pd.concat([top_artists, nd[nd['artist'] == a]])\n",
    "top_artists['artist'].value_counts()"
   ]
  },
  {
   "cell_type": "markdown",
   "metadata": {},
   "source": [
    "### Step 2. Get Spotify Data"
   ]
  },
  {
   "cell_type": "code",
   "execution_count": 6,
   "metadata": {},
   "outputs": [],
   "source": [
    "#import spotify api client\n",
    "import csv\n",
    "from spotify_client import Spotify_client\n",
    "from album import Album\n",
    "from ipypb import track as pb\n",
    "from os.path import getsize"
   ]
  },
  {
   "cell_type": "code",
   "execution_count": 7,
   "metadata": {},
   "outputs": [
    {
     "name": "stdout",
     "output_type": "stream",
     "text": [
      "Gathering raw album data\n"
     ]
    },
    {
     "data": {
      "text/html": [
       "<div><span class=\"Text-label\" style=\"display:inline-block; overflow:hidden; white-space:nowrap; text-overflow:ellipsis; min-width:0; max-width:15ex; vertical-align:middle; text-align:right\"></span>\n",
       "<progress style=\"width:60ex\" max=\"1858\" value=\"1858\" class=\"Progress-main\"/></progress>\n",
       "<span class=\"Progress-label\"><strong>100%</strong></span>\n",
       "<span class=\"Iteration-label\">1836/1858</span>\n",
       "<span class=\"Time-label\">[03:44<00:00, 0.12s/it]</span></div>"
      ],
      "text/plain": [
       "\u001b[A\u001b[2K\r",
       " [████████████████████████████████████████████████████████████] 1858/1858 [03:44<00:00, 0.12s/it]"
      ]
     },
     "metadata": {},
     "output_type": "display_data"
    },
    {
     "name": "stdout",
     "output_type": "stream",
     "text": [
      "1821  raw albums collected\n"
     ]
    }
   ],
   "source": [
    "# create client\n",
    "client = Spotify_client()\n",
    "\n",
    "#gather raw Spotify album data of albums from list of album names included in NeedleDrop data\n",
    "raw_albums = []\n",
    "flagged_albums = []\n",
    "missed_albums = [] #to look for commonalities in missed searches (maybe we can recover some of this data)\n",
    "print('Gathering raw album data')\n",
    "#for album, artists in zip(pb(nd['album'].tolist()),nd['artist'].tolist()):\n",
    "for index, row in pb(nd.iterrows(),len(nd.index)):\n",
    "    album = row['album']\n",
    "    artists = row['artist']\n",
    "    score = row['score']\n",
    "    \n",
    "    album = str(album).strip()\n",
    "    artists = artists.split(\", \")\n",
    "    a_temp = []\n",
    "    for a in artists:\n",
    "        a_temp.append(str(a).strip())\n",
    "    artists = a_temp\n",
    "    try:\n",
    "        flag, search = client.search_for_album(album,artists)\n",
    "        #successful search\n",
    "        if flag == 0:\n",
    "            search['score'] = score\n",
    "            raw_albums.append(search)\n",
    "        #flagged search (returned album might be incorrect)\n",
    "        elif flag == -1:\n",
    "            search['score'] = score\n",
    "            flagged_albums.append(((album,artists),search))\n",
    "        #failed search (no album returned matching search query)\n",
    "        elif flag == -2:\n",
    "            missed_albums.append((album,artists))\n",
    "    except Exception as e:\n",
    "        print('\\t',\"exception occured during search for\", album, \"by\", artists, \":\", str(e))\n",
    "raw_albums = [a for a in raw_albums if a] \n",
    "print(len(raw_albums) + len(flagged_albums) ,\" raw albums collected\")"
   ]
  },
  {
   "cell_type": "code",
   "execution_count": 8,
   "metadata": {},
   "outputs": [
    {
     "name": "stdout",
     "output_type": "stream",
     "text": [
      "37\n"
     ]
    }
   ],
   "source": [
    "#at this stage, the missed albums either weren't on spotify or had spelling errors\n",
    "#all spelling errors were corrected\n",
    "print(len(missed_albums))"
   ]
  },
  {
   "cell_type": "code",
   "execution_count": 10,
   "metadata": {
    "collapsed": true,
    "jupyter": {
     "outputs_hidden": true
    }
   },
   "outputs": [
    {
     "name": "stdout",
     "output_type": "stream",
     "text": [
      "input -> search result\n",
      "Magnus by ['Thou'] -> My Love Is Gone (MAGNUS Remix) by Jonas Aden >> "
     ]
    },
    {
     "name": "stdin",
     "output_type": "stream",
     "text": [
      "correct? [y/N]:  N\n"
     ]
    },
    {
     "name": "stdout",
     "output_type": "stream",
     "text": [
      "Tierra Whack by ['Tierra Whack'] -> So Sick So Sad (Tierra Whack \"Fuck Off\" Bootleg Rmx) by Lil 'Merica >> "
     ]
    },
    {
     "name": "stdin",
     "output_type": "stream",
     "text": [
      "correct? [y/N]:  N\n"
     ]
    },
    {
     "name": "stdout",
     "output_type": "stream",
     "text": [
      "Endless by ['Frank Ocean'] -> Our Endless Numbered Days by Iron & Wine >> "
     ]
    },
    {
     "name": "stdin",
     "output_type": "stream",
     "text": [
      "correct? [y/N]:  N\n"
     ]
    },
    {
     "name": "stdout",
     "output_type": "stream",
     "text": [
      "Godfather II by ['Wiley'] -> The Godfather I, II & III (Piano Version) by Ilary Barnes >> "
     ]
    },
    {
     "name": "stdin",
     "output_type": "stream",
     "text": [
      "correct? [y/N]:  N\n"
     ]
    },
    {
     "name": "stdout",
     "output_type": "stream",
     "text": [
      "8 by ['Hop Along'] -> 8 Letters by Why Don't We >> "
     ]
    },
    {
     "name": "stdin",
     "output_type": "stream",
     "text": [
      "correct? [y/N]:  N\n"
     ]
    },
    {
     "name": "stdout",
     "output_type": "stream",
     "text": [
      "? by ['XXXTENTACION'] -> The Album by Teyana Taylor >> "
     ]
    },
    {
     "name": "stdin",
     "output_type": "stream",
     "text": [
      "correct? [y/N]:  N\n"
     ]
    },
    {
     "name": "stdout",
     "output_type": "stream",
     "text": [
      "Black Panther The Album by ['Various Artists'] -> Black Panther The Album Music From And Inspired By by Kendrick Lamar >> "
     ]
    },
    {
     "name": "stdin",
     "output_type": "stream",
     "text": [
      "correct? [y/N]:  y\n"
     ]
    },
    {
     "name": "stdout",
     "output_type": "stream",
     "text": [
      "Flames Within Flames by ['Neurosis'] -> Flames Within (Radio Edit) by AcroniX >> "
     ]
    },
    {
     "name": "stdin",
     "output_type": "stream",
     "text": [
      "correct? [y/N]:  N\n"
     ]
    },
    {
     "name": "stdout",
     "output_type": "stream",
     "text": [
      "Rain Temple by ['2 8 1 4'] -> December 2019: Rain Recordings For Ultimate Relaxation by White Noise Relaxation >> "
     ]
    },
    {
     "name": "stdin",
     "output_type": "stream",
     "text": [
      "correct? [y/N]:  N\n"
     ]
    },
    {
     "name": "stdout",
     "output_type": "stream",
     "text": [
      "99.90% by ['Kaytranada'] -> First Take Fridays, Vol. 9 (Episodes 90-99) by Jonathan Brader >> "
     ]
    },
    {
     "name": "stdin",
     "output_type": "stream",
     "text": [
      "correct? [y/N]:  N\n"
     ]
    },
    {
     "name": "stdout",
     "output_type": "stream",
     "text": [
      "The Colour In Everything by ['James Blake'] -> The Believer by Everything In Colour >> "
     ]
    },
    {
     "name": "stdin",
     "output_type": "stream",
     "text": [
      "correct? [y/N]:  N\n"
     ]
    },
    {
     "name": "stdout",
     "output_type": "stream",
     "text": [
      "Space Heads by ['VARIOUS ARTISTS'] -> Tuning the Space Remixes by Groove Genies >> "
     ]
    },
    {
     "name": "stdin",
     "output_type": "stream",
     "text": [
      "correct? [y/N]:  N\n"
     ]
    },
    {
     "name": "stdout",
     "output_type": "stream",
     "text": [
      "Product by ['Sophie'] -> The Essential Boogie Down Productions / KRS-One by Boogie Down Productions >> "
     ]
    },
    {
     "name": "stdin",
     "output_type": "stream",
     "text": [
      "correct? [y/N]:  N\n"
     ]
    },
    {
     "name": "stdout",
     "output_type": "stream",
     "text": [
      "Divers by ['Joanna Newsom'] -> Divers by CNC >> "
     ]
    },
    {
     "name": "stdin",
     "output_type": "stream",
     "text": [
      "correct? [y/N]:  N\n"
     ]
    },
    {
     "name": "stdout",
     "output_type": "stream",
     "text": [
      "It's Better This Way by ['Big K.R.I.T.'] -> It's Better This Way by Remote Viewing >> "
     ]
    },
    {
     "name": "stdin",
     "output_type": "stream",
     "text": [
      "correct? [y/N]:  N\n"
     ]
    },
    {
     "name": "stdout",
     "output_type": "stream",
     "text": [
      "The New CALassic by ['Cal Chuchesta'] -> The New Harlem Funk - Gotta Take Your Love (2 Original Classic Albums) by Flowchart >> "
     ]
    },
    {
     "name": "stdin",
     "output_type": "stream",
     "text": [
      "correct? [y/N]:  N\n"
     ]
    },
    {
     "name": "stdout",
     "output_type": "stream",
     "text": [
      "Wave[s] by ['Mick Jenkins'] -> Waves of the Sea, Ocean and Lakes by Ocean Waves For Sleep >> "
     ]
    },
    {
     "name": "stdin",
     "output_type": "stream",
     "text": [
      "correct? [y/N]:  N\n"
     ]
    },
    {
     "name": "stdout",
     "output_type": "stream",
     "text": [
      "Simple Songs by [\"Jim O'Rourke\"] -> Simple Songs Of Freedom: The Tim Hardin Collection by Tim Hardin >> "
     ]
    },
    {
     "name": "stdin",
     "output_type": "stream",
     "text": [
      "correct? [y/N]:  N\n"
     ]
    },
    {
     "name": "stdout",
     "output_type": "stream",
     "text": [
      "TĂU by ['Negură Bunget'] -> God Taught Me by Zauntee >> "
     ]
    },
    {
     "name": "stdin",
     "output_type": "stream",
     "text": [
      "correct? [y/N]:  N\n"
     ]
    },
    {
     "name": "stdout",
     "output_type": "stream",
     "text": [
      "A Special Episode Of by ['Open Mike Eagle'] -> ASOT 984 - A State Of Trance Episode 984 (Who's Afraid Of 138?! Special) by Armin van Buuren >> "
     ]
    },
    {
     "name": "stdin",
     "output_type": "stream",
     "text": [
      "correct? [y/N]:  N\n"
     ]
    },
    {
     "name": "stdout",
     "output_type": "stream",
     "text": [
      "Viet Cong by ['Viet Cong'] -> Viet-Nam : Théâtre populaire du nord (Hat Cheo) by Hung Dang Cong >> "
     ]
    },
    {
     "name": "stdin",
     "output_type": "stream",
     "text": [
      "correct? [y/N]:  N\n"
     ]
    },
    {
     "name": "stdout",
     "output_type": "stream",
     "text": [
      "The Church by ['Mr. Oizo'] -> Let The Church Say Amen (Radio Edit) by Andrae Crouch >> "
     ]
    },
    {
     "name": "stdin",
     "output_type": "stream",
     "text": [
      "correct? [y/N]:  N\n"
     ]
    },
    {
     "name": "stdout",
     "output_type": "stream",
     "text": [
      "Seeds by ['TVOTR'] -> Seeds by TV On The Radio >> "
     ]
    },
    {
     "name": "stdin",
     "output_type": "stream",
     "text": [
      "correct? [y/N]:  N\n"
     ]
    },
    {
     "name": "stdout",
     "output_type": "stream",
     "text": [
      "Rhythm by ['Wildbirds & Peacedrums'] -> People's Instinctive Travels and the Paths of Rhythm (25th Anniversary Edition) by A Tribe Called Quest >> "
     ]
    },
    {
     "name": "stdin",
     "output_type": "stream",
     "text": [
      "correct? [y/N]:  N\n"
     ]
    },
    {
     "name": "stdout",
     "output_type": "stream",
     "text": [
      "INSA by ['Mellowhype'] -> Alphabet Insanity 2 by Mac Lethal >> "
     ]
    },
    {
     "name": "stdin",
     "output_type": "stream",
     "text": [
      "correct? [y/N]:  N\n"
     ]
    },
    {
     "name": "stdout",
     "output_type": "stream",
     "text": [
      "No More by ['Shlohmo & Jeremih'] -> Nothing More by Nothing More >> "
     ]
    },
    {
     "name": "stdin",
     "output_type": "stream",
     "text": [
      "correct? [y/N]:  N\n"
     ]
    },
    {
     "name": "stdout",
     "output_type": "stream",
     "text": [
      "Faces by ['Mac Miller'] -> The Best of Faces: Good Boys When They're Asleep by Faces >> "
     ]
    },
    {
     "name": "stdin",
     "output_type": "stream",
     "text": [
      "correct? [y/N]:  N\n"
     ]
    },
    {
     "name": "stdout",
     "output_type": "stream",
     "text": [
      "Christmas Island by ['Andrew Jackson Jihad'] -> Christmas Island by Leon Redbone >> "
     ]
    },
    {
     "name": "stdin",
     "output_type": "stream",
     "text": [
      "correct? [y/N]:  N\n"
     ]
    },
    {
     "name": "stdout",
     "output_type": "stream",
     "text": [
      "P.T.S.D. by ['Pharoahe Monch'] -> Sleeping Music: Calm Music to Help You Sleep, Natural Sleep Aid and Relaxing Piano for Sleep Music by Deep Sleep Music Collective >> "
     ]
    },
    {
     "name": "stdin",
     "output_type": "stream",
     "text": [
      "correct? [y/N]:  N\n"
     ]
    },
    {
     "name": "stdout",
     "output_type": "stream",
     "text": [
      "Blue Chips 2 by ['Action Bronson & Party Supplies'] -> Blue and White - 2013 by The Buffalo Chips >> "
     ]
    },
    {
     "name": "stdin",
     "output_type": "stream",
     "text": [
      "correct? [y/N]:  N\n"
     ]
    },
    {
     "name": "stdout",
     "output_type": "stream",
     "text": [
      "BetterOffDEAD by ['Flatbush Zombies'] -> Betteroffdead. by sushimusor >> "
     ]
    },
    {
     "name": "stdin",
     "output_type": "stream",
     "text": [
      "correct? [y/N]:  N\n"
     ]
    },
    {
     "name": "stdout",
     "output_type": "stream",
     "text": [
      "GNK by ['YC The Cynic'] -> DoD (GnkMix) by GB Lotto >> "
     ]
    },
    {
     "name": "stdin",
     "output_type": "stream",
     "text": [
      "correct? [y/N]:  N\n"
     ]
    },
    {
     "name": "stdout",
     "output_type": "stream",
     "text": [
      "Endless Night by ['TOAD'] -> Endless Night by Kent Loon >> "
     ]
    },
    {
     "name": "stdin",
     "output_type": "stream",
     "text": [
      "correct? [y/N]:  N\n"
     ]
    },
    {
     "name": "stdout",
     "output_type": "stream",
     "text": [
      "Kismet by [\"Mr. Muthafuckin' eXquire\"] -> Kismet by Buddha Trixie >> "
     ]
    },
    {
     "name": "stdin",
     "output_type": "stream",
     "text": [
      "correct? [y/N]:  N\n"
     ]
    },
    {
     "name": "stdout",
     "output_type": "stream",
     "text": [
      "Howl by ['This Routine Is Hell'] -> Howlin' Wolf by Howlin' Wolf >> "
     ]
    },
    {
     "name": "stdin",
     "output_type": "stream",
     "text": [
      "correct? [y/N]:  N\n"
     ]
    },
    {
     "name": "stdout",
     "output_type": "stream",
     "text": [
      "The Eulogy by ['Cakes Da Killa'] -> The Eulogy by Dj Magicmike-Spud >> "
     ]
    },
    {
     "name": "stdin",
     "output_type": "stream",
     "text": [
      "correct? [y/N]:  N\n"
     ]
    },
    {
     "name": "stdout",
     "output_type": "stream",
     "text": [
      "Floral Shoppe by ['Macintosh Plus'] -> Floral Shoppe 2 by THE DARKEST FUTURE >> "
     ]
    },
    {
     "name": "stdin",
     "output_type": "stream",
     "text": [
      "correct? [y/N]:  N\n"
     ]
    },
    {
     "name": "stdout",
     "output_type": "stream",
     "text": [
      "Duality by ['Captain Murphy'] -> DUALITY by WE ARE FURY >> "
     ]
    },
    {
     "name": "stdin",
     "output_type": "stream",
     "text": [
      "correct? [y/N]:  N\n"
     ]
    },
    {
     "name": "stdout",
     "output_type": "stream",
     "text": [
      "(III) by ['Crystal Castles'] -> Revenge Of The Dreamers III by Dreamville >> "
     ]
    },
    {
     "name": "stdin",
     "output_type": "stream",
     "text": [
      "correct? [y/N]:  N\n"
     ]
    },
    {
     "name": "stdout",
     "output_type": "stream",
     "text": [
      "3rd by ['Hoax'] -> EX'ACT - The 3rd Album by EXO >> "
     ]
    },
    {
     "name": "stdin",
     "output_type": "stream",
     "text": [
      "correct? [y/N]:  N\n"
     ]
    },
    {
     "name": "stdout",
     "output_type": "stream",
     "text": [
      "Lord$ Never Worry by ['A$AP Mob'] -> Lords Never Worry by Pageant Queen >> "
     ]
    },
    {
     "name": "stdin",
     "output_type": "stream",
     "text": [
      "correct? [y/N]:  N\n"
     ]
    },
    {
     "name": "stdout",
     "output_type": "stream",
     "text": [
      "Instinct by ['Niki and the Dove'] -> Ultra Instinct Mastered by Friedrich Habetler >> "
     ]
    },
    {
     "name": "stdin",
     "output_type": "stream",
     "text": [
      "correct? [y/N]:  N\n"
     ]
    },
    {
     "name": "stdout",
     "output_type": "stream",
     "text": [
      "No Idols by ['Domo Genesis'] -> No False Idols, Chapter 1 by Neo Fresco >> "
     ]
    },
    {
     "name": "stdin",
     "output_type": "stream",
     "text": [
      "correct? [y/N]:  N\n"
     ]
    },
    {
     "name": "stdout",
     "output_type": "stream",
     "text": [
      "Hair by ['Ty Segall & White Fence'] -> Bad Hair Day by \"Weird Al\" Yankovic >> "
     ]
    },
    {
     "name": "stdin",
     "output_type": "stream",
     "text": [
      "correct? [y/N]:  N\n"
     ]
    },
    {
     "name": "stdout",
     "output_type": "stream",
     "text": [
      "Americana by ['Neil Young & Crazy Horse'] -> Americana by Gregoire Maret >> "
     ]
    },
    {
     "name": "stdin",
     "output_type": "stream",
     "text": [
      "correct? [y/N]:  N\n"
     ]
    },
    {
     "name": "stdout",
     "output_type": "stream",
     "text": [
      "Cancer for Cure by ['El-P'] -> Cure For Cancer by Meezzy Trappo >> "
     ]
    },
    {
     "name": "stdin",
     "output_type": "stream",
     "text": [
      "correct? [y/N]:  N\n"
     ]
    },
    {
     "name": "stdout",
     "output_type": "stream",
     "text": [
      "R.A.P. Music by ['Killer Mike'] -> Sleeping Music: Calm Music to Help You Sleep, Natural Sleep Aid and Relaxing Piano for Sleep Music by Deep Sleep Music Collective >> "
     ]
    },
    {
     "name": "stdin",
     "output_type": "stream",
     "text": [
      "correct? [y/N]:  N\n"
     ]
    },
    {
     "name": "stdout",
     "output_type": "stream",
     "text": [
      "OFF! by ['OFF!'] -> Better off Dead by Josh A >> "
     ]
    },
    {
     "name": "stdin",
     "output_type": "stream",
     "text": [
      "correct? [y/N]:  N\n"
     ]
    },
    {
     "name": "stdout",
     "output_type": "stream",
     "text": [
      "Dweller On the Threshold by ['Dweller On the Threshold'] -> The Dweller on the Threshold by Starbirthed >> "
     ]
    },
    {
     "name": "stdin",
     "output_type": "stream",
     "text": [
      "correct? [y/N]:  N\n"
     ]
    },
    {
     "name": "stdout",
     "output_type": "stream",
     "text": [
      "Narrow by ['Soap&Skin'] -> Chutes Too Narrow by The Shins >> "
     ]
    },
    {
     "name": "stdin",
     "output_type": "stream",
     "text": [
      "correct? [y/N]:  N\n"
     ]
    },
    {
     "name": "stdout",
     "output_type": "stream",
     "text": [
      "Kings and Them by ['Evian Christ'] -> Humperdinck - Sleeping Beauty - Excerpts From 'Kings Children' - Fantasy On A Theme From 'Hansel And Gretel' by Engelbert Humperdinck >> "
     ]
    },
    {
     "name": "stdin",
     "output_type": "stream",
     "text": [
      "correct? [y/N]:  N\n"
     ]
    },
    {
     "name": "stdout",
     "output_type": "stream",
     "text": [
      "When You're Gone by ['Lapalux'] -> When You're Gone by Jalal Aliniya >> "
     ]
    },
    {
     "name": "stdin",
     "output_type": "stream",
     "text": [
      "correct? [y/N]:  N\n"
     ]
    },
    {
     "name": "stdout",
     "output_type": "stream",
     "text": [
      "I.V. by ['Loma Prieta'] -> Luv Is Rage 2 by Lil Uzi Vert >> "
     ]
    },
    {
     "name": "stdin",
     "output_type": "stream",
     "text": [
      "correct? [y/N]:  N\n"
     ]
    },
    {
     "name": "stdout",
     "output_type": "stream",
     "text": [
      "The Horror by ['Pop. 1280'] -> Getting There From Here (with Todd Edwards) (Miami Horror & Lazywax Remix) by Poolside >> "
     ]
    },
    {
     "name": "stdin",
     "output_type": "stream",
     "text": [
      "correct? [y/N]:  N\n"
     ]
    },
    {
     "name": "stdout",
     "output_type": "stream",
     "text": [
      "Echoes of Silence by ['The Weeknd'] -> Echoes Of Silence by Thierry Lang >> "
     ]
    },
    {
     "name": "stdin",
     "output_type": "stream",
     "text": [
      "correct? [y/N]:  N\n"
     ]
    },
    {
     "name": "stdout",
     "output_type": "stream",
     "text": [
      "Live. Love. A$AP by ['ASAP Rocky'] -> Wondrous Love (Live) by BYU Women's Chorus >> "
     ]
    },
    {
     "name": "stdin",
     "output_type": "stream",
     "text": [
      "correct? [y/N]:  N\n"
     ]
    },
    {
     "name": "stdout",
     "output_type": "stream",
     "text": [
      "Knife Man by ['Andrew Jackson Jihad'] -> Knife by Manos Fikapa >> "
     ]
    },
    {
     "name": "stdin",
     "output_type": "stream",
     "text": [
      "correct? [y/N]:  N\n"
     ]
    },
    {
     "name": "stdout",
     "output_type": "stream",
     "text": [
      "Room(s) by ['Machinedrum'] -> Room For Squares by John Mayer >> "
     ]
    },
    {
     "name": "stdin",
     "output_type": "stream",
     "text": [
      "correct? [y/N]:  N\n"
     ]
    },
    {
     "name": "stdout",
     "output_type": "stream",
     "text": [
      "Lover's Holiday by ['Theophilus London'] -> Lover's Holiday by Stephanie Cooke >> "
     ]
    },
    {
     "name": "stdin",
     "output_type": "stream",
     "text": [
      "correct? [y/N]:  N\n"
     ]
    },
    {
     "name": "stdout",
     "output_type": "stream",
     "text": [
      "R.E.K.S. by ['Reks'] -> Mozart's Eine Kleine Nachtmusik 4th M. (Rondo) by Wolfgang Amadeus Mozart >> "
     ]
    },
    {
     "name": "stdin",
     "output_type": "stream",
     "text": [
      "correct? [y/N]:  N\n"
     ]
    },
    {
     "name": "stdout",
     "output_type": "stream",
     "text": [
      "Unlearn by ['Fergus & Geronimo'] -> Learning How to Unlearn by Dogtooth & Nail >> "
     ]
    },
    {
     "name": "stdin",
     "output_type": "stream",
     "text": [
      "correct? [y/N]:  N\n"
     ]
    },
    {
     "name": "stdout",
     "output_type": "stream",
     "text": [
      "Kills by ['jj'] -> Addiction Kills by Jelly Roll >> "
     ]
    },
    {
     "name": "stdin",
     "output_type": "stream",
     "text": [
      "correct? [y/N]:  N\n"
     ]
    },
    {
     "name": "stdout",
     "output_type": "stream",
     "text": [
      "Bastard by ['Tyler', 'The Creator'] -> \"God, Forgive These Bastards\" Songs From The Forgotten Life of Henry Turner by The Taxpayers >> "
     ]
    },
    {
     "name": "stdin",
     "output_type": "stream",
     "text": [
      "correct? [y/N]:  N\n"
     ]
    },
    {
     "name": "stdout",
     "output_type": "stream",
     "text": [
      "First Four by ['Off!'] -> First Family 4 Life by M.O.P. >> "
     ]
    },
    {
     "name": "stdin",
     "output_type": "stream",
     "text": [
      "correct? [y/N]:  N\n"
     ]
    },
    {
     "name": "stdout",
     "output_type": "stream",
     "text": [
      "All Day by ['Girl Talk'] -> Father of All... by Green Day >> "
     ]
    },
    {
     "name": "stdin",
     "output_type": "stream",
     "text": [
      "correct? [y/N]:  N\n"
     ]
    },
    {
     "name": "stdout",
     "output_type": "stream",
     "text": [
      "Maya (/\\/\\ /\\ Y /\\) by ['MIA'] -> Migz & Maya by Migz & Maya >> "
     ]
    },
    {
     "name": "stdin",
     "output_type": "stream",
     "text": [
      "correct? [y/N]:  N\n"
     ]
    },
    {
     "name": "stdout",
     "output_type": "stream",
     "text": [
      "Pomegranates by ['Various Artists'] -> Winter Pomegranates by Patrice Ruane >> "
     ]
    },
    {
     "name": "stdin",
     "output_type": "stream",
     "text": [
      "correct? [y/N]:  N\n"
     ]
    },
    {
     "name": "stdout",
     "output_type": "stream",
     "text": [
      "Go by ['Jonsi'] -> It Was Good Until It Wasn't by Kehlani >> "
     ]
    },
    {
     "name": "stdin",
     "output_type": "stream",
     "text": [
      "correct? [y/N]:  N\n"
     ]
    }
   ],
   "source": [
    "#There are still some flagged albums after the search algorithm resolves\n",
    "#This is an optional checker that allows for manual verification of flagged albums\n",
    "print(\"input -> search result\")\n",
    "for album in flagged_albums:\n",
    "    print(album[0][0], \"by\", album [0][1], \"->\", album[1]['name'], \"by\", album[1]['artists'][0]['name'], end=\" >> \")\n",
    "    ans = input (\"correct? [y/N]: \")\n",
    "    while ans != \"y\" and ans != \"N\":\n",
    "        ans = input(\"invalid input, enter [y/N]: \")\n",
    "    if ans == \"y\":\n",
    "        raw_albums.append(album[1])\n",
    "        flagged_albums.remove(album)\n",
    "    else:\n",
    "        missed_albums.append(album[1])"
   ]
  },
  {
   "cell_type": "code",
   "execution_count": 12,
   "metadata": {},
   "outputs": [],
   "source": [
    "#prepare CSV to hold album information\n",
    "ndcsv = 'needledrop_data.csv'\n",
    "csvids = set()\n",
    "cols = []\n",
    "ndd = open(ndcsv, \"a\")\n",
    "if getsize(ndcsv) == 0:\n",
    "    alb = Album(raw_albums[0],client)\n",
    "    alb.dataframe()\n",
    "    df = alb.df.describe()\n",
    "    df.drop(labels=['count','min','max','25%','75%'], axis='index', inplace=True)\n",
    "    cols = ['id','album','score','artists','year','track count','duration']\n",
    "    #get column names\n",
    "    for row in df.index.values.tolist():\n",
    "        for col in df.columns:\n",
    "            cols.append(col + \" \" + row)\n",
    "            \n",
    "    wr = csv.writer(ndd, dialect='excel')\n",
    "    wr.writerow(cols)\n",
    "    ndd.close()\n",
    "        \n",
    "    \n",
    "else:\n",
    "    ndd.close()\n",
    "    #get set of unique id's already loaded into csv\n",
    "    with open(ndcsv, \"r\", encoding = \"utf-8\") as ndd:\n",
    "        reader = csv.reader(ndd)\n",
    "        for line in reader:\n",
    "            if line and line[0] != 'id':\n",
    "                csvids.add(line[0])"
   ]
  },
  {
   "cell_type": "code",
   "execution_count": 13,
   "metadata": {},
   "outputs": [
    {
     "name": "stdout",
     "output_type": "stream",
     "text": [
      "initializing albums and tracks\n"
     ]
    },
    {
     "data": {
      "text/html": [
       "<div><span class=\"Text-label\" style=\"display:inline-block; overflow:hidden; white-space:nowrap; text-overflow:ellipsis; min-width:0; max-width:15ex; vertical-align:middle; text-align:right\"></span>\n",
       "<progress style=\"width:60ex\" max=\"1754\" value=\"1754\" class=\"Progress-main\"/></progress>\n",
       "<span class=\"Progress-label\"><strong>100%</strong></span>\n",
       "<span class=\"Iteration-label\">0/1754</span>\n",
       "<span class=\"Time-label\">[00:12<00:00, 0.01s/it]</span></div>"
      ],
      "text/plain": [
       "\u001b[A\u001b[2K\r",
       " [████████████████████████████████████████████████████████████] 1754/1754 [00:12<00:00, 0.01s/it]\u001b[B"
      ]
     },
     "metadata": {},
     "output_type": "display_data"
    },
    {
     "data": {
      "text/html": [
       "<div><span class=\"Text-label\" style=\"display:inline-block; overflow:hidden; white-space:nowrap; text-overflow:ellipsis; min-width:15ex; max-width:15ex; vertical-align:middle; text-align:right\">Black Panther The Album Music From And Inspired By by Kendrick Lamar</span>\n",
       "<progress style=\"width:45ex\" max=\"14\" value=\"14\" class=\"Progress-main\"/></progress>\n",
       "<span class=\"Progress-label\"><strong>100%</strong></span>\n",
       "<span class=\"Iteration-label\">14/14</span>\n",
       "<span class=\"Time-label\">[00:11<00:01, 0.81s/it]</span></div>"
      ],
      "text/plain": [
       "\u001b[A\u001b[2K\r",
       "Black Panther T [█████████████████████████████████████████████] 14/14 [00:11<00:01, 0.81s/it]"
      ]
     },
     "metadata": {},
     "output_type": "display_data"
    },
    {
     "name": "stdout",
     "output_type": "stream",
     "text": [
      "1752 albums initialized\n"
     ]
    }
   ],
   "source": [
    "# initialize albums and tracks, summarize, and put in CSV for storage\n",
    "#albums = []\n",
    "print(\"initializing albums and tracks\")\n",
    "i = 0\n",
    "with open(ndcsv, \"a\", encoding=\"utf-8\") as ndd:\n",
    "    wr = csv.writer(ndd, dialect='excel')\n",
    "    for raw_album in pb(raw_albums):\n",
    "        i += 1\n",
    "        try:\n",
    "            #albums.append(Album(raw_album, client))\n",
    "            if raw_album['id'] not in csvids:\n",
    "                album = Album(raw_album,client)\n",
    "                wr.writerow(album.summary)\n",
    "                csvids.add(album.id)\n",
    "            if i%10 == 0:\n",
    "                ndd.flush()\n",
    "        except Exception as e:\n",
    "            print(\"exception occured during initialization of \" + raw_album['name'] + \": \" + str(e)) \n",
    "print(len(csvids), \"albums initialized\")"
   ]
  },
  {
   "cell_type": "code",
   "execution_count": 15,
   "metadata": {},
   "outputs": [
    {
     "data": {
      "text/html": [
       "<div>\n",
       "<style scoped>\n",
       "    .dataframe tbody tr th:only-of-type {\n",
       "        vertical-align: middle;\n",
       "    }\n",
       "\n",
       "    .dataframe tbody tr th {\n",
       "        vertical-align: top;\n",
       "    }\n",
       "\n",
       "    .dataframe thead th {\n",
       "        text-align: right;\n",
       "    }\n",
       "</style>\n",
       "<table border=\"1\" class=\"dataframe\">\n",
       "  <thead>\n",
       "    <tr style=\"text-align: right;\">\n",
       "      <th></th>\n",
       "      <th>id</th>\n",
       "      <th>album</th>\n",
       "      <th>score</th>\n",
       "      <th>artists</th>\n",
       "      <th>year</th>\n",
       "      <th>track count</th>\n",
       "      <th>duration</th>\n",
       "      <th># artists mean</th>\n",
       "      <th>danceability mean</th>\n",
       "      <th>energy mean</th>\n",
       "      <th>...</th>\n",
       "      <th>start_of_fade_out 50%</th>\n",
       "      <th>loudness 50%</th>\n",
       "      <th>tempo 50%</th>\n",
       "      <th>tempo_confidence 50%</th>\n",
       "      <th>time_signature 50%</th>\n",
       "      <th>time_signature_confidence 50%</th>\n",
       "      <th>key 50%</th>\n",
       "      <th>key_confidence 50%</th>\n",
       "      <th>mode 50%</th>\n",
       "      <th>mode_confidence 50%</th>\n",
       "    </tr>\n",
       "  </thead>\n",
       "  <tbody>\n",
       "    <tr>\n",
       "      <th>0</th>\n",
       "      <td>6jWde94ln40epKIQCd8XUh</td>\n",
       "      <td>Toxicity</td>\n",
       "      <td>10</td>\n",
       "      <td>System Of A Down</td>\n",
       "      <td>2001</td>\n",
       "      <td>15</td>\n",
       "      <td>2641.92000</td>\n",
       "      <td>1.000000</td>\n",
       "      <td>0.455667</td>\n",
       "      <td>0.898133</td>\n",
       "      <td>...</td>\n",
       "      <td>176.20000</td>\n",
       "      <td>-3.9080</td>\n",
       "      <td>99.733</td>\n",
       "      <td>0.230</td>\n",
       "      <td>4.0</td>\n",
       "      <td>0.9690</td>\n",
       "      <td>2.0</td>\n",
       "      <td>0.486</td>\n",
       "      <td>1.0</td>\n",
       "      <td>0.5620</td>\n",
       "    </tr>\n",
       "    <tr>\n",
       "      <th>1</th>\n",
       "      <td>1CI5OW60s9W41YLI80Jjdr</td>\n",
       "      <td>Untrue</td>\n",
       "      <td>10</td>\n",
       "      <td>Burial</td>\n",
       "      <td>2007</td>\n",
       "      <td>13</td>\n",
       "      <td>3033.37330</td>\n",
       "      <td>1.000000</td>\n",
       "      <td>0.460615</td>\n",
       "      <td>0.528231</td>\n",
       "      <td>...</td>\n",
       "      <td>232.18213</td>\n",
       "      <td>-12.2860</td>\n",
       "      <td>135.120</td>\n",
       "      <td>0.170</td>\n",
       "      <td>4.0</td>\n",
       "      <td>0.9700</td>\n",
       "      <td>3.0</td>\n",
       "      <td>0.453</td>\n",
       "      <td>1.0</td>\n",
       "      <td>0.4410</td>\n",
       "    </tr>\n",
       "    <tr>\n",
       "      <th>2</th>\n",
       "      <td>4iyCxURICjYcIERJt85C5W</td>\n",
       "      <td>The Cold Vein (Deluxe Edition)</td>\n",
       "      <td>10</td>\n",
       "      <td>Cannibal Ox</td>\n",
       "      <td>2013</td>\n",
       "      <td>30</td>\n",
       "      <td>8859.09333</td>\n",
       "      <td>1.166667</td>\n",
       "      <td>0.602767</td>\n",
       "      <td>0.733833</td>\n",
       "      <td>...</td>\n",
       "      <td>274.34087</td>\n",
       "      <td>-5.3655</td>\n",
       "      <td>87.778</td>\n",
       "      <td>0.281</td>\n",
       "      <td>4.0</td>\n",
       "      <td>0.9900</td>\n",
       "      <td>7.0</td>\n",
       "      <td>0.434</td>\n",
       "      <td>1.0</td>\n",
       "      <td>0.4305</td>\n",
       "    </tr>\n",
       "    <tr>\n",
       "      <th>3</th>\n",
       "      <td>7hcefwuxgBS2mssgOtUSJy</td>\n",
       "      <td>The Woods</td>\n",
       "      <td>10</td>\n",
       "      <td>Sleater-Kinney</td>\n",
       "      <td>2005</td>\n",
       "      <td>10</td>\n",
       "      <td>2888.38669</td>\n",
       "      <td>1.000000</td>\n",
       "      <td>0.348600</td>\n",
       "      <td>0.914200</td>\n",
       "      <td>...</td>\n",
       "      <td>241.26404</td>\n",
       "      <td>-2.2345</td>\n",
       "      <td>142.187</td>\n",
       "      <td>0.322</td>\n",
       "      <td>4.0</td>\n",
       "      <td>0.9265</td>\n",
       "      <td>11.0</td>\n",
       "      <td>0.539</td>\n",
       "      <td>0.5</td>\n",
       "      <td>0.4705</td>\n",
       "    </tr>\n",
       "    <tr>\n",
       "      <th>4</th>\n",
       "      <td>4ssF0ppdJnMTtL2hg1CLKX</td>\n",
       "      <td>Give Up (Deluxe 10th Anniversary Edition)</td>\n",
       "      <td>10</td>\n",
       "      <td>The Postal Service</td>\n",
       "      <td>2003</td>\n",
       "      <td>25</td>\n",
       "      <td>6264.88000</td>\n",
       "      <td>1.000000</td>\n",
       "      <td>0.617480</td>\n",
       "      <td>0.640480</td>\n",
       "      <td>...</td>\n",
       "      <td>239.87955</td>\n",
       "      <td>-7.6730</td>\n",
       "      <td>134.949</td>\n",
       "      <td>0.500</td>\n",
       "      <td>4.0</td>\n",
       "      <td>1.0000</td>\n",
       "      <td>2.0</td>\n",
       "      <td>0.617</td>\n",
       "      <td>1.0</td>\n",
       "      <td>0.5600</td>\n",
       "    </tr>\n",
       "  </tbody>\n",
       "</table>\n",
       "<p>5 rows × 70 columns</p>\n",
       "</div>"
      ],
      "text/plain": [
       "                       id                                      album  score  \\\n",
       "0  6jWde94ln40epKIQCd8XUh                                   Toxicity     10   \n",
       "1  1CI5OW60s9W41YLI80Jjdr                                     Untrue     10   \n",
       "2  4iyCxURICjYcIERJt85C5W             The Cold Vein (Deluxe Edition)     10   \n",
       "3  7hcefwuxgBS2mssgOtUSJy                                  The Woods     10   \n",
       "4  4ssF0ppdJnMTtL2hg1CLKX  Give Up (Deluxe 10th Anniversary Edition)     10   \n",
       "\n",
       "              artists  year  track count    duration  # artists mean  \\\n",
       "0    System Of A Down  2001           15  2641.92000        1.000000   \n",
       "1              Burial  2007           13  3033.37330        1.000000   \n",
       "2         Cannibal Ox  2013           30  8859.09333        1.166667   \n",
       "3      Sleater-Kinney  2005           10  2888.38669        1.000000   \n",
       "4  The Postal Service  2003           25  6264.88000        1.000000   \n",
       "\n",
       "   danceability mean  energy mean  ...  start_of_fade_out 50%  loudness 50%  \\\n",
       "0           0.455667     0.898133  ...              176.20000       -3.9080   \n",
       "1           0.460615     0.528231  ...              232.18213      -12.2860   \n",
       "2           0.602767     0.733833  ...              274.34087       -5.3655   \n",
       "3           0.348600     0.914200  ...              241.26404       -2.2345   \n",
       "4           0.617480     0.640480  ...              239.87955       -7.6730   \n",
       "\n",
       "   tempo 50%  tempo_confidence 50%  time_signature 50%  \\\n",
       "0     99.733                 0.230                 4.0   \n",
       "1    135.120                 0.170                 4.0   \n",
       "2     87.778                 0.281                 4.0   \n",
       "3    142.187                 0.322                 4.0   \n",
       "4    134.949                 0.500                 4.0   \n",
       "\n",
       "   time_signature_confidence 50%  key 50%  key_confidence 50%  mode 50%  \\\n",
       "0                         0.9690      2.0               0.486       1.0   \n",
       "1                         0.9700      3.0               0.453       1.0   \n",
       "2                         0.9900      7.0               0.434       1.0   \n",
       "3                         0.9265     11.0               0.539       0.5   \n",
       "4                         1.0000      2.0               0.617       1.0   \n",
       "\n",
       "   mode_confidence 50%  \n",
       "0               0.5620  \n",
       "1               0.4410  \n",
       "2               0.4305  \n",
       "3               0.4705  \n",
       "4               0.5600  \n",
       "\n",
       "[5 rows x 70 columns]"
      ]
     },
     "execution_count": 15,
     "metadata": {},
     "output_type": "execute_result"
    }
   ],
   "source": [
    "nd_data = pd.read_csv('needledrop_data.csv',header=0)\n",
    "nd_data.head()"
   ]
  },
  {
   "cell_type": "markdown",
   "metadata": {},
   "source": [
    "---\n",
    "At this point we've gathered all the pertinent information about every album, and every song within each album. Below are descriptions from the spotify API documentation of the different attributes of the song features and analysis. Note that several of the features were dropped immediately becuase they were not relevant to the experiment.\n",
    "\n",
    "The next thing done is the creation of statistics that summarize the features of all the songs in each album. For example, the median dancability of all tracks in an album. These statistics will be used to find patterns in The NeedleDrop album scores. These stats are gathered and flattened to a list for each track in the Album class's dataframe mathod (called in the contructor)"
   ]
  },
  {
   "cell_type": "code",
   "execution_count": 16,
   "metadata": {},
   "outputs": [
    {
     "data": {
      "text/html": [
       "<iframe src=\"https://developer.spotify.com/documentation/web-api/reference/tracks/get-audio-features/\" width=\"800\" height=\"500\"></iframe>\n",
       "<iframe src=\"https://developer.spotify.com/documentation/web-api/reference/tracks/get-audio-analysis/\" width=\"800\" height=\"500\"></iframe>\n"
      ],
      "text/plain": [
       "<IPython.core.display.HTML object>"
      ]
     },
     "metadata": {},
     "output_type": "display_data"
    }
   ],
   "source": [
    "%%html\n",
    "<iframe src=\"https://developer.spotify.com/documentation/web-api/reference/tracks/get-audio-features/\" width=\"800\" height=\"500\"></iframe>\n",
    "<iframe src=\"https://developer.spotify.com/documentation/web-api/reference/tracks/get-audio-analysis/\" width=\"800\" height=\"500\"></iframe>"
   ]
  },
  {
   "cell_type": "markdown",
   "metadata": {},
   "source": [
    "As you can see above, we now have important summary statistics of all the tracks contained within an album. This data will be further shaped to represent values that are important to us. Once we have the features of the album that we want, we can finally compile this data into something that we can use to analyze the NeedleDrop data.\n",
    "\n",
    "Similar to how we summarized each track when generating the album DataFrame, we summarized each album to generate a Dataframe containing summaries of ALL albums that we can correlate with the albums in the NeedleDrop data. This will allow us to first do some learning by creating visualizations. Hopefully we will be able to draw conclusions surrounding Anthony Fantano's music taste. This process is done in the Albums summarize function (called in the Albums constructor).\n",
    "\n",
    "Finally, we will model the data with some machine learning algorithms that will allow us to predict NeedleDrop ratings of future albums. \n",
    "\n",
    "#### See data_exploration.ipynb"
   ]
  }
 ],
 "metadata": {
  "kernelspec": {
   "display_name": "Python 3",
   "language": "python",
   "name": "python3"
  },
  "language_info": {
   "codemirror_mode": {
    "name": "ipython",
    "version": 3
   },
   "file_extension": ".py",
   "mimetype": "text/x-python",
   "name": "python",
   "nbconvert_exporter": "python",
   "pygments_lexer": "ipython3",
   "version": "3.8.3"
  }
 },
 "nbformat": 4,
 "nbformat_minor": 4
}
